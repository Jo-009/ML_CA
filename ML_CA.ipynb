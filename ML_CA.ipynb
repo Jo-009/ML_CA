{
  "nbformat": 4,
  "nbformat_minor": 5,
  "metadata": {
    "kernelspec": {
      "display_name": "Python 3 (ipykernel)",
      "language": "python",
      "name": "python3"
    },
    "language_info": {
      "codemirror_mode": {
        "name": "ipython",
        "version": 3
      },
      "file_extension": ".py",
      "mimetype": "text/x-python",
      "name": "python",
      "nbconvert_exporter": "python",
      "pygments_lexer": "ipython3",
      "version": "3.8.12"
    },
    "colab": {
      "name": "Jotestcode-Tensorflow Code.ipynb",
      "provenance": [],
      "include_colab_link": true
    }
  },
  "cells": [
    {
      "cell_type": "markdown",
      "metadata": {
        "id": "view-in-github",
        "colab_type": "text"
      },
      "source": [
        "<a href=\"https://colab.research.google.com/github/Jo-009/ML_CA/blob/Ver.2/ML_CA.ipynb\" target=\"_parent\"><img src=\"https://colab.research.google.com/assets/colab-badge.svg\" alt=\"Open In Colab\"/></a>"
      ]
    },
    {
      "cell_type": "markdown",
      "metadata": {
        "id": "53ef8e64"
      },
      "source": [
        "## CA Specifications\n",
        "1. A Fruits dataset is provided for this project, and it has images of (1) \n",
        "   apples, (2)oranges, (3) bananas and (4) a mix of apples, oranges and \n",
        "   bananas.\n",
        "2. Your task is to implement a CNN to recognize the 4 classes accurately.\n",
        "3. Use the images in the “train” folder to train your image classifier.\n",
        "4. Then, test the accuracy of your image classifier using images from the \n",
        "   “test” folder.\n",
        "5. Document all your experiments and results. For example, what was done to\n",
        "   increase the accuracy of your image classifier (e.g. image augmentation).\n",
        "6. Use Matplotlib to produce any plots that help the reader understand your\n",
        "   work better.\n",
        "   \n",
        "### Submission\n",
        "The deadline for this project is <b>28 Nov 2021, 6pm</b>.\n",
        "Please name your submission as <Your_Team_Number><A_or_B>.ipynb. For\n",
        "example, if you are in Team 1A, then your filename should be Team1A.ipynb."
      ],
      "id": "53ef8e64"
    },
    {
      "cell_type": "markdown",
      "metadata": {
        "id": "ef9ccccf"
      },
      "source": [
        "### Steps"
      ],
      "id": "ef9ccccf"
    },
    {
      "cell_type": "markdown",
      "metadata": {
        "id": "NaubBKqcZyyK"
      },
      "source": [
        "Load and preprocess data\n",
        "    import required libraries\n",
        "    import images\n",
        "    multi class classification problem (4 classes)--> one-hot encode\n",
        "    create validation set from training data -->\n",
        "        # X_train, X_test, y_train, y_test = train_test_split(X, y, random_state=42, test_size=0.2)"
      ],
      "id": "NaubBKqcZyyK"
    },
    {
      "cell_type": "markdown",
      "metadata": {
        "id": "zIqYFQ0uaL-q"
      },
      "source": [
        "Define model Architecture i.e. hyperparameters of model"
      ],
      "id": "zIqYFQ0uaL-q"
    },
    {
      "cell_type": "markdown",
      "metadata": {
        "id": "ANeklD61aPZ-"
      },
      "source": [
        "\n",
        "Training Model\n",
        "    training img and their corresponding true labels\n",
        "    validation img and corresponding true labels\n",
        "- E.g. model.fit(X_train, y_train, epochs=10, validation_data=(X_test, y_test))"
      ],
      "id": "ANeklD61aPZ-"
    },
    {
      "cell_type": "markdown",
      "metadata": {
        "id": "7gKH1jbLaSqe"
      },
      "source": [
        "Estimate model's performance\n",
        "    - load test data (img) and go through pre-processing \n",
        "        test = pd.read_csv('test.csv')\n",
        "    - read and store all test images\n",
        "        test_image = []\n",
        "           for i in tqdm(range(test.shape[0])):\n",
        "               img = image.load_img('test/'+test['id'][i].astype('str')+'.png', target_size=(28,28,1), grayscale=True)\n",
        "                img = image.img_to_array(img)\n",
        "                img = img/255\n",
        "                test_image.append(img)\n",
        "            test = np.array(test_image)\n",
        "    #make predictions\n",
        "        # prediction = model.predict_classes(test)\n",
        "\n",
        "        "
      ],
      "id": "7gKH1jbLaSqe"
    },
    {
      "cell_type": "code",
      "metadata": {
        "id": "9a3cc9d6"
      },
      "source": [
        "import matplotlib.pyplot as plt\n",
        "import seaborn as sns\n",
        "import tensorflow as tf\n",
        "import numpy as np\n",
        "import pandas as pd\n",
        "import os\n",
        "import cv2\n",
        "from PIL import Image"
      ],
      "id": "9a3cc9d6",
      "execution_count": 8,
      "outputs": []
    },
    {
      "cell_type": "markdown",
      "metadata": {
        "id": "9fd28ede"
      },
      "source": [
        "## Preprocessing and Loading Data\n",
        "\n",
        "Derive x_train,x_test,x_val,y_train,y_test and y_val \n",
        "\n",
        "<b>x_train</b>: Numpy arrays of the images of the training dataset\n",
        "\n",
        "<b>y_train</b>: Labels of the training dataset\n",
        "\n",
        "<b>x_test</b>: Numpy arrays of the images of the testing dataset\n",
        "\n",
        "<b>y_test</b>: Labels of the testing dataset\n",
        "\n",
        "<b>x_val</b>: Numpy arrays of the images of the validation dataset\n",
        "\n",
        "<b>y_val</b>: Labels of the validation dataset"
      ],
      "id": "9fd28ede"
    },
    {
      "cell_type": "code",
      "metadata": {
        "id": "19cb9b63"
      },
      "source": [
        "train_ds_raw = os.listdir('/content/drive/MyDrive/Colab Notebooks/train')\n",
        "test_ds_raw = os.listdir('/content/drive/MyDrive/Colab Notebooks/test')"
      ],
      "id": "19cb9b63",
      "execution_count": 15,
      "outputs": []
    },
    {
      "cell_type": "code",
      "metadata": {
        "colab": {
          "base_uri": "https://localhost:8080/"
        },
        "id": "r3ys7pFNvv1d",
        "outputId": "c6b2d8d0-9be3-4ebf-e39b-0af71345cebb"
      },
      "source": [
        "type(train_ds_raw), len(train_ds_raw)"
      ],
      "id": "r3ys7pFNvv1d",
      "execution_count": 28,
      "outputs": [
        {
          "output_type": "execute_result",
          "data": {
            "text/plain": [
              "(list, 480)"
            ]
          },
          "metadata": {},
          "execution_count": 28
        }
      ]
    },
    {
      "cell_type": "markdown",
      "metadata": {
        "id": "ltlkR0Avwm2r"
      },
      "source": [
        "### Create X_train"
      ],
      "id": "ltlkR0Avwm2r"
    },
    {
      "cell_type": "code",
      "metadata": {
        "id": "G_aVwgiMvSBn"
      },
      "source": [
        "filenames = []\n",
        "for label in train_ds_raw:\n",
        "    if label[-3:] == 'xml':\n",
        "        continue\n",
        "    else:\n",
        "        filenames.append(\"/content/drive/MyDrive/Colab Notebooks/train/\" + label)"
      ],
      "id": "G_aVwgiMvSBn",
      "execution_count": 41,
      "outputs": []
    },
    {
      "cell_type": "markdown",
      "metadata": {
        "id": "FiE5sRB-wvBX"
      },
      "source": [
        "### Create y_train label"
      ],
      "id": "FiE5sRB-wvBX"
    },
    {
      "cell_type": "code",
      "metadata": {
        "id": "e91ehIK9vLku"
      },
      "source": [
        "y_train_label = []\n",
        "\n",
        "for label in train_ds_raw:\n",
        "    if label[-3:] == 'xml':\n",
        "        continue\n",
        "    arr = label.split('_')\n",
        "    y_train_label.append(arr[0])\n"
      ],
      "id": "e91ehIK9vLku",
      "execution_count": 42,
      "outputs": []
    },
    {
      "cell_type": "code",
      "metadata": {
        "id": "57042e0f",
        "colab": {
          "base_uri": "https://localhost:8080/"
        },
        "outputId": "94059cb7-0744-4773-a1c3-254cac8b1432"
      },
      "source": [
        "len(filenames), len(y_train_label)"
      ],
      "id": "57042e0f",
      "execution_count": 43,
      "outputs": [
        {
          "output_type": "execute_result",
          "data": {
            "text/plain": [
              "(240, 240)"
            ]
          },
          "metadata": {},
          "execution_count": 43
        }
      ]
    },
    {
      "cell_type": "markdown",
      "metadata": {
        "id": "BLh0xe_qxTy_"
      },
      "source": [
        "### Create df to visualize datasets"
      ],
      "id": "BLh0xe_qxTy_"
    },
    {
      "cell_type": "code",
      "metadata": {
        "id": "vg9zB5CvxYpU"
      },
      "source": [
        "df = pd.DataFrame(columns=['filenames'], data=filenames)"
      ],
      "id": "vg9zB5CvxYpU",
      "execution_count": 44,
      "outputs": []
    },
    {
      "cell_type": "code",
      "metadata": {
        "id": "y8hnNB_excjB"
      },
      "source": [
        "df['y_train'] = y_train_label"
      ],
      "id": "y8hnNB_excjB",
      "execution_count": 45,
      "outputs": []
    },
    {
      "cell_type": "code",
      "metadata": {
        "id": "a4rqMNaFxgTs"
      },
      "source": [
        "df"
      ],
      "id": "a4rqMNaFxgTs",
      "execution_count": null,
      "outputs": []
    },
    {
      "cell_type": "code",
      "metadata": {
        "colab": {
          "base_uri": "https://localhost:8080/"
        },
        "id": "VuOtqL4kxkmz",
        "outputId": "44e5ee21-c292-42e5-a8aa-92c3ecad8ba2"
      },
      "source": [
        "img = cv2.imread(filenames[0], cv2.IMREAD_COLOR)\n",
        "img.shape"
      ],
      "id": "VuOtqL4kxkmz",
      "execution_count": 47,
      "outputs": [
        {
          "output_type": "execute_result",
          "data": {
            "text/plain": [
              "(436, 652, 3)"
            ]
          },
          "metadata": {},
          "execution_count": 47
        }
      ]
    },
    {
      "cell_type": "markdown",
      "metadata": {
        "id": "oqKIl1wyxzEP"
      },
      "source": [
        "### Plot Histogram to set size of images"
      ],
      "id": "oqKIl1wyxzEP"
    },
    {
      "cell_type": "code",
      "metadata": {
        "id": "f5cf9753"
      },
      "source": [
        "# plot histogram\n",
        "# decide which is the more common size for img\n",
        "# Getting the dimensions of all the image into a list\n",
        "dim1 = []\n",
        "dim2 = []\n",
        "colors = []\n",
        "\n",
        "for img_filename in filenames:\n",
        "    x, y, c = plt.imread(img_filename).shape\n",
        "    dim1.append(x)\n",
        "    dim2.append(y)\n",
        "    colors.append(c)"
      ],
      "id": "f5cf9753",
      "execution_count": 48,
      "outputs": []
    },
    {
      "cell_type": "code",
      "metadata": {
        "id": "fg5YDbf3x-rp"
      },
      "source": [
        "dim1 = np.array(dim1)\n",
        "dim2 = np.array(dim2)\n",
        "colors = np.array(colors)"
      ],
      "id": "fg5YDbf3x-rp",
      "execution_count": 49,
      "outputs": []
    },
    {
      "cell_type": "code",
      "metadata": {
        "colab": {
          "base_uri": "https://localhost:8080/"
        },
        "id": "aF8QZ53zyBBI",
        "outputId": "65f062c1-9b5e-4a53-86bc-69d5558e7375"
      },
      "source": [
        "dim1.max(), dim2.max(), colors.mean()"
      ],
      "id": "aF8QZ53zyBBI",
      "execution_count": 50,
      "outputs": [
        {
          "output_type": "execute_result",
          "data": {
            "text/plain": [
              "(4605, 3160, 3.1083333333333334)"
            ]
          },
          "metadata": {},
          "execution_count": 50
        }
      ]
    },
    {
      "cell_type": "code",
      "metadata": {
        "id": "ab0615dd",
        "colab": {
          "base_uri": "https://localhost:8080/",
          "height": 441
        },
        "outputId": "96d0e949-c514-49fa-a72b-41d3411d5451"
      },
      "source": [
        "sns.jointplot(x=dim1, y=dim2);"
      ],
      "id": "ab0615dd",
      "execution_count": 51,
      "outputs": [
        {
          "output_type": "display_data",
          "data": {
            "image/png": "[encoded data removed]",
            "text/plain": [
              "<Figure size 432x432 with 3 Axes>"
            ]
          },
          "metadata": {
            "needs_background": "light"
          }
        }
      ]
    },
    {
      "cell_type": "code",
      "metadata": {
        "colab": {
          "base_uri": "https://localhost:8080/"
        },
        "id": "iO5DwUcYyHGa",
        "outputId": "8af69877-adb6-4eff-fb89-39f013b90e8b"
      },
      "source": [
        "dim1.mean(), dim2.mean()"
      ],
      "id": "iO5DwUcYyHGa",
      "execution_count": 52,
      "outputs": [
        {
          "output_type": "execute_result",
          "data": {
            "text/plain": [
              "(633.5083333333333, 789.2166666666667)"
            ]
          },
          "metadata": {},
          "execution_count": 52
        }
      ]
    },
    {
      "cell_type": "markdown",
      "metadata": {
        "id": "OtAm3FuiyJQf"
      },
      "source": [
        "resize according to findings:\n",
        "*Taking the mean of the image size, we set the image size to be 650 by 650 by 3 for easier computation*\n",
        "**image_size = (650, 650)**"
      ],
      "id": "OtAm3FuiyJQf"
    },
    {
      "cell_type": "markdown",
      "metadata": {
        "id": "LoXpWs5DzNB4"
      },
      "source": [
        "### Resize images to proper and similar size and create x_train"
      ],
      "id": "LoXpWs5DzNB4"
    },
    {
      "cell_type": "code",
      "metadata": {
        "id": "g5-Mwceu_GOU"
      },
      "source": [
        "img = Image.open(filenames[1])\n",
        "greyscale_img = img.convert('L')\n",
        "img_resized = greyscale_img.resize((650,650))\n",
        "img_resized"
      ],
      "id": "g5-Mwceu_GOU",
      "execution_count": null,
      "outputs": []
    },
    {
      "cell_type": "code",
      "metadata": {
        "colab": {
          "base_uri": "https://localhost:8080/"
        },
        "id": "Yddgi2-KzbYf",
        "outputId": "55f99db3-79e0-4dd5-d4f3-025cf501d543"
      },
      "source": [
        "x_train = None\n",
        "\n",
        "for i in range(len(y_train_label)):\n",
        "    img_raw = Image.open(filenames[i])  \n",
        "    greyscale_img = img_raw.convert('L')\n",
        "    img_reshaped = greyscale_img.resize((650, 650))   \n",
        "    if x_train is None:\n",
        "        x_train = img_reshaped\n",
        "    else:\n",
        "        x_train = np.concatenate((x_train, img_reshaped))"
      ],
      "id": "Yddgi2-KzbYf",
      "execution_count": 82,
      "outputs": [
        {
          "output_type": "stream",
          "name": "stderr",
          "text": [
            "/usr/local/lib/python3.7/dist-packages/PIL/Image.py:960: UserWarning: Palette images with Transparency expressed in bytes should be converted to RGBA images\n",
            "  \"Palette images with Transparency expressed in bytes should be \"\n"
          ]
        },
        {
          "output_type": "stream",
          "name": "stdout",
          "text": [
            "[[ 83  83  83 ...  99  99  99]\n",
            " [ 83  83  83 ...  98  98  98]\n",
            " [ 84  84  84 ...  97  97  97]\n",
            " ...\n",
            " [255 255 255 ... 255 255 255]\n",
            " [255 255 255 ... 255 255 255]\n",
            " [255 255 255 ... 255 255 255]]\n"
          ]
        }
      ]
    },
    {
      "cell_type": "markdown",
      "metadata": {
        "id": "ANhgnkGSyQ0k"
      },
      "source": [
        "Verify data shaped correctly "
      ],
      "id": "ANhgnkGSyQ0k"
    },
    {
      "cell_type": "code",
      "metadata": {
        "colab": {
          "base_uri": "https://localhost:8080/"
        },
        "id": "Yj2vRp1J68Fj",
        "outputId": "7f5c9c49-3013-4dc3-c113-2d641712e1e4"
      },
      "source": [
        "x_train = x_train.reshape(-1, 650, 650, 3)\n",
        "x_train.shape"
      ],
      "id": "Yj2vRp1J68Fj",
      "execution_count": 98,
      "outputs": [
        {
          "output_type": "execute_result",
          "data": {
            "text/plain": [
              "(80, 650, 650, 3)"
            ]
          },
          "metadata": {},
          "execution_count": 98
        }
      ]
    },
    {
      "cell_type": "markdown",
      "metadata": {
        "id": "Fh2Wz05BJxfT"
      },
      "source": [
        "Verify that data is shaped correctly by randomly retrieving an individual data to view"
      ],
      "id": "Fh2Wz05BJxfT"
    },
    {
      "cell_type": "code",
      "metadata": {
        "colab": {
          "base_uri": "https://localhost:8080/",
          "height": 178
        },
        "id": "9vCcC-CSKCvv",
        "outputId": "98364216-0076-4b3b-c181-75c055f40cf5"
      },
      "source": [
        "# img2 = Image.fromarray(x_train[1])\n",
        "# --> bug in scipy so shape can throw error\n",
        "img2 = np.array(Image.fromarray((x_train[1] * 255).astype(np.uint8)).convert('RGB'))\n",
        "plt.subplots(figsize=(2,2))\n",
        "plt.imshow(img2)"
      ],
      "id": "9vCcC-CSKCvv",
      "execution_count": 103,
      "outputs": [
        {
          "output_type": "execute_result",
          "data": {
            "text/plain": [
              "<matplotlib.image.AxesImage at 0x7fbe84e59710>"
            ]
          },
          "metadata": {},
          "execution_count": 103
        },
        {
          "output_type": "display_data",
          "data": {
            "image/png": "[encoded data removed]",
            "text/plain": [
              "<Figure size 144x144 with 1 Axes>"
            ]
          },
          "metadata": {
            "needs_background": "light"
          }
        }
      ]
    },
    {
      "cell_type": "markdown",
      "metadata": {
        "id": "K61EcIxjH8Mc"
      },
      "source": [
        "**Determine max value of each cell and min before normalizing**"
      ],
      "id": "K61EcIxjH8Mc"
    },
    {
      "cell_type": "code",
      "metadata": {
        "id": "336393cd",
        "colab": {
          "base_uri": "https://localhost:8080/"
        },
        "outputId": "bb749a50-30cb-40bc-fb5c-99b809f979af"
      },
      "source": [
        "x_train.max(), x_train.min()"
      ],
      "id": "336393cd",
      "execution_count": 86,
      "outputs": [
        {
          "output_type": "execute_result",
          "data": {
            "text/plain": [
              "(255, 0)"
            ]
          },
          "metadata": {},
          "execution_count": 86
        }
      ]
    },
    {
      "cell_type": "markdown",
      "metadata": {
        "id": "s1Iwp-eAIIDk"
      },
      "source": [
        "**Normalize dataset**"
      ],
      "id": "s1Iwp-eAIIDk"
    },
    {
      "cell_type": "code",
      "metadata": {
        "colab": {
          "base_uri": "https://localhost:8080/"
        },
        "id": "Y15ugtfnILRB",
        "outputId": "d15c0c16-460d-4b4e-aba2-32092066d17a"
      },
      "source": [
        "x_train = x_train/255\n",
        "print(x_train)"
      ],
      "id": "Y15ugtfnILRB",
      "execution_count": 123,
      "outputs": [
        {
          "output_type": "stream",
          "name": "stdout",
          "text": [
            "[[[[1.96298676e-08 1.96298676e-08 1.96298676e-08]\n",
            "   [1.96298676e-08 1.96298676e-08 1.96298676e-08]\n",
            "   [1.96298676e-08 1.96298676e-08 1.98663720e-08]\n",
            "   ...\n",
            "   [2.27044252e-08 2.27044252e-08 2.27044252e-08]\n",
            "   [2.27044252e-08 2.27044252e-08 2.29409296e-08]\n",
            "   [2.29409296e-08 2.29409296e-08 2.29409296e-08]]\n",
            "\n",
            "  [[2.01028765e-08 2.01028765e-08 2.01028765e-08]\n",
            "   [2.01028765e-08 2.01028765e-08 2.01028765e-08]\n",
            "   [2.01028765e-08 2.01028765e-08 2.03393809e-08]\n",
            "   ...\n",
            "   [2.22314163e-08 2.22314163e-08 2.22314163e-08]\n",
            "   [2.22314163e-08 2.22314163e-08 2.29409296e-08]\n",
            "   [2.29409296e-08 2.29409296e-08 2.29409296e-08]]\n",
            "\n",
            "  [[2.05758853e-08 2.05758853e-08 2.05758853e-08]\n",
            "   [2.05758853e-08 2.05758853e-08 2.05758853e-08]\n",
            "   [2.05758853e-08 2.05758853e-08 2.10488942e-08]\n",
            "   ...\n",
            "   [2.19949119e-08 2.19949119e-08 2.19949119e-08]\n",
            "   [2.19949119e-08 2.19949119e-08 2.17584075e-08]\n",
            "   [2.17584075e-08 2.17584075e-08 2.17584075e-08]]\n",
            "\n",
            "  ...\n",
            "\n",
            "  [[6.03086294e-08 6.03086294e-08 6.03086294e-08]\n",
            "   [6.03086294e-08 6.03086294e-08 6.03086294e-08]\n",
            "   [6.03086294e-08 6.03086294e-08 6.03086294e-08]\n",
            "   ...\n",
            "   [6.03086294e-08 6.03086294e-08 6.03086294e-08]\n",
            "   [6.03086294e-08 6.03086294e-08 6.03086294e-08]\n",
            "   [6.03086294e-08 6.03086294e-08 6.03086294e-08]]\n",
            "\n",
            "  [[6.03086294e-08 6.03086294e-08 6.03086294e-08]\n",
            "   [6.03086294e-08 6.03086294e-08 6.03086294e-08]\n",
            "   [6.03086294e-08 6.03086294e-08 6.03086294e-08]\n",
            "   ...\n",
            "   [6.03086294e-08 6.03086294e-08 6.03086294e-08]\n",
            "   [6.03086294e-08 6.03086294e-08 6.03086294e-08]\n",
            "   [6.03086294e-08 6.03086294e-08 6.03086294e-08]]\n",
            "\n",
            "  [[6.03086294e-08 6.03086294e-08 6.03086294e-08]\n",
            "   [6.03086294e-08 6.03086294e-08 6.03086294e-08]\n",
            "   [6.03086294e-08 6.03086294e-08 6.03086294e-08]\n",
            "   ...\n",
            "   [6.03086294e-08 6.03086294e-08 6.03086294e-08]\n",
            "   [6.03086294e-08 6.03086294e-08 6.03086294e-08]\n",
            "   [6.03086294e-08 6.03086294e-08 6.03086294e-08]]]\n",
            "\n",
            "\n",
            " [[[6.03086294e-08 6.03086294e-08 6.03086294e-08]\n",
            "   [6.03086294e-08 6.03086294e-08 6.03086294e-08]\n",
            "   [6.03086294e-08 6.03086294e-08 6.03086294e-08]\n",
            "   ...\n",
            "   [6.03086294e-08 6.03086294e-08 6.03086294e-08]\n",
            "   [6.00721250e-08 6.03086294e-08 6.03086294e-08]\n",
            "   [5.98356206e-08 6.03086294e-08 6.03086294e-08]]\n",
            "\n",
            "  [[6.03086294e-08 6.03086294e-08 6.03086294e-08]\n",
            "   [6.03086294e-08 6.03086294e-08 6.03086294e-08]\n",
            "   [6.03086294e-08 6.03086294e-08 6.03086294e-08]\n",
            "   ...\n",
            "   [5.48690275e-08 5.53420364e-08 5.39230098e-08]\n",
            "   [5.55785408e-08 5.98356206e-08 6.03086294e-08]\n",
            "   [6.00721250e-08 6.03086294e-08 6.03086294e-08]]\n",
            "\n",
            "  [[6.03086294e-08 6.03086294e-08 6.03086294e-08]\n",
            "   [6.03086294e-08 6.03086294e-08 6.03086294e-08]\n",
            "   [6.03086294e-08 6.03086294e-08 6.03086294e-08]\n",
            "   ...\n",
            "   [5.48690275e-08 5.72340718e-08 5.86530984e-08]\n",
            "   [5.46325231e-08 5.69975674e-08 6.03086294e-08]\n",
            "   [6.00721250e-08 6.03086294e-08 6.03086294e-08]]\n",
            "\n",
            "  ...\n",
            "\n",
            "  [[6.03086294e-08 6.03086294e-08 6.03086294e-08]\n",
            "   [6.03086294e-08 6.03086294e-08 6.03086294e-08]\n",
            "   [6.03086294e-08 6.03086294e-08 6.03086294e-08]\n",
            "   ...\n",
            "   [6.03086294e-08 6.03086294e-08 6.03086294e-08]\n",
            "   [6.03086294e-08 6.03086294e-08 6.03086294e-08]\n",
            "   [6.03086294e-08 6.03086294e-08 6.03086294e-08]]\n",
            "\n",
            "  [[6.03086294e-08 6.03086294e-08 6.03086294e-08]\n",
            "   [6.03086294e-08 6.03086294e-08 6.03086294e-08]\n",
            "   [6.03086294e-08 6.03086294e-08 6.03086294e-08]\n",
            "   ...\n",
            "   [6.03086294e-08 6.03086294e-08 6.03086294e-08]\n",
            "   [6.03086294e-08 6.03086294e-08 6.03086294e-08]\n",
            "   [6.03086294e-08 6.03086294e-08 6.03086294e-08]]\n",
            "\n",
            "  [[6.03086294e-08 6.03086294e-08 6.03086294e-08]\n",
            "   [6.03086294e-08 6.03086294e-08 6.03086294e-08]\n",
            "   [6.03086294e-08 6.03086294e-08 6.03086294e-08]\n",
            "   ...\n",
            "   [6.03086294e-08 6.03086294e-08 6.03086294e-08]\n",
            "   [6.03086294e-08 6.03086294e-08 6.03086294e-08]\n",
            "   [6.03086294e-08 6.03086294e-08 6.03086294e-08]]]\n",
            "\n",
            "\n",
            " [[[6.03086294e-08 6.03086294e-08 6.03086294e-08]\n",
            "   [6.03086294e-08 6.03086294e-08 6.03086294e-08]\n",
            "   [6.03086294e-08 6.03086294e-08 6.03086294e-08]\n",
            "   ...\n",
            "   [6.03086294e-08 6.03086294e-08 6.03086294e-08]\n",
            "   [6.03086294e-08 6.03086294e-08 6.03086294e-08]\n",
            "   [6.03086294e-08 6.03086294e-08 6.03086294e-08]]\n",
            "\n",
            "  [[6.03086294e-08 6.03086294e-08 6.03086294e-08]\n",
            "   [6.03086294e-08 6.03086294e-08 6.03086294e-08]\n",
            "   [6.03086294e-08 6.03086294e-08 6.03086294e-08]\n",
            "   ...\n",
            "   [6.03086294e-08 6.03086294e-08 6.03086294e-08]\n",
            "   [6.03086294e-08 6.03086294e-08 6.03086294e-08]\n",
            "   [6.03086294e-08 6.03086294e-08 6.03086294e-08]]\n",
            "\n",
            "  [[6.03086294e-08 6.03086294e-08 6.03086294e-08]\n",
            "   [6.03086294e-08 6.03086294e-08 6.03086294e-08]\n",
            "   [6.03086294e-08 6.03086294e-08 6.03086294e-08]\n",
            "   ...\n",
            "   [6.03086294e-08 6.03086294e-08 6.03086294e-08]\n",
            "   [6.03086294e-08 6.03086294e-08 6.03086294e-08]\n",
            "   [6.03086294e-08 6.03086294e-08 6.03086294e-08]]\n",
            "\n",
            "  ...\n",
            "\n",
            "  [[6.03086294e-08 6.03086294e-08 6.03086294e-08]\n",
            "   [6.03086294e-08 6.03086294e-08 6.03086294e-08]\n",
            "   [6.03086294e-08 6.03086294e-08 6.03086294e-08]\n",
            "   ...\n",
            "   [6.03086294e-08 6.03086294e-08 6.03086294e-08]\n",
            "   [6.03086294e-08 6.03086294e-08 6.03086294e-08]\n",
            "   [6.03086294e-08 6.03086294e-08 6.03086294e-08]]\n",
            "\n",
            "  [[6.03086294e-08 6.03086294e-08 6.03086294e-08]\n",
            "   [6.03086294e-08 6.03086294e-08 6.03086294e-08]\n",
            "   [6.03086294e-08 6.03086294e-08 6.03086294e-08]\n",
            "   ...\n",
            "   [6.03086294e-08 6.03086294e-08 6.03086294e-08]\n",
            "   [6.03086294e-08 6.03086294e-08 6.03086294e-08]\n",
            "   [6.03086294e-08 6.03086294e-08 6.03086294e-08]]\n",
            "\n",
            "  [[6.03086294e-08 6.03086294e-08 6.03086294e-08]\n",
            "   [6.03086294e-08 6.03086294e-08 6.03086294e-08]\n",
            "   [6.03086294e-08 6.03086294e-08 6.03086294e-08]\n",
            "   ...\n",
            "   [6.03086294e-08 6.03086294e-08 6.03086294e-08]\n",
            "   [6.03086294e-08 6.03086294e-08 6.03086294e-08]\n",
            "   [6.03086294e-08 6.03086294e-08 6.03086294e-08]]]\n",
            "\n",
            "\n",
            " ...\n",
            "\n",
            "\n",
            " [[[6.03086294e-08 6.03086294e-08 6.03086294e-08]\n",
            "   [6.03086294e-08 6.03086294e-08 6.03086294e-08]\n",
            "   [6.03086294e-08 6.03086294e-08 6.03086294e-08]\n",
            "   ...\n",
            "   [6.03086294e-08 6.03086294e-08 6.03086294e-08]\n",
            "   [6.03086294e-08 6.03086294e-08 6.03086294e-08]\n",
            "   [6.03086294e-08 6.03086294e-08 6.03086294e-08]]\n",
            "\n",
            "  [[6.03086294e-08 6.03086294e-08 6.03086294e-08]\n",
            "   [6.03086294e-08 6.03086294e-08 6.03086294e-08]\n",
            "   [6.03086294e-08 6.03086294e-08 6.03086294e-08]\n",
            "   ...\n",
            "   [6.03086294e-08 6.03086294e-08 6.03086294e-08]\n",
            "   [6.03086294e-08 6.03086294e-08 6.03086294e-08]\n",
            "   [6.03086294e-08 6.03086294e-08 6.03086294e-08]]\n",
            "\n",
            "  [[6.03086294e-08 6.03086294e-08 6.03086294e-08]\n",
            "   [6.03086294e-08 6.03086294e-08 6.03086294e-08]\n",
            "   [6.03086294e-08 6.03086294e-08 6.03086294e-08]\n",
            "   ...\n",
            "   [6.03086294e-08 6.03086294e-08 6.03086294e-08]\n",
            "   [6.03086294e-08 6.03086294e-08 6.03086294e-08]\n",
            "   [6.03086294e-08 6.03086294e-08 6.03086294e-08]]\n",
            "\n",
            "  ...\n",
            "\n",
            "  [[5.72340718e-08 5.72340718e-08 5.72340718e-08]\n",
            "   [5.72340718e-08 5.72340718e-08 5.69975674e-08]\n",
            "   [5.69975674e-08 5.69975674e-08 5.72340718e-08]\n",
            "   ...\n",
            "   [5.91261073e-08 5.93626117e-08 5.93626117e-08]\n",
            "   [5.91261073e-08 5.88896028e-08 5.86530984e-08]\n",
            "   [5.81800895e-08 5.79435851e-08 5.79435851e-08]]\n",
            "\n",
            "  [[5.79435851e-08 5.79435851e-08 5.77070807e-08]\n",
            "   [5.74705763e-08 5.74705763e-08 5.72340718e-08]\n",
            "   [5.72340718e-08 5.69975674e-08 5.72340718e-08]\n",
            "   ...\n",
            "   [5.84165940e-08 5.81800895e-08 5.81800895e-08]\n",
            "   [5.79435851e-08 5.77070807e-08 5.74705763e-08]\n",
            "   [5.72340718e-08 5.69975674e-08 5.67610630e-08]]\n",
            "\n",
            "  [[5.84165940e-08 5.81800895e-08 5.81800895e-08]\n",
            "   [5.79435851e-08 5.77070807e-08 5.74705763e-08]\n",
            "   [5.72340718e-08 5.72340718e-08 5.72340718e-08]\n",
            "   ...\n",
            "   [5.72340718e-08 5.67610630e-08 5.67610630e-08]\n",
            "   [5.67610630e-08 5.67610630e-08 5.65245585e-08]\n",
            "   [5.65245585e-08 5.65245585e-08 5.65245585e-08]]]\n",
            "\n",
            "\n",
            " [[[6.03086294e-08 6.03086294e-08 6.03086294e-08]\n",
            "   [6.03086294e-08 6.03086294e-08 6.03086294e-08]\n",
            "   [6.03086294e-08 6.03086294e-08 6.03086294e-08]\n",
            "   ...\n",
            "   [6.03086294e-08 6.03086294e-08 6.03086294e-08]\n",
            "   [6.03086294e-08 6.03086294e-08 6.03086294e-08]\n",
            "   [6.03086294e-08 6.03086294e-08 6.03086294e-08]]\n",
            "\n",
            "  [[6.03086294e-08 6.03086294e-08 6.03086294e-08]\n",
            "   [6.03086294e-08 6.03086294e-08 6.03086294e-08]\n",
            "   [6.03086294e-08 6.03086294e-08 6.03086294e-08]\n",
            "   ...\n",
            "   [6.03086294e-08 6.03086294e-08 6.03086294e-08]\n",
            "   [6.03086294e-08 6.03086294e-08 6.03086294e-08]\n",
            "   [6.03086294e-08 6.03086294e-08 6.03086294e-08]]\n",
            "\n",
            "  [[6.03086294e-08 6.03086294e-08 6.03086294e-08]\n",
            "   [6.03086294e-08 6.03086294e-08 6.03086294e-08]\n",
            "   [6.03086294e-08 6.03086294e-08 6.03086294e-08]\n",
            "   ...\n",
            "   [6.03086294e-08 6.03086294e-08 6.03086294e-08]\n",
            "   [6.03086294e-08 6.03086294e-08 6.03086294e-08]\n",
            "   [6.03086294e-08 6.03086294e-08 6.03086294e-08]]\n",
            "\n",
            "  ...\n",
            "\n",
            "  [[2.31774340e-08 2.17584075e-08 2.08123898e-08]\n",
            "   [2.03393809e-08 1.93933632e-08 1.91568588e-08]\n",
            "   [1.96298676e-08 1.82108410e-08 1.65553100e-08]\n",
            "   ...\n",
            "   [1.53727879e-08 1.44267702e-08 1.46632746e-08]\n",
            "   [1.53727879e-08 1.51362835e-08 1.46632746e-08]\n",
            "   [1.46632746e-08 1.44267702e-08 1.44267702e-08]]\n",
            "\n",
            "  [[2.08123898e-08 1.93933632e-08 1.77378322e-08]\n",
            "   [1.63188056e-08 1.58457967e-08 1.65553100e-08]\n",
            "   [1.79743366e-08 1.75013278e-08 1.75013278e-08]\n",
            "   ...\n",
            "   [1.67918145e-08 1.58457967e-08 1.56092923e-08]\n",
            "   [1.58457967e-08 1.56092923e-08 1.51362835e-08]\n",
            "   [1.48997790e-08 1.46632746e-08 1.44267702e-08]]\n",
            "\n",
            "  [[1.98663720e-08 1.89203543e-08 1.75013278e-08]\n",
            "   [1.60823012e-08 1.56092923e-08 1.75013278e-08]\n",
            "   [1.96298676e-08 1.96298676e-08 1.96298676e-08]\n",
            "   ...\n",
            "   [1.82108410e-08 1.67918145e-08 1.60823012e-08]\n",
            "   [1.58457967e-08 1.58457967e-08 1.53727879e-08]\n",
            "   [1.48997790e-08 1.41902657e-08 1.39537613e-08]]]\n",
            "\n",
            "\n",
            " [[[0.00000000e+00 0.00000000e+00 0.00000000e+00]\n",
            "   [0.00000000e+00 0.00000000e+00 0.00000000e+00]\n",
            "   [0.00000000e+00 0.00000000e+00 0.00000000e+00]\n",
            "   ...\n",
            "   [0.00000000e+00 0.00000000e+00 0.00000000e+00]\n",
            "   [0.00000000e+00 0.00000000e+00 0.00000000e+00]\n",
            "   [0.00000000e+00 0.00000000e+00 0.00000000e+00]]\n",
            "\n",
            "  [[0.00000000e+00 0.00000000e+00 0.00000000e+00]\n",
            "   [0.00000000e+00 0.00000000e+00 0.00000000e+00]\n",
            "   [0.00000000e+00 0.00000000e+00 0.00000000e+00]\n",
            "   ...\n",
            "   [0.00000000e+00 0.00000000e+00 0.00000000e+00]\n",
            "   [0.00000000e+00 0.00000000e+00 0.00000000e+00]\n",
            "   [0.00000000e+00 0.00000000e+00 0.00000000e+00]]\n",
            "\n",
            "  [[0.00000000e+00 0.00000000e+00 0.00000000e+00]\n",
            "   [0.00000000e+00 0.00000000e+00 0.00000000e+00]\n",
            "   [0.00000000e+00 0.00000000e+00 0.00000000e+00]\n",
            "   ...\n",
            "   [0.00000000e+00 0.00000000e+00 0.00000000e+00]\n",
            "   [0.00000000e+00 0.00000000e+00 0.00000000e+00]\n",
            "   [0.00000000e+00 0.00000000e+00 0.00000000e+00]]\n",
            "\n",
            "  ...\n",
            "\n",
            "  [[6.03086294e-08 6.03086294e-08 6.03086294e-08]\n",
            "   [6.03086294e-08 6.03086294e-08 6.03086294e-08]\n",
            "   [6.03086294e-08 6.03086294e-08 6.03086294e-08]\n",
            "   ...\n",
            "   [6.03086294e-08 6.03086294e-08 6.03086294e-08]\n",
            "   [6.03086294e-08 6.03086294e-08 6.03086294e-08]\n",
            "   [6.03086294e-08 6.03086294e-08 6.03086294e-08]]\n",
            "\n",
            "  [[6.03086294e-08 6.03086294e-08 6.03086294e-08]\n",
            "   [6.03086294e-08 6.03086294e-08 6.03086294e-08]\n",
            "   [6.03086294e-08 6.03086294e-08 6.03086294e-08]\n",
            "   ...\n",
            "   [6.03086294e-08 6.03086294e-08 6.03086294e-08]\n",
            "   [6.03086294e-08 6.03086294e-08 6.03086294e-08]\n",
            "   [6.03086294e-08 6.03086294e-08 6.03086294e-08]]\n",
            "\n",
            "  [[6.03086294e-08 6.03086294e-08 6.03086294e-08]\n",
            "   [6.03086294e-08 6.03086294e-08 6.03086294e-08]\n",
            "   [6.03086294e-08 6.03086294e-08 6.03086294e-08]\n",
            "   ...\n",
            "   [6.03086294e-08 6.03086294e-08 6.03086294e-08]\n",
            "   [6.03086294e-08 6.03086294e-08 6.03086294e-08]\n",
            "   [6.03086294e-08 6.03086294e-08 6.03086294e-08]]]]\n"
          ]
        }
      ]
    },
    {
      "cell_type": "markdown",
      "metadata": {
        "id": "64a1cb65"
      },
      "source": [
        "One-Hot Encoding data using keras to_categorical"
      ],
      "id": "64a1cb65"
    },
    {
      "cell_type": "code",
      "metadata": {
        "colab": {
          "base_uri": "https://localhost:8080/"
        },
        "id": "v-x47VWQIjH6",
        "outputId": "c69f8c65-0054-4ef9-b74a-88d479e8e85d"
      },
      "source": [
        "# labels = np.unique(y_train_label)\n",
        "# labels"
      ],
      "id": "v-x47VWQIjH6",
      "execution_count": 105,
      "outputs": [
        {
          "output_type": "execute_result",
          "data": {
            "text/plain": [
              "array(['apple', 'banana', 'mixed', 'orange'], dtype='<U6')"
            ]
          },
          "metadata": {},
          "execution_count": 105
        }
      ]
    },
    {
      "cell_type": "code",
      "metadata": {
        "colab": {
          "base_uri": "https://localhost:8080/"
        },
        "id": "3Yjzg3B6Ip29",
        "outputId": "9b3216ef-921b-42c8-e4b3-3cec3c048c18"
      },
      "source": [
        "# n_labels = len(labels)\n",
        "# n_labels"
      ],
      "id": "3Yjzg3B6Ip29",
      "execution_count": 92,
      "outputs": [
        {
          "output_type": "execute_result",
          "data": {
            "text/plain": [
              "4"
            ]
          },
          "metadata": {},
          "execution_count": 92
        }
      ]
    },
    {
      "cell_type": "code",
      "metadata": {
        "id": "463cea0a",
        "colab": {
          "base_uri": "https://localhost:8080/"
        },
        "outputId": "71565dff-64bf-4202-8fc1-27cf37f7053b"
      },
      "source": [
        "#Use one-hot encoding to label class and for prediction later\n",
        "from sklearn.preprocessing import LabelEncoder\n",
        "import pandas as pd\n",
        "\n",
        "#define data\n",
        "fruits = [\n",
        "    'apple',\n",
        "    'orange',\n",
        "    'banana',\n",
        "    'mixed'\n",
        "]\n",
        "\n",
        "#instantiate one hot encoding\n",
        "encoder = LabelEncoder()\n",
        "#fit\n",
        "encoder.fit(fruits)\n",
        "#transform\n",
        "data = encoder.transform(fruits)\n",
        "\n",
        "z = tf.keras.utils.to_categorical(data)\n",
        "\n",
        "y_train = np.array(z)\n",
        "\n",
        "# categories = pd.DataFrame(data=z,\n",
        "#                  columns=encoder.classes_)\n",
        "# print(categories)"
      ],
      "id": "463cea0a",
      "execution_count": 129,
      "outputs": [
        {
          "output_type": "stream",
          "name": "stdout",
          "text": [
            "[[1. 0. 0. 0.]\n",
            " [0. 0. 0. 1.]\n",
            " [0. 1. 0. 0.]\n",
            " [0. 0. 1. 0.]]\n"
          ]
        }
      ]
    },
    {
      "cell_type": "markdown",
      "metadata": {
        "id": "74168da3"
      },
      "source": [
        "### Defining Model Architecture\n",
        "Things like: \n",
        "- how many convolutional layers do we want\n",
        "- what should be the activation function for each layer\n",
        "- how many hidden units should each layer have etc"
      ],
      "id": "74168da3"
    },
    {
      "cell_type": "markdown",
      "metadata": {
        "id": "4c8bf940"
      },
      "source": [
        "#### Construct CNN Model"
      ],
      "id": "4c8bf940"
    },
    {
      "cell_type": "markdown",
      "metadata": {
        "id": "kPUxNStEO9BB"
      },
      "source": [
        "- Create an empty Neural Network via Sequential()\n",
        "- Add more layers to 'model' obj to turn it into CNN\n",
        "- First layer--> convolutional layer(filters,kernal_size,activation,input_shape)\n"
      ],
      "id": "kPUxNStEO9BB"
    },
    {
      "cell_type": "code",
      "metadata": {
        "id": "9a426198"
      },
      "source": [
        "model = tf.keras.models.Sequential()\n",
        "\n",
        "model.add(tf.keras.layers.Conv2D(filters=16, kernel_size=(3,3),\n",
        "                                activation = 'relu', \n",
        "                                input_shape= (650,650,3)))\n",
        "# model.add(tf.keras.layers.Conv2D(filters=32, kernel_size=(3,3),\n",
        "#                                 activation = 'relu', \n",
        "#                                 input_shape= (650,650,3)))\n",
        "# model.add(tf.keras.layers.Conv2D(filters=64, kernel_size=(3,3),\n",
        "#                                 activation = 'relu', \n",
        "#                                 input_shape= (650,650,3)))\n",
        "# model pooling, dropout, dense (need to flatten first) \n",
        "model.add(tf.keras.layers.Flatten())\n",
        "# model.add(tf.keras.layers.Dense(512,activation='relu'))\n",
        "# model.add(tf.keras.layers.Dense(1,activation='sigmoid')) \n",
        "model.add(tf.keras.layers.Dense(2, activation='softmax'))"
      ],
      "id": "9a426198",
      "execution_count": 124,
      "outputs": []
    },
    {
      "cell_type": "code",
      "metadata": {
        "id": "e08df059",
        "colab": {
          "base_uri": "https://localhost:8080/"
        },
        "outputId": "8caf3659-cf59-4fe2-a533-62de83471964"
      },
      "source": [
        "model.summary()"
      ],
      "id": "e08df059",
      "execution_count": 125,
      "outputs": [
        {
          "output_type": "stream",
          "name": "stdout",
          "text": [
            "Model: \"sequential_1\"\n",
            "_________________________________________________________________\n",
            " Layer (type)                Output Shape              Param #   \n",
            "=================================================================\n",
            " conv2d_3 (Conv2D)           (None, 648, 648, 16)      448       \n",
            "                                                                 \n",
            " flatten_1 (Flatten)         (None, 6718464)           0         \n",
            "                                                                 \n",
            " dense_1 (Dense)             (None, 2)                 13436930  \n",
            "                                                                 \n",
            "=================================================================\n",
            "Total params: 13,437,378\n",
            "Trainable params: 13,437,378\n",
            "Non-trainable params: 0\n",
            "_________________________________________________________________\n"
          ]
        }
      ]
    },
    {
      "cell_type": "markdown",
      "metadata": {
        "id": "Z-ks3KRDPvnq"
      },
      "source": [
        "- When using Softmax as the activation function as the last layer, our loss function should be ‘categorical_crossentropy’\n",
        "- Optimizers are algorithms to change the weights and the learning rate of our neural network; ‘adam’ is a good choice\n",
        "- When determining the accuracy of a prediction, use ‘accuracy’ as the metrics as we can count the number of times the neural network has given a correct prediction"
      ],
      "id": "Z-ks3KRDPvnq"
    },
    {
      "cell_type": "code",
      "metadata": {
        "id": "QRmxVDD8P0BK"
      },
      "source": [
        "#compiling the CNN\n",
        "# model.compile(optimizer = RMSprop(learning_rate=0.001),\n",
        "#             loss='categorical_crossentropy', \n",
        "#              metrics =['accuracy'])\n",
        "model.compile(optimizer='adam', loss='categorical_crossentropy', metrics=['accuracy'])"
      ],
      "id": "QRmxVDD8P0BK",
      "execution_count": 126,
      "outputs": []
    },
    {
      "cell_type": "markdown",
      "metadata": {
        "id": "825f6e47"
      },
      "source": [
        "### Train the Model\n",
        "\n",
        "Require training images and their corresponding true labels, validation images and their corresponding true labels (we use these labels only to validate the model and not during the training phase). We also define the number of epochs in this step. For starters, we will run the model for 10 epochs (you can change the number of epochs later)."
      ],
      "id": "825f6e47"
    },
    {
      "cell_type": "markdown",
      "metadata": {
        "id": "9d6177bd"
      },
      "source": [
        "#### can consider using k-means to calculate epochs"
      ],
      "id": "9d6177bd"
    },
    {
      "cell_type": "code",
      "metadata": {
        "id": "1a28d716",
        "colab": {
          "base_uri": "https://localhost:8080/",
          "height": 382
        },
        "outputId": "66fb7157-f382-44a6-8e1a-5ebf0111c0cb"
      },
      "source": [
        "fitting = model.fit(x_train, y_train, epochs=20)"
      ],
      "id": "1a28d716",
      "execution_count": 130,
      "outputs": [
        {
          "output_type": "error",
          "ename": "ValueError",
          "evalue": "ignored",
          "traceback": [
            "\u001b[0;31m---------------------------------------------------------------------------\u001b[0m",
            "\u001b[0;31mValueError\u001b[0m                                Traceback (most recent call last)",
            "\u001b[0;32m<ipython-input-130-0110f12c7621>\u001b[0m in \u001b[0;36m<module>\u001b[0;34m()\u001b[0m\n\u001b[0;32m----> 1\u001b[0;31m \u001b[0mfitting\u001b[0m \u001b[0;34m=\u001b[0m \u001b[0mmodel\u001b[0m\u001b[0;34m.\u001b[0m\u001b[0mfit\u001b[0m\u001b[0;34m(\u001b[0m\u001b[0mx_train\u001b[0m\u001b[0;34m,\u001b[0m \u001b[0my_train\u001b[0m\u001b[0;34m,\u001b[0m \u001b[0mepochs\u001b[0m\u001b[0;34m=\u001b[0m\u001b[0;36m20\u001b[0m\u001b[0;34m)\u001b[0m\u001b[0;34m\u001b[0m\u001b[0;34m\u001b[0m\u001b[0m\n\u001b[0m",
            "\u001b[0;32m/usr/local/lib/python3.7/dist-packages/keras/utils/traceback_utils.py\u001b[0m in \u001b[0;36merror_handler\u001b[0;34m(*args, **kwargs)\u001b[0m\n\u001b[1;32m     65\u001b[0m     \u001b[0;32mexcept\u001b[0m \u001b[0mException\u001b[0m \u001b[0;32mas\u001b[0m \u001b[0me\u001b[0m\u001b[0;34m:\u001b[0m  \u001b[0;31m# pylint: disable=broad-except\u001b[0m\u001b[0;34m\u001b[0m\u001b[0;34m\u001b[0m\u001b[0m\n\u001b[1;32m     66\u001b[0m       \u001b[0mfiltered_tb\u001b[0m \u001b[0;34m=\u001b[0m \u001b[0m_process_traceback_frames\u001b[0m\u001b[0;34m(\u001b[0m\u001b[0me\u001b[0m\u001b[0;34m.\u001b[0m\u001b[0m__traceback__\u001b[0m\u001b[0;34m)\u001b[0m\u001b[0;34m\u001b[0m\u001b[0;34m\u001b[0m\u001b[0m\n\u001b[0;32m---> 67\u001b[0;31m       \u001b[0;32mraise\u001b[0m \u001b[0me\u001b[0m\u001b[0;34m.\u001b[0m\u001b[0mwith_traceback\u001b[0m\u001b[0;34m(\u001b[0m\u001b[0mfiltered_tb\u001b[0m\u001b[0;34m)\u001b[0m \u001b[0;32mfrom\u001b[0m \u001b[0;32mNone\u001b[0m\u001b[0;34m\u001b[0m\u001b[0;34m\u001b[0m\u001b[0m\n\u001b[0m\u001b[1;32m     68\u001b[0m     \u001b[0;32mfinally\u001b[0m\u001b[0;34m:\u001b[0m\u001b[0;34m\u001b[0m\u001b[0;34m\u001b[0m\u001b[0m\n\u001b[1;32m     69\u001b[0m       \u001b[0;32mdel\u001b[0m \u001b[0mfiltered_tb\u001b[0m\u001b[0;34m\u001b[0m\u001b[0;34m\u001b[0m\u001b[0m\n",
            "\u001b[0;32m/usr/local/lib/python3.7/dist-packages/keras/engine/data_adapter.py\u001b[0m in \u001b[0;36m_check_data_cardinality\u001b[0;34m(data)\u001b[0m\n\u001b[1;32m   1655\u001b[0m                            for i in tf.nest.flatten(single_data)))\n\u001b[1;32m   1656\u001b[0m     \u001b[0mmsg\u001b[0m \u001b[0;34m+=\u001b[0m \u001b[0;34m\"Make sure all arrays contain the same number of samples.\"\u001b[0m\u001b[0;34m\u001b[0m\u001b[0;34m\u001b[0m\u001b[0m\n\u001b[0;32m-> 1657\u001b[0;31m     \u001b[0;32mraise\u001b[0m \u001b[0mValueError\u001b[0m\u001b[0;34m(\u001b[0m\u001b[0mmsg\u001b[0m\u001b[0;34m)\u001b[0m\u001b[0;34m\u001b[0m\u001b[0;34m\u001b[0m\u001b[0m\n\u001b[0m\u001b[1;32m   1658\u001b[0m \u001b[0;34m\u001b[0m\u001b[0m\n\u001b[1;32m   1659\u001b[0m \u001b[0;34m\u001b[0m\u001b[0m\n",
            "\u001b[0;31mValueError\u001b[0m: Data cardinality is ambiguous:\n  x sizes: 80\n  y sizes: 4\nMake sure all arrays contain the same number of samples."
          ]
        }
      ]
    },
    {
      "cell_type": "markdown",
      "metadata": {
        "id": "7fa2b759"
      },
      "source": [
        "### Estimate Performance- Test accuracy\n",
        "\n",
        "Load the test data (images) and go through the pre-processing step here as well. We then predict the classes for these images using the trained model."
      ],
      "id": "7fa2b759"
    },
    {
      "cell_type": "code",
      "metadata": {
        "id": "0a796a5b"
      },
      "source": [
        ""
      ],
      "id": "0a796a5b",
      "execution_count": null,
      "outputs": []
    }
  ]
}