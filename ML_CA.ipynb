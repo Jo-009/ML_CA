{
  "nbformat": 4,
  "nbformat_minor": 5,
  "metadata": {
    "accelerator": "GPU",
    "colab": {
      "name": "ML_CA_Edit.ipynb",
      "provenance": [],
      "collapsed_sections": [
        "9fd28ede",
        "Q1EFV6LcefRK",
        "ltlkR0Avwm2r",
        "FiE5sRB-wvBX",
        "BLh0xe_qxTy_",
        "oqKIl1wyxzEP",
        "AnoI80liXV4F"
      ],
      "include_colab_link": true
    },
    "kernelspec": {
      "display_name": "Python 3 (ipykernel)",
      "language": "python",
      "name": "python3"
    },
    "language_info": {
      "codemirror_mode": {
        "name": "ipython",
        "version": 3
      },
      "file_extension": ".py",
      "mimetype": "text/x-python",
      "name": "python",
      "nbconvert_exporter": "python",
      "pygments_lexer": "ipython3",
      "version": "3.9.7"
    }
  },
  "cells": [
    {
      "cell_type": "markdown",
      "metadata": {
        "id": "view-in-github",
        "colab_type": "text"
      },
      "source": [
        "<a href=\"https://colab.research.google.com/github/Jo-009/ML_CA/blob/Ver.2/ML_CA.ipynb\" target=\"_parent\"><img src=\"https://colab.research.google.com/assets/colab-badge.svg\" alt=\"Open In Colab\"/></a>"
      ]
    },
    {
      "cell_type": "markdown",
      "metadata": {
        "id": "53ef8e64"
      },
      "source": [
        "## CA Specifications\n",
        "1. A Fruits dataset is provided for this project, and it has images of (1) \n",
        "   apples, (2)oranges, (3) bananas and (4) a mix of apples, oranges and \n",
        "   bananas.\n",
        "2. Your task is to implement a CNN to recognize the 4 classes accurately.\n",
        "3. Use the images in the “train” folder to train your image classifier.\n",
        "4. Then, test the accuracy of your image classifier using images from the \n",
        "   “test” folder.\n",
        "5. Document all your experiments and results. For example, what was done to\n",
        "   increase the accuracy of your image classifier (e.g. image augmentation).\n",
        "6. Use Matplotlib to produce any plots that help the reader understand your\n",
        "   work better.\n",
        "   \n",
        "### Submission\n",
        "The deadline for this project is <b>28 Nov 2021, 6pm</b>.\n",
        "Please name your submission as <Your_Team_Number><A_or_B>.ipynb. For\n",
        "example, if you are in Team 1A, then your filename should be Team1A.ipynb."
      ],
      "id": "53ef8e64"
    },
    {
      "cell_type": "code",
      "metadata": {
        "id": "TZWn23PxXuTb"
      },
      "source": [
        "import matplotlib.pyplot as plt\n",
        "import seaborn as sns\n",
        "import tensorflow as tf\n",
        "import numpy as np\n",
        "import pandas as pd\n",
        "import os\n",
        "import cv2\n",
        "from PIL import Image, ImageOps"
      ],
      "id": "TZWn23PxXuTb",
      "execution_count": null,
      "outputs": []
    },
    {
      "cell_type": "markdown",
      "metadata": {
        "id": "9fd28ede"
      },
      "source": [
        "### Preprocessing and Loading Data\n",
        "\n",
        "Derive x_train,x_test,x_val,y_train,y_test and y_val \n",
        "\n",
        "<b>x_train</b>: Numpy arrays of the images of the training dataset\n",
        "\n",
        "<b>y_train</b>: Labels of the training dataset\n",
        "\n",
        "<b>x_test</b>: Numpy arrays of the images of the testing dataset\n",
        "\n",
        "<b>y_test</b>: Labels of the testing dataset\n",
        "\n",
        "<b>x_val</b>: Numpy arrays of the images of the validation dataset\n",
        "\n",
        "<b>y_val</b>: Labels of the validation dataset"
      ],
      "id": "9fd28ede"
    },
    {
      "cell_type": "code",
      "metadata": {
        "id": "ceSWGug0a2nC"
      },
      "source": [
        "train_img_path = 'C:/Users/joann/OneDrive/Desktop/ML_CA/train/'\n",
        "test_img_path = 'C:/Users/joann/OneDrive/Desktop/ML_CA/test/1/' "
      ],
      "id": "ceSWGug0a2nC",
      "execution_count": null,
      "outputs": []
    },
    {
      "cell_type": "markdown",
      "metadata": {
        "id": "Q1EFV6LcefRK"
      },
      "source": [
        "### Testing one img"
      ],
      "id": "Q1EFV6LcefRK"
    },
    {
      "cell_type": "code",
      "metadata": {
        "id": "rOvqWx9TbBND"
      },
      "source": [
        "# #test one img\n",
        "# img = Image.open(train_img_path + 'mixed_4.jpg')\n",
        "# img"
      ],
      "id": "rOvqWx9TbBND",
      "execution_count": null,
      "outputs": []
    },
    {
      "cell_type": "code",
      "metadata": {
        "id": "1vabP3eWbo23"
      },
      "source": [
        "# np_img = np.array(img)\n",
        "# #plt.imshow(np_img)\n",
        "# np_img.shape"
      ],
      "id": "1vabP3eWbo23",
      "execution_count": null,
      "outputs": []
    },
    {
      "cell_type": "code",
      "metadata": {
        "id": "HPdPe3qvcGaQ"
      },
      "source": [
        "# # normalize pixels values to between 0.0 to 1.0\n",
        "# np_img_norm = np_img / 255\n",
        "# np_img_norm"
      ],
      "id": "HPdPe3qvcGaQ",
      "execution_count": null,
      "outputs": []
    },
    {
      "cell_type": "code",
      "metadata": {
        "id": "DGjLDdxEdnsM"
      },
      "source": [
        "# # crop and resize img\n",
        "# width, height = img.size\n",
        "# pad = 20    # pixels\n",
        "\n",
        "# img_crop = img.crop((pad, pad, width-pad, height-pad))\n",
        "# img_mod = img_crop.resize((650,650))\n",
        "\n",
        "# img_mod.size"
      ],
      "id": "DGjLDdxEdnsM",
      "execution_count": null,
      "outputs": []
    },
    {
      "cell_type": "code",
      "metadata": {
        "id": "6mmafiLbdyAP"
      },
      "source": [
        "# # plot modified img\n",
        "# plt.subplots(figsize=(2,2))\n",
        "# plt.imshow(img_mod)"
      ],
      "id": "6mmafiLbdyAP",
      "execution_count": null,
      "outputs": []
    },
    {
      "cell_type": "markdown",
      "metadata": {
        "id": "s26VazgziSj3"
      },
      "source": [
        "### Load data"
      ],
      "id": "s26VazgziSj3"
    },
    {
      "cell_type": "code",
      "metadata": {
        "id": "19cb9b63"
      },
      "source": [
        "train_ds_raw = os.listdir('C:/Users/joann/OneDrive/Desktop/ML_CA/train/')\n",
        "test_ds_raw = os.listdir('C:/Users/joann/OneDrive/Desktop/ML_CA/test/1/')"
      ],
      "id": "19cb9b63",
      "execution_count": null,
      "outputs": []
    },
    {
      "cell_type": "code",
      "metadata": {
        "colab": {
          "base_uri": "https://localhost:8080/"
        },
        "id": "ifdGO1wLZI36",
        "outputId": "e360e529-d60d-4690-8e59-755e286d4ea8"
      },
      "source": [
        "train_ds_raw"
      ],
      "id": "ifdGO1wLZI36",
      "execution_count": null,
      "outputs": [
        {
          "data": {
            "text/plain": [
              "['apple_1.jpg',\n",
              " 'apple_1.xml',\n",
              " 'apple_10.jpg',\n",
              " 'apple_10.xml',\n",
              " 'apple_11.jpg',\n",
              " 'apple_11.xml',\n",
              " 'apple_12.jpg',\n",
              " 'apple_12.xml',\n",
              " 'apple_13.jpg',\n",
              " 'apple_13.xml',\n",
              " 'apple_14.jpg',\n",
              " 'apple_14.xml',\n",
              " 'apple_15.jpg',\n",
              " 'apple_15.xml',\n",
              " 'apple_16.jpg',\n",
              " 'apple_16.xml',\n",
              " 'apple_17.jpg',\n",
              " 'apple_17.xml',\n",
              " 'apple_18.jpg',\n",
              " 'apple_18.xml',\n",
              " 'apple_19.jpg',\n",
              " 'apple_19.xml',\n",
              " 'apple_2.jpg',\n",
              " 'apple_2.xml',\n",
              " 'apple_20.jpg',\n",
              " 'apple_20.xml',\n",
              " 'apple_21.jpg',\n",
              " 'apple_21.xml',\n",
              " 'apple_22.jpg',\n",
              " 'apple_22.xml',\n",
              " 'apple_23.jpg',\n",
              " 'apple_23.xml',\n",
              " 'apple_24.jpg',\n",
              " 'apple_24.xml',\n",
              " 'apple_25.jpg',\n",
              " 'apple_25.xml',\n",
              " 'apple_26.jpg',\n",
              " 'apple_26.xml',\n",
              " 'apple_27.jpg',\n",
              " 'apple_27.xml',\n",
              " 'apple_28.jpg',\n",
              " 'apple_28.xml',\n",
              " 'apple_29.jpg',\n",
              " 'apple_29.xml',\n",
              " 'apple_3.jpg',\n",
              " 'apple_3.xml',\n",
              " 'apple_30.jpg',\n",
              " 'apple_30.xml',\n",
              " 'apple_31.jpg',\n",
              " 'apple_31.xml',\n",
              " 'apple_32.jpg',\n",
              " 'apple_32.xml',\n",
              " 'apple_33.jpg',\n",
              " 'apple_33.xml',\n",
              " 'apple_35.jpg',\n",
              " 'apple_35.xml',\n",
              " 'apple_36.jpg',\n",
              " 'apple_36.xml',\n",
              " 'apple_37.jpg',\n",
              " 'apple_37.xml',\n",
              " 'apple_38.jpg',\n",
              " 'apple_38.xml',\n",
              " 'apple_39.jpg',\n",
              " 'apple_39.xml',\n",
              " 'apple_4.jpg',\n",
              " 'apple_4.xml',\n",
              " 'apple_40.jpg',\n",
              " 'apple_40.xml',\n",
              " 'apple_41.jpg',\n",
              " 'apple_41.xml',\n",
              " 'apple_42.jpg',\n",
              " 'apple_42.xml',\n",
              " 'apple_43.jpg',\n",
              " 'apple_43.xml',\n",
              " 'apple_44.jpg',\n",
              " 'apple_44.xml',\n",
              " 'apple_45.jpg',\n",
              " 'apple_45.xml',\n",
              " 'apple_46.jpg',\n",
              " 'apple_46.xml',\n",
              " 'apple_47.jpg',\n",
              " 'apple_47.xml',\n",
              " 'apple_48.jpg',\n",
              " 'apple_48.xml',\n",
              " 'apple_49.jpg',\n",
              " 'apple_49.xml',\n",
              " 'apple_5.jpg',\n",
              " 'apple_5.xml',\n",
              " 'apple_50.jpg',\n",
              " 'apple_50.xml',\n",
              " 'apple_51.jpg',\n",
              " 'apple_51.xml',\n",
              " 'apple_52.jpg',\n",
              " 'apple_52.xml',\n",
              " 'apple_53.jpg',\n",
              " 'apple_53.xml',\n",
              " 'apple_54.jpg',\n",
              " 'apple_54.xml',\n",
              " 'apple_55.jpg',\n",
              " 'apple_55.xml',\n",
              " 'apple_56.jpg',\n",
              " 'apple_56.xml',\n",
              " 'apple_57.jpg',\n",
              " 'apple_57.xml',\n",
              " 'apple_58.jpg',\n",
              " 'apple_58.xml',\n",
              " 'apple_59.jpg',\n",
              " 'apple_59.xml',\n",
              " 'apple_6.jpg',\n",
              " 'apple_6.xml',\n",
              " 'apple_60.jpg',\n",
              " 'apple_60.xml',\n",
              " 'apple_61.jpg',\n",
              " 'apple_61.xml',\n",
              " 'apple_62.jpg',\n",
              " 'apple_62.xml',\n",
              " 'apple_63.jpg',\n",
              " 'apple_63.xml',\n",
              " 'apple_64.jpg',\n",
              " 'apple_64.xml',\n",
              " 'apple_65.jpg',\n",
              " 'apple_65.xml',\n",
              " 'apple_66.jpg',\n",
              " 'apple_66.xml',\n",
              " 'apple_67.jpg',\n",
              " 'apple_67.xml',\n",
              " 'apple_68.jpg',\n",
              " 'apple_68.xml',\n",
              " 'apple_69.jpg',\n",
              " 'apple_69.xml',\n",
              " 'apple_7.jpg',\n",
              " 'apple_7.xml',\n",
              " 'apple_70.jpg',\n",
              " 'apple_70.xml',\n",
              " 'apple_71.jpg',\n",
              " 'apple_71.xml',\n",
              " 'apple_72.jpg',\n",
              " 'apple_72.xml',\n",
              " 'apple_73.jpg',\n",
              " 'apple_73.xml',\n",
              " 'apple_74.jpg',\n",
              " 'apple_74.xml',\n",
              " 'apple_75.jpg',\n",
              " 'apple_75.xml',\n",
              " 'apple_76.jpg',\n",
              " 'apple_76.xml',\n",
              " 'apple_8.jpg',\n",
              " 'apple_8.xml',\n",
              " 'apple_9.jpg',\n",
              " 'apple_9.xml',\n",
              " 'banana_1.jpg',\n",
              " 'banana_1.xml',\n",
              " 'banana_10.jpg',\n",
              " 'banana_10.xml',\n",
              " 'banana_11.jpg',\n",
              " 'banana_11.xml',\n",
              " 'banana_12.jpg',\n",
              " 'banana_12.xml',\n",
              " 'banana_13.jpg',\n",
              " 'banana_13.xml',\n",
              " 'banana_14.jpg',\n",
              " 'banana_14.xml',\n",
              " 'banana_16.jpg',\n",
              " 'banana_16.xml',\n",
              " 'banana_17.jpg',\n",
              " 'banana_17.xml',\n",
              " 'banana_2.jpg',\n",
              " 'banana_2.xml',\n",
              " 'banana_20.jpg',\n",
              " 'banana_20.xml',\n",
              " 'banana_21.jpg',\n",
              " 'banana_21.xml',\n",
              " 'banana_22.jpg',\n",
              " 'banana_22.xml',\n",
              " 'banana_23.jpg',\n",
              " 'banana_23.xml',\n",
              " 'banana_24.jpg',\n",
              " 'banana_24.xml',\n",
              " 'banana_25.jpg',\n",
              " 'banana_25.xml',\n",
              " 'banana_26.jpg',\n",
              " 'banana_26.xml',\n",
              " 'banana_27.jpg',\n",
              " 'banana_27.xml',\n",
              " 'banana_28.jpg',\n",
              " 'banana_28.xml',\n",
              " 'banana_29.jpg',\n",
              " 'banana_29.xml',\n",
              " 'banana_3.jpg',\n",
              " 'banana_3.xml',\n",
              " 'banana_30.jpg',\n",
              " 'banana_30.xml',\n",
              " 'banana_31.jpg',\n",
              " 'banana_31.xml',\n",
              " 'banana_32.jpg',\n",
              " 'banana_32.xml',\n",
              " 'banana_33.jpg',\n",
              " 'banana_33.xml',\n",
              " 'banana_34.jpg',\n",
              " 'banana_34.xml',\n",
              " 'banana_35.jpg',\n",
              " 'banana_35.xml',\n",
              " 'banana_36.jpg',\n",
              " 'banana_36.xml',\n",
              " 'banana_37.jpg',\n",
              " 'banana_37.xml',\n",
              " 'banana_38.jpg',\n",
              " 'banana_38.xml',\n",
              " 'banana_39.jpg',\n",
              " 'banana_39.xml',\n",
              " 'banana_4.jpg',\n",
              " 'banana_4.xml',\n",
              " 'banana_40.jpg',\n",
              " 'banana_40.xml',\n",
              " 'banana_41.jpg',\n",
              " 'banana_41.xml',\n",
              " 'banana_42.jpg',\n",
              " 'banana_42.xml',\n",
              " 'banana_43.jpg',\n",
              " 'banana_43.xml',\n",
              " 'banana_44.jpg',\n",
              " 'banana_44.xml',\n",
              " 'banana_45.jpg',\n",
              " 'banana_45.xml',\n",
              " 'banana_46.jpg',\n",
              " 'banana_46.xml',\n",
              " 'banana_47.jpg',\n",
              " 'banana_47.xml',\n",
              " 'banana_48.jpg',\n",
              " 'banana_48.xml',\n",
              " 'banana_49.jpg',\n",
              " 'banana_49.xml',\n",
              " 'banana_5.jpg',\n",
              " 'banana_5.xml',\n",
              " 'banana_50.jpg',\n",
              " 'banana_50.xml',\n",
              " 'banana_51.jpg',\n",
              " 'banana_51.xml',\n",
              " 'banana_52.jpg',\n",
              " 'banana_52.xml',\n",
              " 'banana_53.jpg',\n",
              " 'banana_53.xml',\n",
              " 'banana_54.jpg',\n",
              " 'banana_54.xml',\n",
              " 'banana_55.jpg',\n",
              " 'banana_55.xml',\n",
              " 'banana_56.jpg',\n",
              " 'banana_56.xml',\n",
              " 'banana_57.jpg',\n",
              " 'banana_57.xml',\n",
              " 'banana_58.jpg',\n",
              " 'banana_58.xml',\n",
              " 'banana_59.jpg',\n",
              " 'banana_59.xml',\n",
              " 'banana_6.jpg',\n",
              " 'banana_6.xml',\n",
              " 'banana_60.jpg',\n",
              " 'banana_60.xml',\n",
              " 'banana_61.jpg',\n",
              " 'banana_61.xml',\n",
              " 'banana_62.jpg',\n",
              " 'banana_62.xml',\n",
              " 'banana_63.jpg',\n",
              " 'banana_63.xml',\n",
              " 'banana_64.jpg',\n",
              " 'banana_64.xml',\n",
              " 'banana_65.jpg',\n",
              " 'banana_65.xml',\n",
              " 'banana_66.jpg',\n",
              " 'banana_66.xml',\n",
              " 'banana_67.jpg',\n",
              " 'banana_67.xml',\n",
              " 'banana_68.jpg',\n",
              " 'banana_68.xml',\n",
              " 'banana_69.jpg',\n",
              " 'banana_69.xml',\n",
              " 'banana_7.jpg',\n",
              " 'banana_7.xml',\n",
              " 'banana_70.jpg',\n",
              " 'banana_70.xml',\n",
              " 'banana_71.jpg',\n",
              " 'banana_71.xml',\n",
              " 'banana_72.jpg',\n",
              " 'banana_72.xml',\n",
              " 'banana_73.jpg',\n",
              " 'banana_73.xml',\n",
              " 'banana_74.jpg',\n",
              " 'banana_74.xml',\n",
              " 'banana_75.jpg',\n",
              " 'banana_75.xml',\n",
              " 'banana_76.jpg',\n",
              " 'banana_76.xml',\n",
              " 'banana_8.jpg',\n",
              " 'banana_8.xml',\n",
              " 'banana_9.jpg',\n",
              " 'banana_9.xml',\n",
              " 'mixed_1.jpg',\n",
              " 'mixed_1.xml',\n",
              " 'mixed_10.jpg',\n",
              " 'mixed_10.xml',\n",
              " 'mixed_11.jpg',\n",
              " 'mixed_11.xml',\n",
              " 'mixed_12.jpg',\n",
              " 'mixed_12.xml',\n",
              " 'mixed_13.jpg',\n",
              " 'mixed_13.xml',\n",
              " 'mixed_14.jpg',\n",
              " 'mixed_14.xml',\n",
              " 'mixed_15.jpg',\n",
              " 'mixed_15.xml',\n",
              " 'mixed_16.jpg',\n",
              " 'mixed_16.xml',\n",
              " 'mixed_17.jpg',\n",
              " 'mixed_17.xml',\n",
              " 'mixed_18.jpg',\n",
              " 'mixed_18.xml',\n",
              " 'mixed_19.jpg',\n",
              " 'mixed_19.xml',\n",
              " 'mixed_2.jpg',\n",
              " 'mixed_2.xml',\n",
              " 'mixed_20.jpg',\n",
              " 'mixed_20.xml',\n",
              " 'mixed_3.jpg',\n",
              " 'mixed_3.xml',\n",
              " 'mixed_4.jpg',\n",
              " 'mixed_4.xml',\n",
              " 'mixed_5.jpg',\n",
              " 'mixed_5.xml',\n",
              " 'mixed_6.jpg',\n",
              " 'mixed_6.xml',\n",
              " 'mixed_7.jpg',\n",
              " 'mixed_7.xml',\n",
              " 'mixed_8.jpg',\n",
              " 'mixed_8.xml',\n",
              " 'mixed_9.jpg',\n",
              " 'mixed_9.xml',\n",
              " 'orange_1.jpg',\n",
              " 'orange_1.xml',\n",
              " 'orange_10.jpg',\n",
              " 'orange_10.xml',\n",
              " 'orange_11.jpg',\n",
              " 'orange_11.xml',\n",
              " 'orange_12.jpg',\n",
              " 'orange_12.xml',\n",
              " 'orange_13.jpg',\n",
              " 'orange_13.xml',\n",
              " 'orange_14.jpg',\n",
              " 'orange_14.xml',\n",
              " 'orange_15.jpg',\n",
              " 'orange_15.xml',\n",
              " 'orange_16.jpg',\n",
              " 'orange_16.xml',\n",
              " 'orange_17.jpg',\n",
              " 'orange_17.xml',\n",
              " 'orange_18.jpg',\n",
              " 'orange_18.xml',\n",
              " 'orange_19.jpg',\n",
              " 'orange_19.xml',\n",
              " 'orange_2.jpg',\n",
              " 'orange_2.xml',\n",
              " 'orange_20.jpg',\n",
              " 'orange_20.xml',\n",
              " 'orange_21.jpg',\n",
              " 'orange_21.xml',\n",
              " 'orange_22.jpg',\n",
              " 'orange_22.xml',\n",
              " 'orange_23.jpg',\n",
              " 'orange_23.xml',\n",
              " 'orange_24.jpg',\n",
              " 'orange_24.xml',\n",
              " 'orange_25.jpg',\n",
              " 'orange_25.xml',\n",
              " 'orange_26.jpg',\n",
              " 'orange_26.xml',\n",
              " 'orange_27.jpg',\n",
              " 'orange_27.xml',\n",
              " 'orange_28.jpg',\n",
              " 'orange_28.xml',\n",
              " 'orange_29.jpg',\n",
              " 'orange_29.xml',\n",
              " 'orange_3.jpg',\n",
              " 'orange_3.xml',\n",
              " 'orange_30.jpg',\n",
              " 'orange_30.xml',\n",
              " 'orange_31.jpg',\n",
              " 'orange_31.xml',\n",
              " 'orange_32.jpg',\n",
              " 'orange_32.xml',\n",
              " 'orange_33.jpg',\n",
              " 'orange_33.xml',\n",
              " 'orange_34.jpg',\n",
              " 'orange_34.xml',\n",
              " 'orange_35.jpg',\n",
              " 'orange_35.xml',\n",
              " 'orange_36.jpg',\n",
              " 'orange_36.xml',\n",
              " 'orange_37.jpg',\n",
              " 'orange_37.xml',\n",
              " 'orange_38.jpg',\n",
              " 'orange_38.xml',\n",
              " 'orange_4.jpg',\n",
              " 'orange_4.xml',\n",
              " 'orange_40.jpg',\n",
              " 'orange_40.xml',\n",
              " 'orange_41.jpg',\n",
              " 'orange_41.xml',\n",
              " 'orange_42.jpg',\n",
              " 'orange_42.xml',\n",
              " 'orange_43.jpg',\n",
              " 'orange_43.xml',\n",
              " 'orange_44.jpg',\n",
              " 'orange_44.xml',\n",
              " 'orange_46.jpg',\n",
              " 'orange_46.xml',\n",
              " 'orange_47.jpg',\n",
              " 'orange_47.xml',\n",
              " 'orange_48.jpg',\n",
              " 'orange_48.xml',\n",
              " 'orange_49.jpg',\n",
              " 'orange_49.xml',\n",
              " 'orange_5.jpg',\n",
              " 'orange_5.xml',\n",
              " 'orange_50.jpg',\n",
              " 'orange_50.xml',\n",
              " 'orange_51.jpg',\n",
              " 'orange_51.xml',\n",
              " 'orange_52.jpg',\n",
              " 'orange_52.xml',\n",
              " 'orange_53.jpg',\n",
              " 'orange_53.xml',\n",
              " 'orange_54.jpg',\n",
              " 'orange_54.xml',\n",
              " 'orange_55.jpg',\n",
              " 'orange_55.xml',\n",
              " 'orange_56.jpg',\n",
              " 'orange_56.xml',\n",
              " 'orange_57.jpg',\n",
              " 'orange_57.xml',\n",
              " 'orange_58.jpg',\n",
              " 'orange_58.xml',\n",
              " 'orange_59.jpg',\n",
              " 'orange_59.xml',\n",
              " 'orange_6.jpg',\n",
              " 'orange_6.xml',\n",
              " 'orange_60.jpg',\n",
              " 'orange_60.xml',\n",
              " 'orange_61.jpg',\n",
              " 'orange_61.xml',\n",
              " 'orange_62.jpg',\n",
              " 'orange_62.xml',\n",
              " 'orange_63.jpg',\n",
              " 'orange_63.xml',\n",
              " 'orange_64.jpg',\n",
              " 'orange_64.xml',\n",
              " 'orange_67.jpg',\n",
              " 'orange_67.xml',\n",
              " 'orange_68.jpg',\n",
              " 'orange_68.xml',\n",
              " 'orange_69.jpg',\n",
              " 'orange_69.xml',\n",
              " 'orange_7.jpg',\n",
              " 'orange_7.xml',\n",
              " 'orange_70.jpg',\n",
              " 'orange_70.xml',\n",
              " 'orange_71.jpg',\n",
              " 'orange_71.xml',\n",
              " 'orange_72.jpg',\n",
              " 'orange_72.xml',\n",
              " 'orange_73.jpg',\n",
              " 'orange_73.xml',\n",
              " 'orange_74.jpg',\n",
              " 'orange_74.xml',\n",
              " 'orange_75.jpg',\n",
              " 'orange_75.xml',\n",
              " 'orange_76.jpg',\n",
              " 'orange_76.xml',\n",
              " 'orange_8.jpg',\n",
              " 'orange_8.xml',\n",
              " 'orange_9.jpg',\n",
              " 'orange_9.xml']"
            ]
          },
          "execution_count": 9,
          "metadata": {},
          "output_type": "execute_result"
        }
      ]
    },
    {
      "cell_type": "code",
      "metadata": {
        "colab": {
          "base_uri": "https://localhost:8080/"
        },
        "id": "r3ys7pFNvv1d",
        "outputId": "da1f5c67-2870-4526-c7e4-0b702f395602"
      },
      "source": [
        "type(train_ds_raw), len(train_ds_raw)"
      ],
      "id": "r3ys7pFNvv1d",
      "execution_count": null,
      "outputs": [
        {
          "data": {
            "text/plain": [
              "(list, 480)"
            ]
          },
          "execution_count": 10,
          "metadata": {},
          "output_type": "execute_result"
        }
      ]
    },
    {
      "cell_type": "markdown",
      "metadata": {
        "id": "ltlkR0Avwm2r"
      },
      "source": [
        "### Create X_train"
      ],
      "id": "ltlkR0Avwm2r"
    },
    {
      "cell_type": "code",
      "metadata": {
        "id": "G_aVwgiMvSBn"
      },
      "source": [
        "filenames = []\n",
        "for label in train_ds_raw:\n",
        "    if label[-3:] == 'xml': \n",
        "        continue              # only take jpeg\n",
        "    else:\n",
        "        filenames.append(train_img_path + label)"
      ],
      "id": "G_aVwgiMvSBn",
      "execution_count": null,
      "outputs": []
    },
    {
      "cell_type": "code",
      "metadata": {
        "colab": {
          "base_uri": "https://localhost:8080/"
        },
        "id": "jwJueec5fL3Y",
        "outputId": "eadf2e57-eace-4ff4-94e6-2a3597ec7932"
      },
      "source": [
        "# filenames\n",
        "len(filenames)"
      ],
      "id": "jwJueec5fL3Y",
      "execution_count": null,
      "outputs": [
        {
          "data": {
            "text/plain": [
              "240"
            ]
          },
          "execution_count": 12,
          "metadata": {},
          "output_type": "execute_result"
        }
      ]
    },
    {
      "cell_type": "markdown",
      "metadata": {
        "id": "FiE5sRB-wvBX"
      },
      "source": [
        "### Create y_train label"
      ],
      "id": "FiE5sRB-wvBX"
    },
    {
      "cell_type": "code",
      "metadata": {
        "id": "e91ehIK9vLku"
      },
      "source": [
        "y_train_label = []\n",
        "\n",
        "for label in train_ds_raw:\n",
        "    if label[-3:] == 'xml': \n",
        "        continue              #if xml, ignore\n",
        "    arr = label.split('_')    # else, str manipulation \n",
        "    y_train_label.append(arr[0])\n"
      ],
      "id": "e91ehIK9vLku",
      "execution_count": null,
      "outputs": []
    },
    {
      "cell_type": "code",
      "metadata": {
        "colab": {
          "base_uri": "https://localhost:8080/"
        },
        "id": "57042e0f",
        "outputId": "155ad09d-c275-40f8-e19b-7d6ce1607b01"
      },
      "source": [
        "#y_train_label\n",
        "len(filenames), len(y_train_label)"
      ],
      "id": "57042e0f",
      "execution_count": null,
      "outputs": [
        {
          "data": {
            "text/plain": [
              "(240, 240)"
            ]
          },
          "execution_count": 14,
          "metadata": {},
          "output_type": "execute_result"
        }
      ]
    },
    {
      "cell_type": "markdown",
      "metadata": {
        "id": "BLh0xe_qxTy_"
      },
      "source": [
        "### Create df to visualize datasets"
      ],
      "id": "BLh0xe_qxTy_"
    },
    {
      "cell_type": "code",
      "metadata": {
        "id": "vg9zB5CvxYpU"
      },
      "source": [
        "df = pd.DataFrame(columns=['filenames'], data=filenames)"
      ],
      "id": "vg9zB5CvxYpU",
      "execution_count": null,
      "outputs": []
    },
    {
      "cell_type": "code",
      "metadata": {
        "id": "y8hnNB_excjB"
      },
      "source": [
        "df['y_train_label'] = y_train_label"
      ],
      "id": "y8hnNB_excjB",
      "execution_count": null,
      "outputs": []
    },
    {
      "cell_type": "code",
      "metadata": {
        "colab": {
          "base_uri": "https://localhost:8080/"
        },
        "id": "a4rqMNaFxgTs",
        "outputId": "212d2bca-527d-4586-9ce7-dfafc65bd122"
      },
      "source": [
        "df"
      ],
      "id": "a4rqMNaFxgTs",
      "execution_count": null,
      "outputs": [
        {
          "data": {
            "text/html": [
              "<div>\n",
              "<style scoped>\n",
              "    .dataframe tbody tr th:only-of-type {\n",
              "        vertical-align: middle;\n",
              "    }\n",
              "\n",
              "    .dataframe tbody tr th {\n",
              "        vertical-align: top;\n",
              "    }\n",
              "\n",
              "    .dataframe thead th {\n",
              "        text-align: right;\n",
              "    }\n",
              "</style>\n",
              "<table border=\"1\" class=\"dataframe\">\n",
              "  <thead>\n",
              "    <tr style=\"text-align: right;\">\n",
              "      <th></th>\n",
              "      <th>filenames</th>\n",
              "      <th>y_train_label</th>\n",
              "    </tr>\n",
              "  </thead>\n",
              "  <tbody>\n",
              "    <tr>\n",
              "      <th>0</th>\n",
              "      <td>C:/Users/joann/OneDrive/Desktop/ML_CA/train/ap...</td>\n",
              "      <td>apple</td>\n",
              "    </tr>\n",
              "    <tr>\n",
              "      <th>1</th>\n",
              "      <td>C:/Users/joann/OneDrive/Desktop/ML_CA/train/ap...</td>\n",
              "      <td>apple</td>\n",
              "    </tr>\n",
              "    <tr>\n",
              "      <th>2</th>\n",
              "      <td>C:/Users/joann/OneDrive/Desktop/ML_CA/train/ap...</td>\n",
              "      <td>apple</td>\n",
              "    </tr>\n",
              "    <tr>\n",
              "      <th>3</th>\n",
              "      <td>C:/Users/joann/OneDrive/Desktop/ML_CA/train/ap...</td>\n",
              "      <td>apple</td>\n",
              "    </tr>\n",
              "    <tr>\n",
              "      <th>4</th>\n",
              "      <td>C:/Users/joann/OneDrive/Desktop/ML_CA/train/ap...</td>\n",
              "      <td>apple</td>\n",
              "    </tr>\n",
              "    <tr>\n",
              "      <th>...</th>\n",
              "      <td>...</td>\n",
              "      <td>...</td>\n",
              "    </tr>\n",
              "    <tr>\n",
              "      <th>235</th>\n",
              "      <td>C:/Users/joann/OneDrive/Desktop/ML_CA/train/or...</td>\n",
              "      <td>orange</td>\n",
              "    </tr>\n",
              "    <tr>\n",
              "      <th>236</th>\n",
              "      <td>C:/Users/joann/OneDrive/Desktop/ML_CA/train/or...</td>\n",
              "      <td>orange</td>\n",
              "    </tr>\n",
              "    <tr>\n",
              "      <th>237</th>\n",
              "      <td>C:/Users/joann/OneDrive/Desktop/ML_CA/train/or...</td>\n",
              "      <td>orange</td>\n",
              "    </tr>\n",
              "    <tr>\n",
              "      <th>238</th>\n",
              "      <td>C:/Users/joann/OneDrive/Desktop/ML_CA/train/or...</td>\n",
              "      <td>orange</td>\n",
              "    </tr>\n",
              "    <tr>\n",
              "      <th>239</th>\n",
              "      <td>C:/Users/joann/OneDrive/Desktop/ML_CA/train/or...</td>\n",
              "      <td>orange</td>\n",
              "    </tr>\n",
              "  </tbody>\n",
              "</table>\n",
              "<p>240 rows × 2 columns</p>\n",
              "</div>"
            ],
            "text/plain": [
              "                                             filenames y_train_label\n",
              "0    C:/Users/joann/OneDrive/Desktop/ML_CA/train/ap...         apple\n",
              "1    C:/Users/joann/OneDrive/Desktop/ML_CA/train/ap...         apple\n",
              "2    C:/Users/joann/OneDrive/Desktop/ML_CA/train/ap...         apple\n",
              "3    C:/Users/joann/OneDrive/Desktop/ML_CA/train/ap...         apple\n",
              "4    C:/Users/joann/OneDrive/Desktop/ML_CA/train/ap...         apple\n",
              "..                                                 ...           ...\n",
              "235  C:/Users/joann/OneDrive/Desktop/ML_CA/train/or...        orange\n",
              "236  C:/Users/joann/OneDrive/Desktop/ML_CA/train/or...        orange\n",
              "237  C:/Users/joann/OneDrive/Desktop/ML_CA/train/or...        orange\n",
              "238  C:/Users/joann/OneDrive/Desktop/ML_CA/train/or...        orange\n",
              "239  C:/Users/joann/OneDrive/Desktop/ML_CA/train/or...        orange\n",
              "\n",
              "[240 rows x 2 columns]"
            ]
          },
          "execution_count": 17,
          "metadata": {},
          "output_type": "execute_result"
        }
      ]
    },
    {
      "cell_type": "code",
      "metadata": {
        "id": "VuOtqL4kxkmz"
      },
      "source": [
        "# img = cv2.imread(filenames[10], cv2.IMREAD_COLOR)\n",
        "# img.shape"
      ],
      "id": "VuOtqL4kxkmz",
      "execution_count": null,
      "outputs": []
    },
    {
      "cell_type": "markdown",
      "metadata": {
        "id": "oqKIl1wyxzEP"
      },
      "source": [
        "### Plot Histogram to set size of images"
      ],
      "id": "oqKIl1wyxzEP"
    },
    {
      "cell_type": "code",
      "metadata": {
        "id": "f5cf9753"
      },
      "source": [
        "# plot histogram\n",
        "# decide which is the more common size for img\n",
        "# Getting the dimensions of all the image into a list\n",
        "dim1 = []\n",
        "dim2 = []\n",
        "colors = []\n",
        "\n",
        "for img_filename in filenames:\n",
        "    x, y, c = plt.imread(img_filename).shape # height width color\n",
        "    dim1.append(x)\n",
        "    dim2.append(y)\n",
        "    colors.append(c)"
      ],
      "id": "f5cf9753",
      "execution_count": null,
      "outputs": []
    },
    {
      "cell_type": "code",
      "metadata": {
        "id": "fg5YDbf3x-rp"
      },
      "source": [
        "dim1 = np.array(dim1)\n",
        "dim2 = np.array(dim2)\n",
        "colors = np.array(colors)"
      ],
      "id": "fg5YDbf3x-rp",
      "execution_count": null,
      "outputs": []
    },
    {
      "cell_type": "code",
      "metadata": {
        "colab": {
          "base_uri": "https://localhost:8080/"
        },
        "id": "aF8QZ53zyBBI",
        "outputId": "a5e305a5-4630-430e-e4d4-297c4fb73e62"
      },
      "source": [
        "dim1.max(), dim2.max(), colors.mean()"
      ],
      "id": "aF8QZ53zyBBI",
      "execution_count": null,
      "outputs": [
        {
          "data": {
            "text/plain": [
              "(4605, 3160, 3.1083333333333334)"
            ]
          },
          "execution_count": 21,
          "metadata": {},
          "output_type": "execute_result"
        }
      ]
    },
    {
      "cell_type": "code",
      "metadata": {
        "colab": {
          "base_uri": "https://localhost:8080/"
        },
        "id": "ab0615dd",
        "outputId": "bc28e8e1-0d97-4f09-8f34-05ce702ae20a"
      },
      "source": [
        "sns.jointplot(x=dim1, y=dim2);"
      ],
      "id": "ab0615dd",
      "execution_count": null,
      "outputs": [
        {
          "data": {
            "image/png": "[encoded data removed]",
            "text/plain": [
              "<Figure size 432x432 with 3 Axes>"
            ]
          },
          "metadata": {
            "needs_background": "light"
          },
          "output_type": "display_data"
        }
      ]
    },
    {
      "cell_type": "code",
      "metadata": {
        "colab": {
          "base_uri": "https://localhost:8080/"
        },
        "id": "iO5DwUcYyHGa",
        "outputId": "21b07be2-3b9a-4041-fd7e-301058e2fe3e"
      },
      "source": [
        "dim1.mean(), dim2.mean()"
      ],
      "id": "iO5DwUcYyHGa",
      "execution_count": null,
      "outputs": [
        {
          "data": {
            "text/plain": [
              "(633.5083333333333, 789.2166666666667)"
            ]
          },
          "execution_count": 23,
          "metadata": {},
          "output_type": "execute_result"
        }
      ]
    },
    {
      "cell_type": "markdown",
      "metadata": {
        "id": "OtAm3FuiyJQf"
      },
      "source": [
        "resize according to findings:\n",
        "*Taking the mean of the image size, we set the image size to be 650 by 650 by 3 for easier computation*\n",
        "**image_size = (650, 650)**"
      ],
      "id": "OtAm3FuiyJQf"
    },
    {
      "cell_type": "markdown",
      "metadata": {
        "id": "LoXpWs5DzNB4"
      },
      "source": [
        "### Resize images to proper and similar size and create x_train"
      ],
      "id": "LoXpWs5DzNB4"
    },
    {
      "cell_type": "code",
      "metadata": {
        "id": "Yddgi2-KzbYf"
      },
      "source": [
        "# x_train = None\n",
        "\n",
        "# for i in range(len(filenames)):\n",
        "#     img_raw = Image.open(filenames[i])  \n",
        "#     greyscale_img = ImageOps.grayscale(img_raw)\n",
        "#     img_reshaped = greyscale_img.resize((200, 200))   \n",
        "#     if x_train is None:\n",
        "#         x_train = img_reshaped\n",
        "#     else:\n",
        "#         x_train = np.concatenate((x_train, img_reshaped))\n",
        "\n",
        "# x_train = x_train.reshape(-1, 200, 200, 1)\n",
        "# x_train.shape"
      ],
      "id": "Yddgi2-KzbYf",
      "execution_count": null,
      "outputs": []
    },
    {
      "cell_type": "code",
      "metadata": {
        "colab": {
          "base_uri": "https://localhost:8080/"
        },
        "id": "hvY4WiREuixE",
        "outputId": "8945ae14-1be5-4c7c-ee9d-1daa60030636"
      },
      "source": [
        "x_train = None\n",
        "\n",
        "for i in range(len(y_train_label)):\n",
        "    img_raw = cv2.imread(filenames[i], cv2.IMREAD_COLOR)\n",
        "    img_reshaped = cv2.resize(img_raw,(250, 250), cv2.INTER_NEAREST)\n",
        "    img_reshaped = cv2.cvtColor(img_reshaped, cv2.COLOR_BGR2RGB)\n",
        "    if x_train is None:\n",
        "        x_train = img_reshaped\n",
        "    else:\n",
        "        x_train = np.concatenate((x_train, img_reshaped))\n",
        "# Verify data shaped correctly\n",
        "x_train = x_train.reshape(-1, 250, 250, 3)\n",
        "x_train.shape"
      ],
      "id": "hvY4WiREuixE",
      "execution_count": null,
      "outputs": [
        {
          "data": {
            "text/plain": [
              "(240, 250, 250, 3)"
            ]
          },
          "execution_count": 25,
          "metadata": {},
          "output_type": "execute_result"
        }
      ]
    },
    {
      "cell_type": "markdown",
      "metadata": {
        "id": "Fh2Wz05BJxfT"
      },
      "source": [
        "Verify that data is shaped correctly by randomly retrieving an individual data to view"
      ],
      "id": "Fh2Wz05BJxfT"
    },
    {
      "cell_type": "code",
      "metadata": {
        "id": "9vCcC-CSKCvv"
      },
      "source": [
        "# # img2 = Image.fromarray(x_train[1])\n",
        "# # --> bug in scipy so shape can throw error\n",
        "# img2 = np.array(Image.fromarray((x_train[1] * 255).astype(np.uint8)).convert('RGB'))\n",
        "# plt.subplots(figsize=(2,2))\n",
        "# plt.imshow(img2)"
      ],
      "id": "9vCcC-CSKCvv",
      "execution_count": null,
      "outputs": []
    },
    {
      "cell_type": "markdown",
      "metadata": {
        "id": "K61EcIxjH8Mc"
      },
      "source": [
        "**Determine max value of each cell and min before normalizing**"
      ],
      "id": "K61EcIxjH8Mc"
    },
    {
      "cell_type": "code",
      "metadata": {
        "colab": {
          "base_uri": "https://localhost:8080/"
        },
        "id": "336393cd",
        "outputId": "984af783-79b2-4b73-fd98-3a1af903cf0f"
      },
      "source": [
        "x_train.max(), x_train.min()"
      ],
      "id": "336393cd",
      "execution_count": null,
      "outputs": [
        {
          "data": {
            "text/plain": [
              "(255, 0)"
            ]
          },
          "execution_count": 27,
          "metadata": {},
          "output_type": "execute_result"
        }
      ]
    },
    {
      "cell_type": "markdown",
      "metadata": {
        "id": "s1Iwp-eAIIDk"
      },
      "source": [
        "**Normalize dataset**"
      ],
      "id": "s1Iwp-eAIIDk"
    },
    {
      "cell_type": "code",
      "metadata": {
        "colab": {
          "base_uri": "https://localhost:8080/"
        },
        "id": "Y15ugtfnILRB",
        "outputId": "97c18d58-c55f-46cb-b990-926bf3493767"
      },
      "source": [
        "x_train = x_train/255\n",
        "print(x_train.shape)"
      ],
      "id": "Y15ugtfnILRB",
      "execution_count": null,
      "outputs": [
        {
          "name": "stdout",
          "output_type": "stream",
          "text": [
            "(240, 250, 250, 3)\n"
          ]
        }
      ]
    },
    {
      "cell_type": "markdown",
      "metadata": {
        "id": "64a1cb65"
      },
      "source": [
        "One-Hot Encoding data using keras to_categorical"
      ],
      "id": "64a1cb65"
    },
    {
      "cell_type": "code",
      "metadata": {
        "colab": {
          "base_uri": "https://localhost:8080/"
        },
        "id": "t3Z2Ti8TwsuQ",
        "outputId": "668ad5b3-f0ba-4788-e528-e62de2d9db48"
      },
      "source": [
        "#labels in str\n",
        "cat = np.unique(y_train_label)\n",
        "cat"
      ],
      "id": "t3Z2Ti8TwsuQ",
      "execution_count": null,
      "outputs": [
        {
          "data": {
            "text/plain": [
              "array(['apple', 'banana', 'mixed', 'orange'], dtype='<U6')"
            ]
          },
          "execution_count": 29,
          "metadata": {},
          "output_type": "execute_result"
        }
      ]
    },
    {
      "cell_type": "code",
      "metadata": {
        "colab": {
          "base_uri": "https://localhost:8080/"
        },
        "id": "3Yjzg3B6Ip29",
        "outputId": "3c67a775-7586-4851-8dca-74f5ff692188"
      },
      "source": [
        "n_labels = len(cat)\n",
        "n_labels"
      ],
      "id": "3Yjzg3B6Ip29",
      "execution_count": null,
      "outputs": [
        {
          "data": {
            "text/plain": [
              "4"
            ]
          },
          "execution_count": 30,
          "metadata": {},
          "output_type": "execute_result"
        }
      ]
    },
    {
      "cell_type": "code",
      "metadata": {
        "colab": {
          "base_uri": "https://localhost:8080/"
        },
        "id": "u2raB5SCod-j",
        "outputId": "23cea03c-07b0-4a53-c583-16cc23c99bcd"
      },
      "source": [
        "from sklearn.preprocessing import LabelEncoder\n",
        "import pandas as pd\n",
        "\n",
        "#instantiate one hot encoding\n",
        "encoder = LabelEncoder()\n",
        "#fit\n",
        "encoder.fit(y_train_label)\n",
        "#transform\n",
        "data = encoder.transform(y_train_label)\n",
        "\n",
        "y_train = tf.keras.utils.to_categorical(data)\n",
        "print(y_train) "
      ],
      "id": "u2raB5SCod-j",
      "execution_count": null,
      "outputs": [
        {
          "name": "stdout",
          "output_type": "stream",
          "text": [
            "[[1. 0. 0. 0.]\n",
            " [1. 0. 0. 0.]\n",
            " [1. 0. 0. 0.]\n",
            " [1. 0. 0. 0.]\n",
            " [1. 0. 0. 0.]\n",
            " [1. 0. 0. 0.]\n",
            " [1. 0. 0. 0.]\n",
            " [1. 0. 0. 0.]\n",
            " [1. 0. 0. 0.]\n",
            " [1. 0. 0. 0.]\n",
            " [1. 0. 0. 0.]\n",
            " [1. 0. 0. 0.]\n",
            " [1. 0. 0. 0.]\n",
            " [1. 0. 0. 0.]\n",
            " [1. 0. 0. 0.]\n",
            " [1. 0. 0. 0.]\n",
            " [1. 0. 0. 0.]\n",
            " [1. 0. 0. 0.]\n",
            " [1. 0. 0. 0.]\n",
            " [1. 0. 0. 0.]\n",
            " [1. 0. 0. 0.]\n",
            " [1. 0. 0. 0.]\n",
            " [1. 0. 0. 0.]\n",
            " [1. 0. 0. 0.]\n",
            " [1. 0. 0. 0.]\n",
            " [1. 0. 0. 0.]\n",
            " [1. 0. 0. 0.]\n",
            " [1. 0. 0. 0.]\n",
            " [1. 0. 0. 0.]\n",
            " [1. 0. 0. 0.]\n",
            " [1. 0. 0. 0.]\n",
            " [1. 0. 0. 0.]\n",
            " [1. 0. 0. 0.]\n",
            " [1. 0. 0. 0.]\n",
            " [1. 0. 0. 0.]\n",
            " [1. 0. 0. 0.]\n",
            " [1. 0. 0. 0.]\n",
            " [1. 0. 0. 0.]\n",
            " [1. 0. 0. 0.]\n",
            " [1. 0. 0. 0.]\n",
            " [1. 0. 0. 0.]\n",
            " [1. 0. 0. 0.]\n",
            " [1. 0. 0. 0.]\n",
            " [1. 0. 0. 0.]\n",
            " [1. 0. 0. 0.]\n",
            " [1. 0. 0. 0.]\n",
            " [1. 0. 0. 0.]\n",
            " [1. 0. 0. 0.]\n",
            " [1. 0. 0. 0.]\n",
            " [1. 0. 0. 0.]\n",
            " [1. 0. 0. 0.]\n",
            " [1. 0. 0. 0.]\n",
            " [1. 0. 0. 0.]\n",
            " [1. 0. 0. 0.]\n",
            " [1. 0. 0. 0.]\n",
            " [1. 0. 0. 0.]\n",
            " [1. 0. 0. 0.]\n",
            " [1. 0. 0. 0.]\n",
            " [1. 0. 0. 0.]\n",
            " [1. 0. 0. 0.]\n",
            " [1. 0. 0. 0.]\n",
            " [1. 0. 0. 0.]\n",
            " [1. 0. 0. 0.]\n",
            " [1. 0. 0. 0.]\n",
            " [1. 0. 0. 0.]\n",
            " [1. 0. 0. 0.]\n",
            " [1. 0. 0. 0.]\n",
            " [1. 0. 0. 0.]\n",
            " [1. 0. 0. 0.]\n",
            " [1. 0. 0. 0.]\n",
            " [1. 0. 0. 0.]\n",
            " [1. 0. 0. 0.]\n",
            " [1. 0. 0. 0.]\n",
            " [1. 0. 0. 0.]\n",
            " [1. 0. 0. 0.]\n",
            " [0. 1. 0. 0.]\n",
            " [0. 1. 0. 0.]\n",
            " [0. 1. 0. 0.]\n",
            " [0. 1. 0. 0.]\n",
            " [0. 1. 0. 0.]\n",
            " [0. 1. 0. 0.]\n",
            " [0. 1. 0. 0.]\n",
            " [0. 1. 0. 0.]\n",
            " [0. 1. 0. 0.]\n",
            " [0. 1. 0. 0.]\n",
            " [0. 1. 0. 0.]\n",
            " [0. 1. 0. 0.]\n",
            " [0. 1. 0. 0.]\n",
            " [0. 1. 0. 0.]\n",
            " [0. 1. 0. 0.]\n",
            " [0. 1. 0. 0.]\n",
            " [0. 1. 0. 0.]\n",
            " [0. 1. 0. 0.]\n",
            " [0. 1. 0. 0.]\n",
            " [0. 1. 0. 0.]\n",
            " [0. 1. 0. 0.]\n",
            " [0. 1. 0. 0.]\n",
            " [0. 1. 0. 0.]\n",
            " [0. 1. 0. 0.]\n",
            " [0. 1. 0. 0.]\n",
            " [0. 1. 0. 0.]\n",
            " [0. 1. 0. 0.]\n",
            " [0. 1. 0. 0.]\n",
            " [0. 1. 0. 0.]\n",
            " [0. 1. 0. 0.]\n",
            " [0. 1. 0. 0.]\n",
            " [0. 1. 0. 0.]\n",
            " [0. 1. 0. 0.]\n",
            " [0. 1. 0. 0.]\n",
            " [0. 1. 0. 0.]\n",
            " [0. 1. 0. 0.]\n",
            " [0. 1. 0. 0.]\n",
            " [0. 1. 0. 0.]\n",
            " [0. 1. 0. 0.]\n",
            " [0. 1. 0. 0.]\n",
            " [0. 1. 0. 0.]\n",
            " [0. 1. 0. 0.]\n",
            " [0. 1. 0. 0.]\n",
            " [0. 1. 0. 0.]\n",
            " [0. 1. 0. 0.]\n",
            " [0. 1. 0. 0.]\n",
            " [0. 1. 0. 0.]\n",
            " [0. 1. 0. 0.]\n",
            " [0. 1. 0. 0.]\n",
            " [0. 1. 0. 0.]\n",
            " [0. 1. 0. 0.]\n",
            " [0. 1. 0. 0.]\n",
            " [0. 1. 0. 0.]\n",
            " [0. 1. 0. 0.]\n",
            " [0. 1. 0. 0.]\n",
            " [0. 1. 0. 0.]\n",
            " [0. 1. 0. 0.]\n",
            " [0. 1. 0. 0.]\n",
            " [0. 1. 0. 0.]\n",
            " [0. 1. 0. 0.]\n",
            " [0. 1. 0. 0.]\n",
            " [0. 1. 0. 0.]\n",
            " [0. 1. 0. 0.]\n",
            " [0. 1. 0. 0.]\n",
            " [0. 1. 0. 0.]\n",
            " [0. 1. 0. 0.]\n",
            " [0. 1. 0. 0.]\n",
            " [0. 1. 0. 0.]\n",
            " [0. 1. 0. 0.]\n",
            " [0. 1. 0. 0.]\n",
            " [0. 1. 0. 0.]\n",
            " [0. 1. 0. 0.]\n",
            " [0. 1. 0. 0.]\n",
            " [0. 0. 1. 0.]\n",
            " [0. 0. 1. 0.]\n",
            " [0. 0. 1. 0.]\n",
            " [0. 0. 1. 0.]\n",
            " [0. 0. 1. 0.]\n",
            " [0. 0. 1. 0.]\n",
            " [0. 0. 1. 0.]\n",
            " [0. 0. 1. 0.]\n",
            " [0. 0. 1. 0.]\n",
            " [0. 0. 1. 0.]\n",
            " [0. 0. 1. 0.]\n",
            " [0. 0. 1. 0.]\n",
            " [0. 0. 1. 0.]\n",
            " [0. 0. 1. 0.]\n",
            " [0. 0. 1. 0.]\n",
            " [0. 0. 1. 0.]\n",
            " [0. 0. 1. 0.]\n",
            " [0. 0. 1. 0.]\n",
            " [0. 0. 1. 0.]\n",
            " [0. 0. 1. 0.]\n",
            " [0. 0. 0. 1.]\n",
            " [0. 0. 0. 1.]\n",
            " [0. 0. 0. 1.]\n",
            " [0. 0. 0. 1.]\n",
            " [0. 0. 0. 1.]\n",
            " [0. 0. 0. 1.]\n",
            " [0. 0. 0. 1.]\n",
            " [0. 0. 0. 1.]\n",
            " [0. 0. 0. 1.]\n",
            " [0. 0. 0. 1.]\n",
            " [0. 0. 0. 1.]\n",
            " [0. 0. 0. 1.]\n",
            " [0. 0. 0. 1.]\n",
            " [0. 0. 0. 1.]\n",
            " [0. 0. 0. 1.]\n",
            " [0. 0. 0. 1.]\n",
            " [0. 0. 0. 1.]\n",
            " [0. 0. 0. 1.]\n",
            " [0. 0. 0. 1.]\n",
            " [0. 0. 0. 1.]\n",
            " [0. 0. 0. 1.]\n",
            " [0. 0. 0. 1.]\n",
            " [0. 0. 0. 1.]\n",
            " [0. 0. 0. 1.]\n",
            " [0. 0. 0. 1.]\n",
            " [0. 0. 0. 1.]\n",
            " [0. 0. 0. 1.]\n",
            " [0. 0. 0. 1.]\n",
            " [0. 0. 0. 1.]\n",
            " [0. 0. 0. 1.]\n",
            " [0. 0. 0. 1.]\n",
            " [0. 0. 0. 1.]\n",
            " [0. 0. 0. 1.]\n",
            " [0. 0. 0. 1.]\n",
            " [0. 0. 0. 1.]\n",
            " [0. 0. 0. 1.]\n",
            " [0. 0. 0. 1.]\n",
            " [0. 0. 0. 1.]\n",
            " [0. 0. 0. 1.]\n",
            " [0. 0. 0. 1.]\n",
            " [0. 0. 0. 1.]\n",
            " [0. 0. 0. 1.]\n",
            " [0. 0. 0. 1.]\n",
            " [0. 0. 0. 1.]\n",
            " [0. 0. 0. 1.]\n",
            " [0. 0. 0. 1.]\n",
            " [0. 0. 0. 1.]\n",
            " [0. 0. 0. 1.]\n",
            " [0. 0. 0. 1.]\n",
            " [0. 0. 0. 1.]\n",
            " [0. 0. 0. 1.]\n",
            " [0. 0. 0. 1.]\n",
            " [0. 0. 0. 1.]\n",
            " [0. 0. 0. 1.]\n",
            " [0. 0. 0. 1.]\n",
            " [0. 0. 0. 1.]\n",
            " [0. 0. 0. 1.]\n",
            " [0. 0. 0. 1.]\n",
            " [0. 0. 0. 1.]\n",
            " [0. 0. 0. 1.]\n",
            " [0. 0. 0. 1.]\n",
            " [0. 0. 0. 1.]\n",
            " [0. 0. 0. 1.]\n",
            " [0. 0. 0. 1.]\n",
            " [0. 0. 0. 1.]\n",
            " [0. 0. 0. 1.]\n",
            " [0. 0. 0. 1.]\n",
            " [0. 0. 0. 1.]\n",
            " [0. 0. 0. 1.]\n",
            " [0. 0. 0. 1.]\n",
            " [0. 0. 0. 1.]\n",
            " [0. 0. 0. 1.]]\n"
          ]
        }
      ]
    },
    {
      "cell_type": "code",
      "metadata": {
        "colab": {
          "base_uri": "https://localhost:8080/"
        },
        "id": "yj28XSAfpVt_",
        "outputId": "c030d1b3-4b08-4d0f-c882-2bc03d1bce67"
      },
      "source": [
        "# to vosualize the labels\n",
        "categories = pd.DataFrame(data=y_train,\n",
        "                 columns=encoder.classes_)\n",
        "\n",
        "print(categories)"
      ],
      "id": "yj28XSAfpVt_",
      "execution_count": null,
      "outputs": [
        {
          "name": "stdout",
          "output_type": "stream",
          "text": [
            "     apple  banana  mixed  orange\n",
            "0      1.0     0.0    0.0     0.0\n",
            "1      1.0     0.0    0.0     0.0\n",
            "2      1.0     0.0    0.0     0.0\n",
            "3      1.0     0.0    0.0     0.0\n",
            "4      1.0     0.0    0.0     0.0\n",
            "..     ...     ...    ...     ...\n",
            "235    0.0     0.0    0.0     1.0\n",
            "236    0.0     0.0    0.0     1.0\n",
            "237    0.0     0.0    0.0     1.0\n",
            "238    0.0     0.0    0.0     1.0\n",
            "239    0.0     0.0    0.0     1.0\n",
            "\n",
            "[240 rows x 4 columns]\n"
          ]
        }
      ]
    },
    {
      "cell_type": "markdown",
      "metadata": {
        "id": "74168da3"
      },
      "source": [
        "### Defining Model Architecture\n",
        "Things like: \n",
        "- how many convolutional layers do we want\n",
        "- what should be the activation function for each layer\n",
        "- how many hidden units should each layer have etc"
      ],
      "id": "74168da3"
    },
    {
      "cell_type": "markdown",
      "metadata": {
        "id": "4c8bf940"
      },
      "source": [
        "#### Construct CNN Model\n",
        "\n",
        "Create an empty Neural Network via Sequential()\n",
        "Add more layers (multilayer perceptron, MLP) to 'model' obj to turn it into CNN\n",
        "- Input layer--> convolutional layer(filters,kernal_size,activation,input_shape)\n",
        "- Hidden Layers--> Layers of nodes between the input and output layers. There may be one or more of these layers.\n",
        "- Output Layer--> A layer of nodes that produce the output variables. "
      ],
      "id": "4c8bf940"
    },
    {
      "cell_type": "code",
      "metadata": {
        "id": "9a426198"
      },
      "source": [
        "model = tf.keras.models.Sequential()\n",
        "\n",
        "model.add(tf.keras.layers.RandomFlip('horizontal_and_vertical'))\n",
        "model.add(tf.keras.layers.RandomRotation(0.9))\n",
        "model.add(tf.keras.layers.RandomRotation(0.9))\n",
        "model.add(tf.keras.layers.RandomZoom(fill_mode='nearest',\n",
        "                                     height_factor=(-0.2, 0.4),\n",
        "                                     width_factor=(-0.2, 0.4)))\n",
        "model.add(tf.keras.layers.Conv2D(filters=32, \n",
        "                                 kernel_size=(3,3),\n",
        "                                activation = 'relu', \n",
        "                                input_shape= (250,250,3)))\n",
        "model.add(tf.keras.layers.MaxPooling2D())\n",
        "model.add(tf.keras.layers.Conv2D(filters=64, kernel_size=(3,3),\n",
        "                                activation = 'relu', \n",
        "                                input_shape= (250,250,3))) \n",
        "model.add(tf.keras.layers.MaxPooling2D())\n",
        "model.add(tf.keras.layers.Flatten())\n",
        "model.add(tf.keras.layers.Dense(units=16, activation='relu'))\n",
        "model.add(tf.keras.layers.Dropout(rate=0.2))\n",
        "model.add(tf.keras.layers.Dense(units=16, activation='sigmoid'))\n",
        "model.add(tf.keras.layers.Dense(units=4, activation='softmax'))"
      ],
      "id": "9a426198",
      "execution_count": null,
      "outputs": []
    },
    {
      "cell_type": "markdown",
      "metadata": {
        "id": "Z-ks3KRDPvnq"
      },
      "source": [
        "- When using Softmax as the activation function as the last layer, our loss function should be ‘categorical_crossentropy’\n",
        "- Optimizers are algorithms to change the weights and the learning rate of our neural network; ‘adam’ is a good choice\n",
        "- When determining the accuracy of a prediction, use ‘accuracy’ as the metrics as we can count the number of times the neural network has given a correct prediction"
      ],
      "id": "Z-ks3KRDPvnq"
    },
    {
      "cell_type": "code",
      "metadata": {
        "id": "QRmxVDD8P0BK"
      },
      "source": [
        "#compiling the CNN\n",
        "model.compile(optimizer='adam', loss='categorical_crossentropy', metrics=['accuracy'])"
      ],
      "id": "QRmxVDD8P0BK",
      "execution_count": null,
      "outputs": []
    },
    {
      "cell_type": "markdown",
      "metadata": {
        "id": "825f6e47"
      },
      "source": [
        "### Train the Model\n",
        "\n",
        "Require training images and their corresponding true labels, validation images and their corresponding true labels (we use these labels only to validate the model and not during the training phase). We also define the number of epochs in this step. For starters, we will run the model for 10 epochs (you can change the number of epochs later)."
      ],
      "id": "825f6e47"
    },
    {
      "cell_type": "markdown",
      "metadata": {
        "id": "9d6177bd"
      },
      "source": [
        "#### can consider using k-means to calculate epochs"
      ],
      "id": "9d6177bd"
    },
    {
      "cell_type": "code",
      "metadata": {
        "colab": {
          "base_uri": "https://localhost:8080/"
        },
        "id": "1a28d716",
        "scrolled": false,
        "outputId": "5a2c2282-ddbc-45ea-a7f5-fcb124803201"
      },
      "source": [
        "history = model.fit(x=x_train, y=categories, epochs=25)"
      ],
      "id": "1a28d716",
      "execution_count": null,
      "outputs": [
        {
          "name": "stdout",
          "output_type": "stream",
          "text": [
            "Epoch 1/25\n",
            "8/8 [==============================] - 13s 1s/step - loss: 1.3833 - accuracy: 0.3042\n",
            "Epoch 2/25\n",
            "8/8 [==============================] - 15s 2s/step - loss: 1.3351 - accuracy: 0.3667\n",
            "Epoch 3/25\n",
            "8/8 [==============================] - 14s 2s/step - loss: 1.2831 - accuracy: 0.3958\n",
            "Epoch 4/25\n",
            "8/8 [==============================] - 13s 2s/step - loss: 1.2408 - accuracy: 0.4208\n",
            "Epoch 5/25\n",
            "8/8 [==============================] - 11s 1s/step - loss: 1.0810 - accuracy: 0.6167\n",
            "Epoch 6/25\n",
            "8/8 [==============================] - 11s 1s/step - loss: 1.0749 - accuracy: 0.5458\n",
            "Epoch 7/25\n",
            "8/8 [==============================] - 11s 1s/step - loss: 1.0420 - accuracy: 0.5875\n",
            "Epoch 8/25\n",
            "8/8 [==============================] - 11s 1s/step - loss: 1.0080 - accuracy: 0.6000\n",
            "Epoch 9/25\n",
            "8/8 [==============================] - 11s 1s/step - loss: 0.9699 - accuracy: 0.5667\n",
            "Epoch 10/25\n",
            "8/8 [==============================] - 10s 1s/step - loss: 0.9228 - accuracy: 0.6125\n",
            "Epoch 11/25\n",
            "8/8 [==============================] - 10s 1s/step - loss: 0.9018 - accuracy: 0.6417\n",
            "Epoch 12/25\n",
            "8/8 [==============================] - 10s 1s/step - loss: 0.8938 - accuracy: 0.6542\n",
            "Epoch 13/25\n",
            "8/8 [==============================] - 10s 1s/step - loss: 0.9166 - accuracy: 0.6000\n",
            "Epoch 14/25\n",
            "8/8 [==============================] - 11s 1s/step - loss: 0.8498 - accuracy: 0.6667\n",
            "Epoch 15/25\n",
            "8/8 [==============================] - 10s 1s/step - loss: 0.8132 - accuracy: 0.7208\n",
            "Epoch 16/25\n",
            "8/8 [==============================] - 10s 1s/step - loss: 0.7973 - accuracy: 0.7500\n",
            "Epoch 17/25\n",
            "8/8 [==============================] - 10s 1s/step - loss: 0.7730 - accuracy: 0.7625\n",
            "Epoch 18/25\n",
            "8/8 [==============================] - 11s 1s/step - loss: 0.7407 - accuracy: 0.8083\n",
            "Epoch 19/25\n",
            "8/8 [==============================] - 11s 1s/step - loss: 0.7066 - accuracy: 0.8208\n",
            "Epoch 20/25\n",
            "8/8 [==============================] - 12s 1s/step - loss: 0.6790 - accuracy: 0.8250\n",
            "Epoch 21/25\n",
            "8/8 [==============================] - 11s 1s/step - loss: 0.7139 - accuracy: 0.8083\n",
            "Epoch 22/25\n",
            "8/8 [==============================] - 10s 1s/step - loss: 0.6608 - accuracy: 0.8542\n",
            "Epoch 23/25\n",
            "8/8 [==============================] - 11s 1s/step - loss: 0.6730 - accuracy: 0.8167\n",
            "Epoch 24/25\n",
            "8/8 [==============================] - 11s 1s/step - loss: 0.6425 - accuracy: 0.8458\n",
            "Epoch 25/25\n",
            "8/8 [==============================] - 12s 1s/step - loss: 0.6316 - accuracy: 0.8417\n"
          ]
        }
      ]
    },
    {
      "cell_type": "code",
      "metadata": {
        "id": "e48618b1",
        "outputId": "c78c4c25-f6b5-4dce-8e14-4487916bd6de"
      },
      "source": [
        "model.summary()"
      ],
      "id": "e48618b1",
      "execution_count": null,
      "outputs": [
        {
          "name": "stdout",
          "output_type": "stream",
          "text": [
            "Model: \"sequential\"\n",
            "_________________________________________________________________\n",
            " Layer (type)                Output Shape              Param #   \n",
            "=================================================================\n",
            " random_flip (RandomFlip)    (None, 250, 250, 3)       0         \n",
            "                                                                 \n",
            " random_rotation (RandomRota  (None, 250, 250, 3)      0         \n",
            " tion)                                                           \n",
            "                                                                 \n",
            " random_rotation_1 (RandomRo  (None, 250, 250, 3)      0         \n",
            " tation)                                                         \n",
            "                                                                 \n",
            " random_zoom (RandomZoom)    (None, 250, 250, 3)       0         \n",
            "                                                                 \n",
            " conv2d (Conv2D)             (None, 248, 248, 32)      896       \n",
            "                                                                 \n",
            " max_pooling2d (MaxPooling2D  (None, 124, 124, 32)     0         \n",
            " )                                                               \n",
            "                                                                 \n",
            " conv2d_1 (Conv2D)           (None, 122, 122, 64)      18496     \n",
            "                                                                 \n",
            " max_pooling2d_1 (MaxPooling  (None, 61, 61, 64)       0         \n",
            " 2D)                                                             \n",
            "                                                                 \n",
            " flatten (Flatten)           (None, 238144)            0         \n",
            "                                                                 \n",
            " dense (Dense)               (None, 16)                3810320   \n",
            "                                                                 \n",
            " dropout (Dropout)           (None, 16)                0         \n",
            "                                                                 \n",
            " dense_1 (Dense)             (None, 16)                272       \n",
            "                                                                 \n",
            " dense_2 (Dense)             (None, 4)                 68        \n",
            "                                                                 \n",
            "=================================================================\n",
            "Total params: 3,830,052\n",
            "Trainable params: 3,830,052\n",
            "Non-trainable params: 0\n",
            "_________________________________________________________________\n"
          ]
        }
      ]
    },
    {
      "cell_type": "markdown",
      "metadata": {
        "id": "cbddd73b"
      },
      "source": [
        "Training evaluation: loss and accuracy "
      ],
      "id": "cbddd73b"
    },
    {
      "cell_type": "code",
      "metadata": {
        "id": "291c6cba",
        "outputId": "1efdfa43-800b-48c0-e6e3-d1e6f678069e"
      },
      "source": [
        "loss, accuracy = model.evaluate(x=x_train, y=categories)\n",
        "\n",
        "print('loss = ', loss)\n",
        "print('accuracy = ', accuracy)"
      ],
      "id": "291c6cba",
      "execution_count": null,
      "outputs": [
        {
          "name": "stdout",
          "output_type": "stream",
          "text": [
            "8/8 [==============================] - 3s 353ms/step - loss: 0.5739 - accuracy: 0.8583\n",
            "loss =  0.5738995671272278\n",
            "accuracy =  0.8583333492279053\n"
          ]
        }
      ]
    },
    {
      "cell_type": "markdown",
      "metadata": {
        "id": "V91Yj9C_3gFP"
      },
      "source": [
        "Plotting \"Loss\" and \"accuracy\" graphs"
      ],
      "id": "V91Yj9C_3gFP"
    },
    {
      "cell_type": "code",
      "metadata": {
        "id": "TpGfm5mm3jze",
        "outputId": "923773dd-9da2-460e-ead8-b7684431ac3c"
      },
      "source": [
        "fig, ax = plt.subplots(nrows=1, ncols=2, figsize=(12, 5))\n",
        "\n",
        "ax[0].plot(history.history['loss'])\n",
        "ax[0].set_xlabel('Epochs')\n",
        "ax[0].set_ylabel('Loss')\n",
        "\n",
        "ax[1].plot(history.history['accuracy'])\n",
        "\n",
        "plt.show()"
      ],
      "id": "TpGfm5mm3jze",
      "execution_count": null,
      "outputs": [
        {
          "data": {
            "image/png": "[encoded data removed]",
            "text/plain": [
              "<Figure size 864x360 with 2 Axes>"
            ]
          },
          "metadata": {
            "needs_background": "light"
          },
          "output_type": "display_data"
        }
      ]
    },
    {
      "cell_type": "markdown",
      "metadata": {
        "id": "AnoI80liXV4F"
      },
      "source": [
        "### Testing!"
      ],
      "id": "AnoI80liXV4F"
    },
    {
      "cell_type": "markdown",
      "metadata": {
        "id": "WmPap-p-SAJb"
      },
      "source": [
        "#### Estimate model's performance and predict classes\n",
        "- load test data (img) and go through pre-processing \n",
        "      # test = pd.read_csv('test.csv')\n",
        "- read and store all test images\n",
        "      # test_image = []\n",
        "      # for i in tqdm(range(test.shape[0])):\n",
        "      # img = image.load_img('test/'+test['id'][i].astype('str')+'.png', target_size=(28,28,1), grayscale=True)\n",
        "      # img = image.img_to_array(img)\n",
        "      # img = img/255\n",
        "      # test_image.append(img)\n",
        "      # test = np.array(test_image) -->\n",
        "- make predictions\n",
        "      # prediction = model.predict_classes(test)"
      ],
      "id": "WmPap-p-SAJb"
    },
    {
      "cell_type": "code",
      "metadata": {
        "id": "L-9xJHboSHfk",
        "outputId": "7d105870-45fa-49cc-c374-b735520286bb"
      },
      "source": [
        "test_ds_raw"
      ],
      "id": "L-9xJHboSHfk",
      "execution_count": null,
      "outputs": [
        {
          "data": {
            "text/plain": [
              "['apple_77.jpg',\n",
              " 'apple_77.xml',\n",
              " 'apple_78.jpg',\n",
              " 'apple_78.xml',\n",
              " 'apple_79.jpg',\n",
              " 'apple_79.xml',\n",
              " 'apple_80.jpg',\n",
              " 'apple_80.xml',\n",
              " 'apple_81.jpg',\n",
              " 'apple_81.xml',\n",
              " 'apple_82.jpg',\n",
              " 'apple_82.xml',\n",
              " 'apple_83.jpg',\n",
              " 'apple_83.xml',\n",
              " 'apple_84.jpg',\n",
              " 'apple_84.xml',\n",
              " 'apple_85.jpg',\n",
              " 'apple_85.xml',\n",
              " 'apple_86.jpg',\n",
              " 'apple_86.xml',\n",
              " 'apple_87.jpg',\n",
              " 'apple_87.xml',\n",
              " 'apple_88.jpg',\n",
              " 'apple_88.xml',\n",
              " 'apple_89.jpg',\n",
              " 'apple_89.xml',\n",
              " 'apple_90.jpg',\n",
              " 'apple_90.xml',\n",
              " 'apple_91.jpg',\n",
              " 'apple_91.xml',\n",
              " 'apple_92.jpg',\n",
              " 'apple_92.xml',\n",
              " 'apple_93.jpg',\n",
              " 'apple_93.xml',\n",
              " 'apple_94.jpg',\n",
              " 'apple_94.xml',\n",
              " 'apple_95.jpg',\n",
              " 'apple_95.xml',\n",
              " 'banana_77.jpg',\n",
              " 'banana_77.xml',\n",
              " 'banana_78.jpg',\n",
              " 'banana_78.xml',\n",
              " 'banana_79.jpg',\n",
              " 'banana_79.xml',\n",
              " 'banana_80.jpg',\n",
              " 'banana_80.xml',\n",
              " 'banana_81.jpg',\n",
              " 'banana_81.xml',\n",
              " 'banana_82.jpg',\n",
              " 'banana_82.xml',\n",
              " 'banana_83.jpg',\n",
              " 'banana_83.xml',\n",
              " 'banana_84.jpg',\n",
              " 'banana_84.xml',\n",
              " 'banana_85.jpg',\n",
              " 'banana_85.xml',\n",
              " 'banana_86.jpg',\n",
              " 'banana_86.xml',\n",
              " 'banana_87.jpg',\n",
              " 'banana_87.xml',\n",
              " 'banana_88.jpg',\n",
              " 'banana_88.xml',\n",
              " 'banana_89.jpg',\n",
              " 'banana_89.xml',\n",
              " 'banana_90.jpg',\n",
              " 'banana_90.xml',\n",
              " 'banana_91.jpg',\n",
              " 'banana_91.xml',\n",
              " 'banana_92.jpg',\n",
              " 'banana_92.xml',\n",
              " 'banana_93.jpg',\n",
              " 'banana_93.xml',\n",
              " 'banana_94.jpg',\n",
              " 'banana_94.xml',\n",
              " 'mixed_21.jpg',\n",
              " 'mixed_21.xml',\n",
              " 'mixed_22.jpg',\n",
              " 'mixed_22.xml',\n",
              " 'mixed_23.jpg',\n",
              " 'mixed_23.xml',\n",
              " 'mixed_24.jpg',\n",
              " 'mixed_24.xml',\n",
              " 'mixed_25.jpg',\n",
              " 'mixed_25.xml',\n",
              " 'orange_77.jpg',\n",
              " 'orange_77.xml',\n",
              " 'orange_78.jpg',\n",
              " 'orange_78.xml',\n",
              " 'orange_79.jpg',\n",
              " 'orange_79.xml',\n",
              " 'orange_80.jpg',\n",
              " 'orange_80.xml',\n",
              " 'orange_81.jpg',\n",
              " 'orange_81.xml',\n",
              " 'orange_82.jpg',\n",
              " 'orange_82.xml',\n",
              " 'orange_83.jpg',\n",
              " 'orange_83.xml',\n",
              " 'orange_84.jpg',\n",
              " 'orange_84.xml',\n",
              " 'orange_85.jpg',\n",
              " 'orange_85.xml',\n",
              " 'orange_86.jpg',\n",
              " 'orange_86.xml',\n",
              " 'orange_87.jpg',\n",
              " 'orange_87.xml',\n",
              " 'orange_89.jpg',\n",
              " 'orange_89.xml',\n",
              " 'orange_90.jpg',\n",
              " 'orange_90.xml',\n",
              " 'orange_91.jpg',\n",
              " 'orange_91.xml',\n",
              " 'orange_92.jpg',\n",
              " 'orange_92.xml',\n",
              " 'orange_93.jpg',\n",
              " 'orange_93.xml',\n",
              " 'orange_94.jpg',\n",
              " 'orange_94.xml',\n",
              " 'orange_95.jpg',\n",
              " 'orange_95.xml']"
            ]
          },
          "execution_count": 39,
          "metadata": {},
          "output_type": "execute_result"
        }
      ]
    },
    {
      "cell_type": "code",
      "metadata": {
        "id": "E3jwqS3lSQw1",
        "outputId": "4e63edb8-47a5-4574-f5a0-785457f825a7"
      },
      "source": [
        "type(test_ds_raw), len(test_ds_raw)"
      ],
      "id": "E3jwqS3lSQw1",
      "execution_count": null,
      "outputs": [
        {
          "data": {
            "text/plain": [
              "(list, 120)"
            ]
          },
          "execution_count": 40,
          "metadata": {},
          "output_type": "execute_result"
        }
      ]
    },
    {
      "cell_type": "markdown",
      "metadata": {
        "id": "kYGfajr6SbtI"
      },
      "source": [
        "Create x_test"
      ],
      "id": "kYGfajr6SbtI"
    },
    {
      "cell_type": "code",
      "metadata": {
        "id": "il35EB2USdql"
      },
      "source": [
        "filenames1 = []\n",
        "for label in test_ds_raw:\n",
        "    if label[-3:] == 'xml': \n",
        "        continue              # only take jpeg\n",
        "    else:\n",
        "        filenames1.append(test_img_path + label)"
      ],
      "id": "il35EB2USdql",
      "execution_count": null,
      "outputs": []
    },
    {
      "cell_type": "code",
      "metadata": {
        "id": "RpGFTR8YSmW9",
        "outputId": "8fa5e8b5-6dac-4629-c0c0-fd58d3468b42"
      },
      "source": [
        "# filenames\n",
        "len(filenames1)"
      ],
      "id": "RpGFTR8YSmW9",
      "execution_count": null,
      "outputs": [
        {
          "data": {
            "text/plain": [
              "60"
            ]
          },
          "execution_count": 42,
          "metadata": {},
          "output_type": "execute_result"
        }
      ]
    },
    {
      "cell_type": "markdown",
      "metadata": {
        "id": "rP93joVmS6we"
      },
      "source": [
        "Create y_test"
      ],
      "id": "rP93joVmS6we"
    },
    {
      "cell_type": "code",
      "metadata": {
        "id": "BLxg89x7S8J8"
      },
      "source": [
        "y_test_label = []\n",
        "\n",
        "for label in test_ds_raw:\n",
        "    if label[-3:] == 'xml': \n",
        "        continue              #if xml, ignore\n",
        "    arr = label.split('_')    # else, str manipulation \n",
        "    y_test_label.append(arr[0])"
      ],
      "id": "BLxg89x7S8J8",
      "execution_count": null,
      "outputs": []
    },
    {
      "cell_type": "code",
      "metadata": {
        "id": "YStVf3ziTFNx",
        "outputId": "61643d2f-f4c8-409e-a653-c8f5f6299cef"
      },
      "source": [
        "#y_train_label\n",
        "len(filenames1), len(y_test_label)"
      ],
      "id": "YStVf3ziTFNx",
      "execution_count": null,
      "outputs": [
        {
          "data": {
            "text/plain": [
              "(60, 60)"
            ]
          },
          "execution_count": 44,
          "metadata": {},
          "output_type": "execute_result"
        }
      ]
    },
    {
      "cell_type": "markdown",
      "metadata": {
        "id": "sBkfyDdiT4Oc"
      },
      "source": [
        "Resize x_test"
      ],
      "id": "sBkfyDdiT4Oc"
    },
    {
      "cell_type": "code",
      "metadata": {
        "id": "FFeQBUh3T6QY"
      },
      "source": [
        "x_test = None\n",
        "\n",
        "for i in range(len(y_test_label)):\n",
        "    img_raw = cv2.imread(filenames1[i], cv2.IMREAD_COLOR)\n",
        "    img_reshaped = cv2.resize(img_raw,(250, 250), cv2.INTER_NEAREST)\n",
        "    img_reshaped = cv2.cvtColor(img_reshaped, cv2.COLOR_BGR2RGB)\n",
        "    if x_test is None:\n",
        "        x_test = img_reshaped\n",
        "    else:\n",
        "        x_test = np.concatenate((x_test, img_reshaped))"
      ],
      "id": "FFeQBUh3T6QY",
      "execution_count": null,
      "outputs": []
    },
    {
      "cell_type": "code",
      "metadata": {
        "id": "ktP4X--fVbY0",
        "outputId": "6a7f2496-dc17-4b1f-e454-a6f6e8e3e04d"
      },
      "source": [
        "x_test = x_test.reshape(-1, 250, 250, 3)\n",
        "x_test.shape"
      ],
      "id": "ktP4X--fVbY0",
      "execution_count": null,
      "outputs": [
        {
          "data": {
            "text/plain": [
              "(60, 250, 250, 3)"
            ]
          },
          "execution_count": 46,
          "metadata": {},
          "output_type": "execute_result"
        }
      ]
    },
    {
      "cell_type": "code",
      "metadata": {
        "id": "RAnSzxClYQ-L",
        "outputId": "daf40bd5-3917-4d88-e858-27431054d4b8"
      },
      "source": [
        "x_test = x_test/255\n",
        "print(x_test.shape)"
      ],
      "id": "RAnSzxClYQ-L",
      "execution_count": null,
      "outputs": [
        {
          "name": "stdout",
          "output_type": "stream",
          "text": [
            "(60, 250, 250, 3)\n"
          ]
        }
      ]
    },
    {
      "cell_type": "markdown",
      "metadata": {
        "id": "Sncq-vrtUi2q"
      },
      "source": [
        "Hot-Encode y_test labels"
      ],
      "id": "Sncq-vrtUi2q"
    },
    {
      "cell_type": "code",
      "metadata": {
        "id": "Vt4lFHt5UlpP",
        "outputId": "facf6783-f972-4334-fbb7-509765287769"
      },
      "source": [
        "from sklearn.preprocessing import LabelEncoder\n",
        "import pandas as pd\n",
        "\n",
        "#instantiate one hot encoding\n",
        "encoder = LabelEncoder()\n",
        "#fit\n",
        "encoder.fit(y_test_label)\n",
        "#transform\n",
        "data = encoder.transform(y_test_label)\n",
        "\n",
        "y_test = tf.keras.utils.to_categorical(data)\n",
        "print(y_test) "
      ],
      "id": "Vt4lFHt5UlpP",
      "execution_count": null,
      "outputs": [
        {
          "name": "stdout",
          "output_type": "stream",
          "text": [
            "[[1. 0. 0. 0.]\n",
            " [1. 0. 0. 0.]\n",
            " [1. 0. 0. 0.]\n",
            " [1. 0. 0. 0.]\n",
            " [1. 0. 0. 0.]\n",
            " [1. 0. 0. 0.]\n",
            " [1. 0. 0. 0.]\n",
            " [1. 0. 0. 0.]\n",
            " [1. 0. 0. 0.]\n",
            " [1. 0. 0. 0.]\n",
            " [1. 0. 0. 0.]\n",
            " [1. 0. 0. 0.]\n",
            " [1. 0. 0. 0.]\n",
            " [1. 0. 0. 0.]\n",
            " [1. 0. 0. 0.]\n",
            " [1. 0. 0. 0.]\n",
            " [1. 0. 0. 0.]\n",
            " [1. 0. 0. 0.]\n",
            " [1. 0. 0. 0.]\n",
            " [0. 1. 0. 0.]\n",
            " [0. 1. 0. 0.]\n",
            " [0. 1. 0. 0.]\n",
            " [0. 1. 0. 0.]\n",
            " [0. 1. 0. 0.]\n",
            " [0. 1. 0. 0.]\n",
            " [0. 1. 0. 0.]\n",
            " [0. 1. 0. 0.]\n",
            " [0. 1. 0. 0.]\n",
            " [0. 1. 0. 0.]\n",
            " [0. 1. 0. 0.]\n",
            " [0. 1. 0. 0.]\n",
            " [0. 1. 0. 0.]\n",
            " [0. 1. 0. 0.]\n",
            " [0. 1. 0. 0.]\n",
            " [0. 1. 0. 0.]\n",
            " [0. 1. 0. 0.]\n",
            " [0. 1. 0. 0.]\n",
            " [0. 0. 1. 0.]\n",
            " [0. 0. 1. 0.]\n",
            " [0. 0. 1. 0.]\n",
            " [0. 0. 1. 0.]\n",
            " [0. 0. 1. 0.]\n",
            " [0. 0. 0. 1.]\n",
            " [0. 0. 0. 1.]\n",
            " [0. 0. 0. 1.]\n",
            " [0. 0. 0. 1.]\n",
            " [0. 0. 0. 1.]\n",
            " [0. 0. 0. 1.]\n",
            " [0. 0. 0. 1.]\n",
            " [0. 0. 0. 1.]\n",
            " [0. 0. 0. 1.]\n",
            " [0. 0. 0. 1.]\n",
            " [0. 0. 0. 1.]\n",
            " [0. 0. 0. 1.]\n",
            " [0. 0. 0. 1.]\n",
            " [0. 0. 0. 1.]\n",
            " [0. 0. 0. 1.]\n",
            " [0. 0. 0. 1.]\n",
            " [0. 0. 0. 1.]\n",
            " [0. 0. 0. 1.]]\n"
          ]
        }
      ]
    },
    {
      "cell_type": "code",
      "metadata": {
        "id": "21fxppY4U2N5",
        "scrolled": true,
        "outputId": "a09ceb2a-4b73-4a7b-8adb-936644698e16"
      },
      "source": [
        "# to vosualize the labels\n",
        "categories1 = pd.DataFrame(data=y_test,\n",
        "                 columns=encoder.classes_)\n",
        "\n",
        "print(categories1)"
      ],
      "id": "21fxppY4U2N5",
      "execution_count": null,
      "outputs": [
        {
          "name": "stdout",
          "output_type": "stream",
          "text": [
            "    apple  banana  mixed  orange\n",
            "0     1.0     0.0    0.0     0.0\n",
            "1     1.0     0.0    0.0     0.0\n",
            "2     1.0     0.0    0.0     0.0\n",
            "3     1.0     0.0    0.0     0.0\n",
            "4     1.0     0.0    0.0     0.0\n",
            "5     1.0     0.0    0.0     0.0\n",
            "6     1.0     0.0    0.0     0.0\n",
            "7     1.0     0.0    0.0     0.0\n",
            "8     1.0     0.0    0.0     0.0\n",
            "9     1.0     0.0    0.0     0.0\n",
            "10    1.0     0.0    0.0     0.0\n",
            "11    1.0     0.0    0.0     0.0\n",
            "12    1.0     0.0    0.0     0.0\n",
            "13    1.0     0.0    0.0     0.0\n",
            "14    1.0     0.0    0.0     0.0\n",
            "15    1.0     0.0    0.0     0.0\n",
            "16    1.0     0.0    0.0     0.0\n",
            "17    1.0     0.0    0.0     0.0\n",
            "18    1.0     0.0    0.0     0.0\n",
            "19    0.0     1.0    0.0     0.0\n",
            "20    0.0     1.0    0.0     0.0\n",
            "21    0.0     1.0    0.0     0.0\n",
            "22    0.0     1.0    0.0     0.0\n",
            "23    0.0     1.0    0.0     0.0\n",
            "24    0.0     1.0    0.0     0.0\n",
            "25    0.0     1.0    0.0     0.0\n",
            "26    0.0     1.0    0.0     0.0\n",
            "27    0.0     1.0    0.0     0.0\n",
            "28    0.0     1.0    0.0     0.0\n",
            "29    0.0     1.0    0.0     0.0\n",
            "30    0.0     1.0    0.0     0.0\n",
            "31    0.0     1.0    0.0     0.0\n",
            "32    0.0     1.0    0.0     0.0\n",
            "33    0.0     1.0    0.0     0.0\n",
            "34    0.0     1.0    0.0     0.0\n",
            "35    0.0     1.0    0.0     0.0\n",
            "36    0.0     1.0    0.0     0.0\n",
            "37    0.0     0.0    1.0     0.0\n",
            "38    0.0     0.0    1.0     0.0\n",
            "39    0.0     0.0    1.0     0.0\n",
            "40    0.0     0.0    1.0     0.0\n",
            "41    0.0     0.0    1.0     0.0\n",
            "42    0.0     0.0    0.0     1.0\n",
            "43    0.0     0.0    0.0     1.0\n",
            "44    0.0     0.0    0.0     1.0\n",
            "45    0.0     0.0    0.0     1.0\n",
            "46    0.0     0.0    0.0     1.0\n",
            "47    0.0     0.0    0.0     1.0\n",
            "48    0.0     0.0    0.0     1.0\n",
            "49    0.0     0.0    0.0     1.0\n",
            "50    0.0     0.0    0.0     1.0\n",
            "51    0.0     0.0    0.0     1.0\n",
            "52    0.0     0.0    0.0     1.0\n",
            "53    0.0     0.0    0.0     1.0\n",
            "54    0.0     0.0    0.0     1.0\n",
            "55    0.0     0.0    0.0     1.0\n",
            "56    0.0     0.0    0.0     1.0\n",
            "57    0.0     0.0    0.0     1.0\n",
            "58    0.0     0.0    0.0     1.0\n",
            "59    0.0     0.0    0.0     1.0\n"
          ]
        }
      ]
    },
    {
      "cell_type": "markdown",
      "metadata": {
        "id": "oDd61Zx6U6ZC"
      },
      "source": [
        "Perform auto-evaluation"
      ],
      "id": "oDd61Zx6U6ZC"
    },
    {
      "cell_type": "code",
      "metadata": {
        "id": "nfqvSrmCU-DK",
        "outputId": "fae7470c-be5d-4708-f303-9610d43c5d01"
      },
      "source": [
        "loss, accuracy = model.evaluate(x=x_test, y=categories1)\n",
        "\n",
        "print('loss = ', loss)\n",
        "print('accuracy = ', accuracy)"
      ],
      "id": "nfqvSrmCU-DK",
      "execution_count": null,
      "outputs": [
        {
          "name": "stdout",
          "output_type": "stream",
          "text": [
            "2/2 [==============================] - 1s 321ms/step - loss: 0.6244 - accuracy: 0.8667\n",
            "loss =  0.6244435906410217\n",
            "accuracy =  0.8666666746139526\n"
          ]
        }
      ]
    },
    {
      "cell_type": "markdown",
      "metadata": {
        "id": "wYY9HkteVO5g"
      },
      "source": [
        "Perform simple manual inspection"
      ],
      "id": "wYY9HkteVO5g"
    },
    {
      "cell_type": "code",
      "metadata": {
        "id": "JfiTURmnVOlL",
        "outputId": "97f14f8a-66e8-4974-ef72-d6b486bc9b1a"
      },
      "source": [
        "predictions = model.predict(x=x_test)\n",
        "for i in np.arange(len(predictions)):\n",
        "\tprint('Actual: ', y_test[i], 'Predicted: ', predictions[i])"
      ],
      "id": "JfiTURmnVOlL",
      "execution_count": null,
      "outputs": [
        {
          "name": "stdout",
          "output_type": "stream",
          "text": [
            "Actual:  [1. 0. 0. 0.] Predicted:  [0.8771553  0.03687436 0.01604325 0.0699271 ]\n",
            "Actual:  [1. 0. 0. 0.] Predicted:  [0.89293534 0.04226181 0.01221316 0.05258963]\n",
            "Actual:  [1. 0. 0. 0.] Predicted:  [0.89296275 0.0423017  0.01220039 0.05253524]\n",
            "Actual:  [1. 0. 0. 0.] Predicted:  [0.89296067 0.04229895 0.01220129 0.05253907]\n",
            "Actual:  [1. 0. 0. 0.] Predicted:  [0.8929633  0.04230278 0.01220005 0.05253379]\n",
            "Actual:  [1. 0. 0. 0.] Predicted:  [0.89296067 0.04229902 0.01220126 0.052539  ]\n",
            "Actual:  [1. 0. 0. 0.] Predicted:  [0.89296407 0.04230379 0.01219973 0.05253242]\n",
            "Actual:  [1. 0. 0. 0.] Predicted:  [0.8929598  0.04229864 0.01220153 0.05254005]\n",
            "Actual:  [1. 0. 0. 0.] Predicted:  [0.89296067 0.04230241 0.0122006  0.05253634]\n",
            "Actual:  [1. 0. 0. 0.] Predicted:  [0.7255321  0.12103719 0.03422595 0.11920477]\n",
            "Actual:  [1. 0. 0. 0.] Predicted:  [0.89295673 0.0422934  0.01220311 0.0525468 ]\n",
            "Actual:  [1. 0. 0. 0.] Predicted:  [0.8929633  0.04230267 0.01220009 0.05253397]\n",
            "Actual:  [1. 0. 0. 0.] Predicted:  [0.89296395 0.04230373 0.01219974 0.05253249]\n",
            "Actual:  [1. 0. 0. 0.] Predicted:  [0.892951   0.04228728 0.01220531 0.05255633]\n",
            "Actual:  [1. 0. 0. 0.] Predicted:  [0.8929573  0.04230161 0.01220132 0.05253969]\n",
            "Actual:  [1. 0. 0. 0.] Predicted:  [0.8853515  0.03527325 0.01497643 0.06439883]\n",
            "Actual:  [1. 0. 0. 0.] Predicted:  [0.8929637  0.04230329 0.01219989 0.05253312]\n",
            "Actual:  [1. 0. 0. 0.] Predicted:  [0.89296407 0.04230378 0.01219973 0.05253245]\n",
            "Actual:  [1. 0. 0. 0.] Predicted:  [0.73867023 0.04444444 0.03485755 0.18202783]\n",
            "Actual:  [0. 1. 0. 0.] Predicted:  [0.0643241  0.6314894  0.08361052 0.22057593]\n",
            "Actual:  [0. 1. 0. 0.] Predicted:  [0.06622807 0.63601714 0.08259202 0.2151628 ]\n",
            "Actual:  [0. 1. 0. 0.] Predicted:  [0.03534112 0.6022798  0.11731895 0.2450602 ]\n",
            "Actual:  [0. 1. 0. 0.] Predicted:  [0.05792996 0.63019544 0.08836578 0.22350882]\n",
            "Actual:  [0. 1. 0. 0.] Predicted:  [0.03310607 0.61804193 0.10192072 0.24693133]\n",
            "Actual:  [0. 1. 0. 0.] Predicted:  [0.03656413 0.5909741  0.11798737 0.25447434]\n",
            "Actual:  [0. 1. 0. 0.] Predicted:  [0.03689478 0.5106161  0.14281572 0.30967337]\n",
            "Actual:  [0. 1. 0. 0.] Predicted:  [0.06682651 0.63588697 0.08152157 0.21576495]\n",
            "Actual:  [0. 1. 0. 0.] Predicted:  [0.04136284 0.6030182  0.10923053 0.24638844]\n",
            "Actual:  [0. 1. 0. 0.] Predicted:  [0.05807879 0.26392388 0.12484549 0.5531519 ]\n",
            "Actual:  [0. 1. 0. 0.] Predicted:  [0.02903115 0.5659945  0.11277816 0.29219624]\n",
            "Actual:  [0. 1. 0. 0.] Predicted:  [0.82831347 0.03713544 0.02411357 0.11043756]\n",
            "Actual:  [0. 1. 0. 0.] Predicted:  [0.04095072 0.3494683  0.1029615  0.5066195 ]\n",
            "Actual:  [0. 1. 0. 0.] Predicted:  [0.0277441  0.5895184  0.11143958 0.27129787]\n",
            "Actual:  [0. 1. 0. 0.] Predicted:  [0.07271477 0.6377522  0.08076058 0.20877254]\n",
            "Actual:  [0. 1. 0. 0.] Predicted:  [0.03845749 0.5899063  0.09887495 0.2727613 ]\n",
            "Actual:  [0. 1. 0. 0.] Predicted:  [0.04621767 0.6139974  0.10218711 0.23759784]\n",
            "Actual:  [0. 1. 0. 0.] Predicted:  [0.06568237 0.64276254 0.07735507 0.21420003]\n",
            "Actual:  [0. 0. 1. 0.] Predicted:  [0.06734197 0.22935405 0.12940529 0.5738987 ]\n",
            "Actual:  [0. 0. 1. 0.] Predicted:  [0.05466813 0.57611275 0.1255104  0.24370876]\n",
            "Actual:  [0. 0. 1. 0.] Predicted:  [0.06459328 0.5025984  0.15075044 0.2820578 ]\n",
            "Actual:  [0. 0. 1. 0.] Predicted:  [0.05899853 0.25702834 0.12340164 0.56057143]\n",
            "Actual:  [0. 0. 1. 0.] Predicted:  [0.87594396 0.03475207 0.01667658 0.07262732]\n",
            "Actual:  [0. 0. 0. 1.] Predicted:  [0.05494748 0.25740588 0.10877745 0.5788693 ]\n",
            "Actual:  [0. 0. 0. 1.] Predicted:  [0.05920982 0.24567859 0.11880729 0.5763043 ]\n",
            "Actual:  [0. 0. 0. 1.] Predicted:  [0.10789222 0.13012573 0.10466759 0.6573145 ]\n",
            "Actual:  [0. 0. 0. 1.] Predicted:  [0.04939192 0.27315724 0.10238048 0.5750703 ]\n",
            "Actual:  [0. 0. 0. 1.] Predicted:  [0.06011195 0.24164635 0.11154923 0.5866925 ]\n",
            "Actual:  [0. 0. 0. 1.] Predicted:  [0.05844818 0.2483663  0.11674431 0.5764413 ]\n",
            "Actual:  [0. 0. 0. 1.] Predicted:  [0.09187198 0.17008528 0.08410233 0.6539404 ]\n",
            "Actual:  [0. 0. 0. 1.] Predicted:  [0.06131697 0.24374104 0.11652415 0.57841784]\n",
            "Actual:  [0. 0. 0. 1.] Predicted:  [0.08508368 0.21281655 0.07368082 0.628419  ]\n",
            "Actual:  [0. 0. 0. 1.] Predicted:  [0.05133859 0.27113968 0.1034526  0.57406914]\n",
            "Actual:  [0. 0. 0. 1.] Predicted:  [0.06765806 0.2249498  0.12839428 0.57899785]\n",
            "Actual:  [0. 0. 0. 1.] Predicted:  [0.05413606 0.26392424 0.11001811 0.57192165]\n",
            "Actual:  [0. 0. 0. 1.] Predicted:  [0.19002067 0.11674803 0.13531195 0.5579194 ]\n",
            "Actual:  [0. 0. 0. 1.] Predicted:  [0.0653593  0.2236831  0.11859408 0.59236354]\n",
            "Actual:  [0. 0. 0. 1.] Predicted:  [0.0487923  0.27471676 0.10228141 0.57420963]\n",
            "Actual:  [0. 0. 0. 1.] Predicted:  [0.06640611 0.2298519  0.1195258  0.58421624]\n",
            "Actual:  [0. 0. 0. 1.] Predicted:  [0.07089349 0.22243354 0.11112203 0.59555095]\n",
            "Actual:  [0. 0. 0. 1.] Predicted:  [0.0624464  0.23514447 0.11002132 0.5923878 ]\n"
          ]
        }
      ]
    },
    {
      "cell_type": "code",
      "metadata": {
        "id": "DHH_CuhVWjXT",
        "outputId": "fa7ac1e9-2848-459f-847c-897065d9f7bf"
      },
      "source": [
        "n_preds = len(predictions)\n",
        "\n",
        "correct = 0\n",
        "wrong = 0\n",
        "\n",
        "for i in np.arange(n_preds):\n",
        "    pred_max = np.argmax(predictions[i])\n",
        "    actual_max = np.argmax(y_test[i])\n",
        "    if pred_max == actual_max:\n",
        "        correct += 1\n",
        "    else:\n",
        "        wrong += 1\n",
        "\n",
        "print('correct =', correct, ', wrong =', wrong)\n",
        "print('accuracy = ', correct/n_preds)"
      ],
      "id": "DHH_CuhVWjXT",
      "execution_count": null,
      "outputs": [
        {
          "name": "stdout",
          "output_type": "stream",
          "text": [
            "correct = 52 , wrong = 8\n",
            "accuracy =  0.8666666666666667\n"
          ]
        }
      ]
    },
    {
      "cell_type": "markdown",
      "metadata": {
        "id": "3601d0a3"
      },
      "source": [
        "-- epoch: 50\n",
        "- layers: relu, softmax; dropout 0.1 --> loss=1.22, accuracy=0.88\n",
        "- layers: relu, softmax; dropout 0.2 --> loss=0.39, accuracy=0.85\n",
        "- layers: relu, sigmoid, softmax; dropout 0.2 --> loss=0.48, accuracy= 0.88\n",
        "- layers: relu, sigmoid, softmax; dropout 0.3 --> loss=0.53 accuracy=0.86\n",
        "- layers: relu, sigmoid, softmax; dropout 0.1 --> loss=0.46 accuracy=0.88\n",
        "\n",
        "--epoch: 25\n",
        "- layers: relu, softmax; dropout 0.1 --> loss=1.29 accuracy=0.88\n",
        "- layers: relu, softmax; dropout 0.2 --> loss=0.83 accuracy=0.86\n",
        "- layers: relu, sigmoid, softmax; dropout 0.2 --> loss=0.40 accuracy=0.88\n",
        "\n",
        "- Flip,Rotate,Zoom (-0.4)+layers: relu, sigmoid, softmax; dropout 0.2 --> loss=0.41 accuracy=0.89\n",
        "- Flip,Rotate,Zoom (-0.3)+layers: relu, sigmoid, softmax; dropout 0.2 --> loss=0.46 accuracy=0.88\n",
        "- Flip,Rotate,Zoom (-0.2)+layers: relu, sigmoid, softmax; dropout 0.2 --> loss=0.42 accuracy=0.89\n"
      ],
      "id": "3601d0a3"
    },
    {
      "cell_type": "code",
      "metadata": {
        "id": "c519840d"
      },
      "source": [
        ""
      ],
      "id": "c519840d",
      "execution_count": null,
      "outputs": []
    },
    {
      "cell_type": "code",
      "metadata": {
        "id": "fbeee3ed"
      },
      "source": [
        ""
      ],
      "id": "fbeee3ed",
      "execution_count": null,
      "outputs": []
    }
  ]
}