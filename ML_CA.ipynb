{
  "nbformat": 4,
  "nbformat_minor": 5,
  "metadata": {
    "kernelspec": {
      "display_name": "Python 3 (ipykernel)",
      "language": "python",
      "name": "python3"
    },
    "language_info": {
      "codemirror_mode": {
        "name": "ipython",
        "version": 3
      },
      "file_extension": ".py",
      "mimetype": "text/x-python",
      "name": "python",
      "nbconvert_exporter": "python",
      "pygments_lexer": "ipython3",
      "version": "3.8.12"
    },
    "colab": {
      "name": "Jotestcode-Tensorflow Code.ipynb",
      "provenance": [],
      "collapsed_sections": [
        "Q1EFV6LcefRK",
        "BLh0xe_qxTy_",
        "oqKIl1wyxzEP"
      ],
      "include_colab_link": true
    },
    "accelerator": "GPU"
  },
  "cells": [
    {
      "cell_type": "markdown",
      "metadata": {
        "id": "view-in-github",
        "colab_type": "text"
      },
      "source": [
        "<a href=\"https://colab.research.google.com/github/Jo-009/ML_CA/blob/Ver.2/ML_CA.ipynb\" target=\"_parent\"><img src=\"https://colab.research.google.com/assets/colab-badge.svg\" alt=\"Open In Colab\"/></a>"
      ]
    },
    {
      "cell_type": "markdown",
      "metadata": {
        "id": "53ef8e64"
      },
      "source": [
        "## CA Specifications\n",
        "1. A Fruits dataset is provided for this project, and it has images of (1) \n",
        "   apples, (2)oranges, (3) bananas and (4) a mix of apples, oranges and \n",
        "   bananas.\n",
        "2. Your task is to implement a CNN to recognize the 4 classes accurately.\n",
        "3. Use the images in the “train” folder to train your image classifier.\n",
        "4. Then, test the accuracy of your image classifier using images from the \n",
        "   “test” folder.\n",
        "5. Document all your experiments and results. For example, what was done to\n",
        "   increase the accuracy of your image classifier (e.g. image augmentation).\n",
        "6. Use Matplotlib to produce any plots that help the reader understand your\n",
        "   work better.\n",
        "   \n",
        "### Submission\n",
        "The deadline for this project is <b>28 Nov 2021, 6pm</b>.\n",
        "Please name your submission as <Your_Team_Number><A_or_B>.ipynb. For\n",
        "example, if you are in Team 1A, then your filename should be Team1A.ipynb."
      ],
      "id": "53ef8e64"
    },
    {
      "cell_type": "code",
      "metadata": {
        "id": "TZWn23PxXuTb"
      },
      "source": [
        "import matplotlib.pyplot as plt\n",
        "import seaborn as sns\n",
        "import tensorflow as tf\n",
        "import numpy as np\n",
        "import pandas as pd\n",
        "import os\n",
        "import cv2\n",
        "from PIL import Image, ImageOps"
      ],
      "id": "TZWn23PxXuTb",
      "execution_count": 89,
      "outputs": []
    },
    {
      "cell_type": "markdown",
      "metadata": {
        "id": "9fd28ede"
      },
      "source": [
        "### Preprocessing and Loading Data\n",
        "\n",
        "Derive x_train,x_test,x_val,y_train,y_test and y_val \n",
        "\n",
        "<b>x_train</b>: Numpy arrays of the images of the training dataset\n",
        "\n",
        "<b>y_train</b>: Labels of the training dataset\n",
        "\n",
        "<b>x_test</b>: Numpy arrays of the images of the testing dataset\n",
        "\n",
        "<b>y_test</b>: Labels of the testing dataset\n",
        "\n",
        "<b>x_val</b>: Numpy arrays of the images of the validation dataset\n",
        "\n",
        "<b>y_val</b>: Labels of the validation dataset"
      ],
      "id": "9fd28ede"
    },
    {
      "cell_type": "code",
      "metadata": {
        "id": "ceSWGug0a2nC"
      },
      "source": [
        "train_img_path = '/content/drive/MyDrive/Colab Notebooks/train/'\n",
        "test_img_path = '/content/drive/MyDrive/Colab Notebooks/test/1/' "
      ],
      "id": "ceSWGug0a2nC",
      "execution_count": 90,
      "outputs": []
    },
    {
      "cell_type": "markdown",
      "metadata": {
        "id": "Q1EFV6LcefRK"
      },
      "source": [
        "### Testing one img"
      ],
      "id": "Q1EFV6LcefRK"
    },
    {
      "cell_type": "code",
      "metadata": {
        "id": "rOvqWx9TbBND"
      },
      "source": [
        "# #test one img\n",
        "# img = Image.open(train_img_path + 'mixed_4.jpg')\n",
        "# img"
      ],
      "id": "rOvqWx9TbBND",
      "execution_count": 91,
      "outputs": []
    },
    {
      "cell_type": "code",
      "metadata": {
        "id": "1vabP3eWbo23"
      },
      "source": [
        "# np_img = np.array(img)\n",
        "# #plt.imshow(np_img)\n",
        "# np_img.shape"
      ],
      "id": "1vabP3eWbo23",
      "execution_count": 92,
      "outputs": []
    },
    {
      "cell_type": "code",
      "metadata": {
        "id": "HPdPe3qvcGaQ"
      },
      "source": [
        "# # normalize pixels values to between 0.0 to 1.0\n",
        "# np_img_norm = np_img / 255\n",
        "# np_img_norm"
      ],
      "id": "HPdPe3qvcGaQ",
      "execution_count": 93,
      "outputs": []
    },
    {
      "cell_type": "code",
      "metadata": {
        "id": "DGjLDdxEdnsM"
      },
      "source": [
        "# # crop and resize img\n",
        "# width, height = img.size\n",
        "# pad = 20    # pixels\n",
        "\n",
        "# img_crop = img.crop((pad, pad, width-pad, height-pad))\n",
        "# img_mod = img_crop.resize((650,650))\n",
        "\n",
        "# img_mod.size"
      ],
      "id": "DGjLDdxEdnsM",
      "execution_count": 94,
      "outputs": []
    },
    {
      "cell_type": "code",
      "metadata": {
        "id": "6mmafiLbdyAP"
      },
      "source": [
        "# # plot modified img\n",
        "# plt.subplots(figsize=(2,2))\n",
        "# plt.imshow(img_mod)"
      ],
      "id": "6mmafiLbdyAP",
      "execution_count": 95,
      "outputs": []
    },
    {
      "cell_type": "markdown",
      "metadata": {
        "id": "s26VazgziSj3"
      },
      "source": [
        "### Load data"
      ],
      "id": "s26VazgziSj3"
    },
    {
      "cell_type": "code",
      "metadata": {
        "id": "19cb9b63"
      },
      "source": [
        "train_ds_raw = os.listdir('/content/drive/MyDrive/Colab Notebooks/train/')\n",
        "test_ds_raw = os.listdir('/content/drive/MyDrive/Colab Notebooks/test/1/')"
      ],
      "id": "19cb9b63",
      "execution_count": 96,
      "outputs": []
    },
    {
      "cell_type": "code",
      "metadata": {
        "id": "ifdGO1wLZI36",
        "colab": {
          "base_uri": "https://localhost:8080/"
        },
        "outputId": "68f64691-382b-454b-a3ad-406ccfcf7fd2"
      },
      "source": [
        "train_ds_raw"
      ],
      "id": "ifdGO1wLZI36",
      "execution_count": 97,
      "outputs": [
        {
          "output_type": "execute_result",
          "data": {
            "text/plain": [
              "['apple_28.xml',\n",
              " 'apple_11.jpg',\n",
              " 'apple_22.jpg',\n",
              " 'apple_2.jpg',\n",
              " 'apple_18.jpg',\n",
              " 'apple_15.xml',\n",
              " 'apple_10.xml',\n",
              " 'apple_20.xml',\n",
              " 'apple_28.jpg',\n",
              " 'apple_11.xml',\n",
              " 'apple_12.jpg',\n",
              " 'apple_31.jpg',\n",
              " 'apple_30.jpg',\n",
              " 'apple_19.xml',\n",
              " 'apple_17.jpg',\n",
              " 'apple_14.jpg',\n",
              " 'apple_23.xml',\n",
              " 'apple_20.jpg',\n",
              " 'apple_19.jpg',\n",
              " 'apple_1.xml',\n",
              " 'apple_16.jpg',\n",
              " 'apple_3.xml',\n",
              " 'apple_3.jpg',\n",
              " 'apple_29.jpg',\n",
              " 'apple_18.xml',\n",
              " 'apple_27.xml',\n",
              " 'apple_21.xml',\n",
              " 'apple_24.xml',\n",
              " 'apple_10.jpg',\n",
              " 'apple_26.xml',\n",
              " 'apple_13.xml',\n",
              " 'apple_15.jpg',\n",
              " 'apple_24.jpg',\n",
              " 'apple_29.xml',\n",
              " 'apple_16.xml',\n",
              " 'apple_22.xml',\n",
              " 'apple_2.xml',\n",
              " 'apple_12.xml',\n",
              " 'apple_17.xml',\n",
              " 'apple_13.jpg',\n",
              " 'apple_1.jpg',\n",
              " 'apple_30.xml',\n",
              " 'apple_26.jpg',\n",
              " 'apple_27.jpg',\n",
              " 'apple_14.xml',\n",
              " 'apple_25.xml',\n",
              " 'apple_25.jpg',\n",
              " 'apple_23.jpg',\n",
              " 'apple_21.jpg',\n",
              " 'apple_39.xml',\n",
              " 'apple_50.jpg',\n",
              " 'apple_53.jpg',\n",
              " 'apple_50.xml',\n",
              " 'apple_54.jpg',\n",
              " 'apple_38.xml',\n",
              " 'apple_52.xml',\n",
              " 'apple_56.xml',\n",
              " 'apple_48.xml',\n",
              " 'apple_49.xml',\n",
              " 'apple_57.jpg',\n",
              " 'apple_45.xml',\n",
              " 'apple_42.xml',\n",
              " 'apple_53.xml',\n",
              " 'apple_47.xml',\n",
              " 'apple_44.xml',\n",
              " 'apple_41.xml',\n",
              " 'apple_33.jpg',\n",
              " 'apple_36.jpg',\n",
              " 'apple_35.jpg',\n",
              " 'apple_48.jpg',\n",
              " 'apple_4.xml',\n",
              " 'apple_4.jpg',\n",
              " 'apple_5.jpg',\n",
              " 'apple_37.jpg',\n",
              " 'apple_43.jpg',\n",
              " 'apple_39.jpg',\n",
              " 'apple_43.xml',\n",
              " 'apple_35.xml',\n",
              " 'apple_55.jpg',\n",
              " 'apple_51.xml',\n",
              " 'apple_45.jpg',\n",
              " 'apple_44.jpg',\n",
              " 'apple_52.jpg',\n",
              " 'apple_32.jpg',\n",
              " 'apple_47.jpg',\n",
              " 'apple_41.jpg',\n",
              " 'apple_55.xml',\n",
              " 'apple_31.xml',\n",
              " 'apple_49.jpg',\n",
              " 'apple_40.jpg',\n",
              " 'apple_42.jpg',\n",
              " 'apple_46.xml',\n",
              " 'apple_54.xml',\n",
              " 'apple_56.jpg',\n",
              " 'apple_46.jpg',\n",
              " 'apple_32.xml',\n",
              " 'apple_36.xml',\n",
              " 'apple_51.jpg',\n",
              " 'apple_5.xml',\n",
              " 'apple_38.jpg',\n",
              " 'apple_40.xml',\n",
              " 'apple_37.xml',\n",
              " 'apple_33.xml',\n",
              " 'apple_9.xml',\n",
              " 'apple_71.jpg',\n",
              " 'banana_1.jpg',\n",
              " 'apple_8.xml',\n",
              " 'apple_70.xml',\n",
              " 'apple_68.xml',\n",
              " 'apple_9.jpg',\n",
              " 'apple_73.jpg',\n",
              " 'apple_58.xml',\n",
              " 'apple_70.jpg',\n",
              " 'banana_10.xml',\n",
              " 'apple_61.jpg',\n",
              " 'apple_67.xml',\n",
              " 'apple_62.jpg',\n",
              " 'apple_64.jpg',\n",
              " 'apple_6.jpg',\n",
              " 'apple_58.jpg',\n",
              " 'banana_12.jpg',\n",
              " 'apple_61.xml',\n",
              " 'apple_76.jpg',\n",
              " 'apple_63.jpg',\n",
              " 'apple_7.xml',\n",
              " 'apple_68.jpg',\n",
              " 'apple_72.xml',\n",
              " 'apple_76.xml',\n",
              " 'apple_8.jpg',\n",
              " 'apple_73.xml',\n",
              " 'apple_57.xml',\n",
              " 'banana_10.jpg',\n",
              " 'apple_69.xml',\n",
              " 'apple_62.xml',\n",
              " 'apple_69.jpg',\n",
              " 'apple_6.xml',\n",
              " 'apple_66.jpg',\n",
              " 'banana_11.jpg',\n",
              " 'banana_13.xml',\n",
              " 'apple_72.jpg',\n",
              " 'apple_74.xml',\n",
              " 'apple_63.xml',\n",
              " 'banana_1.xml',\n",
              " 'apple_71.xml',\n",
              " 'apple_66.xml',\n",
              " 'apple_74.jpg',\n",
              " 'apple_59.jpg',\n",
              " 'apple_60.xml',\n",
              " 'apple_64.xml',\n",
              " 'banana_11.xml',\n",
              " 'apple_75.xml',\n",
              " 'apple_60.jpg',\n",
              " 'banana_12.xml',\n",
              " 'apple_65.xml',\n",
              " 'apple_65.jpg',\n",
              " 'apple_75.jpg',\n",
              " 'apple_7.jpg',\n",
              " 'apple_59.xml',\n",
              " 'apple_67.jpg',\n",
              " 'banana_13.jpg',\n",
              " 'banana_20.xml',\n",
              " 'banana_34.xml',\n",
              " 'banana_29.xml',\n",
              " 'banana_2.xml',\n",
              " 'banana_26.xml',\n",
              " 'banana_30.xml',\n",
              " 'banana_4.jpg',\n",
              " 'banana_17.xml',\n",
              " 'banana_36.xml',\n",
              " 'banana_21.jpg',\n",
              " 'banana_24.jpg',\n",
              " 'banana_34.jpg',\n",
              " 'banana_2.jpg',\n",
              " 'banana_36.jpg',\n",
              " 'banana_39.jpg',\n",
              " 'banana_30.jpg',\n",
              " 'banana_31.jpg',\n",
              " 'banana_4.xml',\n",
              " 'banana_27.xml',\n",
              " 'banana_21.xml',\n",
              " 'banana_29.jpg',\n",
              " 'banana_16.xml',\n",
              " 'banana_38.jpg',\n",
              " 'banana_28.xml',\n",
              " 'banana_38.xml',\n",
              " 'banana_14.jpg',\n",
              " 'banana_28.jpg',\n",
              " 'banana_33.xml',\n",
              " 'banana_25.jpg',\n",
              " 'banana_32.jpg',\n",
              " 'banana_31.xml',\n",
              " 'banana_27.jpg',\n",
              " 'banana_26.jpg',\n",
              " 'banana_17.jpg',\n",
              " 'banana_3.jpg',\n",
              " 'banana_32.xml',\n",
              " 'banana_3.xml',\n",
              " 'banana_16.jpg',\n",
              " 'banana_33.jpg',\n",
              " 'banana_23.jpg',\n",
              " 'banana_35.xml',\n",
              " 'banana_20.jpg',\n",
              " 'banana_37.jpg',\n",
              " 'banana_40.jpg',\n",
              " 'banana_25.xml',\n",
              " 'banana_35.jpg',\n",
              " 'banana_24.xml',\n",
              " 'banana_23.xml',\n",
              " 'banana_39.xml',\n",
              " 'banana_14.xml',\n",
              " 'banana_37.xml',\n",
              " 'banana_22.xml',\n",
              " 'banana_40.xml',\n",
              " 'banana_22.jpg',\n",
              " 'banana_59.xml',\n",
              " 'banana_57.jpg',\n",
              " 'banana_51.xml',\n",
              " 'banana_64.jpg',\n",
              " 'banana_51.jpg',\n",
              " 'banana_59.jpg',\n",
              " 'banana_41.jpg',\n",
              " 'banana_45.xml',\n",
              " 'banana_49.jpg',\n",
              " 'banana_48.jpg',\n",
              " 'banana_54.jpg',\n",
              " 'banana_53.xml',\n",
              " 'banana_56.jpg',\n",
              " 'banana_60.jpg',\n",
              " 'banana_43.xml',\n",
              " 'banana_52.jpg',\n",
              " 'banana_63.xml',\n",
              " 'banana_58.xml',\n",
              " 'banana_55.jpg',\n",
              " 'banana_42.jpg',\n",
              " 'banana_61.jpg',\n",
              " 'banana_62.xml',\n",
              " 'banana_50.xml',\n",
              " 'banana_42.xml',\n",
              " 'banana_56.xml',\n",
              " 'banana_55.xml',\n",
              " 'banana_50.jpg',\n",
              " 'banana_44.jpg',\n",
              " 'banana_47.jpg',\n",
              " 'banana_65.jpg',\n",
              " 'banana_5.xml',\n",
              " 'banana_54.xml',\n",
              " 'banana_45.jpg',\n",
              " 'banana_58.jpg',\n",
              " 'banana_61.xml',\n",
              " 'banana_49.xml',\n",
              " 'banana_6.jpg',\n",
              " 'banana_65.xml',\n",
              " 'banana_60.xml',\n",
              " 'banana_63.jpg',\n",
              " 'banana_6.xml',\n",
              " 'banana_47.xml',\n",
              " 'banana_57.xml',\n",
              " 'banana_46.jpg',\n",
              " 'banana_41.xml',\n",
              " 'banana_5.jpg',\n",
              " 'banana_44.xml',\n",
              " 'banana_53.jpg',\n",
              " 'banana_48.xml',\n",
              " 'banana_46.xml',\n",
              " 'banana_52.xml',\n",
              " 'banana_62.jpg',\n",
              " 'banana_43.jpg',\n",
              " 'banana_64.xml',\n",
              " 'banana_7.jpg',\n",
              " 'mixed_10.xml',\n",
              " 'banana_9.xml',\n",
              " 'mixed_2.jpg',\n",
              " 'banana_66.xml',\n",
              " 'banana_8.xml',\n",
              " 'mixed_15.jpg',\n",
              " 'mixed_11.jpg',\n",
              " 'mixed_14.jpg',\n",
              " 'mixed_11.xml',\n",
              " 'banana_72.xml',\n",
              " 'banana_8.jpg',\n",
              " 'mixed_12.xml',\n",
              " 'mixed_16.jpg',\n",
              " 'mixed_15.xml',\n",
              " 'banana_75.xml',\n",
              " 'mixed_20.xml',\n",
              " 'mixed_12.jpg',\n",
              " 'banana_73.jpg',\n",
              " 'mixed_20.jpg',\n",
              " 'banana_71.jpg',\n",
              " 'banana_75.jpg',\n",
              " 'banana_69.xml',\n",
              " 'banana_76.xml',\n",
              " 'mixed_1.xml',\n",
              " 'mixed_19.xml',\n",
              " 'banana_66.jpg',\n",
              " 'banana_69.jpg',\n",
              " 'mixed_2.xml',\n",
              " 'banana_68.xml',\n",
              " 'banana_71.xml',\n",
              " 'banana_76.jpg',\n",
              " 'mixed_13.xml',\n",
              " 'mixed_18.jpg',\n",
              " 'mixed_17.jpg',\n",
              " 'banana_67.jpg',\n",
              " 'mixed_17.xml',\n",
              " 'banana_9.jpg',\n",
              " 'mixed_18.xml',\n",
              " 'banana_74.xml',\n",
              " 'banana_73.xml',\n",
              " 'mixed_16.xml',\n",
              " 'mixed_14.xml',\n",
              " 'banana_70.jpg',\n",
              " 'mixed_10.jpg',\n",
              " 'banana_68.jpg',\n",
              " 'mixed_1.jpg',\n",
              " 'banana_74.jpg',\n",
              " 'banana_7.xml',\n",
              " 'banana_72.jpg',\n",
              " 'mixed_13.jpg',\n",
              " 'mixed_19.jpg',\n",
              " 'banana_70.xml',\n",
              " 'banana_67.xml',\n",
              " 'orange_15.xml',\n",
              " 'mixed_8.xml',\n",
              " 'orange_23.xml',\n",
              " 'mixed_8.jpg',\n",
              " 'mixed_3.jpg',\n",
              " 'orange_1.jpg',\n",
              " 'orange_15.jpg',\n",
              " 'orange_2.xml',\n",
              " 'orange_14.xml',\n",
              " 'mixed_4.xml',\n",
              " 'mixed_3.xml',\n",
              " 'orange_22.xml',\n",
              " 'orange_10.xml',\n",
              " 'mixed_4.jpg',\n",
              " 'orange_16.xml',\n",
              " 'orange_12.xml',\n",
              " 'mixed_9.xml',\n",
              " 'orange_20.xml',\n",
              " 'orange_23.jpg',\n",
              " 'orange_10.jpg',\n",
              " 'orange_21.xml',\n",
              " 'orange_24.xml',\n",
              " 'mixed_7.jpg',\n",
              " 'mixed_6.jpg',\n",
              " 'orange_13.xml',\n",
              " 'mixed_9.jpg',\n",
              " 'orange_13.jpg',\n",
              " 'orange_19.jpg',\n",
              " 'orange_17.xml',\n",
              " 'orange_22.jpg',\n",
              " 'orange_12.jpg',\n",
              " 'mixed_6.xml',\n",
              " 'mixed_5.xml',\n",
              " 'orange_20.jpg',\n",
              " 'orange_11.xml',\n",
              " 'orange_1.xml',\n",
              " 'orange_18.jpg',\n",
              " 'orange_17.jpg',\n",
              " 'orange_24.jpg',\n",
              " 'orange_11.jpg',\n",
              " 'mixed_5.jpg',\n",
              " 'orange_19.xml',\n",
              " 'orange_2.jpg',\n",
              " 'mixed_7.xml',\n",
              " 'orange_18.xml',\n",
              " 'orange_16.jpg',\n",
              " 'orange_21.jpg',\n",
              " 'orange_14.jpg',\n",
              " 'orange_40.xml',\n",
              " 'orange_47.jpg',\n",
              " 'orange_4.xml',\n",
              " 'orange_30.jpg',\n",
              " 'orange_50.jpg',\n",
              " 'orange_32.jpg',\n",
              " 'orange_41.jpg',\n",
              " 'orange_49.xml',\n",
              " 'orange_3.xml',\n",
              " 'orange_3.jpg',\n",
              " 'orange_46.xml',\n",
              " 'orange_33.xml',\n",
              " 'orange_44.xml',\n",
              " 'orange_47.xml',\n",
              " 'orange_33.jpg',\n",
              " 'orange_31.jpg',\n",
              " 'orange_42.jpg',\n",
              " 'orange_38.jpg',\n",
              " 'orange_5.jpg',\n",
              " 'orange_25.xml',\n",
              " 'orange_4.jpg',\n",
              " 'orange_26.xml',\n",
              " 'orange_26.jpg',\n",
              " 'orange_29.jpg',\n",
              " 'orange_34.xml',\n",
              " 'orange_44.jpg',\n",
              " 'orange_28.xml',\n",
              " 'orange_30.xml',\n",
              " 'orange_29.xml',\n",
              " 'orange_37.jpg',\n",
              " 'orange_49.jpg',\n",
              " 'orange_42.xml',\n",
              " 'orange_37.xml',\n",
              " 'orange_35.xml',\n",
              " 'orange_43.xml',\n",
              " 'orange_27.xml',\n",
              " 'orange_34.jpg',\n",
              " 'orange_41.xml',\n",
              " 'orange_28.jpg',\n",
              " 'orange_31.xml',\n",
              " 'orange_36.xml',\n",
              " 'orange_35.jpg',\n",
              " 'orange_38.xml',\n",
              " 'orange_43.jpg',\n",
              " 'orange_25.jpg',\n",
              " 'orange_40.jpg',\n",
              " 'orange_36.jpg',\n",
              " 'orange_5.xml',\n",
              " 'orange_32.xml',\n",
              " 'orange_46.jpg',\n",
              " 'orange_27.jpg',\n",
              " 'orange_48.jpg',\n",
              " 'orange_48.xml',\n",
              " 'orange_68.xml',\n",
              " 'orange_74.xml',\n",
              " 'orange_57.xml',\n",
              " 'orange_70.jpg',\n",
              " 'orange_6.jpg',\n",
              " 'orange_75.xml',\n",
              " 'orange_62.jpg',\n",
              " 'orange_63.jpg',\n",
              " 'orange_53.xml',\n",
              " 'orange_67.jpg',\n",
              " 'orange_60.xml',\n",
              " 'orange_72.xml',\n",
              " 'orange_7.jpg',\n",
              " 'orange_56.jpg',\n",
              " 'orange_59.xml',\n",
              " 'orange_75.jpg',\n",
              " 'orange_64.xml',\n",
              " 'orange_54.xml',\n",
              " 'orange_63.xml',\n",
              " 'orange_67.xml',\n",
              " 'orange_74.jpg',\n",
              " 'orange_52.jpg',\n",
              " 'orange_71.xml',\n",
              " 'orange_70.xml',\n",
              " 'orange_55.jpg',\n",
              " 'orange_53.jpg',\n",
              " 'orange_55.xml',\n",
              " 'orange_72.jpg',\n",
              " 'orange_76.jpg',\n",
              " 'orange_61.xml',\n",
              " 'orange_61.jpg',\n",
              " 'orange_71.jpg',\n",
              " 'orange_51.jpg',\n",
              " 'orange_60.jpg',\n",
              " 'orange_51.xml',\n",
              " 'orange_58.xml',\n",
              " 'orange_50.xml',\n",
              " 'orange_64.jpg',\n",
              " 'orange_69.xml',\n",
              " 'orange_52.xml',\n",
              " 'orange_59.jpg',\n",
              " 'orange_69.jpg',\n",
              " 'orange_73.xml',\n",
              " 'orange_58.jpg',\n",
              " 'orange_7.xml',\n",
              " 'orange_54.jpg',\n",
              " 'orange_62.xml',\n",
              " 'orange_56.xml',\n",
              " 'orange_73.jpg',\n",
              " 'orange_57.jpg',\n",
              " 'orange_68.jpg',\n",
              " 'orange_6.xml',\n",
              " 'orange_9.xml',\n",
              " 'orange_9.jpg',\n",
              " 'orange_8.jpg',\n",
              " 'orange_76.xml',\n",
              " 'orange_8.xml']"
            ]
          },
          "metadata": {},
          "execution_count": 97
        }
      ]
    },
    {
      "cell_type": "code",
      "metadata": {
        "id": "r3ys7pFNvv1d",
        "colab": {
          "base_uri": "https://localhost:8080/"
        },
        "outputId": "75c4f749-a616-41cf-a2a8-83fd8b3bb80c"
      },
      "source": [
        "type(train_ds_raw), len(train_ds_raw)"
      ],
      "id": "r3ys7pFNvv1d",
      "execution_count": 98,
      "outputs": [
        {
          "output_type": "execute_result",
          "data": {
            "text/plain": [
              "(list, 480)"
            ]
          },
          "metadata": {},
          "execution_count": 98
        }
      ]
    },
    {
      "cell_type": "markdown",
      "metadata": {
        "id": "ltlkR0Avwm2r"
      },
      "source": [
        "### Create X_train"
      ],
      "id": "ltlkR0Avwm2r"
    },
    {
      "cell_type": "code",
      "metadata": {
        "id": "G_aVwgiMvSBn"
      },
      "source": [
        "filenames = []\n",
        "for label in train_ds_raw:\n",
        "    if label[-3:] == 'xml': \n",
        "        continue              # only take jpeg\n",
        "    else:\n",
        "        filenames.append(train_img_path + label)"
      ],
      "id": "G_aVwgiMvSBn",
      "execution_count": 99,
      "outputs": []
    },
    {
      "cell_type": "code",
      "metadata": {
        "id": "jwJueec5fL3Y",
        "colab": {
          "base_uri": "https://localhost:8080/"
        },
        "outputId": "54cdb709-a31a-4af6-e443-b7178f6052e9"
      },
      "source": [
        "# filenames\n",
        "len(filenames)"
      ],
      "id": "jwJueec5fL3Y",
      "execution_count": 100,
      "outputs": [
        {
          "output_type": "execute_result",
          "data": {
            "text/plain": [
              "240"
            ]
          },
          "metadata": {},
          "execution_count": 100
        }
      ]
    },
    {
      "cell_type": "markdown",
      "metadata": {
        "id": "FiE5sRB-wvBX"
      },
      "source": [
        "### Create y_train label"
      ],
      "id": "FiE5sRB-wvBX"
    },
    {
      "cell_type": "code",
      "metadata": {
        "id": "e91ehIK9vLku"
      },
      "source": [
        "y_train_label = []\n",
        "\n",
        "for label in train_ds_raw:\n",
        "    if label[-3:] == 'xml': \n",
        "        continue              #if xml, ignore\n",
        "    arr = label.split('_')    # else, str manipulation \n",
        "    y_train_label.append(arr[0])\n"
      ],
      "id": "e91ehIK9vLku",
      "execution_count": 101,
      "outputs": []
    },
    {
      "cell_type": "code",
      "metadata": {
        "id": "57042e0f",
        "colab": {
          "base_uri": "https://localhost:8080/"
        },
        "outputId": "389266c0-2c52-43b8-9e4f-079fa695cb7f"
      },
      "source": [
        "#y_train_label\n",
        "len(filenames), len(y_train_label)"
      ],
      "id": "57042e0f",
      "execution_count": 102,
      "outputs": [
        {
          "output_type": "execute_result",
          "data": {
            "text/plain": [
              "(240, 240)"
            ]
          },
          "metadata": {},
          "execution_count": 102
        }
      ]
    },
    {
      "cell_type": "markdown",
      "metadata": {
        "id": "BLh0xe_qxTy_"
      },
      "source": [
        "### Create df to visualize datasets"
      ],
      "id": "BLh0xe_qxTy_"
    },
    {
      "cell_type": "code",
      "metadata": {
        "id": "vg9zB5CvxYpU"
      },
      "source": [
        "df = pd.DataFrame(columns=['filenames'], data=filenames)"
      ],
      "id": "vg9zB5CvxYpU",
      "execution_count": 103,
      "outputs": []
    },
    {
      "cell_type": "code",
      "metadata": {
        "id": "y8hnNB_excjB"
      },
      "source": [
        "df['y_train_label'] = y_train_label"
      ],
      "id": "y8hnNB_excjB",
      "execution_count": 104,
      "outputs": []
    },
    {
      "cell_type": "code",
      "metadata": {
        "id": "a4rqMNaFxgTs",
        "colab": {
          "base_uri": "https://localhost:8080/",
          "height": 423
        },
        "outputId": "37150991-dbf2-4155-8499-91c112f04665"
      },
      "source": [
        "df"
      ],
      "id": "a4rqMNaFxgTs",
      "execution_count": 105,
      "outputs": [
        {
          "output_type": "execute_result",
          "data": {
            "text/html": [
              "<div>\n",
              "<style scoped>\n",
              "    .dataframe tbody tr th:only-of-type {\n",
              "        vertical-align: middle;\n",
              "    }\n",
              "\n",
              "    .dataframe tbody tr th {\n",
              "        vertical-align: top;\n",
              "    }\n",
              "\n",
              "    .dataframe thead th {\n",
              "        text-align: right;\n",
              "    }\n",
              "</style>\n",
              "<table border=\"1\" class=\"dataframe\">\n",
              "  <thead>\n",
              "    <tr style=\"text-align: right;\">\n",
              "      <th></th>\n",
              "      <th>filenames</th>\n",
              "      <th>y_train_label</th>\n",
              "    </tr>\n",
              "  </thead>\n",
              "  <tbody>\n",
              "    <tr>\n",
              "      <th>0</th>\n",
              "      <td>/content/drive/MyDrive/Colab Notebooks/train/a...</td>\n",
              "      <td>apple</td>\n",
              "    </tr>\n",
              "    <tr>\n",
              "      <th>1</th>\n",
              "      <td>/content/drive/MyDrive/Colab Notebooks/train/a...</td>\n",
              "      <td>apple</td>\n",
              "    </tr>\n",
              "    <tr>\n",
              "      <th>2</th>\n",
              "      <td>/content/drive/MyDrive/Colab Notebooks/train/a...</td>\n",
              "      <td>apple</td>\n",
              "    </tr>\n",
              "    <tr>\n",
              "      <th>3</th>\n",
              "      <td>/content/drive/MyDrive/Colab Notebooks/train/a...</td>\n",
              "      <td>apple</td>\n",
              "    </tr>\n",
              "    <tr>\n",
              "      <th>4</th>\n",
              "      <td>/content/drive/MyDrive/Colab Notebooks/train/a...</td>\n",
              "      <td>apple</td>\n",
              "    </tr>\n",
              "    <tr>\n",
              "      <th>...</th>\n",
              "      <td>...</td>\n",
              "      <td>...</td>\n",
              "    </tr>\n",
              "    <tr>\n",
              "      <th>235</th>\n",
              "      <td>/content/drive/MyDrive/Colab Notebooks/train/o...</td>\n",
              "      <td>orange</td>\n",
              "    </tr>\n",
              "    <tr>\n",
              "      <th>236</th>\n",
              "      <td>/content/drive/MyDrive/Colab Notebooks/train/o...</td>\n",
              "      <td>orange</td>\n",
              "    </tr>\n",
              "    <tr>\n",
              "      <th>237</th>\n",
              "      <td>/content/drive/MyDrive/Colab Notebooks/train/o...</td>\n",
              "      <td>orange</td>\n",
              "    </tr>\n",
              "    <tr>\n",
              "      <th>238</th>\n",
              "      <td>/content/drive/MyDrive/Colab Notebooks/train/o...</td>\n",
              "      <td>orange</td>\n",
              "    </tr>\n",
              "    <tr>\n",
              "      <th>239</th>\n",
              "      <td>/content/drive/MyDrive/Colab Notebooks/train/o...</td>\n",
              "      <td>orange</td>\n",
              "    </tr>\n",
              "  </tbody>\n",
              "</table>\n",
              "<p>240 rows × 2 columns</p>\n",
              "</div>"
            ],
            "text/plain": [
              "                                             filenames y_train_label\n",
              "0    /content/drive/MyDrive/Colab Notebooks/train/a...         apple\n",
              "1    /content/drive/MyDrive/Colab Notebooks/train/a...         apple\n",
              "2    /content/drive/MyDrive/Colab Notebooks/train/a...         apple\n",
              "3    /content/drive/MyDrive/Colab Notebooks/train/a...         apple\n",
              "4    /content/drive/MyDrive/Colab Notebooks/train/a...         apple\n",
              "..                                                 ...           ...\n",
              "235  /content/drive/MyDrive/Colab Notebooks/train/o...        orange\n",
              "236  /content/drive/MyDrive/Colab Notebooks/train/o...        orange\n",
              "237  /content/drive/MyDrive/Colab Notebooks/train/o...        orange\n",
              "238  /content/drive/MyDrive/Colab Notebooks/train/o...        orange\n",
              "239  /content/drive/MyDrive/Colab Notebooks/train/o...        orange\n",
              "\n",
              "[240 rows x 2 columns]"
            ]
          },
          "metadata": {},
          "execution_count": 105
        }
      ]
    },
    {
      "cell_type": "code",
      "metadata": {
        "id": "VuOtqL4kxkmz"
      },
      "source": [
        "# img = cv2.imread(filenames[10], cv2.IMREAD_COLOR)\n",
        "# img.shape"
      ],
      "id": "VuOtqL4kxkmz",
      "execution_count": 106,
      "outputs": []
    },
    {
      "cell_type": "markdown",
      "metadata": {
        "id": "oqKIl1wyxzEP"
      },
      "source": [
        "### Plot Histogram to set size of images"
      ],
      "id": "oqKIl1wyxzEP"
    },
    {
      "cell_type": "code",
      "metadata": {
        "id": "f5cf9753"
      },
      "source": [
        "# plot histogram\n",
        "# decide which is the more common size for img\n",
        "# Getting the dimensions of all the image into a list\n",
        "dim1 = []\n",
        "dim2 = []\n",
        "colors = []\n",
        "\n",
        "for img_filename in filenames:\n",
        "    x, y, c = plt.imread(img_filename).shape # height width color\n",
        "    dim1.append(x)\n",
        "    dim2.append(y)\n",
        "    colors.append(c)"
      ],
      "id": "f5cf9753",
      "execution_count": 107,
      "outputs": []
    },
    {
      "cell_type": "code",
      "metadata": {
        "id": "fg5YDbf3x-rp"
      },
      "source": [
        "dim1 = np.array(dim1)\n",
        "dim2 = np.array(dim2)\n",
        "colors = np.array(colors)"
      ],
      "id": "fg5YDbf3x-rp",
      "execution_count": 108,
      "outputs": []
    },
    {
      "cell_type": "code",
      "metadata": {
        "id": "aF8QZ53zyBBI",
        "colab": {
          "base_uri": "https://localhost:8080/"
        },
        "outputId": "4e58994a-7888-45de-d66f-e2f2f1c35baf"
      },
      "source": [
        "dim1.max(), dim2.max(), colors.mean()"
      ],
      "id": "aF8QZ53zyBBI",
      "execution_count": 109,
      "outputs": [
        {
          "output_type": "execute_result",
          "data": {
            "text/plain": [
              "(4605, 3160, 3.1083333333333334)"
            ]
          },
          "metadata": {},
          "execution_count": 109
        }
      ]
    },
    {
      "cell_type": "code",
      "metadata": {
        "id": "ab0615dd",
        "colab": {
          "base_uri": "https://localhost:8080/",
          "height": 0
        },
        "outputId": "28ee55dd-3a99-4efc-daf4-0352704044ae"
      },
      "source": [
        "sns.jointplot(x=dim1, y=dim2);"
      ],
      "id": "ab0615dd",
      "execution_count": 110,
      "outputs": [
        {
          "output_type": "display_data",
          "data": {
            "image/png": "[encoded data removed]",
            "text/plain": [
              "<Figure size 432x432 with 3 Axes>"
            ]
          },
          "metadata": {
            "needs_background": "light"
          }
        }
      ]
    },
    {
      "cell_type": "code",
      "metadata": {
        "id": "iO5DwUcYyHGa",
        "colab": {
          "base_uri": "https://localhost:8080/"
        },
        "outputId": "b0926b7d-f08b-4966-d0ec-e46d81d94429"
      },
      "source": [
        "dim1.mean(), dim2.mean()"
      ],
      "id": "iO5DwUcYyHGa",
      "execution_count": 111,
      "outputs": [
        {
          "output_type": "execute_result",
          "data": {
            "text/plain": [
              "(633.5083333333333, 789.2166666666667)"
            ]
          },
          "metadata": {},
          "execution_count": 111
        }
      ]
    },
    {
      "cell_type": "markdown",
      "metadata": {
        "id": "OtAm3FuiyJQf"
      },
      "source": [
        "resize according to findings:\n",
        "*Taking the mean of the image size, we set the image size to be 650 by 650 by 3 for easier computation*\n",
        "**image_size = (650, 650)**"
      ],
      "id": "OtAm3FuiyJQf"
    },
    {
      "cell_type": "markdown",
      "metadata": {
        "id": "LoXpWs5DzNB4"
      },
      "source": [
        "### Resize images to proper and similar size and create x_train"
      ],
      "id": "LoXpWs5DzNB4"
    },
    {
      "cell_type": "code",
      "metadata": {
        "id": "_WTcpqAik5Od"
      },
      "source": [
        "# # test greyscale and resize on 1 img\n",
        "# img = Image.open(filenames[1])\n",
        "# greyscale_img = img.convert('L')\n",
        "# img_resized = greyscale_img.resize((650,650))\n",
        "# img_resized"
      ],
      "id": "_WTcpqAik5Od",
      "execution_count": 112,
      "outputs": []
    },
    {
      "cell_type": "code",
      "metadata": {
        "id": "Yddgi2-KzbYf"
      },
      "source": [
        "# x_train = None\n",
        "\n",
        "# for i in range(len(filenames)):\n",
        "#     img_raw = Image.open(filenames[i])  \n",
        "#     greyscale_img = ImageOps.grayscale(img_raw)\n",
        "#     img_reshaped = greyscale_img.resize((650, 650))   \n",
        "#     if x_train is None:\n",
        "#         x_train = img_reshaped\n",
        "#     else:\n",
        "#         x_train = np.concatenate((x_train, img_reshaped))"
      ],
      "id": "Yddgi2-KzbYf",
      "execution_count": 113,
      "outputs": []
    },
    {
      "cell_type": "code",
      "metadata": {
        "id": "hvY4WiREuixE"
      },
      "source": [
        "x_train = None\n",
        "\n",
        "for i in range(len(y_train_label)):\n",
        "    img_raw = cv2.imread(filenames[i], cv2.IMREAD_COLOR)\n",
        "    img_reshaped = cv2.resize(img_raw,(250, 250), cv2.INTER_NEAREST)\n",
        "    img_reshaped = cv2.cvtColor(img_reshaped, cv2.COLOR_BGR2RGB)\n",
        "    if x_train is None:\n",
        "        x_train = img_reshaped\n",
        "    else:\n",
        "        x_train = np.concatenate((x_train, img_reshaped))"
      ],
      "id": "hvY4WiREuixE",
      "execution_count": 114,
      "outputs": []
    },
    {
      "cell_type": "markdown",
      "metadata": {
        "id": "ANhgnkGSyQ0k"
      },
      "source": [
        "Verify data shaped correctly "
      ],
      "id": "ANhgnkGSyQ0k"
    },
    {
      "cell_type": "code",
      "metadata": {
        "id": "Yj2vRp1J68Fj",
        "colab": {
          "base_uri": "https://localhost:8080/"
        },
        "outputId": "77896eee-7153-4da9-fcd9-692f77c3cd5c"
      },
      "source": [
        "x_train = x_train.reshape(-1, 250, 250, 3)\n",
        "x_train.shape"
      ],
      "id": "Yj2vRp1J68Fj",
      "execution_count": 115,
      "outputs": [
        {
          "output_type": "execute_result",
          "data": {
            "text/plain": [
              "(240, 250, 250, 3)"
            ]
          },
          "metadata": {},
          "execution_count": 115
        }
      ]
    },
    {
      "cell_type": "markdown",
      "metadata": {
        "id": "Fh2Wz05BJxfT"
      },
      "source": [
        "Verify that data is shaped correctly by randomly retrieving an individual data to view"
      ],
      "id": "Fh2Wz05BJxfT"
    },
    {
      "cell_type": "code",
      "metadata": {
        "id": "9vCcC-CSKCvv"
      },
      "source": [
        "# # img2 = Image.fromarray(x_train[1])\n",
        "# # --> bug in scipy so shape can throw error\n",
        "# img2 = np.array(Image.fromarray((x_train[1] * 255).astype(np.uint8)).convert('RGB'))\n",
        "# plt.subplots(figsize=(2,2))\n",
        "# plt.imshow(img2)"
      ],
      "id": "9vCcC-CSKCvv",
      "execution_count": 116,
      "outputs": []
    },
    {
      "cell_type": "markdown",
      "metadata": {
        "id": "K61EcIxjH8Mc"
      },
      "source": [
        "**Determine max value of each cell and min before normalizing**"
      ],
      "id": "K61EcIxjH8Mc"
    },
    {
      "cell_type": "code",
      "metadata": {
        "id": "336393cd",
        "colab": {
          "base_uri": "https://localhost:8080/"
        },
        "outputId": "9af47614-8c56-40cc-f104-066ef2c86f4a"
      },
      "source": [
        "x_train.max(), x_train.min()"
      ],
      "id": "336393cd",
      "execution_count": 117,
      "outputs": [
        {
          "output_type": "execute_result",
          "data": {
            "text/plain": [
              "(255, 0)"
            ]
          },
          "metadata": {},
          "execution_count": 117
        }
      ]
    },
    {
      "cell_type": "markdown",
      "metadata": {
        "id": "s1Iwp-eAIIDk"
      },
      "source": [
        "**Normalize dataset**"
      ],
      "id": "s1Iwp-eAIIDk"
    },
    {
      "cell_type": "code",
      "metadata": {
        "id": "Y15ugtfnILRB",
        "colab": {
          "base_uri": "https://localhost:8080/"
        },
        "outputId": "9ccb54a6-8620-4c1e-901f-9f901a8121fc"
      },
      "source": [
        "x_train = x_train/255\n",
        "print(x_train.shape)"
      ],
      "id": "Y15ugtfnILRB",
      "execution_count": 118,
      "outputs": [
        {
          "output_type": "stream",
          "name": "stdout",
          "text": [
            "(240, 250, 250, 3)\n"
          ]
        }
      ]
    },
    {
      "cell_type": "markdown",
      "metadata": {
        "id": "64a1cb65"
      },
      "source": [
        "One-Hot Encoding data using keras to_categorical"
      ],
      "id": "64a1cb65"
    },
    {
      "cell_type": "code",
      "metadata": {
        "id": "t3Z2Ti8TwsuQ",
        "colab": {
          "base_uri": "https://localhost:8080/"
        },
        "outputId": "09f60375-6b9f-4d82-e1b4-667565c83b4c"
      },
      "source": [
        "#labels in str\n",
        "cat = np.unique(y_train_label)\n",
        "cat"
      ],
      "id": "t3Z2Ti8TwsuQ",
      "execution_count": 119,
      "outputs": [
        {
          "output_type": "execute_result",
          "data": {
            "text/plain": [
              "array(['apple', 'banana', 'mixed', 'orange'], dtype='<U6')"
            ]
          },
          "metadata": {},
          "execution_count": 119
        }
      ]
    },
    {
      "cell_type": "code",
      "metadata": {
        "id": "3Yjzg3B6Ip29",
        "colab": {
          "base_uri": "https://localhost:8080/"
        },
        "outputId": "8bbb4340-7a46-4c2d-d6ad-22ac9e81dd95"
      },
      "source": [
        "n_labels = len(cat)\n",
        "n_labels"
      ],
      "id": "3Yjzg3B6Ip29",
      "execution_count": 120,
      "outputs": [
        {
          "output_type": "execute_result",
          "data": {
            "text/plain": [
              "4"
            ]
          },
          "metadata": {},
          "execution_count": 120
        }
      ]
    },
    {
      "cell_type": "code",
      "metadata": {
        "id": "u2raB5SCod-j",
        "colab": {
          "base_uri": "https://localhost:8080/"
        },
        "outputId": "99df25a8-f0e1-4184-ab6b-7f8e22e97d8b"
      },
      "source": [
        "from sklearn.preprocessing import LabelEncoder\n",
        "import pandas as pd\n",
        "\n",
        "#instantiate one hot encoding\n",
        "encoder = LabelEncoder()\n",
        "#fit\n",
        "encoder.fit(y_train_label)\n",
        "#transform\n",
        "data = encoder.transform(y_train_label)\n",
        "\n",
        "y_train = tf.keras.utils.to_categorical(data)\n",
        "print(y_train) "
      ],
      "id": "u2raB5SCod-j",
      "execution_count": 121,
      "outputs": [
        {
          "output_type": "stream",
          "name": "stdout",
          "text": [
            "[[1. 0. 0. 0.]\n",
            " [1. 0. 0. 0.]\n",
            " [1. 0. 0. 0.]\n",
            " [1. 0. 0. 0.]\n",
            " [1. 0. 0. 0.]\n",
            " [1. 0. 0. 0.]\n",
            " [1. 0. 0. 0.]\n",
            " [1. 0. 0. 0.]\n",
            " [1. 0. 0. 0.]\n",
            " [1. 0. 0. 0.]\n",
            " [1. 0. 0. 0.]\n",
            " [1. 0. 0. 0.]\n",
            " [1. 0. 0. 0.]\n",
            " [1. 0. 0. 0.]\n",
            " [1. 0. 0. 0.]\n",
            " [1. 0. 0. 0.]\n",
            " [1. 0. 0. 0.]\n",
            " [1. 0. 0. 0.]\n",
            " [1. 0. 0. 0.]\n",
            " [1. 0. 0. 0.]\n",
            " [1. 0. 0. 0.]\n",
            " [1. 0. 0. 0.]\n",
            " [1. 0. 0. 0.]\n",
            " [1. 0. 0. 0.]\n",
            " [1. 0. 0. 0.]\n",
            " [1. 0. 0. 0.]\n",
            " [1. 0. 0. 0.]\n",
            " [1. 0. 0. 0.]\n",
            " [1. 0. 0. 0.]\n",
            " [1. 0. 0. 0.]\n",
            " [1. 0. 0. 0.]\n",
            " [1. 0. 0. 0.]\n",
            " [1. 0. 0. 0.]\n",
            " [1. 0. 0. 0.]\n",
            " [1. 0. 0. 0.]\n",
            " [1. 0. 0. 0.]\n",
            " [1. 0. 0. 0.]\n",
            " [1. 0. 0. 0.]\n",
            " [1. 0. 0. 0.]\n",
            " [1. 0. 0. 0.]\n",
            " [1. 0. 0. 0.]\n",
            " [1. 0. 0. 0.]\n",
            " [1. 0. 0. 0.]\n",
            " [1. 0. 0. 0.]\n",
            " [1. 0. 0. 0.]\n",
            " [1. 0. 0. 0.]\n",
            " [1. 0. 0. 0.]\n",
            " [1. 0. 0. 0.]\n",
            " [1. 0. 0. 0.]\n",
            " [1. 0. 0. 0.]\n",
            " [1. 0. 0. 0.]\n",
            " [1. 0. 0. 0.]\n",
            " [1. 0. 0. 0.]\n",
            " [0. 1. 0. 0.]\n",
            " [1. 0. 0. 0.]\n",
            " [1. 0. 0. 0.]\n",
            " [1. 0. 0. 0.]\n",
            " [1. 0. 0. 0.]\n",
            " [1. 0. 0. 0.]\n",
            " [1. 0. 0. 0.]\n",
            " [1. 0. 0. 0.]\n",
            " [1. 0. 0. 0.]\n",
            " [0. 1. 0. 0.]\n",
            " [1. 0. 0. 0.]\n",
            " [1. 0. 0. 0.]\n",
            " [1. 0. 0. 0.]\n",
            " [1. 0. 0. 0.]\n",
            " [0. 1. 0. 0.]\n",
            " [1. 0. 0. 0.]\n",
            " [1. 0. 0. 0.]\n",
            " [0. 1. 0. 0.]\n",
            " [1. 0. 0. 0.]\n",
            " [1. 0. 0. 0.]\n",
            " [1. 0. 0. 0.]\n",
            " [1. 0. 0. 0.]\n",
            " [1. 0. 0. 0.]\n",
            " [1. 0. 0. 0.]\n",
            " [1. 0. 0. 0.]\n",
            " [1. 0. 0. 0.]\n",
            " [0. 1. 0. 0.]\n",
            " [0. 1. 0. 0.]\n",
            " [0. 1. 0. 0.]\n",
            " [0. 1. 0. 0.]\n",
            " [0. 1. 0. 0.]\n",
            " [0. 1. 0. 0.]\n",
            " [0. 1. 0. 0.]\n",
            " [0. 1. 0. 0.]\n",
            " [0. 1. 0. 0.]\n",
            " [0. 1. 0. 0.]\n",
            " [0. 1. 0. 0.]\n",
            " [0. 1. 0. 0.]\n",
            " [0. 1. 0. 0.]\n",
            " [0. 1. 0. 0.]\n",
            " [0. 1. 0. 0.]\n",
            " [0. 1. 0. 0.]\n",
            " [0. 1. 0. 0.]\n",
            " [0. 1. 0. 0.]\n",
            " [0. 1. 0. 0.]\n",
            " [0. 1. 0. 0.]\n",
            " [0. 1. 0. 0.]\n",
            " [0. 1. 0. 0.]\n",
            " [0. 1. 0. 0.]\n",
            " [0. 1. 0. 0.]\n",
            " [0. 1. 0. 0.]\n",
            " [0. 1. 0. 0.]\n",
            " [0. 1. 0. 0.]\n",
            " [0. 1. 0. 0.]\n",
            " [0. 1. 0. 0.]\n",
            " [0. 1. 0. 0.]\n",
            " [0. 1. 0. 0.]\n",
            " [0. 1. 0. 0.]\n",
            " [0. 1. 0. 0.]\n",
            " [0. 1. 0. 0.]\n",
            " [0. 1. 0. 0.]\n",
            " [0. 1. 0. 0.]\n",
            " [0. 1. 0. 0.]\n",
            " [0. 1. 0. 0.]\n",
            " [0. 1. 0. 0.]\n",
            " [0. 1. 0. 0.]\n",
            " [0. 1. 0. 0.]\n",
            " [0. 1. 0. 0.]\n",
            " [0. 1. 0. 0.]\n",
            " [0. 1. 0. 0.]\n",
            " [0. 1. 0. 0.]\n",
            " [0. 1. 0. 0.]\n",
            " [0. 1. 0. 0.]\n",
            " [0. 1. 0. 0.]\n",
            " [0. 1. 0. 0.]\n",
            " [0. 1. 0. 0.]\n",
            " [0. 1. 0. 0.]\n",
            " [0. 1. 0. 0.]\n",
            " [0. 1. 0. 0.]\n",
            " [0. 1. 0. 0.]\n",
            " [0. 1. 0. 0.]\n",
            " [0. 1. 0. 0.]\n",
            " [0. 0. 1. 0.]\n",
            " [0. 0. 1. 0.]\n",
            " [0. 0. 1. 0.]\n",
            " [0. 0. 1. 0.]\n",
            " [0. 1. 0. 0.]\n",
            " [0. 0. 1. 0.]\n",
            " [0. 0. 1. 0.]\n",
            " [0. 1. 0. 0.]\n",
            " [0. 0. 1. 0.]\n",
            " [0. 1. 0. 0.]\n",
            " [0. 1. 0. 0.]\n",
            " [0. 1. 0. 0.]\n",
            " [0. 1. 0. 0.]\n",
            " [0. 1. 0. 0.]\n",
            " [0. 0. 1. 0.]\n",
            " [0. 0. 1. 0.]\n",
            " [0. 1. 0. 0.]\n",
            " [0. 1. 0. 0.]\n",
            " [0. 1. 0. 0.]\n",
            " [0. 0. 1. 0.]\n",
            " [0. 1. 0. 0.]\n",
            " [0. 0. 1. 0.]\n",
            " [0. 1. 0. 0.]\n",
            " [0. 1. 0. 0.]\n",
            " [0. 0. 1. 0.]\n",
            " [0. 0. 1. 0.]\n",
            " [0. 0. 1. 0.]\n",
            " [0. 0. 1. 0.]\n",
            " [0. 0. 0. 1.]\n",
            " [0. 0. 0. 1.]\n",
            " [0. 0. 1. 0.]\n",
            " [0. 0. 0. 1.]\n",
            " [0. 0. 0. 1.]\n",
            " [0. 0. 1. 0.]\n",
            " [0. 0. 1. 0.]\n",
            " [0. 0. 1. 0.]\n",
            " [0. 0. 0. 1.]\n",
            " [0. 0. 0. 1.]\n",
            " [0. 0. 0. 1.]\n",
            " [0. 0. 0. 1.]\n",
            " [0. 0. 0. 1.]\n",
            " [0. 0. 0. 1.]\n",
            " [0. 0. 0. 1.]\n",
            " [0. 0. 0. 1.]\n",
            " [0. 0. 0. 1.]\n",
            " [0. 0. 1. 0.]\n",
            " [0. 0. 0. 1.]\n",
            " [0. 0. 0. 1.]\n",
            " [0. 0. 0. 1.]\n",
            " [0. 0. 0. 1.]\n",
            " [0. 0. 0. 1.]\n",
            " [0. 0. 0. 1.]\n",
            " [0. 0. 0. 1.]\n",
            " [0. 0. 0. 1.]\n",
            " [0. 0. 0. 1.]\n",
            " [0. 0. 0. 1.]\n",
            " [0. 0. 0. 1.]\n",
            " [0. 0. 0. 1.]\n",
            " [0. 0. 0. 1.]\n",
            " [0. 0. 0. 1.]\n",
            " [0. 0. 0. 1.]\n",
            " [0. 0. 0. 1.]\n",
            " [0. 0. 0. 1.]\n",
            " [0. 0. 0. 1.]\n",
            " [0. 0. 0. 1.]\n",
            " [0. 0. 0. 1.]\n",
            " [0. 0. 0. 1.]\n",
            " [0. 0. 0. 1.]\n",
            " [0. 0. 0. 1.]\n",
            " [0. 0. 0. 1.]\n",
            " [0. 0. 0. 1.]\n",
            " [0. 0. 0. 1.]\n",
            " [0. 0. 0. 1.]\n",
            " [0. 0. 0. 1.]\n",
            " [0. 0. 0. 1.]\n",
            " [0. 0. 0. 1.]\n",
            " [0. 0. 0. 1.]\n",
            " [0. 0. 0. 1.]\n",
            " [0. 0. 0. 1.]\n",
            " [0. 0. 0. 1.]\n",
            " [0. 0. 0. 1.]\n",
            " [0. 0. 0. 1.]\n",
            " [0. 0. 0. 1.]\n",
            " [0. 0. 0. 1.]\n",
            " [0. 0. 0. 1.]\n",
            " [0. 0. 0. 1.]\n",
            " [0. 0. 0. 1.]\n",
            " [0. 0. 0. 1.]\n",
            " [0. 0. 0. 1.]\n",
            " [0. 0. 0. 1.]\n",
            " [0. 0. 0. 1.]\n",
            " [0. 0. 0. 1.]\n",
            " [0. 0. 0. 1.]\n",
            " [0. 0. 0. 1.]\n",
            " [0. 0. 0. 1.]\n",
            " [0. 0. 0. 1.]\n",
            " [0. 0. 0. 1.]\n",
            " [0. 0. 0. 1.]\n",
            " [0. 0. 0. 1.]\n",
            " [0. 0. 0. 1.]\n",
            " [0. 0. 0. 1.]\n",
            " [0. 0. 0. 1.]\n",
            " [0. 0. 0. 1.]\n",
            " [0. 0. 0. 1.]\n",
            " [0. 0. 0. 1.]]\n"
          ]
        }
      ]
    },
    {
      "cell_type": "code",
      "metadata": {
        "id": "yj28XSAfpVt_",
        "colab": {
          "base_uri": "https://localhost:8080/"
        },
        "outputId": "36fc490a-b7d1-4afe-949d-b18f52c04c81"
      },
      "source": [
        "# to vosualize the labels\n",
        "categories = pd.DataFrame(data=y_train,\n",
        "                 columns=encoder.classes_)\n",
        "\n",
        "print(categories)"
      ],
      "id": "yj28XSAfpVt_",
      "execution_count": 122,
      "outputs": [
        {
          "output_type": "stream",
          "name": "stdout",
          "text": [
            "     apple  banana  mixed  orange\n",
            "0      1.0     0.0    0.0     0.0\n",
            "1      1.0     0.0    0.0     0.0\n",
            "2      1.0     0.0    0.0     0.0\n",
            "3      1.0     0.0    0.0     0.0\n",
            "4      1.0     0.0    0.0     0.0\n",
            "..     ...     ...    ...     ...\n",
            "235    0.0     0.0    0.0     1.0\n",
            "236    0.0     0.0    0.0     1.0\n",
            "237    0.0     0.0    0.0     1.0\n",
            "238    0.0     0.0    0.0     1.0\n",
            "239    0.0     0.0    0.0     1.0\n",
            "\n",
            "[240 rows x 4 columns]\n"
          ]
        }
      ]
    },
    {
      "cell_type": "markdown",
      "metadata": {
        "id": "74168da3"
      },
      "source": [
        "### Defining Model Architecture\n",
        "Things like: \n",
        "- how many convolutional layers do we want\n",
        "- what should be the activation function for each layer\n",
        "- how many hidden units should each layer have etc"
      ],
      "id": "74168da3"
    },
    {
      "cell_type": "markdown",
      "metadata": {
        "id": "4c8bf940"
      },
      "source": [
        "#### Construct CNN Model\n",
        "\n",
        "- Create an empty Neural Network via Sequential()\n",
        "- Add more layers to 'model' obj to turn it into CNN\n",
        "- First layer--> convolutional layer(filters,kernal_size,activation,input_shape)\n"
      ],
      "id": "4c8bf940"
    },
    {
      "cell_type": "code",
      "metadata": {
        "id": "9a426198"
      },
      "source": [
        "model = tf.keras.models.Sequential()\n",
        "\n",
        "model.add(tf.keras.layers.Conv2D(filters=32, \n",
        "                                kernel_size=(3,3),\n",
        "                                activation = 'relu', \n",
        "                                input_shape= (250,250,3)))\n",
        "model.add(tf.keras.layers.Conv2D(filters=32, \n",
        "                                 kernel_size=(3,3),\n",
        "                                activation = 'relu', \n",
        "                                input_shape= (250,250,3)))\n",
        "model.add(tf.keras.layers.Conv2D(filters=64, kernel_size=(3,3),\n",
        "                                activation = 'relu', \n",
        "                                input_shape= (250,250,3))) \n",
        "model.add(tf.keras.layers.Flatten())\n",
        "# model.add(tf.keras.layers.Dense(4,activation='relu'))\n",
        "# model.add(tf.keras.layers.Dense(4,activation='sigmoid')) \n",
        "model.add(tf.keras.layers.Dense(units=4, activation='softmax'))"
      ],
      "id": "9a426198",
      "execution_count": 123,
      "outputs": []
    },
    {
      "cell_type": "code",
      "metadata": {
        "id": "e08df059",
        "colab": {
          "base_uri": "https://localhost:8080/"
        },
        "outputId": "505f5a87-840f-4f13-d20e-93d8dbff5d13"
      },
      "source": [
        "model.summary()"
      ],
      "id": "e08df059",
      "execution_count": 124,
      "outputs": [
        {
          "output_type": "stream",
          "name": "stdout",
          "text": [
            "Model: \"sequential_2\"\n",
            "_________________________________________________________________\n",
            " Layer (type)                Output Shape              Param #   \n",
            "=================================================================\n",
            " conv2d_4 (Conv2D)           (None, 248, 248, 32)      896       \n",
            "                                                                 \n",
            " conv2d_5 (Conv2D)           (None, 246, 246, 32)      9248      \n",
            "                                                                 \n",
            " conv2d_6 (Conv2D)           (None, 244, 244, 64)      18496     \n",
            "                                                                 \n",
            " flatten_2 (Flatten)         (None, 3810304)           0         \n",
            "                                                                 \n",
            " dense_2 (Dense)             (None, 4)                 15241220  \n",
            "                                                                 \n",
            "=================================================================\n",
            "Total params: 15,269,860\n",
            "Trainable params: 15,269,860\n",
            "Non-trainable params: 0\n",
            "_________________________________________________________________\n"
          ]
        }
      ]
    },
    {
      "cell_type": "markdown",
      "metadata": {
        "id": "Z-ks3KRDPvnq"
      },
      "source": [
        "- When using Softmax as the activation function as the last layer, our loss function should be ‘categorical_crossentropy’\n",
        "- Optimizers are algorithms to change the weights and the learning rate of our neural network; ‘adam’ is a good choice\n",
        "- When determining the accuracy of a prediction, use ‘accuracy’ as the metrics as we can count the number of times the neural network has given a correct prediction"
      ],
      "id": "Z-ks3KRDPvnq"
    },
    {
      "cell_type": "code",
      "metadata": {
        "id": "QRmxVDD8P0BK"
      },
      "source": [
        "#compiling the CNN\n",
        "model.compile(optimizer='adam', loss='categorical_crossentropy', metrics=['accuracy'])"
      ],
      "id": "QRmxVDD8P0BK",
      "execution_count": 125,
      "outputs": []
    },
    {
      "cell_type": "markdown",
      "metadata": {
        "id": "825f6e47"
      },
      "source": [
        "### Train the Model\n",
        "\n",
        "Require training images and their corresponding true labels, validation images and their corresponding true labels (we use these labels only to validate the model and not during the training phase). We also define the number of epochs in this step. For starters, we will run the model for 10 epochs (you can change the number of epochs later)."
      ],
      "id": "825f6e47"
    },
    {
      "cell_type": "markdown",
      "metadata": {
        "id": "9d6177bd"
      },
      "source": [
        "#### can consider using k-means to calculate epochs"
      ],
      "id": "9d6177bd"
    },
    {
      "cell_type": "code",
      "metadata": {
        "id": "1a28d716",
        "colab": {
          "base_uri": "https://localhost:8080/"
        },
        "outputId": "29a90fd3-f01c-45f8-ab40-859a20ab8fb2"
      },
      "source": [
        "# x_train = np.array(x_train)\n",
        "# y_train = np.array(y_train)\n",
        "fitting = model.fit(x=x_train, y=categories, epochs=20)"
      ],
      "id": "1a28d716",
      "execution_count": 126,
      "outputs": [
        {
          "output_type": "stream",
          "name": "stdout",
          "text": [
            "Epoch 1/20\n",
            "8/8 [==============================] - 8s 534ms/step - loss: 41.5487 - accuracy: 0.2542\n",
            "Epoch 2/20\n",
            "8/8 [==============================] - 2s 307ms/step - loss: 2.6814 - accuracy: 0.4708\n",
            "Epoch 3/20\n",
            "8/8 [==============================] - 2s 308ms/step - loss: 0.9509 - accuracy: 0.6583\n",
            "Epoch 4/20\n",
            "8/8 [==============================] - 2s 309ms/step - loss: 0.4539 - accuracy: 0.8625\n",
            "Epoch 5/20\n",
            "8/8 [==============================] - 2s 308ms/step - loss: 0.2646 - accuracy: 0.9250\n",
            "Epoch 6/20\n",
            "8/8 [==============================] - 2s 307ms/step - loss: 0.2010 - accuracy: 0.9458\n",
            "Epoch 7/20\n",
            "8/8 [==============================] - 2s 309ms/step - loss: 0.1430 - accuracy: 0.9583\n",
            "Epoch 8/20\n",
            "8/8 [==============================] - 2s 306ms/step - loss: 0.1015 - accuracy: 0.9750\n",
            "Epoch 9/20\n",
            "8/8 [==============================] - 2s 307ms/step - loss: 0.0969 - accuracy: 0.9833\n",
            "Epoch 10/20\n",
            "8/8 [==============================] - 2s 306ms/step - loss: 0.0463 - accuracy: 0.9875\n",
            "Epoch 11/20\n",
            "8/8 [==============================] - 2s 307ms/step - loss: 0.0239 - accuracy: 0.9958\n",
            "Epoch 12/20\n",
            "8/8 [==============================] - 2s 306ms/step - loss: 0.0248 - accuracy: 0.9958\n",
            "Epoch 13/20\n",
            "8/8 [==============================] - 2s 306ms/step - loss: 0.0153 - accuracy: 1.0000\n",
            "Epoch 14/20\n",
            "8/8 [==============================] - 2s 307ms/step - loss: 0.0118 - accuracy: 1.0000\n",
            "Epoch 15/20\n",
            "8/8 [==============================] - 2s 307ms/step - loss: 0.0063 - accuracy: 1.0000\n",
            "Epoch 16/20\n",
            "8/8 [==============================] - 2s 306ms/step - loss: 0.0039 - accuracy: 1.0000\n",
            "Epoch 17/20\n",
            "8/8 [==============================] - 2s 307ms/step - loss: 0.0028 - accuracy: 1.0000\n",
            "Epoch 18/20\n",
            "8/8 [==============================] - 2s 308ms/step - loss: 0.0023 - accuracy: 1.0000\n",
            "Epoch 19/20\n",
            "8/8 [==============================] - 2s 309ms/step - loss: 0.0013 - accuracy: 1.0000\n",
            "Epoch 20/20\n",
            "8/8 [==============================] - 2s 307ms/step - loss: 9.3660e-04 - accuracy: 1.0000\n"
          ]
        }
      ]
    },
    {
      "cell_type": "markdown",
      "metadata": {
        "id": "AnoI80liXV4F"
      },
      "source": [
        "### Testing!"
      ],
      "id": "AnoI80liXV4F"
    },
    {
      "cell_type": "markdown",
      "metadata": {
        "id": "WmPap-p-SAJb"
      },
      "source": [
        "#### Estimate model's performance and predict classes\n",
        "- load test data (img) and go through pre-processing \n",
        "      # test = pd.read_csv('test.csv')\n",
        "- read and store all test images\n",
        "      # test_image = []\n",
        "      # for i in tqdm(range(test.shape[0])):\n",
        "      # img = image.load_img('test/'+test['id'][i].astype('str')+'.png', target_size=(28,28,1), grayscale=True)\n",
        "      # img = image.img_to_array(img)\n",
        "      # img = img/255\n",
        "      # test_image.append(img)\n",
        "      # test = np.array(test_image) -->\n",
        "- make predictions\n",
        "      # prediction = model.predict_classes(test)"
      ],
      "id": "WmPap-p-SAJb"
    },
    {
      "cell_type": "code",
      "metadata": {
        "colab": {
          "base_uri": "https://localhost:8080/"
        },
        "id": "L-9xJHboSHfk",
        "outputId": "8551dc30-641a-4b9b-85fd-28f55d8d4faf"
      },
      "source": [
        "test_ds_raw"
      ],
      "id": "L-9xJHboSHfk",
      "execution_count": 127,
      "outputs": [
        {
          "output_type": "execute_result",
          "data": {
            "text/plain": [
              "['apple_79.xml',\n",
              " 'apple_78.xml',\n",
              " 'apple_77.xml',\n",
              " 'apple_77.jpg',\n",
              " 'apple_78.jpg',\n",
              " 'apple_80.jpg',\n",
              " 'apple_79.jpg',\n",
              " 'apple_80.xml',\n",
              " 'apple_92.jpg',\n",
              " 'apple_95.jpg',\n",
              " 'apple_88.xml',\n",
              " 'apple_93.xml',\n",
              " 'apple_91.xml',\n",
              " 'apple_86.xml',\n",
              " 'banana_78.jpg',\n",
              " 'apple_89.xml',\n",
              " 'banana_78.xml',\n",
              " 'apple_85.jpg',\n",
              " 'apple_87.jpg',\n",
              " 'apple_86.jpg',\n",
              " 'apple_87.xml',\n",
              " 'apple_93.jpg',\n",
              " 'apple_81.xml',\n",
              " 'apple_82.jpg',\n",
              " 'apple_85.xml',\n",
              " 'banana_77.jpg',\n",
              " 'apple_94.jpg',\n",
              " 'apple_95.xml',\n",
              " 'apple_90.jpg',\n",
              " 'banana_79.jpg',\n",
              " 'banana_79.xml',\n",
              " 'apple_82.xml',\n",
              " 'apple_84.jpg',\n",
              " 'apple_92.xml',\n",
              " 'banana_80.jpg',\n",
              " 'apple_90.xml',\n",
              " 'apple_89.jpg',\n",
              " 'apple_88.jpg',\n",
              " 'apple_91.jpg',\n",
              " 'apple_84.xml',\n",
              " 'apple_83.xml',\n",
              " 'apple_81.jpg',\n",
              " 'banana_77.xml',\n",
              " 'apple_83.jpg',\n",
              " 'apple_94.xml',\n",
              " 'banana_94.xml',\n",
              " 'banana_83.xml',\n",
              " 'banana_93.xml',\n",
              " 'banana_88.xml',\n",
              " 'banana_81.xml',\n",
              " 'banana_92.xml',\n",
              " 'banana_87.xml',\n",
              " 'mixed_21.xml',\n",
              " 'banana_91.jpg',\n",
              " 'mixed_22.xml',\n",
              " 'banana_85.jpg',\n",
              " 'banana_84.xml',\n",
              " 'mixed_21.jpg',\n",
              " 'banana_84.jpg',\n",
              " 'mixed_23.jpg',\n",
              " 'banana_85.xml',\n",
              " 'banana_94.jpg',\n",
              " 'banana_86.jpg',\n",
              " 'banana_93.jpg',\n",
              " 'mixed_22.jpg',\n",
              " 'banana_88.jpg',\n",
              " 'banana_81.jpg',\n",
              " 'banana_89.xml',\n",
              " 'banana_90.jpg',\n",
              " 'banana_82.jpg',\n",
              " 'banana_92.jpg',\n",
              " 'mixed_23.xml',\n",
              " 'banana_86.xml',\n",
              " 'banana_82.xml',\n",
              " 'banana_90.xml',\n",
              " 'banana_83.jpg',\n",
              " 'banana_89.jpg',\n",
              " 'banana_91.xml',\n",
              " 'banana_80.xml',\n",
              " 'banana_87.jpg',\n",
              " 'mixed_24.xml',\n",
              " 'orange_85.xml',\n",
              " 'orange_78.xml',\n",
              " 'orange_92.xml',\n",
              " 'orange_82.jpg',\n",
              " 'mixed_24.jpg',\n",
              " 'orange_77.jpg',\n",
              " 'orange_93.xml',\n",
              " 'orange_77.xml',\n",
              " 'orange_90.xml',\n",
              " 'orange_81.jpg',\n",
              " 'orange_89.xml',\n",
              " 'mixed_25.jpg',\n",
              " 'orange_80.jpg',\n",
              " 'orange_92.jpg',\n",
              " 'orange_95.jpg',\n",
              " 'orange_87.jpg',\n",
              " 'orange_79.jpg',\n",
              " 'orange_84.jpg',\n",
              " 'orange_80.xml',\n",
              " 'orange_87.xml',\n",
              " 'orange_86.jpg',\n",
              " 'orange_79.xml',\n",
              " 'orange_91.jpg',\n",
              " 'mixed_25.xml',\n",
              " 'orange_83.jpg',\n",
              " 'orange_86.xml',\n",
              " 'orange_93.jpg',\n",
              " 'orange_90.jpg',\n",
              " 'orange_84.xml',\n",
              " 'orange_94.xml',\n",
              " 'orange_83.xml',\n",
              " 'orange_82.xml',\n",
              " 'orange_89.jpg',\n",
              " 'orange_94.jpg',\n",
              " 'orange_85.jpg',\n",
              " 'orange_95.xml',\n",
              " 'orange_81.xml',\n",
              " 'orange_91.xml',\n",
              " 'orange_78.jpg']"
            ]
          },
          "metadata": {},
          "execution_count": 127
        }
      ]
    },
    {
      "cell_type": "code",
      "metadata": {
        "colab": {
          "base_uri": "https://localhost:8080/"
        },
        "id": "E3jwqS3lSQw1",
        "outputId": "576c02b9-b8fa-4d65-f5d3-7807e2a669b9"
      },
      "source": [
        "type(test_ds_raw), len(test_ds_raw)"
      ],
      "id": "E3jwqS3lSQw1",
      "execution_count": 128,
      "outputs": [
        {
          "output_type": "execute_result",
          "data": {
            "text/plain": [
              "(list, 120)"
            ]
          },
          "metadata": {},
          "execution_count": 128
        }
      ]
    },
    {
      "cell_type": "markdown",
      "metadata": {
        "id": "kYGfajr6SbtI"
      },
      "source": [
        "Create x_test"
      ],
      "id": "kYGfajr6SbtI"
    },
    {
      "cell_type": "code",
      "metadata": {
        "id": "il35EB2USdql"
      },
      "source": [
        "filenames1 = []\n",
        "for label in test_ds_raw:\n",
        "    if label[-3:] == 'xml': \n",
        "        continue              # only take jpeg\n",
        "    else:\n",
        "        filenames1.append(test_img_path + label)"
      ],
      "id": "il35EB2USdql",
      "execution_count": 129,
      "outputs": []
    },
    {
      "cell_type": "code",
      "metadata": {
        "colab": {
          "base_uri": "https://localhost:8080/"
        },
        "id": "RpGFTR8YSmW9",
        "outputId": "ee643a6b-e495-4f78-a34d-aa2e15579bcb"
      },
      "source": [
        "# filenames\n",
        "len(filenames1)"
      ],
      "id": "RpGFTR8YSmW9",
      "execution_count": 130,
      "outputs": [
        {
          "output_type": "execute_result",
          "data": {
            "text/plain": [
              "60"
            ]
          },
          "metadata": {},
          "execution_count": 130
        }
      ]
    },
    {
      "cell_type": "markdown",
      "metadata": {
        "id": "rP93joVmS6we"
      },
      "source": [
        "Create y_test"
      ],
      "id": "rP93joVmS6we"
    },
    {
      "cell_type": "code",
      "metadata": {
        "id": "BLxg89x7S8J8"
      },
      "source": [
        "y_test_label = []\n",
        "\n",
        "for label in test_ds_raw:\n",
        "    if label[-3:] == 'xml': \n",
        "        continue              #if xml, ignore\n",
        "    arr = label.split('_')    # else, str manipulation \n",
        "    y_test_label.append(arr[0])"
      ],
      "id": "BLxg89x7S8J8",
      "execution_count": 131,
      "outputs": []
    },
    {
      "cell_type": "code",
      "metadata": {
        "colab": {
          "base_uri": "https://localhost:8080/"
        },
        "id": "YStVf3ziTFNx",
        "outputId": "59d4895b-55ad-45fe-95f5-d24f57fe4f54"
      },
      "source": [
        "#y_train_label\n",
        "len(filenames1), len(y_test_label)"
      ],
      "id": "YStVf3ziTFNx",
      "execution_count": 132,
      "outputs": [
        {
          "output_type": "execute_result",
          "data": {
            "text/plain": [
              "(60, 60)"
            ]
          },
          "metadata": {},
          "execution_count": 132
        }
      ]
    },
    {
      "cell_type": "markdown",
      "metadata": {
        "id": "sBkfyDdiT4Oc"
      },
      "source": [
        "Resize x_test"
      ],
      "id": "sBkfyDdiT4Oc"
    },
    {
      "cell_type": "code",
      "metadata": {
        "id": "FFeQBUh3T6QY"
      },
      "source": [
        "x_test = None\n",
        "\n",
        "for i in range(len(y_test_label)):\n",
        "    img_raw = cv2.imread(filenames1[i], cv2.IMREAD_COLOR)\n",
        "    img_reshaped = cv2.resize(img_raw,(250, 250), cv2.INTER_NEAREST)\n",
        "    img_reshaped = cv2.cvtColor(img_reshaped, cv2.COLOR_BGR2RGB)\n",
        "    if x_test is None:\n",
        "        x_test = img_reshaped\n",
        "    else:\n",
        "        x_test = np.concatenate((x_test, img_reshaped))"
      ],
      "id": "FFeQBUh3T6QY",
      "execution_count": 133,
      "outputs": []
    },
    {
      "cell_type": "code",
      "metadata": {
        "colab": {
          "base_uri": "https://localhost:8080/"
        },
        "id": "ktP4X--fVbY0",
        "outputId": "c342267e-b6ce-4321-b3d7-3e17b1083244"
      },
      "source": [
        "x_test = x_test.reshape(-1, 250, 250, 3)\n",
        "x_test.shape"
      ],
      "id": "ktP4X--fVbY0",
      "execution_count": 134,
      "outputs": [
        {
          "output_type": "execute_result",
          "data": {
            "text/plain": [
              "(60, 250, 250, 3)"
            ]
          },
          "metadata": {},
          "execution_count": 134
        }
      ]
    },
    {
      "cell_type": "code",
      "metadata": {
        "colab": {
          "base_uri": "https://localhost:8080/"
        },
        "id": "RAnSzxClYQ-L",
        "outputId": "de2f997e-0e4b-46f0-b4b4-5e6063576d21"
      },
      "source": [
        "x_test = x_test/255\n",
        "print(x_test.shape)"
      ],
      "id": "RAnSzxClYQ-L",
      "execution_count": 135,
      "outputs": [
        {
          "output_type": "stream",
          "name": "stdout",
          "text": [
            "(60, 250, 250, 3)\n"
          ]
        }
      ]
    },
    {
      "cell_type": "markdown",
      "metadata": {
        "id": "Sncq-vrtUi2q"
      },
      "source": [
        "Hot-Encode y_test labels"
      ],
      "id": "Sncq-vrtUi2q"
    },
    {
      "cell_type": "code",
      "metadata": {
        "colab": {
          "base_uri": "https://localhost:8080/"
        },
        "id": "Vt4lFHt5UlpP",
        "outputId": "80891aa6-c2ce-4e61-af46-4e6e8def9f62"
      },
      "source": [
        "from sklearn.preprocessing import LabelEncoder\n",
        "import pandas as pd\n",
        "\n",
        "#instantiate one hot encoding\n",
        "encoder = LabelEncoder()\n",
        "#fit\n",
        "encoder.fit(y_test_label)\n",
        "#transform\n",
        "data = encoder.transform(y_test_label)\n",
        "\n",
        "y_test = tf.keras.utils.to_categorical(data)\n",
        "print(y_test) "
      ],
      "id": "Vt4lFHt5UlpP",
      "execution_count": 136,
      "outputs": [
        {
          "output_type": "stream",
          "name": "stdout",
          "text": [
            "[[1. 0. 0. 0.]\n",
            " [1. 0. 0. 0.]\n",
            " [1. 0. 0. 0.]\n",
            " [1. 0. 0. 0.]\n",
            " [1. 0. 0. 0.]\n",
            " [1. 0. 0. 0.]\n",
            " [0. 1. 0. 0.]\n",
            " [1. 0. 0. 0.]\n",
            " [1. 0. 0. 0.]\n",
            " [1. 0. 0. 0.]\n",
            " [1. 0. 0. 0.]\n",
            " [1. 0. 0. 0.]\n",
            " [0. 1. 0. 0.]\n",
            " [1. 0. 0. 0.]\n",
            " [1. 0. 0. 0.]\n",
            " [0. 1. 0. 0.]\n",
            " [1. 0. 0. 0.]\n",
            " [0. 1. 0. 0.]\n",
            " [1. 0. 0. 0.]\n",
            " [1. 0. 0. 0.]\n",
            " [1. 0. 0. 0.]\n",
            " [1. 0. 0. 0.]\n",
            " [1. 0. 0. 0.]\n",
            " [0. 1. 0. 0.]\n",
            " [0. 1. 0. 0.]\n",
            " [0. 0. 1. 0.]\n",
            " [0. 1. 0. 0.]\n",
            " [0. 0. 1. 0.]\n",
            " [0. 1. 0. 0.]\n",
            " [0. 1. 0. 0.]\n",
            " [0. 1. 0. 0.]\n",
            " [0. 0. 1. 0.]\n",
            " [0. 1. 0. 0.]\n",
            " [0. 1. 0. 0.]\n",
            " [0. 1. 0. 0.]\n",
            " [0. 1. 0. 0.]\n",
            " [0. 1. 0. 0.]\n",
            " [0. 1. 0. 0.]\n",
            " [0. 1. 0. 0.]\n",
            " [0. 1. 0. 0.]\n",
            " [0. 0. 0. 1.]\n",
            " [0. 0. 1. 0.]\n",
            " [0. 0. 0. 1.]\n",
            " [0. 0. 0. 1.]\n",
            " [0. 0. 1. 0.]\n",
            " [0. 0. 0. 1.]\n",
            " [0. 0. 0. 1.]\n",
            " [0. 0. 0. 1.]\n",
            " [0. 0. 0. 1.]\n",
            " [0. 0. 0. 1.]\n",
            " [0. 0. 0. 1.]\n",
            " [0. 0. 0. 1.]\n",
            " [0. 0. 0. 1.]\n",
            " [0. 0. 0. 1.]\n",
            " [0. 0. 0. 1.]\n",
            " [0. 0. 0. 1.]\n",
            " [0. 0. 0. 1.]\n",
            " [0. 0. 0. 1.]\n",
            " [0. 0. 0. 1.]\n",
            " [0. 0. 0. 1.]]\n"
          ]
        }
      ]
    },
    {
      "cell_type": "code",
      "metadata": {
        "colab": {
          "base_uri": "https://localhost:8080/"
        },
        "id": "21fxppY4U2N5",
        "outputId": "a5fdeb5b-d3a3-4697-8dac-f0965165f79b"
      },
      "source": [
        "# to vosualize the labels\n",
        "categories1 = pd.DataFrame(data=y_test,\n",
        "                 columns=encoder.classes_)\n",
        "\n",
        "print(categories1)"
      ],
      "id": "21fxppY4U2N5",
      "execution_count": 137,
      "outputs": [
        {
          "output_type": "stream",
          "name": "stdout",
          "text": [
            "    apple  banana  mixed  orange\n",
            "0     1.0     0.0    0.0     0.0\n",
            "1     1.0     0.0    0.0     0.0\n",
            "2     1.0     0.0    0.0     0.0\n",
            "3     1.0     0.0    0.0     0.0\n",
            "4     1.0     0.0    0.0     0.0\n",
            "5     1.0     0.0    0.0     0.0\n",
            "6     0.0     1.0    0.0     0.0\n",
            "7     1.0     0.0    0.0     0.0\n",
            "8     1.0     0.0    0.0     0.0\n",
            "9     1.0     0.0    0.0     0.0\n",
            "10    1.0     0.0    0.0     0.0\n",
            "11    1.0     0.0    0.0     0.0\n",
            "12    0.0     1.0    0.0     0.0\n",
            "13    1.0     0.0    0.0     0.0\n",
            "14    1.0     0.0    0.0     0.0\n",
            "15    0.0     1.0    0.0     0.0\n",
            "16    1.0     0.0    0.0     0.0\n",
            "17    0.0     1.0    0.0     0.0\n",
            "18    1.0     0.0    0.0     0.0\n",
            "19    1.0     0.0    0.0     0.0\n",
            "20    1.0     0.0    0.0     0.0\n",
            "21    1.0     0.0    0.0     0.0\n",
            "22    1.0     0.0    0.0     0.0\n",
            "23    0.0     1.0    0.0     0.0\n",
            "24    0.0     1.0    0.0     0.0\n",
            "25    0.0     0.0    1.0     0.0\n",
            "26    0.0     1.0    0.0     0.0\n",
            "27    0.0     0.0    1.0     0.0\n",
            "28    0.0     1.0    0.0     0.0\n",
            "29    0.0     1.0    0.0     0.0\n",
            "30    0.0     1.0    0.0     0.0\n",
            "31    0.0     0.0    1.0     0.0\n",
            "32    0.0     1.0    0.0     0.0\n",
            "33    0.0     1.0    0.0     0.0\n",
            "34    0.0     1.0    0.0     0.0\n",
            "35    0.0     1.0    0.0     0.0\n",
            "36    0.0     1.0    0.0     0.0\n",
            "37    0.0     1.0    0.0     0.0\n",
            "38    0.0     1.0    0.0     0.0\n",
            "39    0.0     1.0    0.0     0.0\n",
            "40    0.0     0.0    0.0     1.0\n",
            "41    0.0     0.0    1.0     0.0\n",
            "42    0.0     0.0    0.0     1.0\n",
            "43    0.0     0.0    0.0     1.0\n",
            "44    0.0     0.0    1.0     0.0\n",
            "45    0.0     0.0    0.0     1.0\n",
            "46    0.0     0.0    0.0     1.0\n",
            "47    0.0     0.0    0.0     1.0\n",
            "48    0.0     0.0    0.0     1.0\n",
            "49    0.0     0.0    0.0     1.0\n",
            "50    0.0     0.0    0.0     1.0\n",
            "51    0.0     0.0    0.0     1.0\n",
            "52    0.0     0.0    0.0     1.0\n",
            "53    0.0     0.0    0.0     1.0\n",
            "54    0.0     0.0    0.0     1.0\n",
            "55    0.0     0.0    0.0     1.0\n",
            "56    0.0     0.0    0.0     1.0\n",
            "57    0.0     0.0    0.0     1.0\n",
            "58    0.0     0.0    0.0     1.0\n",
            "59    0.0     0.0    0.0     1.0\n"
          ]
        }
      ]
    },
    {
      "cell_type": "markdown",
      "metadata": {
        "id": "oDd61Zx6U6ZC"
      },
      "source": [
        "Perform auto-evaluation"
      ],
      "id": "oDd61Zx6U6ZC"
    },
    {
      "cell_type": "code",
      "metadata": {
        "colab": {
          "base_uri": "https://localhost:8080/"
        },
        "id": "nfqvSrmCU-DK",
        "outputId": "f30bf317-a34a-4ac3-fa3b-eaf8fdcdeaa0"
      },
      "source": [
        "loss, accuracy = model.evaluate(x=x_test, y=categories1)\n",
        "\n",
        "print('loss = ', loss)\n",
        "print('accuracy = ', accuracy)"
      ],
      "id": "nfqvSrmCU-DK",
      "execution_count": 138,
      "outputs": [
        {
          "output_type": "stream",
          "name": "stdout",
          "text": [
            "2/2 [==============================] - 2s 2s/step - loss: 0.7291 - accuracy: 0.8833\n",
            "loss =  0.7291321158409119\n",
            "accuracy =  0.8833333253860474\n"
          ]
        }
      ]
    },
    {
      "cell_type": "markdown",
      "metadata": {
        "id": "wYY9HkteVO5g"
      },
      "source": [
        "Perform simple manual inspection"
      ],
      "id": "wYY9HkteVO5g"
    },
    {
      "cell_type": "code",
      "metadata": {
        "colab": {
          "base_uri": "https://localhost:8080/"
        },
        "id": "JfiTURmnVOlL",
        "outputId": "bb8b1cb6-73be-478a-d596-e1448e26f3da"
      },
      "source": [
        "predictions = model.predict(x=x_test)\n",
        "for i in np.arange(len(predictions)):\n",
        "\tprint('Actual: ', y_test[i], 'Predicted: ', predictions[i])"
      ],
      "id": "JfiTURmnVOlL",
      "execution_count": 139,
      "outputs": [
        {
          "output_type": "stream",
          "name": "stdout",
          "text": [
            "Actual:  [1. 0. 0. 0.] Predicted:  [9.9853432e-01 1.5347146e-08 5.5340493e-05 1.4103806e-03]\n",
            "Actual:  [1. 0. 0. 0.] Predicted:  [9.9999654e-01 3.7659715e-12 2.9890052e-11 3.4829852e-06]\n",
            "Actual:  [1. 0. 0. 0.] Predicted:  [1.0000000e+00 5.0079989e-11 1.2751097e-08 1.2531873e-09]\n",
            "Actual:  [1. 0. 0. 0.] Predicted:  [1.000000e+00 4.644221e-26 6.394378e-15 9.967815e-09]\n",
            "Actual:  [1. 0. 0. 0.] Predicted:  [1.0000000e+00 9.7015192e-21 4.7188081e-10 8.3825064e-10]\n",
            "Actual:  [1. 0. 0. 0.] Predicted:  [9.98359978e-01 2.98373131e-08 1.06716404e-16 1.63997768e-03]\n",
            "Actual:  [0. 1. 0. 0.] Predicted:  [2.1039768e-05 9.9966645e-01 2.6252287e-04 4.9909555e-05]\n",
            "Actual:  [1. 0. 0. 0.] Predicted:  [1.0000000e+00 1.9447540e-13 1.2507546e-08 2.1838491e-09]\n",
            "Actual:  [1. 0. 0. 0.] Predicted:  [1.0000000e+00 9.7566189e-16 1.6610668e-14 2.4560761e-08]\n",
            "Actual:  [1. 0. 0. 0.] Predicted:  [0.9342259  0.03644473 0.02541571 0.00391366]\n",
            "Actual:  [1. 0. 0. 0.] Predicted:  [1.0000000e+00 6.0022500e-13 2.6872220e-08 1.6389994e-10]\n",
            "Actual:  [1. 0. 0. 0.] Predicted:  [9.9999976e-01 2.7325023e-16 2.2339579e-09 2.2363004e-07]\n",
            "Actual:  [0. 1. 0. 0.] Predicted:  [8.9415694e-03 9.8949194e-01 1.4026011e-03 1.6387874e-04]\n",
            "Actual:  [1. 0. 0. 0.] Predicted:  [9.9999654e-01 6.8230371e-13 4.7306951e-18 3.4470163e-06]\n",
            "Actual:  [1. 0. 0. 0.] Predicted:  [9.9999976e-01 1.5814233e-13 1.5933891e-07 1.2083119e-07]\n",
            "Actual:  [0. 1. 0. 0.] Predicted:  [3.5614249e-09 9.9996257e-01 3.3716692e-06 3.4088520e-05]\n",
            "Actual:  [1. 0. 0. 0.] Predicted:  [9.9985611e-01 1.2751006e-09 5.4438967e-08 1.4382336e-04]\n",
            "Actual:  [0. 1. 0. 0.] Predicted:  [1.6219722e-04 9.9848902e-01 1.0250291e-03 3.2368352e-04]\n",
            "Actual:  [1. 0. 0. 0.] Predicted:  [1.0000000e+00 5.7056480e-27 2.7943373e-16 2.3272562e-12]\n",
            "Actual:  [1. 0. 0. 0.] Predicted:  [1.0000000e+00 4.8237163e-13 2.2225584e-10 2.6112539e-09]\n",
            "Actual:  [1. 0. 0. 0.] Predicted:  [9.9999952e-01 5.5946248e-09 3.5160920e-08 4.7911402e-07]\n",
            "Actual:  [1. 0. 0. 0.] Predicted:  [1.0000000e+00 7.4586811e-26 1.0608652e-17 2.3700631e-12]\n",
            "Actual:  [1. 0. 0. 0.] Predicted:  [1.0000000e+00 2.3637307e-22 2.7737634e-14 9.3840997e-09]\n",
            "Actual:  [0. 1. 0. 0.] Predicted:  [1.5120572e-04 9.9956900e-01 2.2109844e-04 5.8692793e-05]\n",
            "Actual:  [0. 1. 0. 0.] Predicted:  [1.5748910e-05 9.9955302e-01 2.4896234e-04 1.8227680e-04]\n",
            "Actual:  [0. 0. 1. 0.] Predicted:  [7.5213757e-04 1.0744487e-02 1.1468609e-01 8.7381727e-01]\n",
            "Actual:  [0. 1. 0. 0.] Predicted:  [4.6147423e-05 9.9919719e-01 3.9052547e-04 3.6615029e-04]\n",
            "Actual:  [0. 0. 1. 0.] Predicted:  [2.3561041e-01 9.1808327e-02 6.7254269e-01 3.8566512e-05]\n",
            "Actual:  [0. 1. 0. 0.] Predicted:  [1.6210091e-05 9.9948621e-01 4.8149191e-04 1.6117492e-05]\n",
            "Actual:  [0. 1. 0. 0.] Predicted:  [3.0652393e-04 9.6548593e-01 1.2291685e-02 2.1915944e-02]\n",
            "Actual:  [0. 1. 0. 0.] Predicted:  [5.5514306e-07 9.9998307e-01 1.0780099e-05 5.5433702e-06]\n",
            "Actual:  [0. 0. 1. 0.] Predicted:  [6.987907e-06 9.900277e-01 9.882534e-03 8.280419e-05]\n",
            "Actual:  [0. 1. 0. 0.] Predicted:  [9.9999666e-01 1.7091521e-12 5.8585211e-26 3.3059246e-06]\n",
            "Actual:  [0. 1. 0. 0.] Predicted:  [1.5114142e-10 9.9992490e-01 2.9742449e-07 7.4848918e-05]\n",
            "Actual:  [0. 1. 0. 0.] Predicted:  [3.0421226e-08 9.9838316e-01 8.3814067e-04 7.7874190e-04]\n",
            "Actual:  [0. 1. 0. 0.] Predicted:  [3.9547954e-06 9.9970967e-01 1.6134686e-04 1.2507147e-04]\n",
            "Actual:  [0. 1. 0. 0.] Predicted:  [8.7108369e-08 9.9394363e-01 7.9491933e-08 6.0561337e-03]\n",
            "Actual:  [0. 1. 0. 0.] Predicted:  [1.3318643e-06 6.7315751e-01 1.5169025e-08 3.2684112e-01]\n",
            "Actual:  [0. 1. 0. 0.] Predicted:  [1.7798747e-07 9.6872205e-01 2.1019597e-02 1.0258109e-02]\n",
            "Actual:  [0. 1. 0. 0.] Predicted:  [1.05022715e-04 6.06349707e-01 8.05676915e-04 3.92739654e-01]\n",
            "Actual:  [0. 0. 0. 1.] Predicted:  [1.9775634e-09 1.9582969e-09 4.6467013e-04 9.9953532e-01]\n",
            "Actual:  [0. 0. 1. 0.] Predicted:  [7.184547e-04 9.021236e-01 2.150186e-02 7.565613e-02]\n",
            "Actual:  [0. 0. 0. 1.] Predicted:  [3.8989852e-03 8.3633405e-01 1.8197356e-07 1.5976670e-01]\n",
            "Actual:  [0. 0. 0. 1.] Predicted:  [4.7977570e-05 1.3974283e-05 6.7831395e-04 9.9925977e-01]\n",
            "Actual:  [0. 0. 1. 0.] Predicted:  [8.4266037e-01 6.3435377e-06 1.5558116e-01 1.7521036e-03]\n",
            "Actual:  [0. 0. 0. 1.] Predicted:  [1.1358345e-09 2.5351883e-09 4.8153775e-05 9.9995184e-01]\n",
            "Actual:  [0. 0. 0. 1.] Predicted:  [7.0069718e-06 5.7059090e-04 1.2168845e-03 9.9820554e-01]\n",
            "Actual:  [0. 0. 0. 1.] Predicted:  [6.3633109e-07 1.8806782e-06 6.0626823e-03 9.9393481e-01]\n",
            "Actual:  [0. 0. 0. 1.] Predicted:  [6.7384634e-03 1.6742661e-05 2.9186229e-04 9.9295288e-01]\n",
            "Actual:  [0. 0. 0. 1.] Predicted:  [1.5578156e-03 2.2194018e-09 1.4278734e-07 9.9844211e-01]\n",
            "Actual:  [0. 0. 0. 1.] Predicted:  [1.0563986e-04 3.8122656e-05 4.1482872e-03 9.9570799e-01]\n",
            "Actual:  [0. 0. 0. 1.] Predicted:  [1.0257253e-04 5.2484643e-01 9.8569967e-07 4.7505000e-01]\n",
            "Actual:  [0. 0. 0. 1.] Predicted:  [2.7227357e-05 1.5143371e-05 4.5548636e-02 9.5440900e-01]\n",
            "Actual:  [0. 0. 0. 1.] Predicted:  [1.1326591e-04 2.3370737e-18 8.6025613e-09 9.9988675e-01]\n",
            "Actual:  [0. 0. 0. 1.] Predicted:  [1.5636859e-05 1.4942099e-03 7.5901311e-04 9.9773115e-01]\n",
            "Actual:  [0. 0. 0. 1.] Predicted:  [5.6774747e-02 1.4635652e-03 3.1594602e-10 9.4176173e-01]\n",
            "Actual:  [0. 0. 0. 1.] Predicted:  [0.00201182 0.00241927 0.00252403 0.9930449 ]\n",
            "Actual:  [0. 0. 0. 1.] Predicted:  [1.3883551e-06 2.2652756e-07 1.5042868e-06 9.9999678e-01]\n",
            "Actual:  [0. 0. 0. 1.] Predicted:  [1.02564535e-07 5.76460375e-13 1.60318990e-07 9.99999762e-01]\n",
            "Actual:  [0. 0. 0. 1.] Predicted:  [1.7725146e-11 1.7962265e-14 4.0087747e-10 1.0000000e+00]\n"
          ]
        }
      ]
    },
    {
      "cell_type": "code",
      "metadata": {
        "colab": {
          "base_uri": "https://localhost:8080/"
        },
        "id": "DHH_CuhVWjXT",
        "outputId": "0ce6ae14-120e-44db-fc6f-82fa5164a518"
      },
      "source": [
        "n_preds = len(predictions)\n",
        "\n",
        "correct = 0\n",
        "wrong = 0\n",
        "\n",
        "for i in np.arange(n_preds):\n",
        "    pred_max = np.argmax(predictions[i])\n",
        "    actual_max = np.argmax(y_test[i])\n",
        "    if pred_max == actual_max:\n",
        "        correct += 1\n",
        "    else:\n",
        "        wrong += 1\n",
        "\n",
        "print('correct =', correct, ', wrong =', wrong)\n",
        "print('accuracy = ', correct/n_preds)"
      ],
      "id": "DHH_CuhVWjXT",
      "execution_count": 140,
      "outputs": [
        {
          "output_type": "stream",
          "name": "stdout",
          "text": [
            "correct = 53 , wrong = 7\n",
            "accuracy =  0.8833333333333333\n"
          ]
        }
      ]
    }
  ]
}