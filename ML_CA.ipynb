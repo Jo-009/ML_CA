{
  "nbformat": 4,
  "nbformat_minor": 5,
  "metadata": {
    "kernelspec": {
      "display_name": "Python 3 (ipykernel)",
      "language": "python",
      "name": "python3"
    },
    "language_info": {
      "codemirror_mode": {
        "name": "ipython",
        "version": 3
      },
      "file_extension": ".py",
      "mimetype": "text/x-python",
      "name": "python",
      "nbconvert_exporter": "python",
      "pygments_lexer": "ipython3",
      "version": "3.8.12"
    },
    "colab": {
      "name": "Jotestcode-Tensorflow Code.ipynb",
      "provenance": [],
      "collapsed_sections": [
        "9fd28ede",
        "Q1EFV6LcefRK",
        "s26VazgziSj3",
        "ltlkR0Avwm2r",
        "FiE5sRB-wvBX",
        "BLh0xe_qxTy_",
        "oqKIl1wyxzEP",
        "74168da3",
        "AnoI80liXV4F"
      ],
      "include_colab_link": true
    },
    "accelerator": "GPU"
  },
  "cells": [
    {
      "cell_type": "markdown",
      "metadata": {
        "id": "view-in-github",
        "colab_type": "text"
      },
      "source": [
        "<a href=\"https://colab.research.google.com/github/Jo-009/ML_CA/blob/Ver.2/ML_CA.ipynb\" target=\"_parent\"><img src=\"https://colab.research.google.com/assets/colab-badge.svg\" alt=\"Open In Colab\"/></a>"
      ]
    },
    {
      "cell_type": "markdown",
      "metadata": {
        "id": "53ef8e64"
      },
      "source": [
        "## CA Specifications\n",
        "1. A Fruits dataset is provided for this project, and it has images of (1) \n",
        "   apples, (2)oranges, (3) bananas and (4) a mix of apples, oranges and \n",
        "   bananas.\n",
        "2. Your task is to implement a CNN to recognize the 4 classes accurately.\n",
        "3. Use the images in the “train” folder to train your image classifier.\n",
        "4. Then, test the accuracy of your image classifier using images from the \n",
        "   “test” folder.\n",
        "5. Document all your experiments and results. For example, what was done to\n",
        "   increase the accuracy of your image classifier (e.g. image augmentation).\n",
        "6. Use Matplotlib to produce any plots that help the reader understand your\n",
        "   work better.\n",
        "   \n",
        "### Submission\n",
        "The deadline for this project is <b>28 Nov 2021, 6pm</b>.\n",
        "Please name your submission as <Your_Team_Number><A_or_B>.ipynb. For\n",
        "example, if you are in Team 1A, then your filename should be Team1A.ipynb."
      ],
      "id": "53ef8e64"
    },
    {
      "cell_type": "code",
      "metadata": {
        "id": "TZWn23PxXuTb"
      },
      "source": [
        "import matplotlib.pyplot as plt\n",
        "import seaborn as sns\n",
        "import tensorflow as tf\n",
        "import numpy as np\n",
        "import pandas as pd\n",
        "import os\n",
        "import cv2\n",
        "from PIL import Image, ImageOps"
      ],
      "id": "TZWn23PxXuTb",
      "execution_count": 1,
      "outputs": []
    },
    {
      "cell_type": "markdown",
      "metadata": {
        "id": "9fd28ede"
      },
      "source": [
        "### Preprocessing and Loading Data\n",
        "\n",
        "Derive x_train,x_test,x_val,y_train,y_test and y_val \n",
        "\n",
        "<b>x_train</b>: Numpy arrays of the images of the training dataset\n",
        "\n",
        "<b>y_train</b>: Labels of the training dataset\n",
        "\n",
        "<b>x_test</b>: Numpy arrays of the images of the testing dataset\n",
        "\n",
        "<b>y_test</b>: Labels of the testing dataset\n",
        "\n",
        "<b>x_val</b>: Numpy arrays of the images of the validation dataset\n",
        "\n",
        "<b>y_val</b>: Labels of the validation dataset"
      ],
      "id": "9fd28ede"
    },
    {
      "cell_type": "code",
      "metadata": {
        "id": "ceSWGug0a2nC"
      },
      "source": [
        "train_img_path = '/content/drive/MyDrive/Colab Notebooks/train/'\n",
        "test_img_path = '/content/drive/MyDrive/Colab Notebooks/test/1/' "
      ],
      "id": "ceSWGug0a2nC",
      "execution_count": 2,
      "outputs": []
    },
    {
      "cell_type": "markdown",
      "metadata": {
        "id": "Q1EFV6LcefRK"
      },
      "source": [
        "### Testing one img"
      ],
      "id": "Q1EFV6LcefRK"
    },
    {
      "cell_type": "code",
      "metadata": {
        "id": "rOvqWx9TbBND"
      },
      "source": [
        "# #test one img\n",
        "# img = Image.open(train_img_path + 'mixed_4.jpg')\n",
        "# img"
      ],
      "id": "rOvqWx9TbBND",
      "execution_count": 3,
      "outputs": []
    },
    {
      "cell_type": "code",
      "metadata": {
        "id": "1vabP3eWbo23"
      },
      "source": [
        "# np_img = np.array(img)\n",
        "# #plt.imshow(np_img)\n",
        "# np_img.shape"
      ],
      "id": "1vabP3eWbo23",
      "execution_count": 4,
      "outputs": []
    },
    {
      "cell_type": "code",
      "metadata": {
        "id": "HPdPe3qvcGaQ"
      },
      "source": [
        "# # normalize pixels values to between 0.0 to 1.0\n",
        "# np_img_norm = np_img / 255\n",
        "# np_img_norm"
      ],
      "id": "HPdPe3qvcGaQ",
      "execution_count": 5,
      "outputs": []
    },
    {
      "cell_type": "code",
      "metadata": {
        "id": "DGjLDdxEdnsM"
      },
      "source": [
        "# # crop and resize img\n",
        "# width, height = img.size\n",
        "# pad = 20    # pixels\n",
        "\n",
        "# img_crop = img.crop((pad, pad, width-pad, height-pad))\n",
        "# img_mod = img_crop.resize((650,650))\n",
        "\n",
        "# img_mod.size"
      ],
      "id": "DGjLDdxEdnsM",
      "execution_count": 6,
      "outputs": []
    },
    {
      "cell_type": "code",
      "metadata": {
        "id": "6mmafiLbdyAP"
      },
      "source": [
        "# # plot modified img\n",
        "# plt.subplots(figsize=(2,2))\n",
        "# plt.imshow(img_mod)"
      ],
      "id": "6mmafiLbdyAP",
      "execution_count": 7,
      "outputs": []
    },
    {
      "cell_type": "markdown",
      "metadata": {
        "id": "s26VazgziSj3"
      },
      "source": [
        "### Load data"
      ],
      "id": "s26VazgziSj3"
    },
    {
      "cell_type": "code",
      "metadata": {
        "id": "19cb9b63"
      },
      "source": [
        "train_ds_raw = os.listdir('/content/drive/MyDrive/Colab Notebooks/train/')\n",
        "test_ds_raw = os.listdir('/content/drive/MyDrive/Colab Notebooks/test/1/')"
      ],
      "id": "19cb9b63",
      "execution_count": 8,
      "outputs": []
    },
    {
      "cell_type": "code",
      "metadata": {
        "id": "ifdGO1wLZI36",
        "colab": {
          "base_uri": "https://localhost:8080/"
        },
        "outputId": "7f83d065-e173-49ce-a75f-9145ab4d83a9"
      },
      "source": [
        "train_ds_raw"
      ],
      "id": "ifdGO1wLZI36",
      "execution_count": 9,
      "outputs": [
        {
          "output_type": "execute_result",
          "data": {
            "text/plain": [
              "['apple_28.xml',\n",
              " 'apple_11.jpg',\n",
              " 'apple_22.jpg',\n",
              " 'apple_2.jpg',\n",
              " 'apple_18.jpg',\n",
              " 'apple_15.xml',\n",
              " 'apple_10.xml',\n",
              " 'apple_20.xml',\n",
              " 'apple_28.jpg',\n",
              " 'apple_11.xml',\n",
              " 'apple_12.jpg',\n",
              " 'apple_31.jpg',\n",
              " 'apple_30.jpg',\n",
              " 'apple_19.xml',\n",
              " 'apple_17.jpg',\n",
              " 'apple_14.jpg',\n",
              " 'apple_23.xml',\n",
              " 'apple_20.jpg',\n",
              " 'apple_19.jpg',\n",
              " 'apple_1.xml',\n",
              " 'apple_16.jpg',\n",
              " 'apple_3.xml',\n",
              " 'apple_3.jpg',\n",
              " 'apple_29.jpg',\n",
              " 'apple_18.xml',\n",
              " 'apple_27.xml',\n",
              " 'apple_21.xml',\n",
              " 'apple_24.xml',\n",
              " 'apple_10.jpg',\n",
              " 'apple_26.xml',\n",
              " 'apple_13.xml',\n",
              " 'apple_15.jpg',\n",
              " 'apple_24.jpg',\n",
              " 'apple_29.xml',\n",
              " 'apple_16.xml',\n",
              " 'apple_22.xml',\n",
              " 'apple_2.xml',\n",
              " 'apple_12.xml',\n",
              " 'apple_17.xml',\n",
              " 'apple_13.jpg',\n",
              " 'apple_1.jpg',\n",
              " 'apple_30.xml',\n",
              " 'apple_26.jpg',\n",
              " 'apple_27.jpg',\n",
              " 'apple_14.xml',\n",
              " 'apple_25.xml',\n",
              " 'apple_25.jpg',\n",
              " 'apple_23.jpg',\n",
              " 'apple_21.jpg',\n",
              " 'apple_39.xml',\n",
              " 'apple_50.jpg',\n",
              " 'apple_53.jpg',\n",
              " 'apple_50.xml',\n",
              " 'apple_54.jpg',\n",
              " 'apple_38.xml',\n",
              " 'apple_52.xml',\n",
              " 'apple_56.xml',\n",
              " 'apple_48.xml',\n",
              " 'apple_49.xml',\n",
              " 'apple_57.jpg',\n",
              " 'apple_45.xml',\n",
              " 'apple_42.xml',\n",
              " 'apple_53.xml',\n",
              " 'apple_47.xml',\n",
              " 'apple_44.xml',\n",
              " 'apple_41.xml',\n",
              " 'apple_33.jpg',\n",
              " 'apple_36.jpg',\n",
              " 'apple_35.jpg',\n",
              " 'apple_48.jpg',\n",
              " 'apple_4.xml',\n",
              " 'apple_4.jpg',\n",
              " 'apple_5.jpg',\n",
              " 'apple_37.jpg',\n",
              " 'apple_43.jpg',\n",
              " 'apple_39.jpg',\n",
              " 'apple_43.xml',\n",
              " 'apple_35.xml',\n",
              " 'apple_55.jpg',\n",
              " 'apple_51.xml',\n",
              " 'apple_45.jpg',\n",
              " 'apple_44.jpg',\n",
              " 'apple_52.jpg',\n",
              " 'apple_32.jpg',\n",
              " 'apple_47.jpg',\n",
              " 'apple_41.jpg',\n",
              " 'apple_55.xml',\n",
              " 'apple_31.xml',\n",
              " 'apple_49.jpg',\n",
              " 'apple_40.jpg',\n",
              " 'apple_42.jpg',\n",
              " 'apple_46.xml',\n",
              " 'apple_54.xml',\n",
              " 'apple_56.jpg',\n",
              " 'apple_46.jpg',\n",
              " 'apple_32.xml',\n",
              " 'apple_36.xml',\n",
              " 'apple_51.jpg',\n",
              " 'apple_5.xml',\n",
              " 'apple_38.jpg',\n",
              " 'apple_40.xml',\n",
              " 'apple_37.xml',\n",
              " 'apple_33.xml',\n",
              " 'apple_9.xml',\n",
              " 'apple_71.jpg',\n",
              " 'banana_1.jpg',\n",
              " 'apple_8.xml',\n",
              " 'apple_70.xml',\n",
              " 'apple_68.xml',\n",
              " 'apple_9.jpg',\n",
              " 'apple_73.jpg',\n",
              " 'apple_58.xml',\n",
              " 'apple_70.jpg',\n",
              " 'banana_10.xml',\n",
              " 'apple_61.jpg',\n",
              " 'apple_67.xml',\n",
              " 'apple_62.jpg',\n",
              " 'apple_64.jpg',\n",
              " 'apple_6.jpg',\n",
              " 'apple_58.jpg',\n",
              " 'banana_12.jpg',\n",
              " 'apple_61.xml',\n",
              " 'apple_76.jpg',\n",
              " 'apple_63.jpg',\n",
              " 'apple_7.xml',\n",
              " 'apple_68.jpg',\n",
              " 'apple_72.xml',\n",
              " 'apple_76.xml',\n",
              " 'apple_8.jpg',\n",
              " 'apple_73.xml',\n",
              " 'apple_57.xml',\n",
              " 'banana_10.jpg',\n",
              " 'apple_69.xml',\n",
              " 'apple_62.xml',\n",
              " 'apple_69.jpg',\n",
              " 'apple_6.xml',\n",
              " 'apple_66.jpg',\n",
              " 'banana_11.jpg',\n",
              " 'banana_13.xml',\n",
              " 'apple_72.jpg',\n",
              " 'apple_74.xml',\n",
              " 'apple_63.xml',\n",
              " 'banana_1.xml',\n",
              " 'apple_71.xml',\n",
              " 'apple_66.xml',\n",
              " 'apple_74.jpg',\n",
              " 'apple_59.jpg',\n",
              " 'apple_60.xml',\n",
              " 'apple_64.xml',\n",
              " 'banana_11.xml',\n",
              " 'apple_75.xml',\n",
              " 'apple_60.jpg',\n",
              " 'banana_12.xml',\n",
              " 'apple_65.xml',\n",
              " 'apple_65.jpg',\n",
              " 'apple_75.jpg',\n",
              " 'apple_7.jpg',\n",
              " 'apple_59.xml',\n",
              " 'apple_67.jpg',\n",
              " 'banana_13.jpg',\n",
              " 'banana_20.xml',\n",
              " 'banana_34.xml',\n",
              " 'banana_29.xml',\n",
              " 'banana_2.xml',\n",
              " 'banana_26.xml',\n",
              " 'banana_30.xml',\n",
              " 'banana_4.jpg',\n",
              " 'banana_17.xml',\n",
              " 'banana_36.xml',\n",
              " 'banana_21.jpg',\n",
              " 'banana_24.jpg',\n",
              " 'banana_34.jpg',\n",
              " 'banana_2.jpg',\n",
              " 'banana_36.jpg',\n",
              " 'banana_39.jpg',\n",
              " 'banana_30.jpg',\n",
              " 'banana_31.jpg',\n",
              " 'banana_4.xml',\n",
              " 'banana_27.xml',\n",
              " 'banana_21.xml',\n",
              " 'banana_29.jpg',\n",
              " 'banana_16.xml',\n",
              " 'banana_38.jpg',\n",
              " 'banana_28.xml',\n",
              " 'banana_38.xml',\n",
              " 'banana_14.jpg',\n",
              " 'banana_28.jpg',\n",
              " 'banana_33.xml',\n",
              " 'banana_25.jpg',\n",
              " 'banana_32.jpg',\n",
              " 'banana_31.xml',\n",
              " 'banana_27.jpg',\n",
              " 'banana_26.jpg',\n",
              " 'banana_17.jpg',\n",
              " 'banana_3.jpg',\n",
              " 'banana_32.xml',\n",
              " 'banana_3.xml',\n",
              " 'banana_16.jpg',\n",
              " 'banana_33.jpg',\n",
              " 'banana_23.jpg',\n",
              " 'banana_35.xml',\n",
              " 'banana_20.jpg',\n",
              " 'banana_37.jpg',\n",
              " 'banana_40.jpg',\n",
              " 'banana_25.xml',\n",
              " 'banana_35.jpg',\n",
              " 'banana_24.xml',\n",
              " 'banana_23.xml',\n",
              " 'banana_39.xml',\n",
              " 'banana_14.xml',\n",
              " 'banana_37.xml',\n",
              " 'banana_22.xml',\n",
              " 'banana_40.xml',\n",
              " 'banana_22.jpg',\n",
              " 'banana_59.xml',\n",
              " 'banana_57.jpg',\n",
              " 'banana_51.xml',\n",
              " 'banana_64.jpg',\n",
              " 'banana_51.jpg',\n",
              " 'banana_59.jpg',\n",
              " 'banana_41.jpg',\n",
              " 'banana_45.xml',\n",
              " 'banana_49.jpg',\n",
              " 'banana_48.jpg',\n",
              " 'banana_54.jpg',\n",
              " 'banana_53.xml',\n",
              " 'banana_56.jpg',\n",
              " 'banana_60.jpg',\n",
              " 'banana_43.xml',\n",
              " 'banana_52.jpg',\n",
              " 'banana_63.xml',\n",
              " 'banana_58.xml',\n",
              " 'banana_55.jpg',\n",
              " 'banana_42.jpg',\n",
              " 'banana_61.jpg',\n",
              " 'banana_62.xml',\n",
              " 'banana_50.xml',\n",
              " 'banana_42.xml',\n",
              " 'banana_56.xml',\n",
              " 'banana_55.xml',\n",
              " 'banana_50.jpg',\n",
              " 'banana_44.jpg',\n",
              " 'banana_47.jpg',\n",
              " 'banana_65.jpg',\n",
              " 'banana_5.xml',\n",
              " 'banana_54.xml',\n",
              " 'banana_45.jpg',\n",
              " 'banana_58.jpg',\n",
              " 'banana_61.xml',\n",
              " 'banana_49.xml',\n",
              " 'banana_6.jpg',\n",
              " 'banana_65.xml',\n",
              " 'banana_60.xml',\n",
              " 'banana_63.jpg',\n",
              " 'banana_6.xml',\n",
              " 'banana_47.xml',\n",
              " 'banana_57.xml',\n",
              " 'banana_46.jpg',\n",
              " 'banana_41.xml',\n",
              " 'banana_5.jpg',\n",
              " 'banana_44.xml',\n",
              " 'banana_53.jpg',\n",
              " 'banana_48.xml',\n",
              " 'banana_46.xml',\n",
              " 'banana_52.xml',\n",
              " 'banana_62.jpg',\n",
              " 'banana_43.jpg',\n",
              " 'banana_64.xml',\n",
              " 'banana_7.jpg',\n",
              " 'mixed_10.xml',\n",
              " 'banana_9.xml',\n",
              " 'mixed_2.jpg',\n",
              " 'banana_66.xml',\n",
              " 'banana_8.xml',\n",
              " 'mixed_15.jpg',\n",
              " 'mixed_11.jpg',\n",
              " 'mixed_14.jpg',\n",
              " 'mixed_11.xml',\n",
              " 'banana_72.xml',\n",
              " 'banana_8.jpg',\n",
              " 'mixed_12.xml',\n",
              " 'mixed_16.jpg',\n",
              " 'mixed_15.xml',\n",
              " 'banana_75.xml',\n",
              " 'mixed_20.xml',\n",
              " 'mixed_12.jpg',\n",
              " 'banana_73.jpg',\n",
              " 'mixed_20.jpg',\n",
              " 'banana_71.jpg',\n",
              " 'banana_75.jpg',\n",
              " 'banana_69.xml',\n",
              " 'banana_76.xml',\n",
              " 'mixed_1.xml',\n",
              " 'mixed_19.xml',\n",
              " 'banana_66.jpg',\n",
              " 'banana_69.jpg',\n",
              " 'mixed_2.xml',\n",
              " 'banana_68.xml',\n",
              " 'banana_71.xml',\n",
              " 'banana_76.jpg',\n",
              " 'mixed_13.xml',\n",
              " 'mixed_18.jpg',\n",
              " 'mixed_17.jpg',\n",
              " 'banana_67.jpg',\n",
              " 'mixed_17.xml',\n",
              " 'banana_9.jpg',\n",
              " 'mixed_18.xml',\n",
              " 'banana_74.xml',\n",
              " 'banana_73.xml',\n",
              " 'mixed_16.xml',\n",
              " 'mixed_14.xml',\n",
              " 'banana_70.jpg',\n",
              " 'mixed_10.jpg',\n",
              " 'banana_68.jpg',\n",
              " 'mixed_1.jpg',\n",
              " 'banana_74.jpg',\n",
              " 'banana_7.xml',\n",
              " 'banana_72.jpg',\n",
              " 'mixed_13.jpg',\n",
              " 'mixed_19.jpg',\n",
              " 'banana_70.xml',\n",
              " 'banana_67.xml',\n",
              " 'orange_15.xml',\n",
              " 'mixed_8.xml',\n",
              " 'orange_23.xml',\n",
              " 'mixed_8.jpg',\n",
              " 'mixed_3.jpg',\n",
              " 'orange_1.jpg',\n",
              " 'orange_15.jpg',\n",
              " 'orange_2.xml',\n",
              " 'orange_14.xml',\n",
              " 'mixed_4.xml',\n",
              " 'mixed_3.xml',\n",
              " 'orange_22.xml',\n",
              " 'orange_10.xml',\n",
              " 'mixed_4.jpg',\n",
              " 'orange_16.xml',\n",
              " 'orange_12.xml',\n",
              " 'mixed_9.xml',\n",
              " 'orange_20.xml',\n",
              " 'orange_23.jpg',\n",
              " 'orange_10.jpg',\n",
              " 'orange_21.xml',\n",
              " 'orange_24.xml',\n",
              " 'mixed_7.jpg',\n",
              " 'mixed_6.jpg',\n",
              " 'orange_13.xml',\n",
              " 'mixed_9.jpg',\n",
              " 'orange_13.jpg',\n",
              " 'orange_19.jpg',\n",
              " 'orange_17.xml',\n",
              " 'orange_22.jpg',\n",
              " 'orange_12.jpg',\n",
              " 'mixed_6.xml',\n",
              " 'mixed_5.xml',\n",
              " 'orange_20.jpg',\n",
              " 'orange_11.xml',\n",
              " 'orange_1.xml',\n",
              " 'orange_18.jpg',\n",
              " 'orange_17.jpg',\n",
              " 'orange_24.jpg',\n",
              " 'orange_11.jpg',\n",
              " 'mixed_5.jpg',\n",
              " 'orange_19.xml',\n",
              " 'orange_2.jpg',\n",
              " 'mixed_7.xml',\n",
              " 'orange_18.xml',\n",
              " 'orange_16.jpg',\n",
              " 'orange_21.jpg',\n",
              " 'orange_14.jpg',\n",
              " 'orange_40.xml',\n",
              " 'orange_47.jpg',\n",
              " 'orange_4.xml',\n",
              " 'orange_30.jpg',\n",
              " 'orange_50.jpg',\n",
              " 'orange_32.jpg',\n",
              " 'orange_41.jpg',\n",
              " 'orange_49.xml',\n",
              " 'orange_3.xml',\n",
              " 'orange_3.jpg',\n",
              " 'orange_46.xml',\n",
              " 'orange_33.xml',\n",
              " 'orange_44.xml',\n",
              " 'orange_47.xml',\n",
              " 'orange_33.jpg',\n",
              " 'orange_31.jpg',\n",
              " 'orange_42.jpg',\n",
              " 'orange_38.jpg',\n",
              " 'orange_5.jpg',\n",
              " 'orange_25.xml',\n",
              " 'orange_4.jpg',\n",
              " 'orange_26.xml',\n",
              " 'orange_26.jpg',\n",
              " 'orange_29.jpg',\n",
              " 'orange_34.xml',\n",
              " 'orange_44.jpg',\n",
              " 'orange_28.xml',\n",
              " 'orange_30.xml',\n",
              " 'orange_29.xml',\n",
              " 'orange_37.jpg',\n",
              " 'orange_49.jpg',\n",
              " 'orange_42.xml',\n",
              " 'orange_37.xml',\n",
              " 'orange_35.xml',\n",
              " 'orange_43.xml',\n",
              " 'orange_27.xml',\n",
              " 'orange_34.jpg',\n",
              " 'orange_41.xml',\n",
              " 'orange_28.jpg',\n",
              " 'orange_31.xml',\n",
              " 'orange_36.xml',\n",
              " 'orange_35.jpg',\n",
              " 'orange_38.xml',\n",
              " 'orange_43.jpg',\n",
              " 'orange_25.jpg',\n",
              " 'orange_40.jpg',\n",
              " 'orange_36.jpg',\n",
              " 'orange_5.xml',\n",
              " 'orange_32.xml',\n",
              " 'orange_46.jpg',\n",
              " 'orange_27.jpg',\n",
              " 'orange_48.jpg',\n",
              " 'orange_48.xml',\n",
              " 'orange_68.xml',\n",
              " 'orange_74.xml',\n",
              " 'orange_57.xml',\n",
              " 'orange_70.jpg',\n",
              " 'orange_6.jpg',\n",
              " 'orange_75.xml',\n",
              " 'orange_62.jpg',\n",
              " 'orange_63.jpg',\n",
              " 'orange_53.xml',\n",
              " 'orange_67.jpg',\n",
              " 'orange_60.xml',\n",
              " 'orange_72.xml',\n",
              " 'orange_7.jpg',\n",
              " 'orange_56.jpg',\n",
              " 'orange_59.xml',\n",
              " 'orange_75.jpg',\n",
              " 'orange_64.xml',\n",
              " 'orange_54.xml',\n",
              " 'orange_63.xml',\n",
              " 'orange_67.xml',\n",
              " 'orange_74.jpg',\n",
              " 'orange_52.jpg',\n",
              " 'orange_71.xml',\n",
              " 'orange_70.xml',\n",
              " 'orange_55.jpg',\n",
              " 'orange_53.jpg',\n",
              " 'orange_55.xml',\n",
              " 'orange_72.jpg',\n",
              " 'orange_76.jpg',\n",
              " 'orange_61.xml',\n",
              " 'orange_61.jpg',\n",
              " 'orange_71.jpg',\n",
              " 'orange_51.jpg',\n",
              " 'orange_60.jpg',\n",
              " 'orange_51.xml',\n",
              " 'orange_58.xml',\n",
              " 'orange_50.xml',\n",
              " 'orange_64.jpg',\n",
              " 'orange_69.xml',\n",
              " 'orange_52.xml',\n",
              " 'orange_59.jpg',\n",
              " 'orange_69.jpg',\n",
              " 'orange_73.xml',\n",
              " 'orange_58.jpg',\n",
              " 'orange_7.xml',\n",
              " 'orange_54.jpg',\n",
              " 'orange_62.xml',\n",
              " 'orange_56.xml',\n",
              " 'orange_73.jpg',\n",
              " 'orange_57.jpg',\n",
              " 'orange_68.jpg',\n",
              " 'orange_6.xml',\n",
              " 'orange_9.xml',\n",
              " 'orange_9.jpg',\n",
              " 'orange_8.jpg',\n",
              " 'orange_76.xml',\n",
              " 'orange_8.xml']"
            ]
          },
          "metadata": {},
          "execution_count": 9
        }
      ]
    },
    {
      "cell_type": "code",
      "metadata": {
        "id": "r3ys7pFNvv1d",
        "colab": {
          "base_uri": "https://localhost:8080/"
        },
        "outputId": "49b3a441-19a6-42a5-f3a7-9c69bd0d50c6"
      },
      "source": [
        "type(train_ds_raw), len(train_ds_raw)"
      ],
      "id": "r3ys7pFNvv1d",
      "execution_count": 10,
      "outputs": [
        {
          "output_type": "execute_result",
          "data": {
            "text/plain": [
              "(list, 480)"
            ]
          },
          "metadata": {},
          "execution_count": 10
        }
      ]
    },
    {
      "cell_type": "markdown",
      "metadata": {
        "id": "ltlkR0Avwm2r"
      },
      "source": [
        "### Create X_train"
      ],
      "id": "ltlkR0Avwm2r"
    },
    {
      "cell_type": "code",
      "metadata": {
        "id": "G_aVwgiMvSBn"
      },
      "source": [
        "filenames = []\n",
        "for label in train_ds_raw:\n",
        "    if label[-3:] == 'xml': \n",
        "        continue              # only take jpeg\n",
        "    else:\n",
        "        filenames.append(train_img_path + label)"
      ],
      "id": "G_aVwgiMvSBn",
      "execution_count": 11,
      "outputs": []
    },
    {
      "cell_type": "code",
      "metadata": {
        "id": "jwJueec5fL3Y",
        "colab": {
          "base_uri": "https://localhost:8080/"
        },
        "outputId": "ad8b7154-a161-402f-e8fd-9e717a190da6"
      },
      "source": [
        "# filenames\n",
        "len(filenames)"
      ],
      "id": "jwJueec5fL3Y",
      "execution_count": 12,
      "outputs": [
        {
          "output_type": "execute_result",
          "data": {
            "text/plain": [
              "240"
            ]
          },
          "metadata": {},
          "execution_count": 12
        }
      ]
    },
    {
      "cell_type": "markdown",
      "metadata": {
        "id": "FiE5sRB-wvBX"
      },
      "source": [
        "### Create y_train label"
      ],
      "id": "FiE5sRB-wvBX"
    },
    {
      "cell_type": "code",
      "metadata": {
        "id": "e91ehIK9vLku"
      },
      "source": [
        "y_train_label = []\n",
        "\n",
        "for label in train_ds_raw:\n",
        "    if label[-3:] == 'xml': \n",
        "        continue              #if xml, ignore\n",
        "    arr = label.split('_')    # else, str manipulation \n",
        "    y_train_label.append(arr[0])\n"
      ],
      "id": "e91ehIK9vLku",
      "execution_count": 13,
      "outputs": []
    },
    {
      "cell_type": "code",
      "metadata": {
        "id": "57042e0f",
        "colab": {
          "base_uri": "https://localhost:8080/"
        },
        "outputId": "5f8801de-f885-43de-9690-58ed70ed15a0"
      },
      "source": [
        "#y_train_label\n",
        "len(filenames), len(y_train_label)"
      ],
      "id": "57042e0f",
      "execution_count": 14,
      "outputs": [
        {
          "output_type": "execute_result",
          "data": {
            "text/plain": [
              "(240, 240)"
            ]
          },
          "metadata": {},
          "execution_count": 14
        }
      ]
    },
    {
      "cell_type": "markdown",
      "metadata": {
        "id": "BLh0xe_qxTy_"
      },
      "source": [
        "### Create df to visualize datasets"
      ],
      "id": "BLh0xe_qxTy_"
    },
    {
      "cell_type": "code",
      "metadata": {
        "id": "vg9zB5CvxYpU"
      },
      "source": [
        "df = pd.DataFrame(columns=['filenames'], data=filenames)"
      ],
      "id": "vg9zB5CvxYpU",
      "execution_count": 15,
      "outputs": []
    },
    {
      "cell_type": "code",
      "metadata": {
        "id": "y8hnNB_excjB"
      },
      "source": [
        "df['y_train_label'] = y_train_label"
      ],
      "id": "y8hnNB_excjB",
      "execution_count": 16,
      "outputs": []
    },
    {
      "cell_type": "code",
      "metadata": {
        "id": "a4rqMNaFxgTs",
        "colab": {
          "base_uri": "https://localhost:8080/",
          "height": 0
        },
        "outputId": "742b7f17-1a1c-4e16-b47e-1a2d608a3b7b"
      },
      "source": [
        "df"
      ],
      "id": "a4rqMNaFxgTs",
      "execution_count": 17,
      "outputs": [
        {
          "output_type": "execute_result",
          "data": {
            "text/html": [
              "<div>\n",
              "<style scoped>\n",
              "    .dataframe tbody tr th:only-of-type {\n",
              "        vertical-align: middle;\n",
              "    }\n",
              "\n",
              "    .dataframe tbody tr th {\n",
              "        vertical-align: top;\n",
              "    }\n",
              "\n",
              "    .dataframe thead th {\n",
              "        text-align: right;\n",
              "    }\n",
              "</style>\n",
              "<table border=\"1\" class=\"dataframe\">\n",
              "  <thead>\n",
              "    <tr style=\"text-align: right;\">\n",
              "      <th></th>\n",
              "      <th>filenames</th>\n",
              "      <th>y_train_label</th>\n",
              "    </tr>\n",
              "  </thead>\n",
              "  <tbody>\n",
              "    <tr>\n",
              "      <th>0</th>\n",
              "      <td>/content/drive/MyDrive/Colab Notebooks/train/a...</td>\n",
              "      <td>apple</td>\n",
              "    </tr>\n",
              "    <tr>\n",
              "      <th>1</th>\n",
              "      <td>/content/drive/MyDrive/Colab Notebooks/train/a...</td>\n",
              "      <td>apple</td>\n",
              "    </tr>\n",
              "    <tr>\n",
              "      <th>2</th>\n",
              "      <td>/content/drive/MyDrive/Colab Notebooks/train/a...</td>\n",
              "      <td>apple</td>\n",
              "    </tr>\n",
              "    <tr>\n",
              "      <th>3</th>\n",
              "      <td>/content/drive/MyDrive/Colab Notebooks/train/a...</td>\n",
              "      <td>apple</td>\n",
              "    </tr>\n",
              "    <tr>\n",
              "      <th>4</th>\n",
              "      <td>/content/drive/MyDrive/Colab Notebooks/train/a...</td>\n",
              "      <td>apple</td>\n",
              "    </tr>\n",
              "    <tr>\n",
              "      <th>...</th>\n",
              "      <td>...</td>\n",
              "      <td>...</td>\n",
              "    </tr>\n",
              "    <tr>\n",
              "      <th>235</th>\n",
              "      <td>/content/drive/MyDrive/Colab Notebooks/train/o...</td>\n",
              "      <td>orange</td>\n",
              "    </tr>\n",
              "    <tr>\n",
              "      <th>236</th>\n",
              "      <td>/content/drive/MyDrive/Colab Notebooks/train/o...</td>\n",
              "      <td>orange</td>\n",
              "    </tr>\n",
              "    <tr>\n",
              "      <th>237</th>\n",
              "      <td>/content/drive/MyDrive/Colab Notebooks/train/o...</td>\n",
              "      <td>orange</td>\n",
              "    </tr>\n",
              "    <tr>\n",
              "      <th>238</th>\n",
              "      <td>/content/drive/MyDrive/Colab Notebooks/train/o...</td>\n",
              "      <td>orange</td>\n",
              "    </tr>\n",
              "    <tr>\n",
              "      <th>239</th>\n",
              "      <td>/content/drive/MyDrive/Colab Notebooks/train/o...</td>\n",
              "      <td>orange</td>\n",
              "    </tr>\n",
              "  </tbody>\n",
              "</table>\n",
              "<p>240 rows × 2 columns</p>\n",
              "</div>"
            ],
            "text/plain": [
              "                                             filenames y_train_label\n",
              "0    /content/drive/MyDrive/Colab Notebooks/train/a...         apple\n",
              "1    /content/drive/MyDrive/Colab Notebooks/train/a...         apple\n",
              "2    /content/drive/MyDrive/Colab Notebooks/train/a...         apple\n",
              "3    /content/drive/MyDrive/Colab Notebooks/train/a...         apple\n",
              "4    /content/drive/MyDrive/Colab Notebooks/train/a...         apple\n",
              "..                                                 ...           ...\n",
              "235  /content/drive/MyDrive/Colab Notebooks/train/o...        orange\n",
              "236  /content/drive/MyDrive/Colab Notebooks/train/o...        orange\n",
              "237  /content/drive/MyDrive/Colab Notebooks/train/o...        orange\n",
              "238  /content/drive/MyDrive/Colab Notebooks/train/o...        orange\n",
              "239  /content/drive/MyDrive/Colab Notebooks/train/o...        orange\n",
              "\n",
              "[240 rows x 2 columns]"
            ]
          },
          "metadata": {},
          "execution_count": 17
        }
      ]
    },
    {
      "cell_type": "code",
      "metadata": {
        "id": "VuOtqL4kxkmz"
      },
      "source": [
        "# img = cv2.imread(filenames[10], cv2.IMREAD_COLOR)\n",
        "# img.shape"
      ],
      "id": "VuOtqL4kxkmz",
      "execution_count": 18,
      "outputs": []
    },
    {
      "cell_type": "markdown",
      "metadata": {
        "id": "oqKIl1wyxzEP"
      },
      "source": [
        "### Plot Histogram to set size of images"
      ],
      "id": "oqKIl1wyxzEP"
    },
    {
      "cell_type": "code",
      "metadata": {
        "id": "f5cf9753"
      },
      "source": [
        "# plot histogram\n",
        "# decide which is the more common size for img\n",
        "# Getting the dimensions of all the image into a list\n",
        "dim1 = []\n",
        "dim2 = []\n",
        "colors = []\n",
        "\n",
        "for img_filename in filenames:\n",
        "    x, y, c = plt.imread(img_filename).shape # height width color\n",
        "    dim1.append(x)\n",
        "    dim2.append(y)\n",
        "    colors.append(c)"
      ],
      "id": "f5cf9753",
      "execution_count": 19,
      "outputs": []
    },
    {
      "cell_type": "code",
      "metadata": {
        "id": "fg5YDbf3x-rp"
      },
      "source": [
        "dim1 = np.array(dim1)\n",
        "dim2 = np.array(dim2)\n",
        "colors = np.array(colors)"
      ],
      "id": "fg5YDbf3x-rp",
      "execution_count": 20,
      "outputs": []
    },
    {
      "cell_type": "code",
      "metadata": {
        "id": "aF8QZ53zyBBI",
        "colab": {
          "base_uri": "https://localhost:8080/"
        },
        "outputId": "15089c6c-caa3-45e7-c89c-80372d6debc1"
      },
      "source": [
        "dim1.max(), dim2.max(), colors.mean()"
      ],
      "id": "aF8QZ53zyBBI",
      "execution_count": 21,
      "outputs": [
        {
          "output_type": "execute_result",
          "data": {
            "text/plain": [
              "(4605, 3160, 3.1083333333333334)"
            ]
          },
          "metadata": {},
          "execution_count": 21
        }
      ]
    },
    {
      "cell_type": "code",
      "metadata": {
        "id": "ab0615dd",
        "colab": {
          "base_uri": "https://localhost:8080/",
          "height": 0
        },
        "outputId": "ebaefa20-dfc3-4cf2-f301-a3d7d6ba69b6"
      },
      "source": [
        "sns.jointplot(x=dim1, y=dim2);"
      ],
      "id": "ab0615dd",
      "execution_count": 22,
      "outputs": [
        {
          "output_type": "display_data",
          "data": {
            "image/png": "[encoded data removed]",
            "text/plain": [
              "<Figure size 432x432 with 3 Axes>"
            ]
          },
          "metadata": {
            "needs_background": "light"
          }
        }
      ]
    },
    {
      "cell_type": "code",
      "metadata": {
        "id": "iO5DwUcYyHGa",
        "colab": {
          "base_uri": "https://localhost:8080/"
        },
        "outputId": "5203c5e4-ade7-4d8a-ead1-b5a6367f768f"
      },
      "source": [
        "dim1.mean(), dim2.mean()"
      ],
      "id": "iO5DwUcYyHGa",
      "execution_count": 23,
      "outputs": [
        {
          "output_type": "execute_result",
          "data": {
            "text/plain": [
              "(633.5083333333333, 789.2166666666667)"
            ]
          },
          "metadata": {},
          "execution_count": 23
        }
      ]
    },
    {
      "cell_type": "markdown",
      "metadata": {
        "id": "OtAm3FuiyJQf"
      },
      "source": [
        "resize according to findings:\n",
        "*Taking the mean of the image size, we set the image size to be 650 by 650 by 3 for easier computation*\n",
        "**image_size = (650, 650)**"
      ],
      "id": "OtAm3FuiyJQf"
    },
    {
      "cell_type": "markdown",
      "metadata": {
        "id": "LoXpWs5DzNB4"
      },
      "source": [
        "### Resize images to proper and similar size and create x_train"
      ],
      "id": "LoXpWs5DzNB4"
    },
    {
      "cell_type": "code",
      "metadata": {
        "id": "Yddgi2-KzbYf"
      },
      "source": [
        "# x_train = None\n",
        "\n",
        "# for i in range(len(filenames)):\n",
        "#     img_raw = Image.open(filenames[i])  \n",
        "#     greyscale_img = ImageOps.grayscale(img_raw)\n",
        "#     img_reshaped = greyscale_img.resize((200, 200))   \n",
        "#     if x_train is None:\n",
        "#         x_train = img_reshaped\n",
        "#     else:\n",
        "#         x_train = np.concatenate((x_train, img_reshaped))\n",
        "\n",
        "# x_train = x_train.reshape(-1, 200, 200, 1)\n",
        "# x_train.shape"
      ],
      "id": "Yddgi2-KzbYf",
      "execution_count": 24,
      "outputs": []
    },
    {
      "cell_type": "code",
      "metadata": {
        "id": "hvY4WiREuixE",
        "colab": {
          "base_uri": "https://localhost:8080/"
        },
        "outputId": "3363ef79-6322-4a10-d78d-9caa13978cbc"
      },
      "source": [
        "x_train = None\n",
        "\n",
        "for i in range(len(y_train_label)):\n",
        "    img_raw = cv2.imread(filenames[i], cv2.IMREAD_COLOR)\n",
        "    img_reshaped = cv2.resize(img_raw,(250, 250), cv2.INTER_NEAREST)\n",
        "    img_reshaped = cv2.cvtColor(img_reshaped, cv2.COLOR_BGR2RGB)\n",
        "    if x_train is None:\n",
        "        x_train = img_reshaped\n",
        "    else:\n",
        "        x_train = np.concatenate((x_train, img_reshaped))\n",
        "# Verify data shaped correctly\n",
        "x_train = x_train.reshape(-1, 250, 250, 3)\n",
        "x_train.shape"
      ],
      "id": "hvY4WiREuixE",
      "execution_count": 25,
      "outputs": [
        {
          "output_type": "execute_result",
          "data": {
            "text/plain": [
              "(240, 250, 250, 3)"
            ]
          },
          "metadata": {},
          "execution_count": 25
        }
      ]
    },
    {
      "cell_type": "markdown",
      "metadata": {
        "id": "Fh2Wz05BJxfT"
      },
      "source": [
        "Verify that data is shaped correctly by randomly retrieving an individual data to view"
      ],
      "id": "Fh2Wz05BJxfT"
    },
    {
      "cell_type": "code",
      "metadata": {
        "id": "9vCcC-CSKCvv"
      },
      "source": [
        "# # img2 = Image.fromarray(x_train[1])\n",
        "# # --> bug in scipy so shape can throw error\n",
        "# img2 = np.array(Image.fromarray((x_train[1] * 255).astype(np.uint8)).convert('RGB'))\n",
        "# plt.subplots(figsize=(2,2))\n",
        "# plt.imshow(img2)"
      ],
      "id": "9vCcC-CSKCvv",
      "execution_count": 26,
      "outputs": []
    },
    {
      "cell_type": "markdown",
      "metadata": {
        "id": "K61EcIxjH8Mc"
      },
      "source": [
        "**Determine max value of each cell and min before normalizing**"
      ],
      "id": "K61EcIxjH8Mc"
    },
    {
      "cell_type": "code",
      "metadata": {
        "id": "336393cd",
        "colab": {
          "base_uri": "https://localhost:8080/"
        },
        "outputId": "c87cb5a6-3078-4ab4-f278-6d3c88a3a8e3"
      },
      "source": [
        "x_train.max(), x_train.min()"
      ],
      "id": "336393cd",
      "execution_count": 27,
      "outputs": [
        {
          "output_type": "execute_result",
          "data": {
            "text/plain": [
              "(255, 0)"
            ]
          },
          "metadata": {},
          "execution_count": 27
        }
      ]
    },
    {
      "cell_type": "markdown",
      "metadata": {
        "id": "s1Iwp-eAIIDk"
      },
      "source": [
        "**Normalize dataset**"
      ],
      "id": "s1Iwp-eAIIDk"
    },
    {
      "cell_type": "code",
      "metadata": {
        "id": "Y15ugtfnILRB",
        "colab": {
          "base_uri": "https://localhost:8080/"
        },
        "outputId": "66666cd1-d623-47d0-e722-cd1a197c666b"
      },
      "source": [
        "x_train = x_train/255\n",
        "print(x_train.shape)"
      ],
      "id": "Y15ugtfnILRB",
      "execution_count": 28,
      "outputs": [
        {
          "output_type": "stream",
          "name": "stdout",
          "text": [
            "(240, 250, 250, 3)\n"
          ]
        }
      ]
    },
    {
      "cell_type": "markdown",
      "metadata": {
        "id": "64a1cb65"
      },
      "source": [
        "One-Hot Encoding data using keras to_categorical"
      ],
      "id": "64a1cb65"
    },
    {
      "cell_type": "code",
      "metadata": {
        "id": "t3Z2Ti8TwsuQ",
        "colab": {
          "base_uri": "https://localhost:8080/"
        },
        "outputId": "42ad7777-86a9-4742-defe-5afb76ae42bb"
      },
      "source": [
        "#labels in str\n",
        "cat = np.unique(y_train_label)\n",
        "cat"
      ],
      "id": "t3Z2Ti8TwsuQ",
      "execution_count": 29,
      "outputs": [
        {
          "output_type": "execute_result",
          "data": {
            "text/plain": [
              "array(['apple', 'banana', 'mixed', 'orange'], dtype='<U6')"
            ]
          },
          "metadata": {},
          "execution_count": 29
        }
      ]
    },
    {
      "cell_type": "code",
      "metadata": {
        "id": "3Yjzg3B6Ip29",
        "colab": {
          "base_uri": "https://localhost:8080/"
        },
        "outputId": "5ee390b1-adb9-4948-e6fc-8d960c935e25"
      },
      "source": [
        "n_labels = len(cat)\n",
        "n_labels"
      ],
      "id": "3Yjzg3B6Ip29",
      "execution_count": 30,
      "outputs": [
        {
          "output_type": "execute_result",
          "data": {
            "text/plain": [
              "4"
            ]
          },
          "metadata": {},
          "execution_count": 30
        }
      ]
    },
    {
      "cell_type": "code",
      "metadata": {
        "id": "u2raB5SCod-j",
        "colab": {
          "base_uri": "https://localhost:8080/"
        },
        "outputId": "e72e8ec9-5803-4cc8-c45e-536ef52967bd"
      },
      "source": [
        "from sklearn.preprocessing import LabelEncoder\n",
        "import pandas as pd\n",
        "\n",
        "#instantiate one hot encoding\n",
        "encoder = LabelEncoder()\n",
        "#fit\n",
        "encoder.fit(y_train_label)\n",
        "#transform\n",
        "data = encoder.transform(y_train_label)\n",
        "\n",
        "y_train = tf.keras.utils.to_categorical(data)\n",
        "print(y_train) "
      ],
      "id": "u2raB5SCod-j",
      "execution_count": 31,
      "outputs": [
        {
          "output_type": "stream",
          "name": "stdout",
          "text": [
            "[[1. 0. 0. 0.]\n",
            " [1. 0. 0. 0.]\n",
            " [1. 0. 0. 0.]\n",
            " [1. 0. 0. 0.]\n",
            " [1. 0. 0. 0.]\n",
            " [1. 0. 0. 0.]\n",
            " [1. 0. 0. 0.]\n",
            " [1. 0. 0. 0.]\n",
            " [1. 0. 0. 0.]\n",
            " [1. 0. 0. 0.]\n",
            " [1. 0. 0. 0.]\n",
            " [1. 0. 0. 0.]\n",
            " [1. 0. 0. 0.]\n",
            " [1. 0. 0. 0.]\n",
            " [1. 0. 0. 0.]\n",
            " [1. 0. 0. 0.]\n",
            " [1. 0. 0. 0.]\n",
            " [1. 0. 0. 0.]\n",
            " [1. 0. 0. 0.]\n",
            " [1. 0. 0. 0.]\n",
            " [1. 0. 0. 0.]\n",
            " [1. 0. 0. 0.]\n",
            " [1. 0. 0. 0.]\n",
            " [1. 0. 0. 0.]\n",
            " [1. 0. 0. 0.]\n",
            " [1. 0. 0. 0.]\n",
            " [1. 0. 0. 0.]\n",
            " [1. 0. 0. 0.]\n",
            " [1. 0. 0. 0.]\n",
            " [1. 0. 0. 0.]\n",
            " [1. 0. 0. 0.]\n",
            " [1. 0. 0. 0.]\n",
            " [1. 0. 0. 0.]\n",
            " [1. 0. 0. 0.]\n",
            " [1. 0. 0. 0.]\n",
            " [1. 0. 0. 0.]\n",
            " [1. 0. 0. 0.]\n",
            " [1. 0. 0. 0.]\n",
            " [1. 0. 0. 0.]\n",
            " [1. 0. 0. 0.]\n",
            " [1. 0. 0. 0.]\n",
            " [1. 0. 0. 0.]\n",
            " [1. 0. 0. 0.]\n",
            " [1. 0. 0. 0.]\n",
            " [1. 0. 0. 0.]\n",
            " [1. 0. 0. 0.]\n",
            " [1. 0. 0. 0.]\n",
            " [1. 0. 0. 0.]\n",
            " [1. 0. 0. 0.]\n",
            " [1. 0. 0. 0.]\n",
            " [1. 0. 0. 0.]\n",
            " [1. 0. 0. 0.]\n",
            " [1. 0. 0. 0.]\n",
            " [0. 1. 0. 0.]\n",
            " [1. 0. 0. 0.]\n",
            " [1. 0. 0. 0.]\n",
            " [1. 0. 0. 0.]\n",
            " [1. 0. 0. 0.]\n",
            " [1. 0. 0. 0.]\n",
            " [1. 0. 0. 0.]\n",
            " [1. 0. 0. 0.]\n",
            " [1. 0. 0. 0.]\n",
            " [0. 1. 0. 0.]\n",
            " [1. 0. 0. 0.]\n",
            " [1. 0. 0. 0.]\n",
            " [1. 0. 0. 0.]\n",
            " [1. 0. 0. 0.]\n",
            " [0. 1. 0. 0.]\n",
            " [1. 0. 0. 0.]\n",
            " [1. 0. 0. 0.]\n",
            " [0. 1. 0. 0.]\n",
            " [1. 0. 0. 0.]\n",
            " [1. 0. 0. 0.]\n",
            " [1. 0. 0. 0.]\n",
            " [1. 0. 0. 0.]\n",
            " [1. 0. 0. 0.]\n",
            " [1. 0. 0. 0.]\n",
            " [1. 0. 0. 0.]\n",
            " [1. 0. 0. 0.]\n",
            " [0. 1. 0. 0.]\n",
            " [0. 1. 0. 0.]\n",
            " [0. 1. 0. 0.]\n",
            " [0. 1. 0. 0.]\n",
            " [0. 1. 0. 0.]\n",
            " [0. 1. 0. 0.]\n",
            " [0. 1. 0. 0.]\n",
            " [0. 1. 0. 0.]\n",
            " [0. 1. 0. 0.]\n",
            " [0. 1. 0. 0.]\n",
            " [0. 1. 0. 0.]\n",
            " [0. 1. 0. 0.]\n",
            " [0. 1. 0. 0.]\n",
            " [0. 1. 0. 0.]\n",
            " [0. 1. 0. 0.]\n",
            " [0. 1. 0. 0.]\n",
            " [0. 1. 0. 0.]\n",
            " [0. 1. 0. 0.]\n",
            " [0. 1. 0. 0.]\n",
            " [0. 1. 0. 0.]\n",
            " [0. 1. 0. 0.]\n",
            " [0. 1. 0. 0.]\n",
            " [0. 1. 0. 0.]\n",
            " [0. 1. 0. 0.]\n",
            " [0. 1. 0. 0.]\n",
            " [0. 1. 0. 0.]\n",
            " [0. 1. 0. 0.]\n",
            " [0. 1. 0. 0.]\n",
            " [0. 1. 0. 0.]\n",
            " [0. 1. 0. 0.]\n",
            " [0. 1. 0. 0.]\n",
            " [0. 1. 0. 0.]\n",
            " [0. 1. 0. 0.]\n",
            " [0. 1. 0. 0.]\n",
            " [0. 1. 0. 0.]\n",
            " [0. 1. 0. 0.]\n",
            " [0. 1. 0. 0.]\n",
            " [0. 1. 0. 0.]\n",
            " [0. 1. 0. 0.]\n",
            " [0. 1. 0. 0.]\n",
            " [0. 1. 0. 0.]\n",
            " [0. 1. 0. 0.]\n",
            " [0. 1. 0. 0.]\n",
            " [0. 1. 0. 0.]\n",
            " [0. 1. 0. 0.]\n",
            " [0. 1. 0. 0.]\n",
            " [0. 1. 0. 0.]\n",
            " [0. 1. 0. 0.]\n",
            " [0. 1. 0. 0.]\n",
            " [0. 1. 0. 0.]\n",
            " [0. 1. 0. 0.]\n",
            " [0. 1. 0. 0.]\n",
            " [0. 1. 0. 0.]\n",
            " [0. 1. 0. 0.]\n",
            " [0. 1. 0. 0.]\n",
            " [0. 1. 0. 0.]\n",
            " [0. 0. 1. 0.]\n",
            " [0. 0. 1. 0.]\n",
            " [0. 0. 1. 0.]\n",
            " [0. 0. 1. 0.]\n",
            " [0. 1. 0. 0.]\n",
            " [0. 0. 1. 0.]\n",
            " [0. 0. 1. 0.]\n",
            " [0. 1. 0. 0.]\n",
            " [0. 0. 1. 0.]\n",
            " [0. 1. 0. 0.]\n",
            " [0. 1. 0. 0.]\n",
            " [0. 1. 0. 0.]\n",
            " [0. 1. 0. 0.]\n",
            " [0. 1. 0. 0.]\n",
            " [0. 0. 1. 0.]\n",
            " [0. 0. 1. 0.]\n",
            " [0. 1. 0. 0.]\n",
            " [0. 1. 0. 0.]\n",
            " [0. 1. 0. 0.]\n",
            " [0. 0. 1. 0.]\n",
            " [0. 1. 0. 0.]\n",
            " [0. 0. 1. 0.]\n",
            " [0. 1. 0. 0.]\n",
            " [0. 1. 0. 0.]\n",
            " [0. 0. 1. 0.]\n",
            " [0. 0. 1. 0.]\n",
            " [0. 0. 1. 0.]\n",
            " [0. 0. 1. 0.]\n",
            " [0. 0. 0. 1.]\n",
            " [0. 0. 0. 1.]\n",
            " [0. 0. 1. 0.]\n",
            " [0. 0. 0. 1.]\n",
            " [0. 0. 0. 1.]\n",
            " [0. 0. 1. 0.]\n",
            " [0. 0. 1. 0.]\n",
            " [0. 0. 1. 0.]\n",
            " [0. 0. 0. 1.]\n",
            " [0. 0. 0. 1.]\n",
            " [0. 0. 0. 1.]\n",
            " [0. 0. 0. 1.]\n",
            " [0. 0. 0. 1.]\n",
            " [0. 0. 0. 1.]\n",
            " [0. 0. 0. 1.]\n",
            " [0. 0. 0. 1.]\n",
            " [0. 0. 0. 1.]\n",
            " [0. 0. 1. 0.]\n",
            " [0. 0. 0. 1.]\n",
            " [0. 0. 0. 1.]\n",
            " [0. 0. 0. 1.]\n",
            " [0. 0. 0. 1.]\n",
            " [0. 0. 0. 1.]\n",
            " [0. 0. 0. 1.]\n",
            " [0. 0. 0. 1.]\n",
            " [0. 0. 0. 1.]\n",
            " [0. 0. 0. 1.]\n",
            " [0. 0. 0. 1.]\n",
            " [0. 0. 0. 1.]\n",
            " [0. 0. 0. 1.]\n",
            " [0. 0. 0. 1.]\n",
            " [0. 0. 0. 1.]\n",
            " [0. 0. 0. 1.]\n",
            " [0. 0. 0. 1.]\n",
            " [0. 0. 0. 1.]\n",
            " [0. 0. 0. 1.]\n",
            " [0. 0. 0. 1.]\n",
            " [0. 0. 0. 1.]\n",
            " [0. 0. 0. 1.]\n",
            " [0. 0. 0. 1.]\n",
            " [0. 0. 0. 1.]\n",
            " [0. 0. 0. 1.]\n",
            " [0. 0. 0. 1.]\n",
            " [0. 0. 0. 1.]\n",
            " [0. 0. 0. 1.]\n",
            " [0. 0. 0. 1.]\n",
            " [0. 0. 0. 1.]\n",
            " [0. 0. 0. 1.]\n",
            " [0. 0. 0. 1.]\n",
            " [0. 0. 0. 1.]\n",
            " [0. 0. 0. 1.]\n",
            " [0. 0. 0. 1.]\n",
            " [0. 0. 0. 1.]\n",
            " [0. 0. 0. 1.]\n",
            " [0. 0. 0. 1.]\n",
            " [0. 0. 0. 1.]\n",
            " [0. 0. 0. 1.]\n",
            " [0. 0. 0. 1.]\n",
            " [0. 0. 0. 1.]\n",
            " [0. 0. 0. 1.]\n",
            " [0. 0. 0. 1.]\n",
            " [0. 0. 0. 1.]\n",
            " [0. 0. 0. 1.]\n",
            " [0. 0. 0. 1.]\n",
            " [0. 0. 0. 1.]\n",
            " [0. 0. 0. 1.]\n",
            " [0. 0. 0. 1.]\n",
            " [0. 0. 0. 1.]\n",
            " [0. 0. 0. 1.]\n",
            " [0. 0. 0. 1.]\n",
            " [0. 0. 0. 1.]\n",
            " [0. 0. 0. 1.]\n",
            " [0. 0. 0. 1.]\n",
            " [0. 0. 0. 1.]\n",
            " [0. 0. 0. 1.]\n",
            " [0. 0. 0. 1.]\n",
            " [0. 0. 0. 1.]]\n"
          ]
        }
      ]
    },
    {
      "cell_type": "code",
      "metadata": {
        "id": "yj28XSAfpVt_",
        "colab": {
          "base_uri": "https://localhost:8080/"
        },
        "outputId": "3f4dc0b8-a18c-4f92-c986-8549c118ab28"
      },
      "source": [
        "# to vosualize the labels\n",
        "categories = pd.DataFrame(data=y_train,\n",
        "                 columns=encoder.classes_)\n",
        "\n",
        "print(categories)"
      ],
      "id": "yj28XSAfpVt_",
      "execution_count": 32,
      "outputs": [
        {
          "output_type": "stream",
          "name": "stdout",
          "text": [
            "     apple  banana  mixed  orange\n",
            "0      1.0     0.0    0.0     0.0\n",
            "1      1.0     0.0    0.0     0.0\n",
            "2      1.0     0.0    0.0     0.0\n",
            "3      1.0     0.0    0.0     0.0\n",
            "4      1.0     0.0    0.0     0.0\n",
            "..     ...     ...    ...     ...\n",
            "235    0.0     0.0    0.0     1.0\n",
            "236    0.0     0.0    0.0     1.0\n",
            "237    0.0     0.0    0.0     1.0\n",
            "238    0.0     0.0    0.0     1.0\n",
            "239    0.0     0.0    0.0     1.0\n",
            "\n",
            "[240 rows x 4 columns]\n"
          ]
        }
      ]
    },
    {
      "cell_type": "markdown",
      "metadata": {
        "id": "74168da3"
      },
      "source": [
        "### Defining Model Architecture\n",
        "Things like: \n",
        "- how many convolutional layers do we want\n",
        "- what should be the activation function for each layer\n",
        "- how many hidden units should each layer have etc"
      ],
      "id": "74168da3"
    },
    {
      "cell_type": "markdown",
      "metadata": {
        "id": "4c8bf940"
      },
      "source": [
        "#### Construct CNN Model\n",
        "\n",
        "- Create an empty Neural Network via Sequential()\n",
        "- Add more layers to 'model' obj to turn it into CNN\n",
        "- First layer--> convolutional layer(filters,kernal_size,activation,input_shape)\n"
      ],
      "id": "4c8bf940"
    },
    {
      "cell_type": "code",
      "metadata": {
        "id": "9a426198"
      },
      "source": [
        "model = tf.keras.models.Sequential()\n",
        "\n",
        "# model.add(tf.keras.layers.Conv2D(filters=16, \n",
        "#                                 kernel_size=(3,3),\n",
        "#                                 activation = 'relu', \n",
        "#                                 input_shape= (250,250,1)))\n",
        "model.add(tf.keras.layers.Conv2D(filters=32, \n",
        "                                 kernel_size=(3,3), #(5,5)\n",
        "                                activation = 'relu', \n",
        "                                input_shape= (250,250,3)))\n",
        "model.add(tf.keras.layers.Conv2D(filters=64, kernel_size=(3,3),\n",
        "                                activation = 'relu', \n",
        "                                input_shape= (250,250,3))) \n",
        "model.add(tf.keras.layers.Flatten())\n",
        "model.add(tf.keras.layers.Dense(units=4, activation='softmax'))"
      ],
      "id": "9a426198",
      "execution_count": 33,
      "outputs": []
    },
    {
      "cell_type": "code",
      "metadata": {
        "id": "e08df059",
        "colab": {
          "base_uri": "https://localhost:8080/"
        },
        "outputId": "b33e2353-2e96-4e40-af43-73a9518715cf"
      },
      "source": [
        "model.summary()"
      ],
      "id": "e08df059",
      "execution_count": 34,
      "outputs": [
        {
          "output_type": "stream",
          "name": "stdout",
          "text": [
            "Model: \"sequential\"\n",
            "_________________________________________________________________\n",
            " Layer (type)                Output Shape              Param #   \n",
            "=================================================================\n",
            " conv2d (Conv2D)             (None, 248, 248, 32)      896       \n",
            "                                                                 \n",
            " conv2d_1 (Conv2D)           (None, 246, 246, 64)      18496     \n",
            "                                                                 \n",
            " flatten (Flatten)           (None, 3873024)           0         \n",
            "                                                                 \n",
            " dense (Dense)               (None, 4)                 15492100  \n",
            "                                                                 \n",
            "=================================================================\n",
            "Total params: 15,511,492\n",
            "Trainable params: 15,511,492\n",
            "Non-trainable params: 0\n",
            "_________________________________________________________________\n"
          ]
        }
      ]
    },
    {
      "cell_type": "markdown",
      "metadata": {
        "id": "Z-ks3KRDPvnq"
      },
      "source": [
        "- When using Softmax as the activation function as the last layer, our loss function should be ‘categorical_crossentropy’\n",
        "- Optimizers are algorithms to change the weights and the learning rate of our neural network; ‘adam’ is a good choice\n",
        "- When determining the accuracy of a prediction, use ‘accuracy’ as the metrics as we can count the number of times the neural network has given a correct prediction"
      ],
      "id": "Z-ks3KRDPvnq"
    },
    {
      "cell_type": "code",
      "metadata": {
        "id": "QRmxVDD8P0BK"
      },
      "source": [
        "#compiling the CNN\n",
        "model.compile(optimizer='adam', loss='categorical_crossentropy', metrics=['accuracy'])"
      ],
      "id": "QRmxVDD8P0BK",
      "execution_count": 35,
      "outputs": []
    },
    {
      "cell_type": "markdown",
      "metadata": {
        "id": "825f6e47"
      },
      "source": [
        "### Train the Model\n",
        "\n",
        "Require training images and their corresponding true labels, validation images and their corresponding true labels (we use these labels only to validate the model and not during the training phase). We also define the number of epochs in this step. For starters, we will run the model for 10 epochs (you can change the number of epochs later)."
      ],
      "id": "825f6e47"
    },
    {
      "cell_type": "markdown",
      "metadata": {
        "id": "9d6177bd"
      },
      "source": [
        "#### can consider using k-means to calculate epochs"
      ],
      "id": "9d6177bd"
    },
    {
      "cell_type": "code",
      "metadata": {
        "id": "1a28d716",
        "colab": {
          "base_uri": "https://localhost:8080/"
        },
        "outputId": "32cc9151-53d1-4eee-adaa-505dc2b77a84"
      },
      "source": [
        "history = model.fit(x=x_train, y=categories, epochs=25)"
      ],
      "id": "1a28d716",
      "execution_count": 36,
      "outputs": [
        {
          "output_type": "stream",
          "name": "stdout",
          "text": [
            "Epoch 1/25\n",
            "8/8 [==============================] - 7s 375ms/step - loss: 109.9232 - accuracy: 0.3542\n",
            "Epoch 2/25\n",
            "8/8 [==============================] - 2s 223ms/step - loss: 4.8989 - accuracy: 0.5000\n",
            "Epoch 3/25\n",
            "8/8 [==============================] - 2s 222ms/step - loss: 0.7907 - accuracy: 0.7125\n",
            "Epoch 4/25\n",
            "8/8 [==============================] - 2s 222ms/step - loss: 0.4389 - accuracy: 0.8583\n",
            "Epoch 5/25\n",
            "8/8 [==============================] - 2s 224ms/step - loss: 0.3276 - accuracy: 0.8792\n",
            "Epoch 6/25\n",
            "8/8 [==============================] - 2s 222ms/step - loss: 0.2181 - accuracy: 0.9292\n",
            "Epoch 7/25\n",
            "8/8 [==============================] - 2s 222ms/step - loss: 0.1208 - accuracy: 0.9792\n",
            "Epoch 8/25\n",
            "8/8 [==============================] - 2s 222ms/step - loss: 0.0776 - accuracy: 0.9833\n",
            "Epoch 9/25\n",
            "8/8 [==============================] - 2s 222ms/step - loss: 0.0632 - accuracy: 0.9875\n",
            "Epoch 10/25\n",
            "8/8 [==============================] - 2s 221ms/step - loss: 0.0287 - accuracy: 0.9958\n",
            "Epoch 11/25\n",
            "8/8 [==============================] - 2s 222ms/step - loss: 0.0239 - accuracy: 1.0000\n",
            "Epoch 12/25\n",
            "8/8 [==============================] - 2s 220ms/step - loss: 0.0176 - accuracy: 1.0000\n",
            "Epoch 13/25\n",
            "8/8 [==============================] - 2s 221ms/step - loss: 0.0108 - accuracy: 1.0000\n",
            "Epoch 14/25\n",
            "8/8 [==============================] - 2s 222ms/step - loss: 0.0071 - accuracy: 1.0000\n",
            "Epoch 15/25\n",
            "8/8 [==============================] - 2s 221ms/step - loss: 0.0042 - accuracy: 1.0000\n",
            "Epoch 16/25\n",
            "8/8 [==============================] - 2s 222ms/step - loss: 0.0028 - accuracy: 1.0000\n",
            "Epoch 17/25\n",
            "8/8 [==============================] - 2s 221ms/step - loss: 0.0020 - accuracy: 1.0000\n",
            "Epoch 18/25\n",
            "8/8 [==============================] - 2s 221ms/step - loss: 0.0016 - accuracy: 1.0000\n",
            "Epoch 19/25\n",
            "8/8 [==============================] - 2s 223ms/step - loss: 0.0013 - accuracy: 1.0000\n",
            "Epoch 20/25\n",
            "8/8 [==============================] - 2s 223ms/step - loss: 9.7059e-04 - accuracy: 1.0000\n",
            "Epoch 21/25\n",
            "8/8 [==============================] - 2s 223ms/step - loss: 6.1952e-04 - accuracy: 1.0000\n",
            "Epoch 22/25\n",
            "8/8 [==============================] - 2s 221ms/step - loss: 5.6409e-04 - accuracy: 1.0000\n",
            "Epoch 23/25\n",
            "8/8 [==============================] - 2s 222ms/step - loss: 7.0161e-04 - accuracy: 1.0000\n",
            "Epoch 24/25\n",
            "8/8 [==============================] - 2s 222ms/step - loss: 5.3394e-04 - accuracy: 1.0000\n",
            "Epoch 25/25\n",
            "8/8 [==============================] - 2s 221ms/step - loss: 3.9835e-04 - accuracy: 1.0000\n"
          ]
        }
      ]
    },
    {
      "cell_type": "markdown",
      "metadata": {
        "id": "V91Yj9C_3gFP"
      },
      "source": [
        "Plotting \"Loss\" and \"accuracy\" graphs"
      ],
      "id": "V91Yj9C_3gFP"
    },
    {
      "cell_type": "code",
      "metadata": {
        "colab": {
          "base_uri": "https://localhost:8080/",
          "height": 302
        },
        "id": "TpGfm5mm3jze",
        "outputId": "29dffadd-4709-4837-959c-5b4bd92ed683"
      },
      "source": [
        "fig, ax = plt.subplots(nrows=1, ncols=2, figsize=(12, 5))\n",
        "\n",
        "ax[0].plot(history.history['loss'])\n",
        "ax[0].set_xlabel('Epochs')\n",
        "ax[0].set_ylabel('Loss')\n",
        "\n",
        "ax[1].plot(history.history['accuracy'])\n",
        "\n",
        "plt.show()"
      ],
      "id": "TpGfm5mm3jze",
      "execution_count": 37,
      "outputs": [
        {
          "output_type": "display_data",
          "data": {
            "image/png": "[encoded data removed]",
            "text/plain": [
              "<Figure size 864x360 with 2 Axes>"
            ]
          },
          "metadata": {
            "needs_background": "light"
          }
        }
      ]
    },
    {
      "cell_type": "markdown",
      "metadata": {
        "id": "AnoI80liXV4F"
      },
      "source": [
        "### Testing!"
      ],
      "id": "AnoI80liXV4F"
    },
    {
      "cell_type": "markdown",
      "metadata": {
        "id": "WmPap-p-SAJb"
      },
      "source": [
        "#### Estimate model's performance and predict classes\n",
        "- load test data (img) and go through pre-processing \n",
        "      # test = pd.read_csv('test.csv')\n",
        "- read and store all test images\n",
        "      # test_image = []\n",
        "      # for i in tqdm(range(test.shape[0])):\n",
        "      # img = image.load_img('test/'+test['id'][i].astype('str')+'.png', target_size=(28,28,1), grayscale=True)\n",
        "      # img = image.img_to_array(img)\n",
        "      # img = img/255\n",
        "      # test_image.append(img)\n",
        "      # test = np.array(test_image) -->\n",
        "- make predictions\n",
        "      # prediction = model.predict_classes(test)"
      ],
      "id": "WmPap-p-SAJb"
    },
    {
      "cell_type": "code",
      "metadata": {
        "colab": {
          "base_uri": "https://localhost:8080/"
        },
        "id": "L-9xJHboSHfk",
        "outputId": "de8e9839-a028-4691-fc39-0c6f4c70be29"
      },
      "source": [
        "test_ds_raw"
      ],
      "id": "L-9xJHboSHfk",
      "execution_count": 38,
      "outputs": [
        {
          "output_type": "execute_result",
          "data": {
            "text/plain": [
              "['apple_79.xml',\n",
              " 'apple_78.xml',\n",
              " 'apple_77.xml',\n",
              " 'apple_77.jpg',\n",
              " 'apple_78.jpg',\n",
              " 'apple_80.jpg',\n",
              " 'apple_79.jpg',\n",
              " 'apple_80.xml',\n",
              " 'apple_92.jpg',\n",
              " 'apple_95.jpg',\n",
              " 'apple_88.xml',\n",
              " 'apple_93.xml',\n",
              " 'apple_91.xml',\n",
              " 'apple_86.xml',\n",
              " 'banana_78.jpg',\n",
              " 'apple_89.xml',\n",
              " 'banana_78.xml',\n",
              " 'apple_85.jpg',\n",
              " 'apple_87.jpg',\n",
              " 'apple_86.jpg',\n",
              " 'apple_87.xml',\n",
              " 'apple_93.jpg',\n",
              " 'apple_81.xml',\n",
              " 'apple_82.jpg',\n",
              " 'apple_85.xml',\n",
              " 'banana_77.jpg',\n",
              " 'apple_94.jpg',\n",
              " 'apple_95.xml',\n",
              " 'apple_90.jpg',\n",
              " 'banana_79.jpg',\n",
              " 'banana_79.xml',\n",
              " 'apple_82.xml',\n",
              " 'apple_84.jpg',\n",
              " 'apple_92.xml',\n",
              " 'banana_80.jpg',\n",
              " 'apple_90.xml',\n",
              " 'apple_89.jpg',\n",
              " 'apple_88.jpg',\n",
              " 'apple_91.jpg',\n",
              " 'apple_84.xml',\n",
              " 'apple_83.xml',\n",
              " 'apple_81.jpg',\n",
              " 'banana_77.xml',\n",
              " 'apple_83.jpg',\n",
              " 'apple_94.xml',\n",
              " 'banana_94.xml',\n",
              " 'banana_83.xml',\n",
              " 'banana_93.xml',\n",
              " 'banana_88.xml',\n",
              " 'banana_81.xml',\n",
              " 'banana_92.xml',\n",
              " 'banana_87.xml',\n",
              " 'mixed_21.xml',\n",
              " 'banana_91.jpg',\n",
              " 'mixed_22.xml',\n",
              " 'banana_85.jpg',\n",
              " 'banana_84.xml',\n",
              " 'mixed_21.jpg',\n",
              " 'banana_84.jpg',\n",
              " 'mixed_23.jpg',\n",
              " 'banana_85.xml',\n",
              " 'banana_94.jpg',\n",
              " 'banana_86.jpg',\n",
              " 'banana_93.jpg',\n",
              " 'mixed_22.jpg',\n",
              " 'banana_88.jpg',\n",
              " 'banana_81.jpg',\n",
              " 'banana_89.xml',\n",
              " 'banana_90.jpg',\n",
              " 'banana_82.jpg',\n",
              " 'banana_92.jpg',\n",
              " 'mixed_23.xml',\n",
              " 'banana_86.xml',\n",
              " 'banana_82.xml',\n",
              " 'banana_90.xml',\n",
              " 'banana_83.jpg',\n",
              " 'banana_89.jpg',\n",
              " 'banana_91.xml',\n",
              " 'banana_80.xml',\n",
              " 'banana_87.jpg',\n",
              " 'mixed_24.xml',\n",
              " 'orange_85.xml',\n",
              " 'orange_78.xml',\n",
              " 'orange_92.xml',\n",
              " 'orange_82.jpg',\n",
              " 'mixed_24.jpg',\n",
              " 'orange_77.jpg',\n",
              " 'orange_93.xml',\n",
              " 'orange_77.xml',\n",
              " 'orange_90.xml',\n",
              " 'orange_81.jpg',\n",
              " 'orange_89.xml',\n",
              " 'mixed_25.jpg',\n",
              " 'orange_80.jpg',\n",
              " 'orange_92.jpg',\n",
              " 'orange_95.jpg',\n",
              " 'orange_87.jpg',\n",
              " 'orange_79.jpg',\n",
              " 'orange_84.jpg',\n",
              " 'orange_80.xml',\n",
              " 'orange_87.xml',\n",
              " 'orange_86.jpg',\n",
              " 'orange_79.xml',\n",
              " 'orange_91.jpg',\n",
              " 'mixed_25.xml',\n",
              " 'orange_83.jpg',\n",
              " 'orange_86.xml',\n",
              " 'orange_93.jpg',\n",
              " 'orange_90.jpg',\n",
              " 'orange_84.xml',\n",
              " 'orange_94.xml',\n",
              " 'orange_83.xml',\n",
              " 'orange_82.xml',\n",
              " 'orange_89.jpg',\n",
              " 'orange_94.jpg',\n",
              " 'orange_85.jpg',\n",
              " 'orange_95.xml',\n",
              " 'orange_81.xml',\n",
              " 'orange_91.xml',\n",
              " 'orange_78.jpg']"
            ]
          },
          "metadata": {},
          "execution_count": 38
        }
      ]
    },
    {
      "cell_type": "code",
      "metadata": {
        "colab": {
          "base_uri": "https://localhost:8080/"
        },
        "id": "E3jwqS3lSQw1",
        "outputId": "2be3404a-b2ae-44f2-cc20-8c828052d7ea"
      },
      "source": [
        "type(test_ds_raw), len(test_ds_raw)"
      ],
      "id": "E3jwqS3lSQw1",
      "execution_count": 39,
      "outputs": [
        {
          "output_type": "execute_result",
          "data": {
            "text/plain": [
              "(list, 120)"
            ]
          },
          "metadata": {},
          "execution_count": 39
        }
      ]
    },
    {
      "cell_type": "markdown",
      "metadata": {
        "id": "kYGfajr6SbtI"
      },
      "source": [
        "Create x_test"
      ],
      "id": "kYGfajr6SbtI"
    },
    {
      "cell_type": "code",
      "metadata": {
        "id": "il35EB2USdql"
      },
      "source": [
        "filenames1 = []\n",
        "for label in test_ds_raw:\n",
        "    if label[-3:] == 'xml': \n",
        "        continue              # only take jpeg\n",
        "    else:\n",
        "        filenames1.append(test_img_path + label)"
      ],
      "id": "il35EB2USdql",
      "execution_count": 40,
      "outputs": []
    },
    {
      "cell_type": "code",
      "metadata": {
        "colab": {
          "base_uri": "https://localhost:8080/"
        },
        "id": "RpGFTR8YSmW9",
        "outputId": "6654dc92-d236-45e5-9445-81941dad9078"
      },
      "source": [
        "# filenames\n",
        "len(filenames1)"
      ],
      "id": "RpGFTR8YSmW9",
      "execution_count": 41,
      "outputs": [
        {
          "output_type": "execute_result",
          "data": {
            "text/plain": [
              "60"
            ]
          },
          "metadata": {},
          "execution_count": 41
        }
      ]
    },
    {
      "cell_type": "markdown",
      "metadata": {
        "id": "rP93joVmS6we"
      },
      "source": [
        "Create y_test"
      ],
      "id": "rP93joVmS6we"
    },
    {
      "cell_type": "code",
      "metadata": {
        "id": "BLxg89x7S8J8"
      },
      "source": [
        "y_test_label = []\n",
        "\n",
        "for label in test_ds_raw:\n",
        "    if label[-3:] == 'xml': \n",
        "        continue              #if xml, ignore\n",
        "    arr = label.split('_')    # else, str manipulation \n",
        "    y_test_label.append(arr[0])"
      ],
      "id": "BLxg89x7S8J8",
      "execution_count": 42,
      "outputs": []
    },
    {
      "cell_type": "code",
      "metadata": {
        "colab": {
          "base_uri": "https://localhost:8080/"
        },
        "id": "YStVf3ziTFNx",
        "outputId": "9ed8e689-b1f6-4814-d685-2886dac4c33c"
      },
      "source": [
        "#y_train_label\n",
        "len(filenames1), len(y_test_label)"
      ],
      "id": "YStVf3ziTFNx",
      "execution_count": 43,
      "outputs": [
        {
          "output_type": "execute_result",
          "data": {
            "text/plain": [
              "(60, 60)"
            ]
          },
          "metadata": {},
          "execution_count": 43
        }
      ]
    },
    {
      "cell_type": "markdown",
      "metadata": {
        "id": "sBkfyDdiT4Oc"
      },
      "source": [
        "Resize x_test"
      ],
      "id": "sBkfyDdiT4Oc"
    },
    {
      "cell_type": "code",
      "metadata": {
        "id": "FFeQBUh3T6QY"
      },
      "source": [
        "x_test = None\n",
        "\n",
        "for i in range(len(y_test_label)):\n",
        "    img_raw = cv2.imread(filenames1[i], cv2.IMREAD_COLOR)\n",
        "    img_reshaped = cv2.resize(img_raw,(250, 250), cv2.INTER_NEAREST)\n",
        "    img_reshaped = cv2.cvtColor(img_reshaped, cv2.COLOR_BGR2RGB)\n",
        "    if x_test is None:\n",
        "        x_test = img_reshaped\n",
        "    else:\n",
        "        x_test = np.concatenate((x_test, img_reshaped))"
      ],
      "id": "FFeQBUh3T6QY",
      "execution_count": 44,
      "outputs": []
    },
    {
      "cell_type": "code",
      "metadata": {
        "colab": {
          "base_uri": "https://localhost:8080/"
        },
        "id": "ktP4X--fVbY0",
        "outputId": "d2dd3a44-7613-4a5b-a43d-4d4044670978"
      },
      "source": [
        "x_test = x_test.reshape(-1, 250, 250, 3)\n",
        "x_test.shape"
      ],
      "id": "ktP4X--fVbY0",
      "execution_count": 45,
      "outputs": [
        {
          "output_type": "execute_result",
          "data": {
            "text/plain": [
              "(60, 250, 250, 3)"
            ]
          },
          "metadata": {},
          "execution_count": 45
        }
      ]
    },
    {
      "cell_type": "code",
      "metadata": {
        "colab": {
          "base_uri": "https://localhost:8080/"
        },
        "id": "RAnSzxClYQ-L",
        "outputId": "7d12af99-ef7b-4184-add8-989b5d4f365e"
      },
      "source": [
        "x_test = x_test/255\n",
        "print(x_test.shape)"
      ],
      "id": "RAnSzxClYQ-L",
      "execution_count": 46,
      "outputs": [
        {
          "output_type": "stream",
          "name": "stdout",
          "text": [
            "(60, 250, 250, 3)\n"
          ]
        }
      ]
    },
    {
      "cell_type": "markdown",
      "metadata": {
        "id": "Sncq-vrtUi2q"
      },
      "source": [
        "Hot-Encode y_test labels"
      ],
      "id": "Sncq-vrtUi2q"
    },
    {
      "cell_type": "code",
      "metadata": {
        "colab": {
          "base_uri": "https://localhost:8080/"
        },
        "id": "Vt4lFHt5UlpP",
        "outputId": "312b4ef9-3e0f-4f6a-8215-435aa63cd0dc"
      },
      "source": [
        "from sklearn.preprocessing import LabelEncoder\n",
        "import pandas as pd\n",
        "\n",
        "#instantiate one hot encoding\n",
        "encoder = LabelEncoder()\n",
        "#fit\n",
        "encoder.fit(y_test_label)\n",
        "#transform\n",
        "data = encoder.transform(y_test_label)\n",
        "\n",
        "y_test = tf.keras.utils.to_categorical(data)\n",
        "print(y_test) "
      ],
      "id": "Vt4lFHt5UlpP",
      "execution_count": 47,
      "outputs": [
        {
          "output_type": "stream",
          "name": "stdout",
          "text": [
            "[[1. 0. 0. 0.]\n",
            " [1. 0. 0. 0.]\n",
            " [1. 0. 0. 0.]\n",
            " [1. 0. 0. 0.]\n",
            " [1. 0. 0. 0.]\n",
            " [1. 0. 0. 0.]\n",
            " [0. 1. 0. 0.]\n",
            " [1. 0. 0. 0.]\n",
            " [1. 0. 0. 0.]\n",
            " [1. 0. 0. 0.]\n",
            " [1. 0. 0. 0.]\n",
            " [1. 0. 0. 0.]\n",
            " [0. 1. 0. 0.]\n",
            " [1. 0. 0. 0.]\n",
            " [1. 0. 0. 0.]\n",
            " [0. 1. 0. 0.]\n",
            " [1. 0. 0. 0.]\n",
            " [0. 1. 0. 0.]\n",
            " [1. 0. 0. 0.]\n",
            " [1. 0. 0. 0.]\n",
            " [1. 0. 0. 0.]\n",
            " [1. 0. 0. 0.]\n",
            " [1. 0. 0. 0.]\n",
            " [0. 1. 0. 0.]\n",
            " [0. 1. 0. 0.]\n",
            " [0. 0. 1. 0.]\n",
            " [0. 1. 0. 0.]\n",
            " [0. 0. 1. 0.]\n",
            " [0. 1. 0. 0.]\n",
            " [0. 1. 0. 0.]\n",
            " [0. 1. 0. 0.]\n",
            " [0. 0. 1. 0.]\n",
            " [0. 1. 0. 0.]\n",
            " [0. 1. 0. 0.]\n",
            " [0. 1. 0. 0.]\n",
            " [0. 1. 0. 0.]\n",
            " [0. 1. 0. 0.]\n",
            " [0. 1. 0. 0.]\n",
            " [0. 1. 0. 0.]\n",
            " [0. 1. 0. 0.]\n",
            " [0. 0. 0. 1.]\n",
            " [0. 0. 1. 0.]\n",
            " [0. 0. 0. 1.]\n",
            " [0. 0. 0. 1.]\n",
            " [0. 0. 1. 0.]\n",
            " [0. 0. 0. 1.]\n",
            " [0. 0. 0. 1.]\n",
            " [0. 0. 0. 1.]\n",
            " [0. 0. 0. 1.]\n",
            " [0. 0. 0. 1.]\n",
            " [0. 0. 0. 1.]\n",
            " [0. 0. 0. 1.]\n",
            " [0. 0. 0. 1.]\n",
            " [0. 0. 0. 1.]\n",
            " [0. 0. 0. 1.]\n",
            " [0. 0. 0. 1.]\n",
            " [0. 0. 0. 1.]\n",
            " [0. 0. 0. 1.]\n",
            " [0. 0. 0. 1.]\n",
            " [0. 0. 0. 1.]]\n"
          ]
        }
      ]
    },
    {
      "cell_type": "code",
      "metadata": {
        "colab": {
          "base_uri": "https://localhost:8080/"
        },
        "id": "21fxppY4U2N5",
        "outputId": "a7e91e16-476f-4085-ceb2-bceb27b3075e"
      },
      "source": [
        "# to vosualize the labels\n",
        "categories1 = pd.DataFrame(data=y_test,\n",
        "                 columns=encoder.classes_)\n",
        "\n",
        "print(categories1)"
      ],
      "id": "21fxppY4U2N5",
      "execution_count": 48,
      "outputs": [
        {
          "output_type": "stream",
          "name": "stdout",
          "text": [
            "    apple  banana  mixed  orange\n",
            "0     1.0     0.0    0.0     0.0\n",
            "1     1.0     0.0    0.0     0.0\n",
            "2     1.0     0.0    0.0     0.0\n",
            "3     1.0     0.0    0.0     0.0\n",
            "4     1.0     0.0    0.0     0.0\n",
            "5     1.0     0.0    0.0     0.0\n",
            "6     0.0     1.0    0.0     0.0\n",
            "7     1.0     0.0    0.0     0.0\n",
            "8     1.0     0.0    0.0     0.0\n",
            "9     1.0     0.0    0.0     0.0\n",
            "10    1.0     0.0    0.0     0.0\n",
            "11    1.0     0.0    0.0     0.0\n",
            "12    0.0     1.0    0.0     0.0\n",
            "13    1.0     0.0    0.0     0.0\n",
            "14    1.0     0.0    0.0     0.0\n",
            "15    0.0     1.0    0.0     0.0\n",
            "16    1.0     0.0    0.0     0.0\n",
            "17    0.0     1.0    0.0     0.0\n",
            "18    1.0     0.0    0.0     0.0\n",
            "19    1.0     0.0    0.0     0.0\n",
            "20    1.0     0.0    0.0     0.0\n",
            "21    1.0     0.0    0.0     0.0\n",
            "22    1.0     0.0    0.0     0.0\n",
            "23    0.0     1.0    0.0     0.0\n",
            "24    0.0     1.0    0.0     0.0\n",
            "25    0.0     0.0    1.0     0.0\n",
            "26    0.0     1.0    0.0     0.0\n",
            "27    0.0     0.0    1.0     0.0\n",
            "28    0.0     1.0    0.0     0.0\n",
            "29    0.0     1.0    0.0     0.0\n",
            "30    0.0     1.0    0.0     0.0\n",
            "31    0.0     0.0    1.0     0.0\n",
            "32    0.0     1.0    0.0     0.0\n",
            "33    0.0     1.0    0.0     0.0\n",
            "34    0.0     1.0    0.0     0.0\n",
            "35    0.0     1.0    0.0     0.0\n",
            "36    0.0     1.0    0.0     0.0\n",
            "37    0.0     1.0    0.0     0.0\n",
            "38    0.0     1.0    0.0     0.0\n",
            "39    0.0     1.0    0.0     0.0\n",
            "40    0.0     0.0    0.0     1.0\n",
            "41    0.0     0.0    1.0     0.0\n",
            "42    0.0     0.0    0.0     1.0\n",
            "43    0.0     0.0    0.0     1.0\n",
            "44    0.0     0.0    1.0     0.0\n",
            "45    0.0     0.0    0.0     1.0\n",
            "46    0.0     0.0    0.0     1.0\n",
            "47    0.0     0.0    0.0     1.0\n",
            "48    0.0     0.0    0.0     1.0\n",
            "49    0.0     0.0    0.0     1.0\n",
            "50    0.0     0.0    0.0     1.0\n",
            "51    0.0     0.0    0.0     1.0\n",
            "52    0.0     0.0    0.0     1.0\n",
            "53    0.0     0.0    0.0     1.0\n",
            "54    0.0     0.0    0.0     1.0\n",
            "55    0.0     0.0    0.0     1.0\n",
            "56    0.0     0.0    0.0     1.0\n",
            "57    0.0     0.0    0.0     1.0\n",
            "58    0.0     0.0    0.0     1.0\n",
            "59    0.0     0.0    0.0     1.0\n"
          ]
        }
      ]
    },
    {
      "cell_type": "markdown",
      "metadata": {
        "id": "oDd61Zx6U6ZC"
      },
      "source": [
        "Perform auto-evaluation"
      ],
      "id": "oDd61Zx6U6ZC"
    },
    {
      "cell_type": "code",
      "metadata": {
        "colab": {
          "base_uri": "https://localhost:8080/"
        },
        "id": "nfqvSrmCU-DK",
        "outputId": "2b35b1ea-06d1-4d9a-9b55-21487a568e5c"
      },
      "source": [
        "loss, accuracy = model.evaluate(x=x_test, y=categories1)\n",
        "\n",
        "print('loss = ', loss)\n",
        "print('accuracy = ', accuracy)"
      ],
      "id": "nfqvSrmCU-DK",
      "execution_count": 49,
      "outputs": [
        {
          "output_type": "stream",
          "name": "stdout",
          "text": [
            "2/2 [==============================] - 2s 1s/step - loss: 1.1207 - accuracy: 0.9167\n",
            "loss =  1.1206740140914917\n",
            "accuracy =  0.9166666865348816\n"
          ]
        }
      ]
    },
    {
      "cell_type": "markdown",
      "metadata": {
        "id": "wYY9HkteVO5g"
      },
      "source": [
        "Perform simple manual inspection"
      ],
      "id": "wYY9HkteVO5g"
    },
    {
      "cell_type": "code",
      "metadata": {
        "colab": {
          "base_uri": "https://localhost:8080/"
        },
        "id": "JfiTURmnVOlL",
        "outputId": "76bf5926-8b20-4e91-aa4b-4811da852fbb"
      },
      "source": [
        "predictions = model.predict(x=x_test)\n",
        "for i in np.arange(len(predictions)):\n",
        "\tprint('Actual: ', y_test[i], 'Predicted: ', predictions[i])"
      ],
      "id": "JfiTURmnVOlL",
      "execution_count": 50,
      "outputs": [
        {
          "output_type": "stream",
          "name": "stdout",
          "text": [
            "Actual:  [1. 0. 0. 0.] Predicted:  [9.9990439e-01 3.2597598e-08 9.4706782e-05 8.4394679e-07]\n",
            "Actual:  [1. 0. 0. 0.] Predicted:  [1.0000000e+00 5.9079101e-20 1.3633022e-15 2.0118695e-11]\n",
            "Actual:  [1. 0. 0. 0.] Predicted:  [1.0000000e+00 5.5472221e-18 5.5849275e-12 1.6822556e-12]\n",
            "Actual:  [1. 0. 0. 0.] Predicted:  [1.0000000e+00 3.1094415e-34 7.7424218e-23 5.7036594e-15]\n",
            "Actual:  [1. 0. 0. 0.] Predicted:  [1.0000000e+00 1.4322194e-17 1.6377761e-08 1.2450795e-09]\n",
            "Actual:  [1. 0. 0. 0.] Predicted:  [9.9928194e-01 8.5753915e-10 1.5832642e-11 7.1811979e-04]\n",
            "Actual:  [0. 1. 0. 0.] Predicted:  [2.0971727e-07 9.8892736e-01 6.2390822e-03 4.8332666e-03]\n",
            "Actual:  [1. 0. 0. 0.] Predicted:  [1.0000000e+00 1.1197464e-22 4.5270454e-25 3.9058068e-16]\n",
            "Actual:  [1. 0. 0. 0.] Predicted:  [1.0000000e+00 3.7787834e-24 3.5428533e-19 3.0282929e-09]\n",
            "Actual:  [1. 0. 0. 0.] Predicted:  [0.84226793 0.00183097 0.12544195 0.03045915]\n",
            "Actual:  [1. 0. 0. 0.] Predicted:  [1.000000e+00 2.714722e-19 7.421504e-14 4.497291e-15]\n",
            "Actual:  [1. 0. 0. 0.] Predicted:  [1.00000000e+00 2.97018384e-21 1.02208233e-13 6.47054355e-11]\n",
            "Actual:  [0. 1. 0. 0.] Predicted:  [9.0603549e-05 9.2836851e-01 6.4039133e-02 7.5017624e-03]\n",
            "Actual:  [1. 0. 0. 0.] Predicted:  [1.0000000e+00 1.9671422e-16 1.5683424e-16 3.2705422e-11]\n",
            "Actual:  [1. 0. 0. 0.] Predicted:  [1.0000000e+00 3.0218933e-17 2.7624969e-10 2.0029314e-09]\n",
            "Actual:  [0. 1. 0. 0.] Predicted:  [8.1597354e-13 9.9998474e-01 1.5874878e-07 1.5047703e-05]\n",
            "Actual:  [1. 0. 0. 0.] Predicted:  [9.9998927e-01 2.1230279e-10 1.0561259e-05 1.4290787e-07]\n",
            "Actual:  [0. 1. 0. 0.] Predicted:  [1.35617765e-05 9.09991682e-01 6.61734119e-02 2.38213595e-02]\n",
            "Actual:  [1. 0. 0. 0.] Predicted:  [1.0000000e+00 4.7155231e-33 1.8409176e-22 1.0171387e-17]\n",
            "Actual:  [1. 0. 0. 0.] Predicted:  [1.0000000e+00 1.3819848e-15 4.4732325e-12 3.0739993e-09]\n",
            "Actual:  [1. 0. 0. 0.] Predicted:  [1.0000000e+00 6.9466681e-24 4.3707658e-21 3.2848756e-12]\n",
            "Actual:  [1. 0. 0. 0.] Predicted:  [1.0000000e+00 1.6457499e-29 1.3302296e-21 1.4280037e-15]\n",
            "Actual:  [1. 0. 0. 0.] Predicted:  [1.0000000e+00 3.8551583e-28 1.6717143e-18 3.3842066e-16]\n",
            "Actual:  [0. 1. 0. 0.] Predicted:  [9.1672955e-05 9.8021978e-01 5.7159681e-03 1.3972520e-02]\n",
            "Actual:  [0. 1. 0. 0.] Predicted:  [1.0148959e-06 9.8280555e-01 1.1403668e-03 1.6053012e-02]\n",
            "Actual:  [0. 0. 1. 0.] Predicted:  [9.3744748e-05 9.6980352e-03 1.6909825e-02 9.7329843e-01]\n",
            "Actual:  [0. 1. 0. 0.] Predicted:  [3.4350745e-04 6.7994022e-01 8.8132605e-02 2.3158365e-01]\n",
            "Actual:  [0. 0. 1. 0.] Predicted:  [0.39325634 0.17648812 0.42975563 0.00049986]\n",
            "Actual:  [0. 1. 0. 0.] Predicted:  [1.4931754e-06 9.5870322e-01 7.2778855e-03 3.4017459e-02]\n",
            "Actual:  [0. 1. 0. 0.] Predicted:  [2.4285027e-06 8.5723275e-01 4.2254366e-03 1.3853931e-01]\n",
            "Actual:  [0. 1. 0. 0.] Predicted:  [4.8527721e-08 9.9692875e-01 1.7113155e-06 3.0695295e-03]\n",
            "Actual:  [0. 0. 1. 0.] Predicted:  [1.8566183e-07 7.9303068e-01 2.0693198e-01 3.7145139e-05]\n",
            "Actual:  [0. 1. 0. 0.] Predicted:  [1.0000000e+00 7.1247774e-20 6.4253239e-18 6.3479962e-18]\n",
            "Actual:  [0. 1. 0. 0.] Predicted:  [2.3850633e-15 9.9999726e-01 3.1297209e-09 2.7708986e-06]\n",
            "Actual:  [0. 1. 0. 0.] Predicted:  [1.02863855e-17 9.99989390e-01 7.55569658e-07 9.79845117e-06]\n",
            "Actual:  [0. 1. 0. 0.] Predicted:  [4.0397634e-08 9.9835300e-01 3.7846484e-04 1.2685608e-03]\n",
            "Actual:  [0. 1. 0. 0.] Predicted:  [5.8213354e-09 9.9999869e-01 5.8520842e-09 1.2838681e-06]\n",
            "Actual:  [0. 1. 0. 0.] Predicted:  [2.6614692e-15 9.9999642e-01 5.8716285e-08 3.5001399e-06]\n",
            "Actual:  [0. 1. 0. 0.] Predicted:  [1.6618602e-14 9.7577226e-01 3.9238523e-04 2.3835355e-02]\n",
            "Actual:  [0. 1. 0. 0.] Predicted:  [1.7383017e-12 9.9999344e-01 6.2392924e-06 2.8720018e-07]\n",
            "Actual:  [0. 0. 0. 1.] Predicted:  [1.13933975e-11 1.02619997e-05 4.85972385e-04 9.99503732e-01]\n",
            "Actual:  [0. 0. 1. 0.] Predicted:  [6.798714e-09 9.998946e-01 6.312700e-05 4.223758e-05]\n",
            "Actual:  [0. 0. 0. 1.] Predicted:  [0.00117211 0.32008356 0.00165542 0.677089  ]\n",
            "Actual:  [0. 0. 0. 1.] Predicted:  [2.5351655e-06 9.1073771e-06 5.9017416e-02 9.4097090e-01]\n",
            "Actual:  [0. 0. 1. 0.] Predicted:  [9.5852661e-01 1.0110066e-08 4.1275419e-02 1.9799649e-04]\n",
            "Actual:  [0. 0. 0. 1.] Predicted:  [7.1991406e-11 5.3144963e-06 3.6209690e-06 9.9999106e-01]\n",
            "Actual:  [0. 0. 0. 1.] Predicted:  [1.4724140e-05 1.4355913e-01 1.8764777e-03 8.5454965e-01]\n",
            "Actual:  [0. 0. 0. 1.] Predicted:  [4.3009666e-07 7.6083321e-04 2.7011489e-02 9.7222722e-01]\n",
            "Actual:  [0. 0. 0. 1.] Predicted:  [8.7332213e-05 6.2357597e-02 1.2413926e-03 9.3631363e-01]\n",
            "Actual:  [0. 0. 0. 1.] Predicted:  [4.8010293e-01 2.6976256e-06 3.4077108e-05 5.1986027e-01]\n",
            "Actual:  [0. 0. 0. 1.] Predicted:  [9.5710607e-07 6.8466157e-05 6.4592154e-05 9.9986601e-01]\n",
            "Actual:  [0. 0. 0. 1.] Predicted:  [3.6806122e-10 3.1876129e-01 3.8457834e-05 6.8120027e-01]\n",
            "Actual:  [0. 0. 0. 1.] Predicted:  [3.5207811e-06 1.5172152e-03 1.2805212e-01 8.7042707e-01]\n",
            "Actual:  [0. 0. 0. 1.] Predicted:  [2.6624429e-03 2.0186110e-12 6.5950431e-08 9.9733740e-01]\n",
            "Actual:  [0. 0. 0. 1.] Predicted:  [8.2441089e-05 3.5760578e-04 1.2554156e-03 9.9830449e-01]\n",
            "Actual:  [0. 0. 0. 1.] Predicted:  [0.00288983 0.12047336 0.35789105 0.5187458 ]\n",
            "Actual:  [0. 0. 0. 1.] Predicted:  [4.7936998e-04 9.9823242e-03 2.1039174e-01 7.7914655e-01]\n",
            "Actual:  [0. 0. 0. 1.] Predicted:  [7.9284828e-06 5.7414820e-04 3.5295973e-03 9.9588829e-01]\n",
            "Actual:  [0. 0. 0. 1.] Predicted:  [1.8784561e-09 2.5495002e-08 2.8723048e-07 9.9999976e-01]\n",
            "Actual:  [0. 0. 0. 1.] Predicted:  [1.8371344e-11 2.1233740e-05 5.7676044e-07 9.9997818e-01]\n"
          ]
        }
      ]
    },
    {
      "cell_type": "code",
      "metadata": {
        "colab": {
          "base_uri": "https://localhost:8080/"
        },
        "id": "DHH_CuhVWjXT",
        "outputId": "04f91bd2-2a86-40f8-ee70-1d662c346e8f"
      },
      "source": [
        "n_preds = len(predictions)\n",
        "\n",
        "correct = 0\n",
        "wrong = 0\n",
        "\n",
        "for i in np.arange(n_preds):\n",
        "    pred_max = np.argmax(predictions[i])\n",
        "    actual_max = np.argmax(y_test[i])\n",
        "    if pred_max == actual_max:\n",
        "        correct += 1\n",
        "    else:\n",
        "        wrong += 1\n",
        "\n",
        "print('correct =', correct, ', wrong =', wrong)\n",
        "print('accuracy = ', correct/n_preds)"
      ],
      "id": "DHH_CuhVWjXT",
      "execution_count": 51,
      "outputs": [
        {
          "output_type": "stream",
          "name": "stdout",
          "text": [
            "correct = 55 , wrong = 5\n",
            "accuracy =  0.9166666666666666\n"
          ]
        }
      ]
    }
  ]
}