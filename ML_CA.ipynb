{
  "nbformat": 4,
  "nbformat_minor": 5,
  "metadata": {
    "kernelspec": {
      "display_name": "Python 3 (ipykernel)",
      "language": "python",
      "name": "python3"
    },
    "language_info": {
      "codemirror_mode": {
        "name": "ipython",
        "version": 3
      },
      "file_extension": ".py",
      "mimetype": "text/x-python",
      "name": "python",
      "nbconvert_exporter": "python",
      "pygments_lexer": "ipython3",
      "version": "3.8.12"
    },
    "colab": {
      "name": "Jotestcode-Tensorflow Code.ipynb",
      "provenance": [],
      "include_colab_link": true
    }
  },
  "cells": [
    {
      "cell_type": "markdown",
      "metadata": {
        "id": "view-in-github",
        "colab_type": "text"
      },
      "source": [
        "<a href=\"https://colab.research.google.com/github/Jo-009/ML_CA/blob/Ver.2/ML_CA.ipynb\" target=\"_parent\"><img src=\"https://colab.research.google.com/assets/colab-badge.svg\" alt=\"Open In Colab\"/></a>"
      ]
    },
    {
      "cell_type": "markdown",
      "metadata": {
        "id": "53ef8e64"
      },
      "source": [
        "## CA Specifications\n",
        "1. A Fruits dataset is provided for this project, and it has images of (1) \n",
        "   apples, (2)oranges, (3) bananas and (4) a mix of apples, oranges and \n",
        "   bananas.\n",
        "2. Your task is to implement a CNN to recognize the 4 classes accurately.\n",
        "3. Use the images in the “train” folder to train your image classifier.\n",
        "4. Then, test the accuracy of your image classifier using images from the \n",
        "   “test” folder.\n",
        "5. Document all your experiments and results. For example, what was done to\n",
        "   increase the accuracy of your image classifier (e.g. image augmentation).\n",
        "6. Use Matplotlib to produce any plots that help the reader understand your\n",
        "   work better.\n",
        "   \n",
        "### Submission\n",
        "The deadline for this project is <b>28 Nov 2021, 6pm</b>.\n",
        "Please name your submission as <Your_Team_Number><A_or_B>.ipynb. For\n",
        "example, if you are in Team 1A, then your filename should be Team1A.ipynb."
      ],
      "id": "53ef8e64"
    },
    {
      "cell_type": "code",
      "metadata": {
        "id": "TZWn23PxXuTb"
      },
      "source": [
        "import matplotlib.pyplot as plt\n",
        "import seaborn as sns\n",
        "import tensorflow as tf\n",
        "import numpy as np\n",
        "import pandas as pd\n",
        "import os\n",
        "import cv2\n",
        "from PIL import Image, ImageOps"
      ],
      "id": "TZWn23PxXuTb",
      "execution_count": 2,
      "outputs": []
    },
    {
      "cell_type": "markdown",
      "metadata": {
        "id": "9fd28ede"
      },
      "source": [
        "### Preprocessing and Loading Data\n",
        "\n",
        "Derive x_train,x_test,x_val,y_train,y_test and y_val \n",
        "\n",
        "<b>x_train</b>: Numpy arrays of the images of the training dataset\n",
        "\n",
        "<b>y_train</b>: Labels of the training dataset\n",
        "\n",
        "<b>x_test</b>: Numpy arrays of the images of the testing dataset\n",
        "\n",
        "<b>y_test</b>: Labels of the testing dataset\n",
        "\n",
        "<b>x_val</b>: Numpy arrays of the images of the validation dataset\n",
        "\n",
        "<b>y_val</b>: Labels of the validation dataset"
      ],
      "id": "9fd28ede"
    },
    {
      "cell_type": "code",
      "metadata": {
        "id": "ceSWGug0a2nC"
      },
      "source": [
        "train_img_path = '/content/drive/MyDrive/Colab Notebooks/train/'\n",
        "test_img_path = '/content/drive/MyDrive/Colab Notebooks/test/1/' "
      ],
      "id": "ceSWGug0a2nC",
      "execution_count": 3,
      "outputs": []
    },
    {
      "cell_type": "markdown",
      "metadata": {
        "id": "Q1EFV6LcefRK"
      },
      "source": [
        "### Testing one img"
      ],
      "id": "Q1EFV6LcefRK"
    },
    {
      "cell_type": "code",
      "metadata": {
        "id": "rOvqWx9TbBND"
      },
      "source": [
        "# #test one img\n",
        "# img = Image.open(train_img_path + 'mixed_4.jpg')\n",
        "# img"
      ],
      "id": "rOvqWx9TbBND",
      "execution_count": 4,
      "outputs": []
    },
    {
      "cell_type": "code",
      "metadata": {
        "id": "1vabP3eWbo23"
      },
      "source": [
        "# np_img = np.array(img)\n",
        "# #plt.imshow(np_img)\n",
        "# np_img.shape"
      ],
      "id": "1vabP3eWbo23",
      "execution_count": 5,
      "outputs": []
    },
    {
      "cell_type": "code",
      "metadata": {
        "id": "HPdPe3qvcGaQ"
      },
      "source": [
        "# # normalize pixels values to between 0.0 to 1.0\n",
        "# np_img_norm = np_img / 255\n",
        "# np_img_norm"
      ],
      "id": "HPdPe3qvcGaQ",
      "execution_count": 6,
      "outputs": []
    },
    {
      "cell_type": "code",
      "metadata": {
        "id": "DGjLDdxEdnsM"
      },
      "source": [
        "# # crop and resize img\n",
        "# width, height = img.size\n",
        "# pad = 20    # pixels\n",
        "\n",
        "# img_crop = img.crop((pad, pad, width-pad, height-pad))\n",
        "# img_mod = img_crop.resize((650,650))\n",
        "\n",
        "# img_mod.size"
      ],
      "id": "DGjLDdxEdnsM",
      "execution_count": 7,
      "outputs": []
    },
    {
      "cell_type": "code",
      "metadata": {
        "id": "6mmafiLbdyAP"
      },
      "source": [
        "# # plot modified img\n",
        "# plt.subplots(figsize=(2,2))\n",
        "# plt.imshow(img_mod)"
      ],
      "id": "6mmafiLbdyAP",
      "execution_count": 8,
      "outputs": []
    },
    {
      "cell_type": "markdown",
      "metadata": {
        "id": "s26VazgziSj3"
      },
      "source": [
        "### Load data"
      ],
      "id": "s26VazgziSj3"
    },
    {
      "cell_type": "code",
      "metadata": {
        "id": "19cb9b63"
      },
      "source": [
        "train_ds_raw = os.listdir('/content/drive/MyDrive/Colab Notebooks/train/')\n",
        "test_ds_raw = os.listdir('/content/drive/MyDrive/Colab Notebooks/test/1/')"
      ],
      "id": "19cb9b63",
      "execution_count": 9,
      "outputs": []
    },
    {
      "cell_type": "code",
      "metadata": {
        "colab": {
          "base_uri": "https://localhost:8080/"
        },
        "id": "ifdGO1wLZI36",
        "outputId": "b92ab375-edf6-47ab-dafe-1259d47bf688"
      },
      "source": [
        "train_ds_raw"
      ],
      "id": "ifdGO1wLZI36",
      "execution_count": 10,
      "outputs": [
        {
          "output_type": "execute_result",
          "data": {
            "text/plain": [
              "['apple_28.xml',\n",
              " 'apple_11.jpg',\n",
              " 'apple_22.jpg',\n",
              " 'apple_2.jpg',\n",
              " 'apple_18.jpg',\n",
              " 'apple_15.xml',\n",
              " 'apple_10.xml',\n",
              " 'apple_20.xml',\n",
              " 'apple_28.jpg',\n",
              " 'apple_11.xml',\n",
              " 'apple_12.jpg',\n",
              " 'apple_31.jpg',\n",
              " 'apple_30.jpg',\n",
              " 'apple_19.xml',\n",
              " 'apple_17.jpg',\n",
              " 'apple_14.jpg',\n",
              " 'apple_23.xml',\n",
              " 'apple_20.jpg',\n",
              " 'apple_19.jpg',\n",
              " 'apple_1.xml',\n",
              " 'apple_16.jpg',\n",
              " 'apple_3.xml',\n",
              " 'apple_3.jpg',\n",
              " 'apple_29.jpg',\n",
              " 'apple_18.xml',\n",
              " 'apple_27.xml',\n",
              " 'apple_21.xml',\n",
              " 'apple_24.xml',\n",
              " 'apple_10.jpg',\n",
              " 'apple_26.xml',\n",
              " 'apple_13.xml',\n",
              " 'apple_15.jpg',\n",
              " 'apple_24.jpg',\n",
              " 'apple_29.xml',\n",
              " 'apple_16.xml',\n",
              " 'apple_22.xml',\n",
              " 'apple_2.xml',\n",
              " 'apple_12.xml',\n",
              " 'apple_17.xml',\n",
              " 'apple_13.jpg',\n",
              " 'apple_1.jpg',\n",
              " 'apple_30.xml',\n",
              " 'apple_26.jpg',\n",
              " 'apple_27.jpg',\n",
              " 'apple_14.xml',\n",
              " 'apple_25.xml',\n",
              " 'apple_25.jpg',\n",
              " 'apple_23.jpg',\n",
              " 'apple_21.jpg',\n",
              " 'apple_39.xml',\n",
              " 'apple_50.jpg',\n",
              " 'apple_53.jpg',\n",
              " 'apple_50.xml',\n",
              " 'apple_54.jpg',\n",
              " 'apple_38.xml',\n",
              " 'apple_52.xml',\n",
              " 'apple_56.xml',\n",
              " 'apple_48.xml',\n",
              " 'apple_49.xml',\n",
              " 'apple_57.jpg',\n",
              " 'apple_45.xml',\n",
              " 'apple_42.xml',\n",
              " 'apple_53.xml',\n",
              " 'apple_47.xml',\n",
              " 'apple_44.xml',\n",
              " 'apple_41.xml',\n",
              " 'apple_33.jpg',\n",
              " 'apple_36.jpg',\n",
              " 'apple_35.jpg',\n",
              " 'apple_48.jpg',\n",
              " 'apple_4.xml',\n",
              " 'apple_4.jpg',\n",
              " 'apple_5.jpg',\n",
              " 'apple_37.jpg',\n",
              " 'apple_43.jpg',\n",
              " 'apple_39.jpg',\n",
              " 'apple_43.xml',\n",
              " 'apple_35.xml',\n",
              " 'apple_55.jpg',\n",
              " 'apple_51.xml',\n",
              " 'apple_45.jpg',\n",
              " 'apple_44.jpg',\n",
              " 'apple_52.jpg',\n",
              " 'apple_32.jpg',\n",
              " 'apple_47.jpg',\n",
              " 'apple_41.jpg',\n",
              " 'apple_55.xml',\n",
              " 'apple_31.xml',\n",
              " 'apple_49.jpg',\n",
              " 'apple_40.jpg',\n",
              " 'apple_42.jpg',\n",
              " 'apple_46.xml',\n",
              " 'apple_54.xml',\n",
              " 'apple_56.jpg',\n",
              " 'apple_46.jpg',\n",
              " 'apple_32.xml',\n",
              " 'apple_36.xml',\n",
              " 'apple_51.jpg',\n",
              " 'apple_5.xml',\n",
              " 'apple_38.jpg',\n",
              " 'apple_40.xml',\n",
              " 'apple_37.xml',\n",
              " 'apple_33.xml',\n",
              " 'apple_9.xml',\n",
              " 'apple_71.jpg',\n",
              " 'banana_1.jpg',\n",
              " 'apple_8.xml',\n",
              " 'apple_70.xml',\n",
              " 'apple_68.xml',\n",
              " 'apple_9.jpg',\n",
              " 'apple_73.jpg',\n",
              " 'apple_58.xml',\n",
              " 'apple_70.jpg',\n",
              " 'banana_10.xml',\n",
              " 'apple_61.jpg',\n",
              " 'apple_67.xml',\n",
              " 'apple_62.jpg',\n",
              " 'apple_64.jpg',\n",
              " 'apple_6.jpg',\n",
              " 'apple_58.jpg',\n",
              " 'banana_12.jpg',\n",
              " 'apple_61.xml',\n",
              " 'apple_76.jpg',\n",
              " 'apple_63.jpg',\n",
              " 'apple_7.xml',\n",
              " 'apple_68.jpg',\n",
              " 'apple_72.xml',\n",
              " 'apple_76.xml',\n",
              " 'apple_8.jpg',\n",
              " 'apple_73.xml',\n",
              " 'apple_57.xml',\n",
              " 'banana_10.jpg',\n",
              " 'apple_69.xml',\n",
              " 'apple_62.xml',\n",
              " 'apple_69.jpg',\n",
              " 'apple_6.xml',\n",
              " 'apple_66.jpg',\n",
              " 'banana_11.jpg',\n",
              " 'banana_13.xml',\n",
              " 'apple_72.jpg',\n",
              " 'apple_74.xml',\n",
              " 'apple_63.xml',\n",
              " 'banana_1.xml',\n",
              " 'apple_71.xml',\n",
              " 'apple_66.xml',\n",
              " 'apple_74.jpg',\n",
              " 'apple_59.jpg',\n",
              " 'apple_60.xml',\n",
              " 'apple_64.xml',\n",
              " 'banana_11.xml',\n",
              " 'apple_75.xml',\n",
              " 'apple_60.jpg',\n",
              " 'banana_12.xml',\n",
              " 'apple_65.xml',\n",
              " 'apple_65.jpg',\n",
              " 'apple_75.jpg',\n",
              " 'apple_7.jpg',\n",
              " 'apple_59.xml',\n",
              " 'apple_67.jpg',\n",
              " 'banana_13.jpg',\n",
              " 'banana_20.xml',\n",
              " 'banana_34.xml',\n",
              " 'banana_29.xml',\n",
              " 'banana_2.xml',\n",
              " 'banana_26.xml',\n",
              " 'banana_30.xml',\n",
              " 'banana_4.jpg',\n",
              " 'banana_17.xml',\n",
              " 'banana_36.xml',\n",
              " 'banana_21.jpg',\n",
              " 'banana_24.jpg',\n",
              " 'banana_34.jpg',\n",
              " 'banana_2.jpg',\n",
              " 'banana_36.jpg',\n",
              " 'banana_39.jpg',\n",
              " 'banana_30.jpg',\n",
              " 'banana_31.jpg',\n",
              " 'banana_4.xml',\n",
              " 'banana_27.xml',\n",
              " 'banana_21.xml',\n",
              " 'banana_29.jpg',\n",
              " 'banana_16.xml',\n",
              " 'banana_38.jpg',\n",
              " 'banana_28.xml',\n",
              " 'banana_38.xml',\n",
              " 'banana_14.jpg',\n",
              " 'banana_28.jpg',\n",
              " 'banana_33.xml',\n",
              " 'banana_25.jpg',\n",
              " 'banana_32.jpg',\n",
              " 'banana_31.xml',\n",
              " 'banana_27.jpg',\n",
              " 'banana_26.jpg',\n",
              " 'banana_17.jpg',\n",
              " 'banana_3.jpg',\n",
              " 'banana_32.xml',\n",
              " 'banana_3.xml',\n",
              " 'banana_16.jpg',\n",
              " 'banana_33.jpg',\n",
              " 'banana_23.jpg',\n",
              " 'banana_35.xml',\n",
              " 'banana_20.jpg',\n",
              " 'banana_37.jpg',\n",
              " 'banana_40.jpg',\n",
              " 'banana_25.xml',\n",
              " 'banana_35.jpg',\n",
              " 'banana_24.xml',\n",
              " 'banana_23.xml',\n",
              " 'banana_39.xml',\n",
              " 'banana_14.xml',\n",
              " 'banana_37.xml',\n",
              " 'banana_22.xml',\n",
              " 'banana_40.xml',\n",
              " 'banana_22.jpg',\n",
              " 'banana_59.xml',\n",
              " 'banana_57.jpg',\n",
              " 'banana_51.xml',\n",
              " 'banana_64.jpg',\n",
              " 'banana_51.jpg',\n",
              " 'banana_59.jpg',\n",
              " 'banana_41.jpg',\n",
              " 'banana_45.xml',\n",
              " 'banana_49.jpg',\n",
              " 'banana_48.jpg',\n",
              " 'banana_54.jpg',\n",
              " 'banana_53.xml',\n",
              " 'banana_56.jpg',\n",
              " 'banana_60.jpg',\n",
              " 'banana_43.xml',\n",
              " 'banana_52.jpg',\n",
              " 'banana_63.xml',\n",
              " 'banana_58.xml',\n",
              " 'banana_55.jpg',\n",
              " 'banana_42.jpg',\n",
              " 'banana_61.jpg',\n",
              " 'banana_62.xml',\n",
              " 'banana_50.xml',\n",
              " 'banana_42.xml',\n",
              " 'banana_56.xml',\n",
              " 'banana_55.xml',\n",
              " 'banana_50.jpg',\n",
              " 'banana_44.jpg',\n",
              " 'banana_47.jpg',\n",
              " 'banana_65.jpg',\n",
              " 'banana_5.xml',\n",
              " 'banana_54.xml',\n",
              " 'banana_45.jpg',\n",
              " 'banana_58.jpg',\n",
              " 'banana_61.xml',\n",
              " 'banana_49.xml',\n",
              " 'banana_6.jpg',\n",
              " 'banana_65.xml',\n",
              " 'banana_60.xml',\n",
              " 'banana_63.jpg',\n",
              " 'banana_6.xml',\n",
              " 'banana_47.xml',\n",
              " 'banana_57.xml',\n",
              " 'banana_46.jpg',\n",
              " 'banana_41.xml',\n",
              " 'banana_5.jpg',\n",
              " 'banana_44.xml',\n",
              " 'banana_53.jpg',\n",
              " 'banana_48.xml',\n",
              " 'banana_46.xml',\n",
              " 'banana_52.xml',\n",
              " 'banana_62.jpg',\n",
              " 'banana_43.jpg',\n",
              " 'banana_64.xml',\n",
              " 'banana_7.jpg',\n",
              " 'mixed_10.xml',\n",
              " 'banana_9.xml',\n",
              " 'mixed_2.jpg',\n",
              " 'banana_66.xml',\n",
              " 'banana_8.xml',\n",
              " 'mixed_15.jpg',\n",
              " 'mixed_11.jpg',\n",
              " 'mixed_14.jpg',\n",
              " 'mixed_11.xml',\n",
              " 'banana_72.xml',\n",
              " 'banana_8.jpg',\n",
              " 'mixed_12.xml',\n",
              " 'mixed_16.jpg',\n",
              " 'mixed_15.xml',\n",
              " 'banana_75.xml',\n",
              " 'mixed_20.xml',\n",
              " 'mixed_12.jpg',\n",
              " 'banana_73.jpg',\n",
              " 'mixed_20.jpg',\n",
              " 'banana_71.jpg',\n",
              " 'banana_75.jpg',\n",
              " 'banana_69.xml',\n",
              " 'banana_76.xml',\n",
              " 'mixed_1.xml',\n",
              " 'mixed_19.xml',\n",
              " 'banana_66.jpg',\n",
              " 'banana_69.jpg',\n",
              " 'mixed_2.xml',\n",
              " 'banana_68.xml',\n",
              " 'banana_71.xml',\n",
              " 'banana_76.jpg',\n",
              " 'mixed_13.xml',\n",
              " 'mixed_18.jpg',\n",
              " 'mixed_17.jpg',\n",
              " 'banana_67.jpg',\n",
              " 'mixed_17.xml',\n",
              " 'banana_9.jpg',\n",
              " 'mixed_18.xml',\n",
              " 'banana_74.xml',\n",
              " 'banana_73.xml',\n",
              " 'mixed_16.xml',\n",
              " 'mixed_14.xml',\n",
              " 'banana_70.jpg',\n",
              " 'mixed_10.jpg',\n",
              " 'banana_68.jpg',\n",
              " 'mixed_1.jpg',\n",
              " 'banana_74.jpg',\n",
              " 'banana_7.xml',\n",
              " 'banana_72.jpg',\n",
              " 'mixed_13.jpg',\n",
              " 'mixed_19.jpg',\n",
              " 'banana_70.xml',\n",
              " 'banana_67.xml',\n",
              " 'orange_15.xml',\n",
              " 'mixed_8.xml',\n",
              " 'orange_23.xml',\n",
              " 'mixed_8.jpg',\n",
              " 'mixed_3.jpg',\n",
              " 'orange_1.jpg',\n",
              " 'orange_15.jpg',\n",
              " 'orange_2.xml',\n",
              " 'orange_14.xml',\n",
              " 'mixed_4.xml',\n",
              " 'mixed_3.xml',\n",
              " 'orange_22.xml',\n",
              " 'orange_10.xml',\n",
              " 'mixed_4.jpg',\n",
              " 'orange_16.xml',\n",
              " 'orange_12.xml',\n",
              " 'mixed_9.xml',\n",
              " 'orange_20.xml',\n",
              " 'orange_23.jpg',\n",
              " 'orange_10.jpg',\n",
              " 'orange_21.xml',\n",
              " 'orange_24.xml',\n",
              " 'mixed_7.jpg',\n",
              " 'mixed_6.jpg',\n",
              " 'orange_13.xml',\n",
              " 'mixed_9.jpg',\n",
              " 'orange_13.jpg',\n",
              " 'orange_19.jpg',\n",
              " 'orange_17.xml',\n",
              " 'orange_22.jpg',\n",
              " 'orange_12.jpg',\n",
              " 'mixed_6.xml',\n",
              " 'mixed_5.xml',\n",
              " 'orange_20.jpg',\n",
              " 'orange_11.xml',\n",
              " 'orange_1.xml',\n",
              " 'orange_18.jpg',\n",
              " 'orange_17.jpg',\n",
              " 'orange_24.jpg',\n",
              " 'orange_11.jpg',\n",
              " 'mixed_5.jpg',\n",
              " 'orange_19.xml',\n",
              " 'orange_2.jpg',\n",
              " 'mixed_7.xml',\n",
              " 'orange_18.xml',\n",
              " 'orange_16.jpg',\n",
              " 'orange_21.jpg',\n",
              " 'orange_14.jpg',\n",
              " 'orange_40.xml',\n",
              " 'orange_47.jpg',\n",
              " 'orange_4.xml',\n",
              " 'orange_30.jpg',\n",
              " 'orange_50.jpg',\n",
              " 'orange_32.jpg',\n",
              " 'orange_41.jpg',\n",
              " 'orange_49.xml',\n",
              " 'orange_3.xml',\n",
              " 'orange_3.jpg',\n",
              " 'orange_46.xml',\n",
              " 'orange_33.xml',\n",
              " 'orange_44.xml',\n",
              " 'orange_47.xml',\n",
              " 'orange_33.jpg',\n",
              " 'orange_31.jpg',\n",
              " 'orange_42.jpg',\n",
              " 'orange_38.jpg',\n",
              " 'orange_5.jpg',\n",
              " 'orange_25.xml',\n",
              " 'orange_4.jpg',\n",
              " 'orange_26.xml',\n",
              " 'orange_26.jpg',\n",
              " 'orange_29.jpg',\n",
              " 'orange_34.xml',\n",
              " 'orange_44.jpg',\n",
              " 'orange_28.xml',\n",
              " 'orange_30.xml',\n",
              " 'orange_29.xml',\n",
              " 'orange_37.jpg',\n",
              " 'orange_49.jpg',\n",
              " 'orange_42.xml',\n",
              " 'orange_37.xml',\n",
              " 'orange_35.xml',\n",
              " 'orange_43.xml',\n",
              " 'orange_27.xml',\n",
              " 'orange_34.jpg',\n",
              " 'orange_41.xml',\n",
              " 'orange_28.jpg',\n",
              " 'orange_31.xml',\n",
              " 'orange_36.xml',\n",
              " 'orange_35.jpg',\n",
              " 'orange_38.xml',\n",
              " 'orange_43.jpg',\n",
              " 'orange_25.jpg',\n",
              " 'orange_40.jpg',\n",
              " 'orange_36.jpg',\n",
              " 'orange_5.xml',\n",
              " 'orange_32.xml',\n",
              " 'orange_46.jpg',\n",
              " 'orange_27.jpg',\n",
              " 'orange_48.jpg',\n",
              " 'orange_48.xml',\n",
              " 'orange_68.xml',\n",
              " 'orange_74.xml',\n",
              " 'orange_57.xml',\n",
              " 'orange_70.jpg',\n",
              " 'orange_6.jpg',\n",
              " 'orange_75.xml',\n",
              " 'orange_62.jpg',\n",
              " 'orange_63.jpg',\n",
              " 'orange_53.xml',\n",
              " 'orange_67.jpg',\n",
              " 'orange_60.xml',\n",
              " 'orange_72.xml',\n",
              " 'orange_7.jpg',\n",
              " 'orange_56.jpg',\n",
              " 'orange_59.xml',\n",
              " 'orange_75.jpg',\n",
              " 'orange_64.xml',\n",
              " 'orange_54.xml',\n",
              " 'orange_63.xml',\n",
              " 'orange_67.xml',\n",
              " 'orange_74.jpg',\n",
              " 'orange_52.jpg',\n",
              " 'orange_71.xml',\n",
              " 'orange_70.xml',\n",
              " 'orange_55.jpg',\n",
              " 'orange_53.jpg',\n",
              " 'orange_55.xml',\n",
              " 'orange_72.jpg',\n",
              " 'orange_76.jpg',\n",
              " 'orange_61.xml',\n",
              " 'orange_61.jpg',\n",
              " 'orange_71.jpg',\n",
              " 'orange_51.jpg',\n",
              " 'orange_60.jpg',\n",
              " 'orange_51.xml',\n",
              " 'orange_58.xml',\n",
              " 'orange_50.xml',\n",
              " 'orange_64.jpg',\n",
              " 'orange_69.xml',\n",
              " 'orange_52.xml',\n",
              " 'orange_59.jpg',\n",
              " 'orange_69.jpg',\n",
              " 'orange_73.xml',\n",
              " 'orange_58.jpg',\n",
              " 'orange_7.xml',\n",
              " 'orange_54.jpg',\n",
              " 'orange_62.xml',\n",
              " 'orange_56.xml',\n",
              " 'orange_73.jpg',\n",
              " 'orange_57.jpg',\n",
              " 'orange_68.jpg',\n",
              " 'orange_6.xml',\n",
              " 'orange_9.xml',\n",
              " 'orange_9.jpg',\n",
              " 'orange_8.jpg',\n",
              " 'orange_76.xml',\n",
              " 'orange_8.xml']"
            ]
          },
          "metadata": {},
          "execution_count": 10
        }
      ]
    },
    {
      "cell_type": "code",
      "metadata": {
        "colab": {
          "base_uri": "https://localhost:8080/"
        },
        "id": "r3ys7pFNvv1d",
        "outputId": "c4eb736e-aff2-436a-d043-a72f35625d22"
      },
      "source": [
        "type(train_ds_raw), len(train_ds_raw)"
      ],
      "id": "r3ys7pFNvv1d",
      "execution_count": 11,
      "outputs": [
        {
          "output_type": "execute_result",
          "data": {
            "text/plain": [
              "(list, 480)"
            ]
          },
          "metadata": {},
          "execution_count": 11
        }
      ]
    },
    {
      "cell_type": "markdown",
      "metadata": {
        "id": "ltlkR0Avwm2r"
      },
      "source": [
        "### Create X_train"
      ],
      "id": "ltlkR0Avwm2r"
    },
    {
      "cell_type": "code",
      "metadata": {
        "id": "G_aVwgiMvSBn"
      },
      "source": [
        "filenames = []\n",
        "for label in train_ds_raw:\n",
        "    if label[-3:] == 'xml': \n",
        "        continue              # only take jpeg\n",
        "    else:\n",
        "        filenames.append(train_img_path + label)"
      ],
      "id": "G_aVwgiMvSBn",
      "execution_count": 12,
      "outputs": []
    },
    {
      "cell_type": "code",
      "metadata": {
        "colab": {
          "base_uri": "https://localhost:8080/"
        },
        "id": "jwJueec5fL3Y",
        "outputId": "3af7f9a5-3de5-4cac-93d0-4121cbb30403"
      },
      "source": [
        "# filenames\n",
        "len(filenames)"
      ],
      "id": "jwJueec5fL3Y",
      "execution_count": 13,
      "outputs": [
        {
          "output_type": "execute_result",
          "data": {
            "text/plain": [
              "240"
            ]
          },
          "metadata": {},
          "execution_count": 13
        }
      ]
    },
    {
      "cell_type": "markdown",
      "metadata": {
        "id": "FiE5sRB-wvBX"
      },
      "source": [
        "### Create y_train label"
      ],
      "id": "FiE5sRB-wvBX"
    },
    {
      "cell_type": "code",
      "metadata": {
        "id": "e91ehIK9vLku"
      },
      "source": [
        "y_train_label = []\n",
        "\n",
        "for label in train_ds_raw:\n",
        "    if label[-3:] == 'xml': \n",
        "        continue              #if xml, ignore\n",
        "    arr = label.split('_')    # else, str manipulation \n",
        "    y_train_label.append(arr[0])\n"
      ],
      "id": "e91ehIK9vLku",
      "execution_count": 14,
      "outputs": []
    },
    {
      "cell_type": "code",
      "metadata": {
        "id": "57042e0f",
        "colab": {
          "base_uri": "https://localhost:8080/"
        },
        "outputId": "db3e6158-d182-4c68-c26a-7a96f79459d2"
      },
      "source": [
        "#y_train_label\n",
        "len(filenames), len(y_train_label)"
      ],
      "id": "57042e0f",
      "execution_count": 15,
      "outputs": [
        {
          "output_type": "execute_result",
          "data": {
            "text/plain": [
              "(240, 240)"
            ]
          },
          "metadata": {},
          "execution_count": 15
        }
      ]
    },
    {
      "cell_type": "markdown",
      "metadata": {
        "id": "BLh0xe_qxTy_"
      },
      "source": [
        "### Create df to visualize datasets"
      ],
      "id": "BLh0xe_qxTy_"
    },
    {
      "cell_type": "code",
      "metadata": {
        "id": "vg9zB5CvxYpU"
      },
      "source": [
        "df = pd.DataFrame(columns=['filenames'], data=filenames)"
      ],
      "id": "vg9zB5CvxYpU",
      "execution_count": 16,
      "outputs": []
    },
    {
      "cell_type": "code",
      "metadata": {
        "id": "y8hnNB_excjB"
      },
      "source": [
        "df['y_train_label'] = y_train_label"
      ],
      "id": "y8hnNB_excjB",
      "execution_count": 17,
      "outputs": []
    },
    {
      "cell_type": "code",
      "metadata": {
        "colab": {
          "base_uri": "https://localhost:8080/",
          "height": 0
        },
        "id": "a4rqMNaFxgTs",
        "outputId": "4b224aac-4845-49fd-a6bc-9d6abe36cf82"
      },
      "source": [
        "df"
      ],
      "id": "a4rqMNaFxgTs",
      "execution_count": 18,
      "outputs": [
        {
          "output_type": "execute_result",
          "data": {
            "text/html": [
              "<div>\n",
              "<style scoped>\n",
              "    .dataframe tbody tr th:only-of-type {\n",
              "        vertical-align: middle;\n",
              "    }\n",
              "\n",
              "    .dataframe tbody tr th {\n",
              "        vertical-align: top;\n",
              "    }\n",
              "\n",
              "    .dataframe thead th {\n",
              "        text-align: right;\n",
              "    }\n",
              "</style>\n",
              "<table border=\"1\" class=\"dataframe\">\n",
              "  <thead>\n",
              "    <tr style=\"text-align: right;\">\n",
              "      <th></th>\n",
              "      <th>filenames</th>\n",
              "      <th>y_train_label</th>\n",
              "    </tr>\n",
              "  </thead>\n",
              "  <tbody>\n",
              "    <tr>\n",
              "      <th>0</th>\n",
              "      <td>/content/drive/MyDrive/Colab Notebooks/train/a...</td>\n",
              "      <td>apple</td>\n",
              "    </tr>\n",
              "    <tr>\n",
              "      <th>1</th>\n",
              "      <td>/content/drive/MyDrive/Colab Notebooks/train/a...</td>\n",
              "      <td>apple</td>\n",
              "    </tr>\n",
              "    <tr>\n",
              "      <th>2</th>\n",
              "      <td>/content/drive/MyDrive/Colab Notebooks/train/a...</td>\n",
              "      <td>apple</td>\n",
              "    </tr>\n",
              "    <tr>\n",
              "      <th>3</th>\n",
              "      <td>/content/drive/MyDrive/Colab Notebooks/train/a...</td>\n",
              "      <td>apple</td>\n",
              "    </tr>\n",
              "    <tr>\n",
              "      <th>4</th>\n",
              "      <td>/content/drive/MyDrive/Colab Notebooks/train/a...</td>\n",
              "      <td>apple</td>\n",
              "    </tr>\n",
              "    <tr>\n",
              "      <th>...</th>\n",
              "      <td>...</td>\n",
              "      <td>...</td>\n",
              "    </tr>\n",
              "    <tr>\n",
              "      <th>235</th>\n",
              "      <td>/content/drive/MyDrive/Colab Notebooks/train/o...</td>\n",
              "      <td>orange</td>\n",
              "    </tr>\n",
              "    <tr>\n",
              "      <th>236</th>\n",
              "      <td>/content/drive/MyDrive/Colab Notebooks/train/o...</td>\n",
              "      <td>orange</td>\n",
              "    </tr>\n",
              "    <tr>\n",
              "      <th>237</th>\n",
              "      <td>/content/drive/MyDrive/Colab Notebooks/train/o...</td>\n",
              "      <td>orange</td>\n",
              "    </tr>\n",
              "    <tr>\n",
              "      <th>238</th>\n",
              "      <td>/content/drive/MyDrive/Colab Notebooks/train/o...</td>\n",
              "      <td>orange</td>\n",
              "    </tr>\n",
              "    <tr>\n",
              "      <th>239</th>\n",
              "      <td>/content/drive/MyDrive/Colab Notebooks/train/o...</td>\n",
              "      <td>orange</td>\n",
              "    </tr>\n",
              "  </tbody>\n",
              "</table>\n",
              "<p>240 rows × 2 columns</p>\n",
              "</div>"
            ],
            "text/plain": [
              "                                             filenames y_train_label\n",
              "0    /content/drive/MyDrive/Colab Notebooks/train/a...         apple\n",
              "1    /content/drive/MyDrive/Colab Notebooks/train/a...         apple\n",
              "2    /content/drive/MyDrive/Colab Notebooks/train/a...         apple\n",
              "3    /content/drive/MyDrive/Colab Notebooks/train/a...         apple\n",
              "4    /content/drive/MyDrive/Colab Notebooks/train/a...         apple\n",
              "..                                                 ...           ...\n",
              "235  /content/drive/MyDrive/Colab Notebooks/train/o...        orange\n",
              "236  /content/drive/MyDrive/Colab Notebooks/train/o...        orange\n",
              "237  /content/drive/MyDrive/Colab Notebooks/train/o...        orange\n",
              "238  /content/drive/MyDrive/Colab Notebooks/train/o...        orange\n",
              "239  /content/drive/MyDrive/Colab Notebooks/train/o...        orange\n",
              "\n",
              "[240 rows x 2 columns]"
            ]
          },
          "metadata": {},
          "execution_count": 18
        }
      ]
    },
    {
      "cell_type": "code",
      "metadata": {
        "colab": {
          "base_uri": "https://localhost:8080/"
        },
        "id": "VuOtqL4kxkmz",
        "outputId": "560dd96f-0004-4711-8b41-0b7e522ff907"
      },
      "source": [
        "img = cv2.imread(filenames[10], cv2.IMREAD_COLOR)\n",
        "img.shape"
      ],
      "id": "VuOtqL4kxkmz",
      "execution_count": 19,
      "outputs": [
        {
          "output_type": "execute_result",
          "data": {
            "text/plain": [
              "(500, 500, 3)"
            ]
          },
          "metadata": {},
          "execution_count": 19
        }
      ]
    },
    {
      "cell_type": "markdown",
      "metadata": {
        "id": "oqKIl1wyxzEP"
      },
      "source": [
        "### Plot Histogram to set size of images"
      ],
      "id": "oqKIl1wyxzEP"
    },
    {
      "cell_type": "code",
      "metadata": {
        "id": "f5cf9753"
      },
      "source": [
        "# plot histogram\n",
        "# decide which is the more common size for img\n",
        "# Getting the dimensions of all the image into a list\n",
        "dim1 = []\n",
        "dim2 = []\n",
        "colors = []\n",
        "\n",
        "for img_filename in filenames:\n",
        "    x, y, c = plt.imread(img_filename).shape # height width color\n",
        "    dim1.append(x)\n",
        "    dim2.append(y)\n",
        "    colors.append(c)"
      ],
      "id": "f5cf9753",
      "execution_count": 20,
      "outputs": []
    },
    {
      "cell_type": "code",
      "metadata": {
        "id": "fg5YDbf3x-rp"
      },
      "source": [
        "dim1 = np.array(dim1)\n",
        "dim2 = np.array(dim2)\n",
        "colors = np.array(colors)"
      ],
      "id": "fg5YDbf3x-rp",
      "execution_count": 21,
      "outputs": []
    },
    {
      "cell_type": "code",
      "metadata": {
        "colab": {
          "base_uri": "https://localhost:8080/"
        },
        "id": "aF8QZ53zyBBI",
        "outputId": "f975260a-7f13-4ac1-be98-ae75d2930724"
      },
      "source": [
        "dim1.max(), dim2.max(), colors.mean()"
      ],
      "id": "aF8QZ53zyBBI",
      "execution_count": 22,
      "outputs": [
        {
          "output_type": "execute_result",
          "data": {
            "text/plain": [
              "(4605, 3160, 3.1083333333333334)"
            ]
          },
          "metadata": {},
          "execution_count": 22
        }
      ]
    },
    {
      "cell_type": "code",
      "metadata": {
        "id": "ab0615dd",
        "colab": {
          "base_uri": "https://localhost:8080/",
          "height": 0
        },
        "outputId": "15892d8f-be2b-4119-806d-42c8fed62341"
      },
      "source": [
        "sns.jointplot(x=dim1, y=dim2);"
      ],
      "id": "ab0615dd",
      "execution_count": 23,
      "outputs": [
        {
          "output_type": "display_data",
          "data": {
            "image/png": "[encoded data removed]",
            "text/plain": [
              "<Figure size 432x432 with 3 Axes>"
            ]
          },
          "metadata": {
            "needs_background": "light"
          }
        }
      ]
    },
    {
      "cell_type": "code",
      "metadata": {
        "colab": {
          "base_uri": "https://localhost:8080/"
        },
        "id": "iO5DwUcYyHGa",
        "outputId": "ccbec14a-3efa-4e5d-998c-dd641f39c989"
      },
      "source": [
        "dim1.mean(), dim2.mean()"
      ],
      "id": "iO5DwUcYyHGa",
      "execution_count": 24,
      "outputs": [
        {
          "output_type": "execute_result",
          "data": {
            "text/plain": [
              "(633.5083333333333, 789.2166666666667)"
            ]
          },
          "metadata": {},
          "execution_count": 24
        }
      ]
    },
    {
      "cell_type": "markdown",
      "metadata": {
        "id": "OtAm3FuiyJQf"
      },
      "source": [
        "resize according to findings:\n",
        "*Taking the mean of the image size, we set the image size to be 650 by 650 by 3 for easier computation*\n",
        "**image_size = (650, 650)**"
      ],
      "id": "OtAm3FuiyJQf"
    },
    {
      "cell_type": "markdown",
      "metadata": {
        "id": "LoXpWs5DzNB4"
      },
      "source": [
        "### Resize images to proper and similar size and create x_train"
      ],
      "id": "LoXpWs5DzNB4"
    },
    {
      "cell_type": "code",
      "metadata": {
        "id": "_WTcpqAik5Od"
      },
      "source": [
        "# # test greyscale and resize on 1 img\n",
        "# img = Image.open(filenames[1])\n",
        "# greyscale_img = img.convert('L')\n",
        "# img_resized = greyscale_img.resize((650,650))\n",
        "# img_resized"
      ],
      "id": "_WTcpqAik5Od",
      "execution_count": 25,
      "outputs": []
    },
    {
      "cell_type": "code",
      "metadata": {
        "id": "Yddgi2-KzbYf"
      },
      "source": [
        "# x_train = None\n",
        "\n",
        "# for i in range(len(filenames)):\n",
        "#     img_raw = Image.open(filenames[i])  \n",
        "#     greyscale_img = ImageOps.grayscale(img_raw)\n",
        "#     img_reshaped = greyscale_img.resize((650, 650))   \n",
        "#     if x_train is None:\n",
        "#         x_train = img_reshaped\n",
        "#     else:\n",
        "#         x_train = np.concatenate((x_train, img_reshaped))"
      ],
      "id": "Yddgi2-KzbYf",
      "execution_count": 26,
      "outputs": []
    },
    {
      "cell_type": "code",
      "metadata": {
        "id": "hvY4WiREuixE"
      },
      "source": [
        "x_train = None\n",
        "\n",
        "for i in range(len(y_train_label)):\n",
        "    img_raw = cv2.imread(filenames[i], cv2.IMREAD_COLOR)\n",
        "    img_reshaped = cv2.resize(img_raw,(650, 650), cv2.INTER_NEAREST)\n",
        "    img_reshaped = cv2.cvtColor(img_reshaped, cv2.COLOR_BGR2RGB)\n",
        "    if x_train is None:\n",
        "        x_train = img_reshaped\n",
        "    else:\n",
        "        x_train = np.concatenate((x_train, img_reshaped))"
      ],
      "id": "hvY4WiREuixE",
      "execution_count": 27,
      "outputs": []
    },
    {
      "cell_type": "markdown",
      "metadata": {
        "id": "ANhgnkGSyQ0k"
      },
      "source": [
        "Verify data shaped correctly "
      ],
      "id": "ANhgnkGSyQ0k"
    },
    {
      "cell_type": "code",
      "metadata": {
        "colab": {
          "base_uri": "https://localhost:8080/"
        },
        "id": "Yj2vRp1J68Fj",
        "outputId": "0b526253-4325-4bac-814a-1fdefddc2593"
      },
      "source": [
        "x_train = x_train.reshape(-1, 650, 650, 3)\n",
        "x_train.shape"
      ],
      "id": "Yj2vRp1J68Fj",
      "execution_count": 28,
      "outputs": [
        {
          "output_type": "execute_result",
          "data": {
            "text/plain": [
              "(240, 650, 650, 3)"
            ]
          },
          "metadata": {},
          "execution_count": 28
        }
      ]
    },
    {
      "cell_type": "markdown",
      "metadata": {
        "id": "Fh2Wz05BJxfT"
      },
      "source": [
        "Verify that data is shaped correctly by randomly retrieving an individual data to view"
      ],
      "id": "Fh2Wz05BJxfT"
    },
    {
      "cell_type": "code",
      "metadata": {
        "colab": {
          "base_uri": "https://localhost:8080/",
          "height": 178
        },
        "id": "9vCcC-CSKCvv",
        "outputId": "2246e134-c95f-434f-8d99-0e2eb7e661ee"
      },
      "source": [
        "# img2 = Image.fromarray(x_train[1])\n",
        "# --> bug in scipy so shape can throw error\n",
        "img2 = np.array(Image.fromarray((x_train[1] * 255).astype(np.uint8)).convert('RGB'))\n",
        "plt.subplots(figsize=(2,2))\n",
        "plt.imshow(img2)"
      ],
      "id": "9vCcC-CSKCvv",
      "execution_count": 29,
      "outputs": [
        {
          "output_type": "execute_result",
          "data": {
            "text/plain": [
              "<matplotlib.image.AxesImage at 0x7fcb51582e50>"
            ]
          },
          "metadata": {},
          "execution_count": 29
        },
        {
          "output_type": "display_data",
          "data": {
            "image/png": "[encoded data removed]",
            "text/plain": [
              "<Figure size 144x144 with 1 Axes>"
            ]
          },
          "metadata": {
            "needs_background": "light"
          }
        }
      ]
    },
    {
      "cell_type": "markdown",
      "metadata": {
        "id": "K61EcIxjH8Mc"
      },
      "source": [
        "**Determine max value of each cell and min before normalizing**"
      ],
      "id": "K61EcIxjH8Mc"
    },
    {
      "cell_type": "code",
      "metadata": {
        "id": "336393cd",
        "colab": {
          "base_uri": "https://localhost:8080/"
        },
        "outputId": "8692f4e4-12d8-463f-da27-13ed42180b42"
      },
      "source": [
        "x_train.max(), x_train.min()"
      ],
      "id": "336393cd",
      "execution_count": 30,
      "outputs": [
        {
          "output_type": "execute_result",
          "data": {
            "text/plain": [
              "(255, 0)"
            ]
          },
          "metadata": {},
          "execution_count": 30
        }
      ]
    },
    {
      "cell_type": "markdown",
      "metadata": {
        "id": "s1Iwp-eAIIDk"
      },
      "source": [
        "**Normalize dataset**"
      ],
      "id": "s1Iwp-eAIIDk"
    },
    {
      "cell_type": "code",
      "metadata": {
        "colab": {
          "base_uri": "https://localhost:8080/"
        },
        "id": "Y15ugtfnILRB",
        "outputId": "34357f39-79fe-4f1f-a34e-8f467b5c1aeb"
      },
      "source": [
        "x_train = x_train/255\n",
        "print(x_train.shape)"
      ],
      "id": "Y15ugtfnILRB",
      "execution_count": 31,
      "outputs": [
        {
          "output_type": "stream",
          "name": "stdout",
          "text": [
            "(240, 650, 650, 3)\n"
          ]
        }
      ]
    },
    {
      "cell_type": "markdown",
      "metadata": {
        "id": "64a1cb65"
      },
      "source": [
        "One-Hot Encoding data using keras to_categorical"
      ],
      "id": "64a1cb65"
    },
    {
      "cell_type": "code",
      "metadata": {
        "colab": {
          "base_uri": "https://localhost:8080/"
        },
        "id": "t3Z2Ti8TwsuQ",
        "outputId": "9a15e973-1985-49da-e04f-5a8391453ab2"
      },
      "source": [
        "#labels in str\n",
        "cat = np.unique(y_train_label)\n",
        "cat"
      ],
      "id": "t3Z2Ti8TwsuQ",
      "execution_count": 32,
      "outputs": [
        {
          "output_type": "execute_result",
          "data": {
            "text/plain": [
              "array(['apple', 'banana', 'mixed', 'orange'], dtype='<U6')"
            ]
          },
          "metadata": {},
          "execution_count": 32
        }
      ]
    },
    {
      "cell_type": "code",
      "metadata": {
        "colab": {
          "base_uri": "https://localhost:8080/"
        },
        "id": "3Yjzg3B6Ip29",
        "outputId": "a76dec65-d480-446b-dd22-09d8f58c2eb0"
      },
      "source": [
        "n_labels = len(cat)\n",
        "n_labels"
      ],
      "id": "3Yjzg3B6Ip29",
      "execution_count": 33,
      "outputs": [
        {
          "output_type": "execute_result",
          "data": {
            "text/plain": [
              "4"
            ]
          },
          "metadata": {},
          "execution_count": 33
        }
      ]
    },
    {
      "cell_type": "code",
      "metadata": {
        "colab": {
          "base_uri": "https://localhost:8080/"
        },
        "id": "u2raB5SCod-j",
        "outputId": "722f9bbb-bd7a-4880-fabe-8499333f5980"
      },
      "source": [
        "from sklearn.preprocessing import LabelEncoder\n",
        "import pandas as pd\n",
        "\n",
        "#instantiate one hot encoding\n",
        "encoder = LabelEncoder()\n",
        "#fit\n",
        "encoder.fit(y_train_label)\n",
        "#transform\n",
        "data = encoder.transform(y_train_label)\n",
        "y_train = tf.keras.utils.to_categorical(data)\n",
        "\n",
        "print(y_train) "
      ],
      "id": "u2raB5SCod-j",
      "execution_count": 34,
      "outputs": [
        {
          "output_type": "stream",
          "name": "stdout",
          "text": [
            "[[1. 0. 0. 0.]\n",
            " [1. 0. 0. 0.]\n",
            " [1. 0. 0. 0.]\n",
            " [1. 0. 0. 0.]\n",
            " [1. 0. 0. 0.]\n",
            " [1. 0. 0. 0.]\n",
            " [1. 0. 0. 0.]\n",
            " [1. 0. 0. 0.]\n",
            " [1. 0. 0. 0.]\n",
            " [1. 0. 0. 0.]\n",
            " [1. 0. 0. 0.]\n",
            " [1. 0. 0. 0.]\n",
            " [1. 0. 0. 0.]\n",
            " [1. 0. 0. 0.]\n",
            " [1. 0. 0. 0.]\n",
            " [1. 0. 0. 0.]\n",
            " [1. 0. 0. 0.]\n",
            " [1. 0. 0. 0.]\n",
            " [1. 0. 0. 0.]\n",
            " [1. 0. 0. 0.]\n",
            " [1. 0. 0. 0.]\n",
            " [1. 0. 0. 0.]\n",
            " [1. 0. 0. 0.]\n",
            " [1. 0. 0. 0.]\n",
            " [1. 0. 0. 0.]\n",
            " [1. 0. 0. 0.]\n",
            " [1. 0. 0. 0.]\n",
            " [1. 0. 0. 0.]\n",
            " [1. 0. 0. 0.]\n",
            " [1. 0. 0. 0.]\n",
            " [1. 0. 0. 0.]\n",
            " [1. 0. 0. 0.]\n",
            " [1. 0. 0. 0.]\n",
            " [1. 0. 0. 0.]\n",
            " [1. 0. 0. 0.]\n",
            " [1. 0. 0. 0.]\n",
            " [1. 0. 0. 0.]\n",
            " [1. 0. 0. 0.]\n",
            " [1. 0. 0. 0.]\n",
            " [1. 0. 0. 0.]\n",
            " [1. 0. 0. 0.]\n",
            " [1. 0. 0. 0.]\n",
            " [1. 0. 0. 0.]\n",
            " [1. 0. 0. 0.]\n",
            " [1. 0. 0. 0.]\n",
            " [1. 0. 0. 0.]\n",
            " [1. 0. 0. 0.]\n",
            " [1. 0. 0. 0.]\n",
            " [1. 0. 0. 0.]\n",
            " [1. 0. 0. 0.]\n",
            " [1. 0. 0. 0.]\n",
            " [1. 0. 0. 0.]\n",
            " [1. 0. 0. 0.]\n",
            " [0. 1. 0. 0.]\n",
            " [1. 0. 0. 0.]\n",
            " [1. 0. 0. 0.]\n",
            " [1. 0. 0. 0.]\n",
            " [1. 0. 0. 0.]\n",
            " [1. 0. 0. 0.]\n",
            " [1. 0. 0. 0.]\n",
            " [1. 0. 0. 0.]\n",
            " [1. 0. 0. 0.]\n",
            " [0. 1. 0. 0.]\n",
            " [1. 0. 0. 0.]\n",
            " [1. 0. 0. 0.]\n",
            " [1. 0. 0. 0.]\n",
            " [1. 0. 0. 0.]\n",
            " [0. 1. 0. 0.]\n",
            " [1. 0. 0. 0.]\n",
            " [1. 0. 0. 0.]\n",
            " [0. 1. 0. 0.]\n",
            " [1. 0. 0. 0.]\n",
            " [1. 0. 0. 0.]\n",
            " [1. 0. 0. 0.]\n",
            " [1. 0. 0. 0.]\n",
            " [1. 0. 0. 0.]\n",
            " [1. 0. 0. 0.]\n",
            " [1. 0. 0. 0.]\n",
            " [1. 0. 0. 0.]\n",
            " [0. 1. 0. 0.]\n",
            " [0. 1. 0. 0.]\n",
            " [0. 1. 0. 0.]\n",
            " [0. 1. 0. 0.]\n",
            " [0. 1. 0. 0.]\n",
            " [0. 1. 0. 0.]\n",
            " [0. 1. 0. 0.]\n",
            " [0. 1. 0. 0.]\n",
            " [0. 1. 0. 0.]\n",
            " [0. 1. 0. 0.]\n",
            " [0. 1. 0. 0.]\n",
            " [0. 1. 0. 0.]\n",
            " [0. 1. 0. 0.]\n",
            " [0. 1. 0. 0.]\n",
            " [0. 1. 0. 0.]\n",
            " [0. 1. 0. 0.]\n",
            " [0. 1. 0. 0.]\n",
            " [0. 1. 0. 0.]\n",
            " [0. 1. 0. 0.]\n",
            " [0. 1. 0. 0.]\n",
            " [0. 1. 0. 0.]\n",
            " [0. 1. 0. 0.]\n",
            " [0. 1. 0. 0.]\n",
            " [0. 1. 0. 0.]\n",
            " [0. 1. 0. 0.]\n",
            " [0. 1. 0. 0.]\n",
            " [0. 1. 0. 0.]\n",
            " [0. 1. 0. 0.]\n",
            " [0. 1. 0. 0.]\n",
            " [0. 1. 0. 0.]\n",
            " [0. 1. 0. 0.]\n",
            " [0. 1. 0. 0.]\n",
            " [0. 1. 0. 0.]\n",
            " [0. 1. 0. 0.]\n",
            " [0. 1. 0. 0.]\n",
            " [0. 1. 0. 0.]\n",
            " [0. 1. 0. 0.]\n",
            " [0. 1. 0. 0.]\n",
            " [0. 1. 0. 0.]\n",
            " [0. 1. 0. 0.]\n",
            " [0. 1. 0. 0.]\n",
            " [0. 1. 0. 0.]\n",
            " [0. 1. 0. 0.]\n",
            " [0. 1. 0. 0.]\n",
            " [0. 1. 0. 0.]\n",
            " [0. 1. 0. 0.]\n",
            " [0. 1. 0. 0.]\n",
            " [0. 1. 0. 0.]\n",
            " [0. 1. 0. 0.]\n",
            " [0. 1. 0. 0.]\n",
            " [0. 1. 0. 0.]\n",
            " [0. 1. 0. 0.]\n",
            " [0. 1. 0. 0.]\n",
            " [0. 1. 0. 0.]\n",
            " [0. 1. 0. 0.]\n",
            " [0. 1. 0. 0.]\n",
            " [0. 0. 1. 0.]\n",
            " [0. 0. 1. 0.]\n",
            " [0. 0. 1. 0.]\n",
            " [0. 0. 1. 0.]\n",
            " [0. 1. 0. 0.]\n",
            " [0. 0. 1. 0.]\n",
            " [0. 0. 1. 0.]\n",
            " [0. 1. 0. 0.]\n",
            " [0. 0. 1. 0.]\n",
            " [0. 1. 0. 0.]\n",
            " [0. 1. 0. 0.]\n",
            " [0. 1. 0. 0.]\n",
            " [0. 1. 0. 0.]\n",
            " [0. 1. 0. 0.]\n",
            " [0. 0. 1. 0.]\n",
            " [0. 0. 1. 0.]\n",
            " [0. 1. 0. 0.]\n",
            " [0. 1. 0. 0.]\n",
            " [0. 1. 0. 0.]\n",
            " [0. 0. 1. 0.]\n",
            " [0. 1. 0. 0.]\n",
            " [0. 0. 1. 0.]\n",
            " [0. 1. 0. 0.]\n",
            " [0. 1. 0. 0.]\n",
            " [0. 0. 1. 0.]\n",
            " [0. 0. 1. 0.]\n",
            " [0. 0. 1. 0.]\n",
            " [0. 0. 1. 0.]\n",
            " [0. 0. 0. 1.]\n",
            " [0. 0. 0. 1.]\n",
            " [0. 0. 1. 0.]\n",
            " [0. 0. 0. 1.]\n",
            " [0. 0. 0. 1.]\n",
            " [0. 0. 1. 0.]\n",
            " [0. 0. 1. 0.]\n",
            " [0. 0. 1. 0.]\n",
            " [0. 0. 0. 1.]\n",
            " [0. 0. 0. 1.]\n",
            " [0. 0. 0. 1.]\n",
            " [0. 0. 0. 1.]\n",
            " [0. 0. 0. 1.]\n",
            " [0. 0. 0. 1.]\n",
            " [0. 0. 0. 1.]\n",
            " [0. 0. 0. 1.]\n",
            " [0. 0. 0. 1.]\n",
            " [0. 0. 1. 0.]\n",
            " [0. 0. 0. 1.]\n",
            " [0. 0. 0. 1.]\n",
            " [0. 0. 0. 1.]\n",
            " [0. 0. 0. 1.]\n",
            " [0. 0. 0. 1.]\n",
            " [0. 0. 0. 1.]\n",
            " [0. 0. 0. 1.]\n",
            " [0. 0. 0. 1.]\n",
            " [0. 0. 0. 1.]\n",
            " [0. 0. 0. 1.]\n",
            " [0. 0. 0. 1.]\n",
            " [0. 0. 0. 1.]\n",
            " [0. 0. 0. 1.]\n",
            " [0. 0. 0. 1.]\n",
            " [0. 0. 0. 1.]\n",
            " [0. 0. 0. 1.]\n",
            " [0. 0. 0. 1.]\n",
            " [0. 0. 0. 1.]\n",
            " [0. 0. 0. 1.]\n",
            " [0. 0. 0. 1.]\n",
            " [0. 0. 0. 1.]\n",
            " [0. 0. 0. 1.]\n",
            " [0. 0. 0. 1.]\n",
            " [0. 0. 0. 1.]\n",
            " [0. 0. 0. 1.]\n",
            " [0. 0. 0. 1.]\n",
            " [0. 0. 0. 1.]\n",
            " [0. 0. 0. 1.]\n",
            " [0. 0. 0. 1.]\n",
            " [0. 0. 0. 1.]\n",
            " [0. 0. 0. 1.]\n",
            " [0. 0. 0. 1.]\n",
            " [0. 0. 0. 1.]\n",
            " [0. 0. 0. 1.]\n",
            " [0. 0. 0. 1.]\n",
            " [0. 0. 0. 1.]\n",
            " [0. 0. 0. 1.]\n",
            " [0. 0. 0. 1.]\n",
            " [0. 0. 0. 1.]\n",
            " [0. 0. 0. 1.]\n",
            " [0. 0. 0. 1.]\n",
            " [0. 0. 0. 1.]\n",
            " [0. 0. 0. 1.]\n",
            " [0. 0. 0. 1.]\n",
            " [0. 0. 0. 1.]\n",
            " [0. 0. 0. 1.]\n",
            " [0. 0. 0. 1.]\n",
            " [0. 0. 0. 1.]\n",
            " [0. 0. 0. 1.]\n",
            " [0. 0. 0. 1.]\n",
            " [0. 0. 0. 1.]\n",
            " [0. 0. 0. 1.]\n",
            " [0. 0. 0. 1.]\n",
            " [0. 0. 0. 1.]\n",
            " [0. 0. 0. 1.]\n",
            " [0. 0. 0. 1.]\n",
            " [0. 0. 0. 1.]\n",
            " [0. 0. 0. 1.]\n",
            " [0. 0. 0. 1.]]\n"
          ]
        }
      ]
    },
    {
      "cell_type": "code",
      "metadata": {
        "colab": {
          "base_uri": "https://localhost:8080/"
        },
        "id": "yj28XSAfpVt_",
        "outputId": "f07e4fba-13b5-4fe6-8ba3-667e00d38116"
      },
      "source": [
        "# to vosualize the labels\n",
        "categories = pd.DataFrame(data=y_train,\n",
        "                 columns=encoder.classes_)\n",
        "\n",
        "print(categories)"
      ],
      "id": "yj28XSAfpVt_",
      "execution_count": 35,
      "outputs": [
        {
          "output_type": "stream",
          "name": "stdout",
          "text": [
            "     apple  banana  mixed  orange\n",
            "0      1.0     0.0    0.0     0.0\n",
            "1      1.0     0.0    0.0     0.0\n",
            "2      1.0     0.0    0.0     0.0\n",
            "3      1.0     0.0    0.0     0.0\n",
            "4      1.0     0.0    0.0     0.0\n",
            "..     ...     ...    ...     ...\n",
            "235    0.0     0.0    0.0     1.0\n",
            "236    0.0     0.0    0.0     1.0\n",
            "237    0.0     0.0    0.0     1.0\n",
            "238    0.0     0.0    0.0     1.0\n",
            "239    0.0     0.0    0.0     1.0\n",
            "\n",
            "[240 rows x 4 columns]\n"
          ]
        }
      ]
    },
    {
      "cell_type": "markdown",
      "metadata": {
        "id": "74168da3"
      },
      "source": [
        "### Defining Model Architecture\n",
        "Things like: \n",
        "- how many convolutional layers do we want\n",
        "- what should be the activation function for each layer\n",
        "- how many hidden units should each layer have etc"
      ],
      "id": "74168da3"
    },
    {
      "cell_type": "markdown",
      "metadata": {
        "id": "4c8bf940"
      },
      "source": [
        "#### Construct CNN Model\n",
        "\n",
        "- Create an empty Neural Network via Sequential()\n",
        "- Add more layers to 'model' obj to turn it into CNN\n",
        "- First layer--> convolutional layer(filters,kernal_size,activation,input_shape)\n"
      ],
      "id": "4c8bf940"
    },
    {
      "cell_type": "code",
      "metadata": {
        "id": "9a426198"
      },
      "source": [
        "model = tf.keras.models.Sequential()\n",
        "\n",
        "model.add(tf.keras.layers.Conv2D(filters=32, \n",
        "                                kernel_size=(3,3),\n",
        "                                activation = 'relu', \n",
        "                                input_shape= (650,650,3)))\n",
        "model.add(tf.keras.layers.Conv2D(filters=32, \n",
        "                                 kernel_size=(5,5),\n",
        "                                activation = 'relu', \n",
        "                                input_shape= (650,650,3)))\n",
        "# model.add(tf.keras.layers.Conv2D(filters=64, kernel_size=(3,3),\n",
        "#                                 activation = 'relu', \n",
        "#                                 input_shape= (650,650,3)))\n",
        "# model pooling, dropout, dense (need to flatten first) \n",
        "model.add(tf.keras.layers.Flatten())\n",
        "# model.add(tf.keras.layers.Dense(512,activation='relu'))\n",
        "# model.add(tf.keras.layers.Dense(1,activation='sigmoid')) \n",
        "model.add(tf.keras.layers.Dense(units=1, activation='softmax'))"
      ],
      "id": "9a426198",
      "execution_count": 36,
      "outputs": []
    },
    {
      "cell_type": "code",
      "metadata": {
        "id": "e08df059",
        "colab": {
          "base_uri": "https://localhost:8080/"
        },
        "outputId": "0a690aac-ddf0-433c-aaad-0d83314ead41"
      },
      "source": [
        "model.summary()"
      ],
      "id": "e08df059",
      "execution_count": 37,
      "outputs": [
        {
          "output_type": "stream",
          "name": "stdout",
          "text": [
            "Model: \"sequential\"\n",
            "_________________________________________________________________\n",
            " Layer (type)                Output Shape              Param #   \n",
            "=================================================================\n",
            " conv2d (Conv2D)             (None, 648, 648, 32)      896       \n",
            "                                                                 \n",
            " conv2d_1 (Conv2D)           (None, 644, 644, 32)      25632     \n",
            "                                                                 \n",
            " flatten (Flatten)           (None, 13271552)          0         \n",
            "                                                                 \n",
            " dense (Dense)               (None, 1)                 13271553  \n",
            "                                                                 \n",
            "=================================================================\n",
            "Total params: 13,298,081\n",
            "Trainable params: 13,298,081\n",
            "Non-trainable params: 0\n",
            "_________________________________________________________________\n"
          ]
        }
      ]
    },
    {
      "cell_type": "markdown",
      "metadata": {
        "id": "Z-ks3KRDPvnq"
      },
      "source": [
        "- When using Softmax as the activation function as the last layer, our loss function should be ‘categorical_crossentropy’\n",
        "- Optimizers are algorithms to change the weights and the learning rate of our neural network; ‘adam’ is a good choice\n",
        "- When determining the accuracy of a prediction, use ‘accuracy’ as the metrics as we can count the number of times the neural network has given a correct prediction"
      ],
      "id": "Z-ks3KRDPvnq"
    },
    {
      "cell_type": "code",
      "metadata": {
        "id": "QRmxVDD8P0BK"
      },
      "source": [
        "#compiling the CNN\n",
        "model.compile(optimizer='adam', loss='categorical_crossentropy', metrics=['accuracy'])"
      ],
      "id": "QRmxVDD8P0BK",
      "execution_count": 38,
      "outputs": []
    },
    {
      "cell_type": "markdown",
      "metadata": {
        "id": "825f6e47"
      },
      "source": [
        "### Train the Model\n",
        "\n",
        "Require training images and their corresponding true labels, validation images and their corresponding true labels (we use these labels only to validate the model and not during the training phase). We also define the number of epochs in this step. For starters, we will run the model for 10 epochs (you can change the number of epochs later)."
      ],
      "id": "825f6e47"
    },
    {
      "cell_type": "markdown",
      "metadata": {
        "id": "9d6177bd"
      },
      "source": [
        "#### can consider using k-means to calculate epochs"
      ],
      "id": "9d6177bd"
    },
    {
      "cell_type": "code",
      "metadata": {
        "id": "1a28d716",
        "colab": {
          "base_uri": "https://localhost:8080/",
          "height": 902
        },
        "outputId": "843913e7-9449-4023-88a4-5ca240fd1ef7"
      },
      "source": [
        "# x_train = np.array(x_train)\n",
        "# y_train = np.array(y_train)\n",
        "fitting = model.fit(x=x_train, y=y_train, epochs=15)"
      ],
      "id": "1a28d716",
      "execution_count": 39,
      "outputs": [
        {
          "output_type": "stream",
          "name": "stdout",
          "text": [
            "Epoch 1/15\n"
          ]
        },
        {
          "output_type": "error",
          "ename": "ValueError",
          "evalue": "ignored",
          "traceback": [
            "\u001b[0;31m---------------------------------------------------------------------------\u001b[0m",
            "\u001b[0;31mValueError\u001b[0m                                Traceback (most recent call last)",
            "\u001b[0;32m<ipython-input-39-b6884a1f169c>\u001b[0m in \u001b[0;36m<module>\u001b[0;34m()\u001b[0m\n\u001b[1;32m      1\u001b[0m \u001b[0;31m# x_train = np.array(x_train)\u001b[0m\u001b[0;34m\u001b[0m\u001b[0;34m\u001b[0m\u001b[0;34m\u001b[0m\u001b[0m\n\u001b[1;32m      2\u001b[0m \u001b[0;31m# y_train = np.array(y_train)\u001b[0m\u001b[0;34m\u001b[0m\u001b[0;34m\u001b[0m\u001b[0;34m\u001b[0m\u001b[0m\n\u001b[0;32m----> 3\u001b[0;31m \u001b[0mfitting\u001b[0m \u001b[0;34m=\u001b[0m \u001b[0mmodel\u001b[0m\u001b[0;34m.\u001b[0m\u001b[0mfit\u001b[0m\u001b[0;34m(\u001b[0m\u001b[0mx\u001b[0m\u001b[0;34m=\u001b[0m\u001b[0mx_train\u001b[0m\u001b[0;34m,\u001b[0m \u001b[0my\u001b[0m\u001b[0;34m=\u001b[0m\u001b[0my_train\u001b[0m\u001b[0;34m,\u001b[0m \u001b[0mepochs\u001b[0m\u001b[0;34m=\u001b[0m\u001b[0;36m15\u001b[0m\u001b[0;34m)\u001b[0m\u001b[0;34m\u001b[0m\u001b[0;34m\u001b[0m\u001b[0m\n\u001b[0m",
            "\u001b[0;32m/usr/local/lib/python3.7/dist-packages/keras/utils/traceback_utils.py\u001b[0m in \u001b[0;36merror_handler\u001b[0;34m(*args, **kwargs)\u001b[0m\n\u001b[1;32m     65\u001b[0m     \u001b[0;32mexcept\u001b[0m \u001b[0mException\u001b[0m \u001b[0;32mas\u001b[0m \u001b[0me\u001b[0m\u001b[0;34m:\u001b[0m  \u001b[0;31m# pylint: disable=broad-except\u001b[0m\u001b[0;34m\u001b[0m\u001b[0;34m\u001b[0m\u001b[0m\n\u001b[1;32m     66\u001b[0m       \u001b[0mfiltered_tb\u001b[0m \u001b[0;34m=\u001b[0m \u001b[0m_process_traceback_frames\u001b[0m\u001b[0;34m(\u001b[0m\u001b[0me\u001b[0m\u001b[0;34m.\u001b[0m\u001b[0m__traceback__\u001b[0m\u001b[0;34m)\u001b[0m\u001b[0;34m\u001b[0m\u001b[0;34m\u001b[0m\u001b[0m\n\u001b[0;32m---> 67\u001b[0;31m       \u001b[0;32mraise\u001b[0m \u001b[0me\u001b[0m\u001b[0;34m.\u001b[0m\u001b[0mwith_traceback\u001b[0m\u001b[0;34m(\u001b[0m\u001b[0mfiltered_tb\u001b[0m\u001b[0;34m)\u001b[0m \u001b[0;32mfrom\u001b[0m \u001b[0;32mNone\u001b[0m\u001b[0;34m\u001b[0m\u001b[0;34m\u001b[0m\u001b[0m\n\u001b[0m\u001b[1;32m     68\u001b[0m     \u001b[0;32mfinally\u001b[0m\u001b[0;34m:\u001b[0m\u001b[0;34m\u001b[0m\u001b[0;34m\u001b[0m\u001b[0m\n\u001b[1;32m     69\u001b[0m       \u001b[0;32mdel\u001b[0m \u001b[0mfiltered_tb\u001b[0m\u001b[0;34m\u001b[0m\u001b[0;34m\u001b[0m\u001b[0m\n",
            "\u001b[0;32m/usr/local/lib/python3.7/dist-packages/tensorflow/python/framework/func_graph.py\u001b[0m in \u001b[0;36mautograph_handler\u001b[0;34m(*args, **kwargs)\u001b[0m\n\u001b[1;32m   1127\u001b[0m           \u001b[0;32mexcept\u001b[0m \u001b[0mException\u001b[0m \u001b[0;32mas\u001b[0m \u001b[0me\u001b[0m\u001b[0;34m:\u001b[0m  \u001b[0;31m# pylint:disable=broad-except\u001b[0m\u001b[0;34m\u001b[0m\u001b[0;34m\u001b[0m\u001b[0m\n\u001b[1;32m   1128\u001b[0m             \u001b[0;32mif\u001b[0m \u001b[0mhasattr\u001b[0m\u001b[0;34m(\u001b[0m\u001b[0me\u001b[0m\u001b[0;34m,\u001b[0m \u001b[0;34m\"ag_error_metadata\"\u001b[0m\u001b[0;34m)\u001b[0m\u001b[0;34m:\u001b[0m\u001b[0;34m\u001b[0m\u001b[0;34m\u001b[0m\u001b[0m\n\u001b[0;32m-> 1129\u001b[0;31m               \u001b[0;32mraise\u001b[0m \u001b[0me\u001b[0m\u001b[0;34m.\u001b[0m\u001b[0mag_error_metadata\u001b[0m\u001b[0;34m.\u001b[0m\u001b[0mto_exception\u001b[0m\u001b[0;34m(\u001b[0m\u001b[0me\u001b[0m\u001b[0;34m)\u001b[0m\u001b[0;34m\u001b[0m\u001b[0;34m\u001b[0m\u001b[0m\n\u001b[0m\u001b[1;32m   1130\u001b[0m             \u001b[0;32melse\u001b[0m\u001b[0;34m:\u001b[0m\u001b[0;34m\u001b[0m\u001b[0;34m\u001b[0m\u001b[0m\n\u001b[1;32m   1131\u001b[0m               \u001b[0;32mraise\u001b[0m\u001b[0;34m\u001b[0m\u001b[0;34m\u001b[0m\u001b[0m\n",
            "\u001b[0;31mValueError\u001b[0m: in user code:\n\n    File \"/usr/local/lib/python3.7/dist-packages/keras/engine/training.py\", line 878, in train_function  *\n        return step_function(self, iterator)\n    File \"/usr/local/lib/python3.7/dist-packages/keras/engine/training.py\", line 867, in step_function  **\n        outputs = model.distribute_strategy.run(run_step, args=(data,))\n    File \"/usr/local/lib/python3.7/dist-packages/keras/engine/training.py\", line 860, in run_step  **\n        outputs = model.train_step(data)\n    File \"/usr/local/lib/python3.7/dist-packages/keras/engine/training.py\", line 810, in train_step\n        y, y_pred, sample_weight, regularization_losses=self.losses)\n    File \"/usr/local/lib/python3.7/dist-packages/keras/engine/compile_utils.py\", line 201, in __call__\n        loss_value = loss_obj(y_t, y_p, sample_weight=sw)\n    File \"/usr/local/lib/python3.7/dist-packages/keras/losses.py\", line 141, in __call__\n        losses = call_fn(y_true, y_pred)\n    File \"/usr/local/lib/python3.7/dist-packages/keras/losses.py\", line 245, in call  **\n        return ag_fn(y_true, y_pred, **self._fn_kwargs)\n    File \"/usr/local/lib/python3.7/dist-packages/keras/losses.py\", line 1665, in categorical_crossentropy\n        y_true, y_pred, from_logits=from_logits, axis=axis)\n    File \"/usr/local/lib/python3.7/dist-packages/keras/backend.py\", line 4994, in categorical_crossentropy\n        target.shape.assert_is_compatible_with(output.shape)\n\n    ValueError: Shapes (None, 4) and (None, 1) are incompatible\n"
          ]
        }
      ]
    },
    {
      "cell_type": "markdown",
      "metadata": {
        "id": "7gKH1jbLaSqe"
      },
      "source": [
        "#### Estimate model's performance and predict classes\n",
        "- load test data (img) and go through pre-processing \n",
        "      # test = pd.read_csv('test.csv')\n",
        "- read and store all test images\n",
        "      # test_image = []\n",
        "      # for i in tqdm(range(test.shape[0])):\n",
        "      # img = image.load_img('test/'+test['id'][i].astype('str')+'.png', target_size=(28,28,1), grayscale=True)\n",
        "      # img = image.img_to_array(img)\n",
        "      # img = img/255\n",
        "      # test_image.append(img)\n",
        "      # test = np.array(test_image) -->\n",
        "- make predictions\n",
        "      # prediction = model.predict_classes(test)\n",
        "\n"
      ],
      "id": "7gKH1jbLaSqe"
    }
  ]
}